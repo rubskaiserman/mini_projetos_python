{
 "metadata": {
  "language_info": {
   "codemirror_mode": {
    "name": "ipython",
    "version": 3
   },
   "file_extension": ".py",
   "mimetype": "text/x-python",
   "name": "python",
   "nbconvert_exporter": "python",
   "pygments_lexer": "ipython3",
   "version": "3.9.4"
  },
  "orig_nbformat": 2,
  "kernelspec": {
   "name": "python394jvsc74a57bd031f2aee4e71d21fbe5cf8b01ff0e069b9275f58929596ceb00d14d90e3e16cd6",
   "display_name": "Python 3.9.4 64-bit"
  },
  "metadata": {
   "interpreter": {
    "hash": "31f2aee4e71d21fbe5cf8b01ff0e069b9275f58929596ceb00d14d90e3e16cd6"
   }
  }
 },
 "nbformat": 4,
 "nbformat_minor": 2,
 "cells": [
  {
   "cell_type": "code",
   "execution_count": 1,
   "metadata": {},
   "outputs": [],
   "source": [
    "import pandas\n",
    "import plotly.express as express\n",
    "\n",
    "financials = pandas.read_csv('financials.csv')\n",
    "display(financials)"
   ]
  },
  {
   "cell_type": "code",
   "execution_count": 2,
   "metadata": {},
   "outputs": [],
   "source": [
    "financials = financials.drop('Symbol', axis=1)\n",
    "financials = financials.drop('SEC Filings', axis=1)\n",
    "financials =financials.dropna()"
   ]
  },
  {
   "cell_type": "code",
   "execution_count": 3,
   "metadata": {},
   "outputs": [
    {
     "output_type": "execute_result",
     "data": {
      "text/plain": [
       "Consumer Discretionary        82\n",
       "Information Technology        70\n",
       "Financials                    68\n",
       "Industrials                   64\n",
       "Health Care                   59\n",
       "Consumer Staples              33\n",
       "Real Estate                   33\n",
       "Energy                        30\n",
       "Utilities                     28\n",
       "Materials                     25\n",
       "Telecommunication Services     3\n",
       "Name: Sector, dtype: int64"
      ]
     },
     "metadata": {},
     "execution_count": 3
    }
   ],
   "source": [
    "financials['Sector'].value_counts()"
   ]
  },
  {
   "cell_type": "code",
   "execution_count": 4,
   "metadata": {},
   "outputs": [],
   "source": [
    "# financials.info()\n",
    "columns = financials.drop('Name', axis=1)\n",
    "columns = columns.drop('Sector', axis=1)"
   ]
  },
  {
   "cell_type": "code",
   "execution_count": 5,
   "metadata": {},
   "outputs": [
    {
     "output_type": "display_data",
     "data": {
      "application/vnd.plotly.v1+json": {
       "config": {
        "plotlyServerURL": "https://plot.ly"
       },
       "data": [
        {
         "alignmentgroup": "True",
         "bingroup": "x",
         "histfunc": "sum",
         "hovertemplate": "Sector=Industrials<br>Name=%{x}<br>sum of Price=%{y}<extra></extra>",
         "legendgroup": "Industrials",
         "marker": {
          "color": "#636efa"
         },
         "name": "Industrials",
         "offsetgroup": "Industrials",
         "orientation": "v",
         "showlegend": true,
         "type": "histogram",
         "x": [
          "3M Company",
          "A.O. Smith Corp",
          "Acuity Brands Inc",
          "Alaska Air Group Inc",
          "Allegion",
          "American Airlines Group",
          "AMETEK Inc",
          "Boeing Company",
          "C. H. Robinson Worldwide",
          "Caterpillar Inc.",
          "Cintas Corporation",
          "CSX Corp.",
          "Cummins Inc.",
          "Deere & Co.",
          "Delta Air Lines Inc.",
          "Dover Corp.",
          "Eaton Corporation",
          "Emerson Electric Company",
          "Equifax Inc.",
          "Expeditors International",
          "Fastenal Co",
          "FedEx Corporation",
          "Flowserve Corporation",
          "Fluor Corp.",
          "Fortive Corp",
          "Fortune Brands Home & Security",
          "General Dynamics",
          "General Electric",
          "Grainger (W.W.) Inc.",
          "Honeywell Int'l Inc.",
          "Huntington Ingalls Industries",
          "IHS Markit Ltd.",
          "Illinois Tool Works",
          "Ingersoll-Rand PLC",
          "J. B. Hunt Transport Services",
          "Jacobs Engineering Group",
          "Johnson Controls International",
          "Kansas City Southern",
          "L-3 Communications Holdings",
          "Lockheed Martin Corp.",
          "Masco Corp.",
          "Nielsen Holdings",
          "Norfolk Southern Corp.",
          "Northrop Grumman Corp.",
          "PACCAR Inc.",
          "Parker-Hannifin",
          "Pentair Ltd.",
          "Quanta Services Inc.",
          "Raytheon Co.",
          "Republic Services Inc",
          "Robert Half International",
          "Rockwell Automation Inc.",
          "Rockwell Collins",
          "Roper Technologies",
          "Southwest Airlines",
          "Stericycle Inc",
          "Textron Inc.",
          "United Continental Holdings",
          "United Parcel Service",
          "United Rentals, Inc.",
          "United Technologies",
          "Verisk Analytics",
          "Waste Management Inc.",
          "Xylem Inc."
         ],
         "xaxis": "x",
         "y": [
          222.89,
          60.24,
          145.41,
          64.04,
          77.32,
          48.6,
          72.05,
          329.66,
          90.47,
          145.99,
          149.32,
          50.47,
          165.73,
          153.66,
          51.23,
          96.2,
          79.41,
          66.4,
          114,
          60.36,
          52.15,
          239.27,
          40.82,
          55.31,
          69.14,
          62.44,
          206.05,
          14.45,
          258.6,
          146.02,
          225.37,
          43.73,
          156.15,
          87.6,
          114.81,
          62.82,
          36.55,
          103.53,
          198.79,
          334.3,
          40.7,
          33.9,
          136.89,
          324.01,
          66.98,
          174.51,
          66.67,
          33.51,
          198.74,
          62.72,
          52.26,
          178.73,
          133.31,
          259.4,
          55.63,
          70.55,
          55.54,
          63.37,
          109.28,
          161.99,
          127.48,
          92.28,
          79.12,
          70.24
         ],
         "yaxis": "y"
        },
        {
         "alignmentgroup": "True",
         "bingroup": "x",
         "histfunc": "sum",
         "hovertemplate": "Sector=Health Care<br>Name=%{x}<br>sum of Price=%{y}<extra></extra>",
         "legendgroup": "Health Care",
         "marker": {
          "color": "#EF553B"
         },
         "name": "Health Care",
         "offsetgroup": "Health Care",
         "orientation": "v",
         "showlegend": true,
         "type": "histogram",
         "x": [
          "Abbott Laboratories",
          "AbbVie Inc.",
          "Aetna Inc",
          "Agilent Technologies Inc",
          "Alexion Pharmaceuticals",
          "Align Technology",
          "Allergan, Plc",
          "AmerisourceBergen Corp",
          "Amgen Inc",
          "Anthem Inc.",
          "Baxter International Inc.",
          "Becton Dickinson",
          "Biogen Inc.",
          "Boston Scientific",
          "Bristol-Myers Squibb",
          "Cardinal Health Inc.",
          "Celgene Corp.",
          "Centene Corporation",
          "Cerner",
          "CIGNA Corp.",
          "Danaher Corp.",
          "DaVita Inc.",
          "Dentsply Sirona",
          "Edwards Lifesciences",
          "Envision Healthcare",
          "Express Scripts",
          "Gilead Sciences",
          "Henry Schein",
          "Hologic",
          "Humana Inc.",
          "IDEXX Laboratories",
          "Illumina Inc",
          "Incyte",
          "Intuitive Surgical Inc.",
          "IQVIA Holdings Inc.",
          "Johnson & Johnson",
          "Laboratory Corp. of America Holding",
          "Lilly (Eli) & Co.",
          "McKesson Corp.",
          "Medtronic plc",
          "Merck & Co.",
          "Mettler Toledo",
          "Mylan N.V.",
          "Patterson Companies",
          "PerkinElmer",
          "Pfizer Inc.",
          "Quest Diagnostics",
          "Regeneron",
          "ResMed",
          "Stryker Corp.",
          "The Cooper Companies",
          "Thermo Fisher Scientific",
          "United Health Group Inc.",
          "Universal Health Services, Inc.",
          "Varian Medical Systems",
          "Vertex Pharmaceuticals Inc",
          "Waters Corporation",
          "Zimmer Biomet Holdings",
          "Zoetis"
         ],
         "xaxis": "x",
         "y": [
          56.27,
          108.48,
          178,
          65.05,
          108.47,
          220.71,
          164.2,
          91.55,
          173.12,
          230.57,
          62.56,
          211.44,
          311.79,
          25.2,
          62.69,
          66.63,
          91.02,
          100.36,
          61.22,
          189.27,
          92.16,
          71.91,
          56.85,
          123.78,
          35.34,
          73.35,
          78.22,
          70.85,
          38.8,
          262.37,
          169.28,
          209.54,
          83.92,
          381.87,
          95.23,
          126.36,
          165.46,
          74.21,
          150.23,
          78.38,
          54.73,
          601,
          39.25,
          32.88,
          72.06,
          33.63,
          96.42,
          322.62,
          89.26,
          148.01,
          223.17,
          198.73,
          216.46,
          114.87,
          112.82,
          151.6,
          191.79,
          115.53,
          71.51
         ],
         "yaxis": "y"
        },
        {
         "alignmentgroup": "True",
         "bingroup": "x",
         "histfunc": "sum",
         "hovertemplate": "Sector=Information Technology<br>Name=%{x}<br>sum of Price=%{y}<extra></extra>",
         "legendgroup": "Information Technology",
         "marker": {
          "color": "#00cc96"
         },
         "name": "Information Technology",
         "offsetgroup": "Information Technology",
         "orientation": "v",
         "showlegend": true,
         "type": "histogram",
         "x": [
          "Accenture plc",
          "Activision Blizzard",
          "Adobe Systems Inc",
          "Advanced Micro Devices Inc",
          "Akamai Technologies Inc",
          "Alliance Data Systems",
          "Alphabet Inc Class A",
          "Alphabet Inc Class C",
          "Amphenol Corp",
          "Analog Devices, Inc.",
          "ANSYS",
          "Apple Inc.",
          "Applied Materials Inc",
          "Autodesk Inc",
          "Automatic Data Processing",
          "Broadcom",
          "CA, Inc.",
          "Cadence Design Systems",
          "Cisco Systems",
          "Citrix Systems",
          "Cognizant Technology Solutions",
          "Corning Inc.",
          "CSRA Inc.",
          "DXC Technology",
          "eBay Inc.",
          "Electronic Arts",
          "F5 Networks",
          "Facebook, Inc.",
          "Fidelity National Information Services",
          "Fiserv Inc",
          "FLIR Systems",
          "Gartner Inc",
          "Global Payments Inc.",
          "Harris Corporation",
          "Hewlett Packard Enterprise",
          "HP Inc.",
          "Intel Corp.",
          "International Business Machines",
          "Intuit Inc.",
          "Juniper Networks",
          "KLA-Tencor Corp.",
          "Lam Research",
          "Mastercard Inc.",
          "Microchip Technology",
          "Micron Technology",
          "Microsoft Corp.",
          "Motorola Solutions Inc.",
          "NetApp",
          "Netflix Inc.",
          "Nvidia Corporation",
          "Oracle Corp.",
          "Paychex Inc.",
          "PayPal",
          "Qorvo",
          "QUALCOMM Inc.",
          "Red Hat Inc.",
          "Salesforce.com",
          "Seagate Technology",
          "Skyworks Solutions",
          "Symantec Corp.",
          "Synopsys Inc.",
          "TE Connectivity Ltd.",
          "Texas Instruments",
          "Total System Services",
          "Verisign Inc.",
          "Visa Inc.",
          "Western Digital",
          "Western Union Co",
          "Xerox Corp.",
          "Xilinx Inc"
         ],
         "xaxis": "x",
         "y": [
          150.51,
          65.83,
          185.16,
          11.22,
          62.49,
          240.6,
          1007.71,
          1001.52,
          84.44,
          82.68,
          148.84,
          155.15,
          45.75,
          104.81,
          108.25,
          229.57,
          32.66,
          36.82,
          38.77,
          84.53,
          75.16,
          28.45,
          30.85,
          91.92,
          41.02,
          116.54,
          137.25,
          171.58,
          92.74,
          133.05,
          46.46,
          114.26,
          100.59,
          149.84,
          15.04,
          19.92,
          42.75,
          147.59,
          152.75,
          24.66,
          98.54,
          162.23,
          160.62,
          79.9,
          40,
          85.01,
          98.74,
          55.85,
          250.1,
          217.52,
          46.84,
          61.86,
          72.32,
          76.85,
          62.42,
          124.65,
          104.03,
          47.44,
          99.04,
          25.59,
          82.62,
          95.27,
          97.66,
          81.17,
          105.62,
          113.86,
          80.09,
          18.81,
          29.8,
          62.82
         ],
         "yaxis": "y"
        },
        {
         "alignmentgroup": "True",
         "bingroup": "x",
         "histfunc": "sum",
         "hovertemplate": "Sector=Consumer Discretionary<br>Name=%{x}<br>sum of Price=%{y}<extra></extra>",
         "legendgroup": "Consumer Discretionary",
         "marker": {
          "color": "#ab63fa"
         },
         "name": "Consumer Discretionary",
         "offsetgroup": "Consumer Discretionary",
         "orientation": "v",
         "showlegend": true,
         "type": "histogram",
         "x": [
          "Advance Auto Parts",
          "Amazon.com Inc",
          "Aptiv Plc",
          "AutoZone Inc",
          "Best Buy Co. Inc.",
          "BorgWarner",
          "Carmax Inc",
          "Carnival Corp.",
          "CBS Corp.",
          "Charter Communications",
          "Chipotle Mexican Grill",
          "Comcast Corp.",
          "D. R. Horton",
          "Darden Restaurants",
          "Discovery Communications-A",
          "Discovery Communications-C",
          "Dish Network",
          "Dollar General",
          "Dollar Tree",
          "Expedia Inc.",
          "Ford Motor",
          "Gap Inc.",
          "Garmin Ltd.",
          "General Motors",
          "Genuine Parts",
          "Goodyear Tire & Rubber",
          "Hanesbrands Inc",
          "Harley-Davidson",
          "Hasbro Inc.",
          "Hilton Worldwide Holdings Inc",
          "Home Depot",
          "Interpublic Group",
          "Kohl's Corp.",
          "L Brands Inc.",
          "Leggett & Platt",
          "Lennar Corp.",
          "LKQ Corporation",
          "Lowe's Cos.",
          "Macy's Inc.",
          "Marriott Int'l.",
          "Mattel Inc.",
          "McDonald's Corp.",
          "MGM Resorts International",
          "Michael Kors Holdings",
          "Mohawk Industries",
          "Newell Brands",
          "News Corp. Class A",
          "News Corp. Class B",
          "Nike",
          "Nordstrom",
          "Norwegian Cruise Line",
          "O'Reilly Automotive",
          "Omnicom Group",
          "Polo Ralph Lauren Corp.",
          "Priceline.com Inc",
          "Pulte Homes Inc.",
          "PVH Corp.",
          "Ross Stores",
          "Royal Caribbean Cruises Ltd",
          "Scripps Networks Interactive Inc.",
          "Signet Jewelers",
          "Snap-On Inc.",
          "Stanley Black & Decker",
          "Starbucks Corp.",
          "Target Corp.",
          "The Walt Disney Company",
          "Tiffany & Co.",
          "Time Warner Inc.",
          "TJX Companies Inc.",
          "Tractor Supply Company",
          "TripAdvisor",
          "Twenty-First Century Fox Class A",
          "Twenty-First Century Fox Class B",
          "Ulta Salon Cosmetics & Fragrance Inc",
          "Under Armour Class A",
          "Under Armour Class C",
          "V.F. Corp.",
          "Viacom Inc.",
          "Whirlpool Corp.",
          "Wyndham Worldwide",
          "Wynn Resorts Ltd",
          "Yum! Brands Inc"
         ],
         "xaxis": "x",
         "y": [
          109.63,
          1350.5,
          89.27,
          718.57,
          68.79,
          51.94,
          64.34,
          66.76,
          51.8,
          348.65,
          266.01,
          38.19,
          44.55,
          91.33,
          22.87,
          21.58,
          43.77,
          95.1,
          101.58,
          123.03,
          10.43,
          31.17,
          61.13,
          40.75,
          96.31,
          30.75,
          19.57,
          47.54,
          96.48,
          78.66,
          181.22,
          21.34,
          60.34,
          47.77,
          43.99,
          59.11,
          38.86,
          95.01,
          24,
          133.88,
          16,
          158.97,
          33.5,
          60.03,
          256.57,
          27.91,
          15.65,
          15.85,
          62.49,
          47.23,
          56.01,
          252.22,
          75.91,
          101.32,
          1806.06,
          28.67,
          142.68,
          75.06,
          122.45,
          86.46,
          49.38,
          156.72,
          152.86,
          53.77,
          71.11,
          101.35,
          99.62,
          93.02,
          74.36,
          65.94,
          40.05,
          34.56,
          34.09,
          209.09,
          13.14,
          11.95,
          78.75,
          32.71,
          164.95,
          113.56,
          169.28,
          76.3
         ],
         "yaxis": "y"
        },
        {
         "alignmentgroup": "True",
         "bingroup": "x",
         "histfunc": "sum",
         "hovertemplate": "Sector=Utilities<br>Name=%{x}<br>sum of Price=%{y}<extra></extra>",
         "legendgroup": "Utilities",
         "marker": {
          "color": "#FFA15A"
         },
         "name": "Utilities",
         "offsetgroup": "Utilities",
         "orientation": "v",
         "showlegend": true,
         "type": "histogram",
         "x": [
          "AES Corp",
          "Alliant Energy Corp",
          "Ameren Corp",
          "American Electric Power",
          "American Water Works Company Inc",
          "CenterPoint Energy",
          "CMS Energy",
          "Consolidated Edison",
          "Dominion Energy",
          "DTE Energy Co.",
          "Duke Energy",
          "Edison Int'l",
          "Entergy Corp.",
          "Eversource Energy",
          "Exelon Corp.",
          "FirstEnergy Corp",
          "NextEra Energy",
          "NiSource Inc.",
          "NRG Energy",
          "PG&E Corp.",
          "Pinnacle West Capital",
          "PPL Corp.",
          "Public Serv. Enterprise Inc.",
          "SCANA Corp",
          "Sempra Energy",
          "Southern Co.",
          "Wec Energy Group Inc",
          "Xcel Energy Inc"
         ],
         "xaxis": "x",
         "y": [
          10.06,
          37.14,
          52.59,
          63.38,
          76.06,
          25.85,
          41.77,
          74.73,
          73.31,
          98.49,
          74.32,
          58.07,
          72.02,
          56.11,
          35.98,
          30.64,
          145.29,
          22.51,
          24,
          38.24,
          74.34,
          29.52,
          46.73,
          35.6,
          103.36,
          43.4,
          59.5,
          42.44
         ],
         "yaxis": "y"
        },
        {
         "alignmentgroup": "True",
         "bingroup": "x",
         "histfunc": "sum",
         "hovertemplate": "Sector=Financials<br>Name=%{x}<br>sum of Price=%{y}<extra></extra>",
         "legendgroup": "Financials",
         "marker": {
          "color": "#19d3f3"
         },
         "name": "Financials",
         "offsetgroup": "Financials",
         "orientation": "v",
         "showlegend": true,
         "type": "histogram",
         "x": [
          "Affiliated Managers Group Inc",
          "AFLAC Inc",
          "Allstate Corp",
          "American Express Co",
          "American International Group, Inc.",
          "Ameriprise Financial",
          "Aon plc",
          "Arthur J. Gallagher & Co.",
          "Assurant Inc",
          "Bank of America Corp",
          "BB&T Corporation",
          "Berkshire Hathaway",
          "BlackRock",
          "Block H&R",
          "Brighthouse Financial Inc",
          "Capital One Financial",
          "CBOE Holdings",
          "Charles Schwab Corporation",
          "Chubb Limited",
          "Cincinnati Financial",
          "Citigroup Inc.",
          "Citizens Financial Group",
          "CME Group Inc.",
          "Comerica Inc.",
          "Discover Financial Services",
          "E*Trade",
          "Everest Re Group Ltd.",
          "Fifth Third Bancorp",
          "Franklin Resources",
          "Goldman Sachs Group",
          "Hartford Financial Svc.Gp.",
          "Huntington Bancshares",
          "Intercontinental Exchange",
          "Invesco Ltd.",
          "JPMorgan Chase & Co.",
          "KeyCorp",
          "Leucadia National Corp.",
          "Lincoln National",
          "Loews Corp.",
          "M&T Bank Corp.",
          "Marsh & McLennan",
          "MetLife Inc.",
          "Moody's Corp",
          "Morgan Stanley",
          "Nasdaq, Inc.",
          "Navient",
          "Northern Trust Corp.",
          "People's United Financial",
          "PNC Financial Services",
          "Principal Financial Group",
          "Progressive Corp.",
          "Prudential Financial",
          "Raymond James Financial Inc.",
          "Regions Financial Corp.",
          "S&P Global, Inc.",
          "State Street Corp.",
          "SunTrust Banks",
          "Synchrony Financial",
          "T. Rowe Price Group",
          "The Bank of New York Mellon Corp.",
          "The Travelers Companies Inc.",
          "Torchmark Corp.",
          "U.S. Bancorp",
          "Unum Group",
          "Wells Fargo",
          "Willis Towers Watson",
          "XL Capital",
          "Zions Bancorp"
         ],
         "xaxis": "x",
         "y": [
          179.11,
          83.25,
          90.06,
          88.34,
          58.28,
          152.5,
          136.05,
          64.4,
          85.16,
          29.74,
          51.07,
          191.42,
          509.38,
          25.19,
          55.44,
          91.8,
          111.15,
          48.9,
          140.39,
          70.34,
          71.87,
          42.19,
          153.04,
          89.18,
          72.4,
          48.48,
          241.06,
          31.1,
          38,
          246.35,
          53.34,
          15.1,
          67,
          31.92,
          107.88,
          20.08,
          23.86,
          73.86,
          46.05,
          178.35,
          79.31,
          44.28,
          152.14,
          51.79,
          75.21,
          13.38,
          96.2,
          18.56,
          149.38,
          60.38,
          51.07,
          103.38,
          86.06,
          17.9,
          173.31,
          98.54,
          65.8,
          34.98,
          101.99,
          53.29,
          135.01,
          80.52,
          52.65,
          47.87,
          55.4,
          152.36,
          41.26,
          50.71
         ],
         "yaxis": "y"
        },
        {
         "alignmentgroup": "True",
         "bingroup": "x",
         "histfunc": "sum",
         "hovertemplate": "Sector=Materials<br>Name=%{x}<br>sum of Price=%{y}<extra></extra>",
         "legendgroup": "Materials",
         "marker": {
          "color": "#FF6692"
         },
         "name": "Materials",
         "offsetgroup": "Materials",
         "orientation": "v",
         "showlegend": true,
         "type": "histogram",
         "x": [
          "Air Products & Chemicals Inc",
          "Albemarle Corp",
          "Avery Dennison Corp",
          "Ball Corp",
          "CF Industries Holdings Inc",
          "DowDuPont",
          "Eastman Chemical",
          "Ecolab Inc.",
          "FMC Corporation",
          "Freeport-McMoRan Inc.",
          "International Paper",
          "Intl Flavors & Fragrances",
          "LyondellBasell",
          "Martin Marietta Materials",
          "Monsanto Co.",
          "Newmont Mining Corporation",
          "Nucor Corp.",
          "Packaging Corporation of America",
          "PPG Industries",
          "Praxair Inc.",
          "Sealed Air",
          "Sherwin-Williams",
          "The Mosaic Company",
          "Vulcan Materials",
          "WestRock Company"
         ],
         "xaxis": "x",
         "y": [
          152.8,
          105.18,
          110.77,
          38.44,
          37.46,
          68.21,
          93.57,
          127.76,
          80.87,
          17.16,
          56.05,
          138,
          105.79,
          208.42,
          119.08,
          36.61,
          60.38,
          111.95,
          110.3,
          144.07,
          42.62,
          387.65,
          24.13,
          121.47,
          60.93
         ],
         "yaxis": "y"
        },
        {
         "alignmentgroup": "True",
         "bingroup": "x",
         "histfunc": "sum",
         "hovertemplate": "Sector=Real Estate<br>Name=%{x}<br>sum of Price=%{y}<extra></extra>",
         "legendgroup": "Real Estate",
         "marker": {
          "color": "#B6E880"
         },
         "name": "Real Estate",
         "offsetgroup": "Real Estate",
         "orientation": "v",
         "showlegend": true,
         "type": "histogram",
         "x": [
          "Alexandria Real Estate Equities Inc",
          "American Tower Corp A",
          "Apartment Investment & Management",
          "AvalonBay Communities, Inc.",
          "Boston Properties",
          "CBRE Group",
          "Crown Castle International Corp.",
          "Digital Realty Trust Inc",
          "Duke Realty Corp",
          "Equinix",
          "Equity Residential",
          "Essex Property Trust, Inc.",
          "Extra Space Storage",
          "Federal Realty Investment Trust",
          "General Growth Properties Inc.",
          "HCP Inc.",
          "Host Hotels & Resorts",
          "Iron Mountain Incorporated",
          "Kimco Realty",
          "Macerich",
          "Mid-America Apartments",
          "Prologis",
          "Public Storage",
          "Realty Income Corporation",
          "Regency Centers Corporation",
          "SBA Communications",
          "Simon Property Group Inc",
          "SL Green Realty",
          "UDR Inc",
          "Ventas Inc",
          "Vornado Realty Trust",
          "Welltower Inc.",
          "Weyerhaeuser Corp."
         ],
         "xaxis": "x",
         "y": [
          114.58,
          133.57,
          38.21,
          154.94,
          112.09,
          41.92,
          103.81,
          98.96,
          24.52,
          409.98,
          55.26,
          218.28,
          77.56,
          108.11,
          21.62,
          22.64,
          18.75,
          32.07,
          14.01,
          58.36,
          85.39,
          58.33,
          180.49,
          47.56,
          55.58,
          159.85,
          152.18,
          90.61,
          32.92,
          50.92,
          66.18,
          54.67,
          33.6
         ],
         "yaxis": "y"
        },
        {
         "alignmentgroup": "True",
         "bingroup": "x",
         "histfunc": "sum",
         "hovertemplate": "Sector=Consumer Staples<br>Name=%{x}<br>sum of Price=%{y}<extra></extra>",
         "legendgroup": "Consumer Staples",
         "marker": {
          "color": "#FF97FF"
         },
         "name": "Consumer Staples",
         "offsetgroup": "Consumer Staples",
         "orientation": "v",
         "showlegend": true,
         "type": "histogram",
         "x": [
          "Altria Group Inc",
          "Archer-Daniels-Midland Co",
          "Brown-Forman Corp.",
          "Campbell Soup",
          "Church & Dwight",
          "Coca-Cola Company (The)",
          "Colgate-Palmolive",
          "Conagra Brands",
          "Constellation Brands",
          "Costco Wholesale Corp.",
          "Coty, Inc",
          "CVS Health",
          "Dr Pepper Snapple Group",
          "Estee Lauder Cos.",
          "General Mills",
          "Hormel Foods Corp.",
          "JM Smucker",
          "Kellogg Co.",
          "Kimberly-Clark",
          "Kraft Heinz Co",
          "Kroger Co.",
          "McCormick & Co.",
          "Molson Coors Brewing Company",
          "Mondelez International",
          "Monster Beverage",
          "Philip Morris International",
          "Procter & Gamble",
          "Sysco Corp.",
          "The Clorox Company",
          "The Hershey Company",
          "Tyson Foods",
          "Wal-Mart Stores",
          "Walgreens Boots Alliance"
         ],
         "xaxis": "x",
         "y": [
          64.05,
          41.35,
          63.33,
          44.83,
          47.38,
          43.1,
          68.95,
          35.49,
          208.73,
          178.61,
          19.96,
          70.55,
          116.93,
          131.46,
          53.99,
          32.21,
          118.37,
          65.98,
          111.69,
          71.58,
          27.57,
          101.36,
          74.51,
          42.68,
          61.99,
          100.39,
          80.22,
          57,
          127.76,
          97.65,
          73.92,
          100.02,
          68.22
         ],
         "yaxis": "y"
        },
        {
         "alignmentgroup": "True",
         "bingroup": "x",
         "histfunc": "sum",
         "hovertemplate": "Sector=Energy<br>Name=%{x}<br>sum of Price=%{y}<extra></extra>",
         "legendgroup": "Energy",
         "marker": {
          "color": "#FECB52"
         },
         "name": "Energy",
         "offsetgroup": "Energy",
         "orientation": "v",
         "showlegend": true,
         "type": "histogram",
         "x": [
          "Anadarko Petroleum Corp",
          "Andeavor",
          "Apache Corporation",
          "Baker Hughes, a GE Company",
          "Cabot Oil & Gas",
          "Chesapeake Energy",
          "Chevron Corp.",
          "Cimarex Energy",
          "Concho Resources",
          "ConocoPhillips",
          "Devon Energy Corp.",
          "EOG Resources",
          "EQT Corporation",
          "Exxon Mobil Corp.",
          "Halliburton Co.",
          "Helmerich & Payne",
          "Hess Corporation",
          "Kinder Morgan",
          "Marathon Petroleum",
          "National Oilwell Varco Inc.",
          "Newfield Exploration Co",
          "Noble Energy Inc",
          "ONEOK",
          "Phillips 66",
          "Pioneer Natural Resources",
          "Range Resources Corp.",
          "Schlumberger Ltd.",
          "TechnipFMC",
          "Valero Energy",
          "Williams Cos."
         ],
         "xaxis": "x",
         "y": [
          56.2,
          96.9,
          37.73,
          27.5,
          23.01,
          2.82,
          112.3,
          100.19,
          140.09,
          53.24,
          34.94,
          101.04,
          46.25,
          76.07,
          47.41,
          64.87,
          43,
          16.8,
          62.79,
          32.64,
          26.38,
          25.43,
          54.4,
          92.44,
          169.16,
          12.82,
          67.4,
          29.1,
          86.77,
          28.56
         ],
         "yaxis": "y"
        },
        {
         "alignmentgroup": "True",
         "bingroup": "x",
         "histfunc": "sum",
         "hovertemplate": "Sector=Telecommunication Services<br>Name=%{x}<br>sum of Price=%{y}<extra></extra>",
         "legendgroup": "Telecommunication Services",
         "marker": {
          "color": "#636efa"
         },
         "name": "Telecommunication Services",
         "offsetgroup": "Telecommunication Services",
         "orientation": "v",
         "showlegend": true,
         "type": "histogram",
         "x": [
          "AT&T Inc",
          "CenturyLink Inc",
          "Verizon Communications"
         ],
         "xaxis": "x",
         "y": [
          35.57,
          16.2,
          49.04
         ],
         "yaxis": "y"
        }
       ],
       "layout": {
        "barmode": "relative",
        "legend": {
         "title": {
          "text": "Sector"
         },
         "tracegroupgap": 0
        },
        "margin": {
         "t": 60
        },
        "template": {
         "data": {
          "bar": [
           {
            "error_x": {
             "color": "#2a3f5f"
            },
            "error_y": {
             "color": "#2a3f5f"
            },
            "marker": {
             "line": {
              "color": "#E5ECF6",
              "width": 0.5
             }
            },
            "type": "bar"
           }
          ],
          "barpolar": [
           {
            "marker": {
             "line": {
              "color": "#E5ECF6",
              "width": 0.5
             }
            },
            "type": "barpolar"
           }
          ],
          "carpet": [
           {
            "aaxis": {
             "endlinecolor": "#2a3f5f",
             "gridcolor": "white",
             "linecolor": "white",
             "minorgridcolor": "white",
             "startlinecolor": "#2a3f5f"
            },
            "baxis": {
             "endlinecolor": "#2a3f5f",
             "gridcolor": "white",
             "linecolor": "white",
             "minorgridcolor": "white",
             "startlinecolor": "#2a3f5f"
            },
            "type": "carpet"
           }
          ],
          "choropleth": [
           {
            "colorbar": {
             "outlinewidth": 0,
             "ticks": ""
            },
            "type": "choropleth"
           }
          ],
          "contour": [
           {
            "colorbar": {
             "outlinewidth": 0,
             "ticks": ""
            },
            "colorscale": [
             [
              0,
              "#0d0887"
             ],
             [
              0.1111111111111111,
              "#46039f"
             ],
             [
              0.2222222222222222,
              "#7201a8"
             ],
             [
              0.3333333333333333,
              "#9c179e"
             ],
             [
              0.4444444444444444,
              "#bd3786"
             ],
             [
              0.5555555555555556,
              "#d8576b"
             ],
             [
              0.6666666666666666,
              "#ed7953"
             ],
             [
              0.7777777777777778,
              "#fb9f3a"
             ],
             [
              0.8888888888888888,
              "#fdca26"
             ],
             [
              1,
              "#f0f921"
             ]
            ],
            "type": "contour"
           }
          ],
          "contourcarpet": [
           {
            "colorbar": {
             "outlinewidth": 0,
             "ticks": ""
            },
            "type": "contourcarpet"
           }
          ],
          "heatmap": [
           {
            "colorbar": {
             "outlinewidth": 0,
             "ticks": ""
            },
            "colorscale": [
             [
              0,
              "#0d0887"
             ],
             [
              0.1111111111111111,
              "#46039f"
             ],
             [
              0.2222222222222222,
              "#7201a8"
             ],
             [
              0.3333333333333333,
              "#9c179e"
             ],
             [
              0.4444444444444444,
              "#bd3786"
             ],
             [
              0.5555555555555556,
              "#d8576b"
             ],
             [
              0.6666666666666666,
              "#ed7953"
             ],
             [
              0.7777777777777778,
              "#fb9f3a"
             ],
             [
              0.8888888888888888,
              "#fdca26"
             ],
             [
              1,
              "#f0f921"
             ]
            ],
            "type": "heatmap"
           }
          ],
          "heatmapgl": [
           {
            "colorbar": {
             "outlinewidth": 0,
             "ticks": ""
            },
            "colorscale": [
             [
              0,
              "#0d0887"
             ],
             [
              0.1111111111111111,
              "#46039f"
             ],
             [
              0.2222222222222222,
              "#7201a8"
             ],
             [
              0.3333333333333333,
              "#9c179e"
             ],
             [
              0.4444444444444444,
              "#bd3786"
             ],
             [
              0.5555555555555556,
              "#d8576b"
             ],
             [
              0.6666666666666666,
              "#ed7953"
             ],
             [
              0.7777777777777778,
              "#fb9f3a"
             ],
             [
              0.8888888888888888,
              "#fdca26"
             ],
             [
              1,
              "#f0f921"
             ]
            ],
            "type": "heatmapgl"
           }
          ],
          "histogram": [
           {
            "marker": {
             "colorbar": {
              "outlinewidth": 0,
              "ticks": ""
             }
            },
            "type": "histogram"
           }
          ],
          "histogram2d": [
           {
            "colorbar": {
             "outlinewidth": 0,
             "ticks": ""
            },
            "colorscale": [
             [
              0,
              "#0d0887"
             ],
             [
              0.1111111111111111,
              "#46039f"
             ],
             [
              0.2222222222222222,
              "#7201a8"
             ],
             [
              0.3333333333333333,
              "#9c179e"
             ],
             [
              0.4444444444444444,
              "#bd3786"
             ],
             [
              0.5555555555555556,
              "#d8576b"
             ],
             [
              0.6666666666666666,
              "#ed7953"
             ],
             [
              0.7777777777777778,
              "#fb9f3a"
             ],
             [
              0.8888888888888888,
              "#fdca26"
             ],
             [
              1,
              "#f0f921"
             ]
            ],
            "type": "histogram2d"
           }
          ],
          "histogram2dcontour": [
           {
            "colorbar": {
             "outlinewidth": 0,
             "ticks": ""
            },
            "colorscale": [
             [
              0,
              "#0d0887"
             ],
             [
              0.1111111111111111,
              "#46039f"
             ],
             [
              0.2222222222222222,
              "#7201a8"
             ],
             [
              0.3333333333333333,
              "#9c179e"
             ],
             [
              0.4444444444444444,
              "#bd3786"
             ],
             [
              0.5555555555555556,
              "#d8576b"
             ],
             [
              0.6666666666666666,
              "#ed7953"
             ],
             [
              0.7777777777777778,
              "#fb9f3a"
             ],
             [
              0.8888888888888888,
              "#fdca26"
             ],
             [
              1,
              "#f0f921"
             ]
            ],
            "type": "histogram2dcontour"
           }
          ],
          "mesh3d": [
           {
            "colorbar": {
             "outlinewidth": 0,
             "ticks": ""
            },
            "type": "mesh3d"
           }
          ],
          "parcoords": [
           {
            "line": {
             "colorbar": {
              "outlinewidth": 0,
              "ticks": ""
             }
            },
            "type": "parcoords"
           }
          ],
          "pie": [
           {
            "automargin": true,
            "type": "pie"
           }
          ],
          "scatter": [
           {
            "marker": {
             "colorbar": {
              "outlinewidth": 0,
              "ticks": ""
             }
            },
            "type": "scatter"
           }
          ],
          "scatter3d": [
           {
            "line": {
             "colorbar": {
              "outlinewidth": 0,
              "ticks": ""
             }
            },
            "marker": {
             "colorbar": {
              "outlinewidth": 0,
              "ticks": ""
             }
            },
            "type": "scatter3d"
           }
          ],
          "scattercarpet": [
           {
            "marker": {
             "colorbar": {
              "outlinewidth": 0,
              "ticks": ""
             }
            },
            "type": "scattercarpet"
           }
          ],
          "scattergeo": [
           {
            "marker": {
             "colorbar": {
              "outlinewidth": 0,
              "ticks": ""
             }
            },
            "type": "scattergeo"
           }
          ],
          "scattergl": [
           {
            "marker": {
             "colorbar": {
              "outlinewidth": 0,
              "ticks": ""
             }
            },
            "type": "scattergl"
           }
          ],
          "scattermapbox": [
           {
            "marker": {
             "colorbar": {
              "outlinewidth": 0,
              "ticks": ""
             }
            },
            "type": "scattermapbox"
           }
          ],
          "scatterpolar": [
           {
            "marker": {
             "colorbar": {
              "outlinewidth": 0,
              "ticks": ""
             }
            },
            "type": "scatterpolar"
           }
          ],
          "scatterpolargl": [
           {
            "marker": {
             "colorbar": {
              "outlinewidth": 0,
              "ticks": ""
             }
            },
            "type": "scatterpolargl"
           }
          ],
          "scatterternary": [
           {
            "marker": {
             "colorbar": {
              "outlinewidth": 0,
              "ticks": ""
             }
            },
            "type": "scatterternary"
           }
          ],
          "surface": [
           {
            "colorbar": {
             "outlinewidth": 0,
             "ticks": ""
            },
            "colorscale": [
             [
              0,
              "#0d0887"
             ],
             [
              0.1111111111111111,
              "#46039f"
             ],
             [
              0.2222222222222222,
              "#7201a8"
             ],
             [
              0.3333333333333333,
              "#9c179e"
             ],
             [
              0.4444444444444444,
              "#bd3786"
             ],
             [
              0.5555555555555556,
              "#d8576b"
             ],
             [
              0.6666666666666666,
              "#ed7953"
             ],
             [
              0.7777777777777778,
              "#fb9f3a"
             ],
             [
              0.8888888888888888,
              "#fdca26"
             ],
             [
              1,
              "#f0f921"
             ]
            ],
            "type": "surface"
           }
          ],
          "table": [
           {
            "cells": {
             "fill": {
              "color": "#EBF0F8"
             },
             "line": {
              "color": "white"
             }
            },
            "header": {
             "fill": {
              "color": "#C8D4E3"
             },
             "line": {
              "color": "white"
             }
            },
            "type": "table"
           }
          ]
         },
         "layout": {
          "annotationdefaults": {
           "arrowcolor": "#2a3f5f",
           "arrowhead": 0,
           "arrowwidth": 1
          },
          "autotypenumbers": "strict",
          "coloraxis": {
           "colorbar": {
            "outlinewidth": 0,
            "ticks": ""
           }
          },
          "colorscale": {
           "diverging": [
            [
             0,
             "#8e0152"
            ],
            [
             0.1,
             "#c51b7d"
            ],
            [
             0.2,
             "#de77ae"
            ],
            [
             0.3,
             "#f1b6da"
            ],
            [
             0.4,
             "#fde0ef"
            ],
            [
             0.5,
             "#f7f7f7"
            ],
            [
             0.6,
             "#e6f5d0"
            ],
            [
             0.7,
             "#b8e186"
            ],
            [
             0.8,
             "#7fbc41"
            ],
            [
             0.9,
             "#4d9221"
            ],
            [
             1,
             "#276419"
            ]
           ],
           "sequential": [
            [
             0,
             "#0d0887"
            ],
            [
             0.1111111111111111,
             "#46039f"
            ],
            [
             0.2222222222222222,
             "#7201a8"
            ],
            [
             0.3333333333333333,
             "#9c179e"
            ],
            [
             0.4444444444444444,
             "#bd3786"
            ],
            [
             0.5555555555555556,
             "#d8576b"
            ],
            [
             0.6666666666666666,
             "#ed7953"
            ],
            [
             0.7777777777777778,
             "#fb9f3a"
            ],
            [
             0.8888888888888888,
             "#fdca26"
            ],
            [
             1,
             "#f0f921"
            ]
           ],
           "sequentialminus": [
            [
             0,
             "#0d0887"
            ],
            [
             0.1111111111111111,
             "#46039f"
            ],
            [
             0.2222222222222222,
             "#7201a8"
            ],
            [
             0.3333333333333333,
             "#9c179e"
            ],
            [
             0.4444444444444444,
             "#bd3786"
            ],
            [
             0.5555555555555556,
             "#d8576b"
            ],
            [
             0.6666666666666666,
             "#ed7953"
            ],
            [
             0.7777777777777778,
             "#fb9f3a"
            ],
            [
             0.8888888888888888,
             "#fdca26"
            ],
            [
             1,
             "#f0f921"
            ]
           ]
          },
          "colorway": [
           "#636efa",
           "#EF553B",
           "#00cc96",
           "#ab63fa",
           "#FFA15A",
           "#19d3f3",
           "#FF6692",
           "#B6E880",
           "#FF97FF",
           "#FECB52"
          ],
          "font": {
           "color": "#2a3f5f"
          },
          "geo": {
           "bgcolor": "white",
           "lakecolor": "white",
           "landcolor": "#E5ECF6",
           "showlakes": true,
           "showland": true,
           "subunitcolor": "white"
          },
          "hoverlabel": {
           "align": "left"
          },
          "hovermode": "closest",
          "mapbox": {
           "style": "light"
          },
          "paper_bgcolor": "white",
          "plot_bgcolor": "#E5ECF6",
          "polar": {
           "angularaxis": {
            "gridcolor": "white",
            "linecolor": "white",
            "ticks": ""
           },
           "bgcolor": "#E5ECF6",
           "radialaxis": {
            "gridcolor": "white",
            "linecolor": "white",
            "ticks": ""
           }
          },
          "scene": {
           "xaxis": {
            "backgroundcolor": "#E5ECF6",
            "gridcolor": "white",
            "gridwidth": 2,
            "linecolor": "white",
            "showbackground": true,
            "ticks": "",
            "zerolinecolor": "white"
           },
           "yaxis": {
            "backgroundcolor": "#E5ECF6",
            "gridcolor": "white",
            "gridwidth": 2,
            "linecolor": "white",
            "showbackground": true,
            "ticks": "",
            "zerolinecolor": "white"
           },
           "zaxis": {
            "backgroundcolor": "#E5ECF6",
            "gridcolor": "white",
            "gridwidth": 2,
            "linecolor": "white",
            "showbackground": true,
            "ticks": "",
            "zerolinecolor": "white"
           }
          },
          "shapedefaults": {
           "line": {
            "color": "#2a3f5f"
           }
          },
          "ternary": {
           "aaxis": {
            "gridcolor": "white",
            "linecolor": "white",
            "ticks": ""
           },
           "baxis": {
            "gridcolor": "white",
            "linecolor": "white",
            "ticks": ""
           },
           "bgcolor": "#E5ECF6",
           "caxis": {
            "gridcolor": "white",
            "linecolor": "white",
            "ticks": ""
           }
          },
          "title": {
           "x": 0.05
          },
          "xaxis": {
           "automargin": true,
           "gridcolor": "white",
           "linecolor": "white",
           "ticks": "",
           "title": {
            "standoff": 15
           },
           "zerolinecolor": "white",
           "zerolinewidth": 2
          },
          "yaxis": {
           "automargin": true,
           "gridcolor": "white",
           "linecolor": "white",
           "ticks": "",
           "title": {
            "standoff": 15
           },
           "zerolinecolor": "white",
           "zerolinewidth": 2
          }
         }
        },
        "xaxis": {
         "anchor": "y",
         "domain": [
          0,
          1
         ],
         "title": {
          "text": "Name"
         }
        },
        "yaxis": {
         "anchor": "x",
         "domain": [
          0,
          1
         ],
         "title": {
          "text": "sum of Price"
         }
        }
       }
      }
     },
     "metadata": {}
    },
    {
     "output_type": "display_data",
     "data": {
      "application/vnd.plotly.v1+json": {
       "config": {
        "plotlyServerURL": "https://plot.ly"
       },
       "data": [
        {
         "alignmentgroup": "True",
         "bingroup": "x",
         "histfunc": "sum",
         "hovertemplate": "Sector=Industrials<br>Name=%{x}<br>sum of Price/Earnings=%{y}<extra></extra>",
         "legendgroup": "Industrials",
         "marker": {
          "color": "#636efa"
         },
         "name": "Industrials",
         "offsetgroup": "Industrials",
         "orientation": "v",
         "showlegend": true,
         "type": "histogram",
         "x": [
          "3M Company",
          "A.O. Smith Corp",
          "Acuity Brands Inc",
          "Alaska Air Group Inc",
          "Allegion",
          "American Airlines Group",
          "AMETEK Inc",
          "Boeing Company",
          "C. H. Robinson Worldwide",
          "Caterpillar Inc.",
          "Cintas Corporation",
          "CSX Corp.",
          "Cummins Inc.",
          "Deere & Co.",
          "Delta Air Lines Inc.",
          "Dover Corp.",
          "Eaton Corporation",
          "Emerson Electric Company",
          "Equifax Inc.",
          "Expeditors International",
          "Fastenal Co",
          "FedEx Corporation",
          "Flowserve Corporation",
          "Fluor Corp.",
          "Fortive Corp",
          "Fortune Brands Home & Security",
          "General Dynamics",
          "General Electric",
          "Grainger (W.W.) Inc.",
          "Honeywell Int'l Inc.",
          "Huntington Ingalls Industries",
          "IHS Markit Ltd.",
          "Illinois Tool Works",
          "Ingersoll-Rand PLC",
          "J. B. Hunt Transport Services",
          "Jacobs Engineering Group",
          "Johnson Controls International",
          "Kansas City Southern",
          "L-3 Communications Holdings",
          "Lockheed Martin Corp.",
          "Masco Corp.",
          "Nielsen Holdings",
          "Norfolk Southern Corp.",
          "Northrop Grumman Corp.",
          "PACCAR Inc.",
          "Parker-Hannifin",
          "Pentair Ltd.",
          "Quanta Services Inc.",
          "Raytheon Co.",
          "Republic Services Inc",
          "Robert Half International",
          "Rockwell Automation Inc.",
          "Rockwell Collins",
          "Roper Technologies",
          "Southwest Airlines",
          "Stericycle Inc",
          "Textron Inc.",
          "United Continental Holdings",
          "United Parcel Service",
          "United Rentals, Inc.",
          "United Technologies",
          "Verisk Analytics",
          "Waste Management Inc.",
          "Xylem Inc."
         ],
         "xaxis": "x",
         "y": [
          24.31,
          27.76,
          18.22,
          9.66,
          21.07,
          9.92,
          27.61,
          27.29,
          26,
          21.22,
          32.75,
          21.94,
          16.83,
          23.14,
          10.37,
          23.87,
          17.08,
          25.74,
          19.03,
          25.26,
          27.02,
          19.45,
          26.17,
          19.9,
          25.05,
          20.27,
          20.71,
          13.76,
          22.57,
          20.68,
          18.75,
          26.19,
          23.62,
          19.38,
          30.62,
          19.45,
          14,
          19.8,
          23.14,
          24.28,
          22.12,
          18.73,
          20.65,
          24.4,
          15.72,
          21.6,
          18.89,
          17.54,
          25.78,
          26.13,
          20.18,
          26.48,
          22.29,
          27.57,
          15.89,
          16.26,
          22.13,
          8.85,
          18.27,
          16.33,
          19.26,
          28.84,
          25.36,
          30.94
         ],
         "yaxis": "y"
        },
        {
         "alignmentgroup": "True",
         "bingroup": "x",
         "histfunc": "sum",
         "hovertemplate": "Sector=Health Care<br>Name=%{x}<br>sum of Price/Earnings=%{y}<extra></extra>",
         "legendgroup": "Health Care",
         "marker": {
          "color": "#EF553B"
         },
         "name": "Health Care",
         "offsetgroup": "Health Care",
         "orientation": "v",
         "showlegend": true,
         "type": "histogram",
         "x": [
          "Abbott Laboratories",
          "AbbVie Inc.",
          "Aetna Inc",
          "Agilent Technologies Inc",
          "Alexion Pharmaceuticals",
          "Align Technology",
          "Allergan, Plc",
          "AmerisourceBergen Corp",
          "Amgen Inc",
          "Anthem Inc.",
          "Baxter International Inc.",
          "Becton Dickinson",
          "Biogen Inc.",
          "Boston Scientific",
          "Bristol-Myers Squibb",
          "Cardinal Health Inc.",
          "Celgene Corp.",
          "Centene Corporation",
          "Cerner",
          "CIGNA Corp.",
          "Danaher Corp.",
          "DaVita Inc.",
          "Dentsply Sirona",
          "Edwards Lifesciences",
          "Envision Healthcare",
          "Express Scripts",
          "Gilead Sciences",
          "Henry Schein",
          "Hologic",
          "Humana Inc.",
          "IDEXX Laboratories",
          "Illumina Inc",
          "Incyte",
          "Intuitive Surgical Inc.",
          "IQVIA Holdings Inc.",
          "Johnson & Johnson",
          "Laboratory Corp. of America Holding",
          "Lilly (Eli) & Co.",
          "McKesson Corp.",
          "Medtronic plc",
          "Merck & Co.",
          "Mettler Toledo",
          "Mylan N.V.",
          "Patterson Companies",
          "PerkinElmer",
          "Pfizer Inc.",
          "Quest Diagnostics",
          "Regeneron",
          "ResMed",
          "Stryker Corp.",
          "The Cooper Companies",
          "Thermo Fisher Scientific",
          "United Health Group Inc.",
          "Universal Health Services, Inc.",
          "Varian Medical Systems",
          "Vertex Pharmaceuticals Inc",
          "Waters Corporation",
          "Zimmer Biomet Holdings",
          "Zoetis"
         ],
         "xaxis": "x",
         "y": [
          22.51,
          19.41,
          18.11,
          27.45,
          22.18,
          56.59,
          10.65,
          15.54,
          13.76,
          19.23,
          25.12,
          22.28,
          14.3,
          20,
          20.83,
          12.29,
          13.27,
          19.12,
          27.09,
          18.11,
          22.87,
          20.55,
          22.65,
          32.57,
          10.91,
          10.72,
          8.16,
          19.85,
          19.21,
          22.39,
          53.57,
          52.25,
          -119.89,
          48.58,
          21.74,
          17.31,
          17.79,
          17.34,
          11.68,
          17.04,
          13.75,
          35.56,
          8.35,
          14.05,
          24.68,
          12.69,
          17.07,
          27.93,
          31.54,
          23.46,
          22.96,
          21.84,
          21.47,
          15.36,
          29.93,
          252.67,
          26.64,
          14.32,
          32.8
         ],
         "yaxis": "y"
        },
        {
         "alignmentgroup": "True",
         "bingroup": "x",
         "histfunc": "sum",
         "hovertemplate": "Sector=Information Technology<br>Name=%{x}<br>sum of Price/Earnings=%{y}<extra></extra>",
         "legendgroup": "Information Technology",
         "marker": {
          "color": "#00cc96"
         },
         "name": "Information Technology",
         "offsetgroup": "Information Technology",
         "orientation": "v",
         "showlegend": true,
         "type": "histogram",
         "x": [
          "Accenture plc",
          "Activision Blizzard",
          "Adobe Systems Inc",
          "Advanced Micro Devices Inc",
          "Akamai Technologies Inc",
          "Alliance Data Systems",
          "Alphabet Inc Class A",
          "Alphabet Inc Class C",
          "Amphenol Corp",
          "Analog Devices, Inc.",
          "ANSYS",
          "Apple Inc.",
          "Applied Materials Inc",
          "Autodesk Inc",
          "Automatic Data Processing",
          "Broadcom",
          "CA, Inc.",
          "Cadence Design Systems",
          "Cisco Systems",
          "Citrix Systems",
          "Cognizant Technology Solutions",
          "Corning Inc.",
          "CSRA Inc.",
          "DXC Technology",
          "eBay Inc.",
          "Electronic Arts",
          "F5 Networks",
          "Facebook, Inc.",
          "Fidelity National Information Services",
          "Fiserv Inc",
          "FLIR Systems",
          "Gartner Inc",
          "Global Payments Inc.",
          "Harris Corporation",
          "Hewlett Packard Enterprise",
          "HP Inc.",
          "Intel Corp.",
          "International Business Machines",
          "Intuit Inc.",
          "Juniper Networks",
          "KLA-Tencor Corp.",
          "Lam Research",
          "Mastercard Inc.",
          "Microchip Technology",
          "Micron Technology",
          "Microsoft Corp.",
          "Motorola Solutions Inc.",
          "NetApp",
          "Netflix Inc.",
          "Nvidia Corporation",
          "Oracle Corp.",
          "Paychex Inc.",
          "PayPal",
          "Qorvo",
          "QUALCOMM Inc.",
          "Red Hat Inc.",
          "Salesforce.com",
          "Seagate Technology",
          "Skyworks Solutions",
          "Symantec Corp.",
          "Synopsys Inc.",
          "TE Connectivity Ltd.",
          "Texas Instruments",
          "Total System Services",
          "Verisign Inc.",
          "Visa Inc.",
          "Western Digital",
          "Western Union Co",
          "Xerox Corp.",
          "Xilinx Inc"
         ],
         "xaxis": "x",
         "y": [
          25.47,
          31.8,
          52.31,
          187,
          32.55,
          13.02,
          31.48,
          40.29,
          25.9,
          17.67,
          42.53,
          16.86,
          14.08,
          -77.07,
          29.34,
          15.94,
          14.32,
          34.09,
          17.87,
          20.37,
          22.44,
          16.45,
          15.12,
          79.93,
          24.86,
          34.48,
          21.21,
          27.9,
          22.08,
          27.32,
          25.53,
          36.86,
          27.86,
          26.38,
          11.57,
          12.07,
          12.32,
          10.67,
          40.52,
          14.09,
          16.59,
          16.29,
          34.99,
          21.77,
          9.01,
          25.76,
          19.03,
          26.1,
          200.08,
          82.08,
          18.81,
          27.49,
          49.53,
          19.71,
          16.51,
          79.9,
          520.15,
          11.51,
          16.45,
          39.37,
          67.72,
          19.72,
          24.05,
          25.85,
          29.5,
          32.72,
          10.19,
          10.17,
          8.87,
          27.19
         ],
         "yaxis": "y"
        },
        {
         "alignmentgroup": "True",
         "bingroup": "x",
         "histfunc": "sum",
         "hovertemplate": "Sector=Consumer Discretionary<br>Name=%{x}<br>sum of Price/Earnings=%{y}<extra></extra>",
         "legendgroup": "Consumer Discretionary",
         "marker": {
          "color": "#ab63fa"
         },
         "name": "Consumer Discretionary",
         "offsetgroup": "Consumer Discretionary",
         "orientation": "v",
         "showlegend": true,
         "type": "histogram",
         "x": [
          "Advance Auto Parts",
          "Amazon.com Inc",
          "Aptiv Plc",
          "AutoZone Inc",
          "Best Buy Co. Inc.",
          "BorgWarner",
          "Carmax Inc",
          "Carnival Corp.",
          "CBS Corp.",
          "Charter Communications",
          "Chipotle Mexican Grill",
          "Comcast Corp.",
          "D. R. Horton",
          "Darden Restaurants",
          "Discovery Communications-A",
          "Discovery Communications-C",
          "Dish Network",
          "Dollar General",
          "Dollar Tree",
          "Expedia Inc.",
          "Ford Motor",
          "Gap Inc.",
          "Garmin Ltd.",
          "General Motors",
          "Genuine Parts",
          "Goodyear Tire & Rubber",
          "Hanesbrands Inc",
          "Harley-Davidson",
          "Hasbro Inc.",
          "Hilton Worldwide Holdings Inc",
          "Home Depot",
          "Interpublic Group",
          "Kohl's Corp.",
          "L Brands Inc.",
          "Leggett & Platt",
          "Lennar Corp.",
          "LKQ Corporation",
          "Lowe's Cos.",
          "Macy's Inc.",
          "Marriott Int'l.",
          "Mattel Inc.",
          "McDonald's Corp.",
          "MGM Resorts International",
          "Michael Kors Holdings",
          "Mohawk Industries",
          "Newell Brands",
          "News Corp. Class A",
          "News Corp. Class B",
          "Nike",
          "Nordstrom",
          "Norwegian Cruise Line",
          "O'Reilly Automotive",
          "Omnicom Group",
          "Polo Ralph Lauren Corp.",
          "Priceline.com Inc",
          "Pulte Homes Inc.",
          "PVH Corp.",
          "Ross Stores",
          "Royal Caribbean Cruises Ltd",
          "Scripps Networks Interactive Inc.",
          "Signet Jewelers",
          "Snap-On Inc.",
          "Stanley Black & Decker",
          "Starbucks Corp.",
          "Target Corp.",
          "The Walt Disney Company",
          "Tiffany & Co.",
          "Time Warner Inc.",
          "TJX Companies Inc.",
          "Tractor Supply Company",
          "TripAdvisor",
          "Twenty-First Century Fox Class A",
          "Twenty-First Century Fox Class B",
          "Ulta Salon Cosmetics & Fragrance Inc",
          "Under Armour Class A",
          "Under Armour Class C",
          "V.F. Corp.",
          "Viacom Inc.",
          "Whirlpool Corp.",
          "Wyndham Worldwide",
          "Wynn Resorts Ltd",
          "Yum! Brands Inc"
         ],
         "xaxis": "x",
         "y": [
          19.54,
          296.16,
          69.74,
          16.31,
          19.22,
          14.15,
          19.44,
          17.48,
          12.05,
          162.92,
          45.86,
          18.54,
          16.32,
          22.72,
          11,
          10.37,
          16.09,
          21.18,
          26.66,
          30.99,
          5.89,
          15.35,
          21.23,
          6.58,
          21.17,
          9.92,
          10.04,
          13.7,
          20.57,
          36.42,
          28.1,
          15.46,
          16.01,
          12.77,
          17.88,
          15.35,
          21.35,
          23.87,
          7.67,
          32.73,
          -14.68,
          23.83,
          29.65,
          14.29,
          19.08,
          9.72,
          43.47,
          44.03,
          24.9,
          15.04,
          15.35,
          21.91,
          15.27,
          17.74,
          24.26,
          12.86,
          20.98,
          26.52,
          16.26,
          16.04,
          6.65,
          15.81,
          20.57,
          25.98,
          14.19,
          17.78,
          27,
          15.35,
          21.01,
          19.57,
          58.04,
          17.81,
          17.57,
          32.07,
          32.05,
          29.15,
          25.9,
          8.68,
          11.77,
          18.77,
          31.7,
          27.25
         ],
         "yaxis": "y"
        },
        {
         "alignmentgroup": "True",
         "bingroup": "x",
         "histfunc": "sum",
         "hovertemplate": "Sector=Utilities<br>Name=%{x}<br>sum of Price/Earnings=%{y}<extra></extra>",
         "legendgroup": "Utilities",
         "marker": {
          "color": "#FFA15A"
         },
         "name": "Utilities",
         "offsetgroup": "Utilities",
         "orientation": "v",
         "showlegend": true,
         "type": "histogram",
         "x": [
          "AES Corp",
          "Alliant Energy Corp",
          "Ameren Corp",
          "American Electric Power",
          "American Water Works Company Inc",
          "CenterPoint Energy",
          "CMS Energy",
          "Consolidated Edison",
          "Dominion Energy",
          "DTE Energy Co.",
          "Duke Energy",
          "Edison Int'l",
          "Entergy Corp.",
          "Eversource Energy",
          "Exelon Corp.",
          "FirstEnergy Corp",
          "NextEra Energy",
          "NiSource Inc.",
          "NRG Energy",
          "PG&E Corp.",
          "Pinnacle West Capital",
          "PPL Corp.",
          "Public Serv. Enterprise Inc.",
          "SCANA Corp",
          "Sempra Energy",
          "Southern Co.",
          "Wec Energy Group Inc",
          "Xcel Energy Inc"
         ],
         "xaxis": "x",
         "y": [
          9.96,
          19.86,
          20.38,
          17.32,
          26.23,
          19.73,
          21.42,
          18.64,
          20.42,
          19.12,
          16.7,
          13.23,
          10.65,
          18.22,
          14.51,
          11.18,
          21.65,
          19.57,
          17.78,
          8.75,
          16.06,
          12.83,
          16.11,
          8.75,
          19.14,
          15.78,
          19.57,
          18.14
         ],
         "yaxis": "y"
        },
        {
         "alignmentgroup": "True",
         "bingroup": "x",
         "histfunc": "sum",
         "hovertemplate": "Sector=Financials<br>Name=%{x}<br>sum of Price/Earnings=%{y}<extra></extra>",
         "legendgroup": "Financials",
         "marker": {
          "color": "#19d3f3"
         },
         "name": "Financials",
         "offsetgroup": "Financials",
         "orientation": "v",
         "showlegend": true,
         "type": "histogram",
         "x": [
          "Affiliated Managers Group Inc",
          "AFLAC Inc",
          "Allstate Corp",
          "American Express Co",
          "American International Group, Inc.",
          "Ameriprise Financial",
          "Aon plc",
          "Arthur J. Gallagher & Co.",
          "Assurant Inc",
          "Bank of America Corp",
          "BB&T Corporation",
          "Berkshire Hathaway",
          "BlackRock",
          "Block H&R",
          "Brighthouse Financial Inc",
          "Capital One Financial",
          "CBOE Holdings",
          "Charles Schwab Corporation",
          "Chubb Limited",
          "Cincinnati Financial",
          "Citigroup Inc.",
          "Citizens Financial Group",
          "CME Group Inc.",
          "Comerica Inc.",
          "Discover Financial Services",
          "E*Trade",
          "Everest Re Group Ltd.",
          "Fifth Third Bancorp",
          "Franklin Resources",
          "Goldman Sachs Group",
          "Hartford Financial Svc.Gp.",
          "Huntington Bancshares",
          "Intercontinental Exchange",
          "Invesco Ltd.",
          "JPMorgan Chase & Co.",
          "KeyCorp",
          "Leucadia National Corp.",
          "Lincoln National",
          "Loews Corp.",
          "M&T Bank Corp.",
          "Marsh & McLennan",
          "MetLife Inc.",
          "Moody's Corp",
          "Morgan Stanley",
          "Nasdaq, Inc.",
          "Navient",
          "Northern Trust Corp.",
          "People's United Financial",
          "PNC Financial Services",
          "Principal Financial Group",
          "Progressive Corp.",
          "Prudential Financial",
          "Raymond James Financial Inc.",
          "Regions Financial Corp.",
          "S&P Global, Inc.",
          "State Street Corp.",
          "SunTrust Banks",
          "Synchrony Financial",
          "T. Rowe Price Group",
          "The Bank of New York Mellon Corp.",
          "The Travelers Companies Inc.",
          "Torchmark Corp.",
          "U.S. Bancorp",
          "Unum Group",
          "Wells Fargo",
          "Willis Towers Watson",
          "XL Capital",
          "Zions Bancorp"
         ],
         "xaxis": "x",
         "y": [
          12.24,
          12.24,
          13.26,
          15,
          23.22,
          12.41,
          20.8,
          21.05,
          33.27,
          16.34,
          16.26,
          30.43,
          22.49,
          12.29,
          22.63,
          11.85,
          35.06,
          29.82,
          17.5,
          27.48,
          13.48,
          16.04,
          32.15,
          18.89,
          12.13,
          22.14,
          27.24,
          16.9,
          12.67,
          12.44,
          14.34,
          15.41,
          22.95,
          11.87,
          15.43,
          14.66,
          15.39,
          9.49,
          15.99,
          18.91,
          20.23,
          8.52,
          26.55,
          14.23,
          17.78,
          7.56,
          19.96,
          18.02,
          17.55,
          11.96,
          20.76,
          9.99,
          16.94,
          17.9,
          27.38,
          15.35,
          16.25,
          13.35,
          19.92,
          14.76,
          16.48,
          17.02,
          15.35,
          11.51,
          13.58,
          18.67,
          -19.93,
          17.73
         ],
         "yaxis": "y"
        },
        {
         "alignmentgroup": "True",
         "bingroup": "x",
         "histfunc": "sum",
         "hovertemplate": "Sector=Materials<br>Name=%{x}<br>sum of Price/Earnings=%{y}<extra></extra>",
         "legendgroup": "Materials",
         "marker": {
          "color": "#FF6692"
         },
         "name": "Materials",
         "offsetgroup": "Materials",
         "orientation": "v",
         "showlegend": true,
         "type": "histogram",
         "x": [
          "Air Products & Chemicals Inc",
          "Albemarle Corp",
          "Avery Dennison Corp",
          "Ball Corp",
          "CF Industries Holdings Inc",
          "DowDuPont",
          "Eastman Chemical",
          "Ecolab Inc.",
          "FMC Corporation",
          "Freeport-McMoRan Inc.",
          "International Paper",
          "Intl Flavors & Fragrances",
          "LyondellBasell",
          "Martin Marietta Materials",
          "Monsanto Co.",
          "Newmont Mining Corporation",
          "Nucor Corp.",
          "Packaging Corporation of America",
          "PPG Industries",
          "Praxair Inc.",
          "Sealed Air",
          "Sherwin-Williams",
          "The Mosaic Company",
          "Vulcan Materials",
          "WestRock Company"
         ],
         "xaxis": "x",
         "y": [
          24.22,
          26.03,
          22.11,
          20.56,
          -59.46,
          49.43,
          12.28,
          28.08,
          32.48,
          14.67,
          15.57,
          24.17,
          10.35,
          30.38,
          21.53,
          26.34,
          17.01,
          18.57,
          18.73,
          24.63,
          21.31,
          26.75,
          23.66,
          40.9,
          23.26
         ],
         "yaxis": "y"
        },
        {
         "alignmentgroup": "True",
         "bingroup": "x",
         "histfunc": "sum",
         "hovertemplate": "Sector=Real Estate<br>Name=%{x}<br>sum of Price/Earnings=%{y}<extra></extra>",
         "legendgroup": "Real Estate",
         "marker": {
          "color": "#B6E880"
         },
         "name": "Real Estate",
         "offsetgroup": "Real Estate",
         "orientation": "v",
         "showlegend": true,
         "type": "histogram",
         "x": [
          "Alexandria Real Estate Equities Inc",
          "American Tower Corp A",
          "Apartment Investment & Management",
          "AvalonBay Communities, Inc.",
          "Boston Properties",
          "CBRE Group",
          "Crown Castle International Corp.",
          "Digital Realty Trust Inc",
          "Duke Realty Corp",
          "Equinix",
          "Equity Residential",
          "Essex Property Trust, Inc.",
          "Extra Space Storage",
          "Federal Realty Investment Trust",
          "General Growth Properties Inc.",
          "HCP Inc.",
          "Host Hotels & Resorts",
          "Iron Mountain Incorporated",
          "Kimco Realty",
          "Macerich",
          "Mid-America Apartments",
          "Prologis",
          "Public Storage",
          "Realty Income Corporation",
          "Regency Centers Corporation",
          "SBA Communications",
          "Simon Property Group Inc",
          "SL Green Realty",
          "UDR Inc",
          "Ventas Inc",
          "Vornado Realty Trust",
          "Welltower Inc.",
          "Weyerhaeuser Corp."
         ],
         "xaxis": "x",
         "y": [
          19.03,
          20.68,
          15.6,
          17.97,
          18.05,
          15.82,
          21.45,
          16.55,
          19.77,
          23.06,
          17.6,
          18.66,
          18.12,
          18.35,
          13.86,
          10.99,
          11.23,
          15.42,
          9.28,
          14.81,
          14.38,
          20.76,
          18.21,
          15.54,
          15.27,
          199.81,
          13.56,
          14.07,
          17.79,
          12.21,
          16.22,
          12.74,
          34.29
         ],
         "yaxis": "y"
        },
        {
         "alignmentgroup": "True",
         "bingroup": "x",
         "histfunc": "sum",
         "hovertemplate": "Sector=Consumer Staples<br>Name=%{x}<br>sum of Price/Earnings=%{y}<extra></extra>",
         "legendgroup": "Consumer Staples",
         "marker": {
          "color": "#FF97FF"
         },
         "name": "Consumer Staples",
         "offsetgroup": "Consumer Staples",
         "orientation": "v",
         "showlegend": true,
         "type": "histogram",
         "x": [
          "Altria Group Inc",
          "Archer-Daniels-Midland Co",
          "Brown-Forman Corp.",
          "Campbell Soup",
          "Church & Dwight",
          "Coca-Cola Company (The)",
          "Colgate-Palmolive",
          "Conagra Brands",
          "Constellation Brands",
          "Costco Wholesale Corp.",
          "Coty, Inc",
          "CVS Health",
          "Dr Pepper Snapple Group",
          "Estee Lauder Cos.",
          "General Mills",
          "Hormel Foods Corp.",
          "JM Smucker",
          "Kellogg Co.",
          "Kimberly-Clark",
          "Kraft Heinz Co",
          "Kroger Co.",
          "McCormick & Co.",
          "Molson Coors Brewing Company",
          "Mondelez International",
          "Monster Beverage",
          "Philip Morris International",
          "Procter & Gamble",
          "Sysco Corp.",
          "The Clorox Company",
          "The Hershey Company",
          "Tyson Foods",
          "Wal-Mart Stores",
          "Walgreens Boots Alliance"
         ],
         "xaxis": "x",
         "y": [
          18.89,
          17.45,
          37.04,
          14.84,
          24.42,
          22.8,
          24.02,
          18.2,
          30.92,
          30.69,
          24.64,
          12.36,
          26.57,
          37.78,
          17.53,
          20.39,
          15.35,
          16.5,
          17.93,
          20.11,
          13.07,
          23.91,
          17.66,
          19.85,
          42.17,
          22.36,
          20.46,
          22.98,
          23.44,
          20.51,
          13.92,
          23.1,
          13.38
         ],
         "yaxis": "y"
        },
        {
         "alignmentgroup": "True",
         "bingroup": "x",
         "histfunc": "sum",
         "hovertemplate": "Sector=Energy<br>Name=%{x}<br>sum of Price/Earnings=%{y}<extra></extra>",
         "legendgroup": "Energy",
         "marker": {
          "color": "#FECB52"
         },
         "name": "Energy",
         "offsetgroup": "Energy",
         "orientation": "v",
         "showlegend": true,
         "type": "histogram",
         "x": [
          "Anadarko Petroleum Corp",
          "Andeavor",
          "Apache Corporation",
          "Baker Hughes, a GE Company",
          "Cabot Oil & Gas",
          "Chesapeake Energy",
          "Chevron Corp.",
          "Cimarex Energy",
          "Concho Resources",
          "ConocoPhillips",
          "Devon Energy Corp.",
          "EOG Resources",
          "EQT Corporation",
          "Exxon Mobil Corp.",
          "Halliburton Co.",
          "Helmerich & Payne",
          "Hess Corporation",
          "Kinder Morgan",
          "Marathon Petroleum",
          "National Oilwell Varco Inc.",
          "Newfield Exploration Co",
          "Noble Energy Inc",
          "ONEOK",
          "Phillips 66",
          "Pioneer Natural Resources",
          "Range Resources Corp.",
          "Schlumberger Ltd.",
          "TechnipFMC",
          "Valero Energy",
          "Williams Cos."
         ],
         "xaxis": "x",
         "y": [
          -21.29,
          18.78,
          -251.53,
          305.56,
          60.55,
          4.7,
          27.52,
          26.37,
          84.39,
          72.93,
          23.93,
          246.44,
          53.16,
          21.37,
          38.86,
          -54.51,
          -9.33,
          25.07,
          16.06,
          -77.71,
          13.12,
          105.96,
          34,
          21.11,
          118.29,
          35.61,
          44.93,
          18.77,
          18.74,
          48.41
         ],
         "yaxis": "y"
        },
        {
         "alignmentgroup": "True",
         "bingroup": "x",
         "histfunc": "sum",
         "hovertemplate": "Sector=Telecommunication Services<br>Name=%{x}<br>sum of Price/Earnings=%{y}<extra></extra>",
         "legendgroup": "Telecommunication Services",
         "marker": {
          "color": "#636efa"
         },
         "name": "Telecommunication Services",
         "offsetgroup": "Telecommunication Services",
         "orientation": "v",
         "showlegend": true,
         "type": "histogram",
         "x": [
          "AT&T Inc",
          "CenturyLink Inc",
          "Verizon Communications"
         ],
         "xaxis": "x",
         "y": [
          12.14,
          8.35,
          13.08
         ],
         "yaxis": "y"
        }
       ],
       "layout": {
        "barmode": "relative",
        "legend": {
         "title": {
          "text": "Sector"
         },
         "tracegroupgap": 0
        },
        "margin": {
         "t": 60
        },
        "template": {
         "data": {
          "bar": [
           {
            "error_x": {
             "color": "#2a3f5f"
            },
            "error_y": {
             "color": "#2a3f5f"
            },
            "marker": {
             "line": {
              "color": "#E5ECF6",
              "width": 0.5
             }
            },
            "type": "bar"
           }
          ],
          "barpolar": [
           {
            "marker": {
             "line": {
              "color": "#E5ECF6",
              "width": 0.5
             }
            },
            "type": "barpolar"
           }
          ],
          "carpet": [
           {
            "aaxis": {
             "endlinecolor": "#2a3f5f",
             "gridcolor": "white",
             "linecolor": "white",
             "minorgridcolor": "white",
             "startlinecolor": "#2a3f5f"
            },
            "baxis": {
             "endlinecolor": "#2a3f5f",
             "gridcolor": "white",
             "linecolor": "white",
             "minorgridcolor": "white",
             "startlinecolor": "#2a3f5f"
            },
            "type": "carpet"
           }
          ],
          "choropleth": [
           {
            "colorbar": {
             "outlinewidth": 0,
             "ticks": ""
            },
            "type": "choropleth"
           }
          ],
          "contour": [
           {
            "colorbar": {
             "outlinewidth": 0,
             "ticks": ""
            },
            "colorscale": [
             [
              0,
              "#0d0887"
             ],
             [
              0.1111111111111111,
              "#46039f"
             ],
             [
              0.2222222222222222,
              "#7201a8"
             ],
             [
              0.3333333333333333,
              "#9c179e"
             ],
             [
              0.4444444444444444,
              "#bd3786"
             ],
             [
              0.5555555555555556,
              "#d8576b"
             ],
             [
              0.6666666666666666,
              "#ed7953"
             ],
             [
              0.7777777777777778,
              "#fb9f3a"
             ],
             [
              0.8888888888888888,
              "#fdca26"
             ],
             [
              1,
              "#f0f921"
             ]
            ],
            "type": "contour"
           }
          ],
          "contourcarpet": [
           {
            "colorbar": {
             "outlinewidth": 0,
             "ticks": ""
            },
            "type": "contourcarpet"
           }
          ],
          "heatmap": [
           {
            "colorbar": {
             "outlinewidth": 0,
             "ticks": ""
            },
            "colorscale": [
             [
              0,
              "#0d0887"
             ],
             [
              0.1111111111111111,
              "#46039f"
             ],
             [
              0.2222222222222222,
              "#7201a8"
             ],
             [
              0.3333333333333333,
              "#9c179e"
             ],
             [
              0.4444444444444444,
              "#bd3786"
             ],
             [
              0.5555555555555556,
              "#d8576b"
             ],
             [
              0.6666666666666666,
              "#ed7953"
             ],
             [
              0.7777777777777778,
              "#fb9f3a"
             ],
             [
              0.8888888888888888,
              "#fdca26"
             ],
             [
              1,
              "#f0f921"
             ]
            ],
            "type": "heatmap"
           }
          ],
          "heatmapgl": [
           {
            "colorbar": {
             "outlinewidth": 0,
             "ticks": ""
            },
            "colorscale": [
             [
              0,
              "#0d0887"
             ],
             [
              0.1111111111111111,
              "#46039f"
             ],
             [
              0.2222222222222222,
              "#7201a8"
             ],
             [
              0.3333333333333333,
              "#9c179e"
             ],
             [
              0.4444444444444444,
              "#bd3786"
             ],
             [
              0.5555555555555556,
              "#d8576b"
             ],
             [
              0.6666666666666666,
              "#ed7953"
             ],
             [
              0.7777777777777778,
              "#fb9f3a"
             ],
             [
              0.8888888888888888,
              "#fdca26"
             ],
             [
              1,
              "#f0f921"
             ]
            ],
            "type": "heatmapgl"
           }
          ],
          "histogram": [
           {
            "marker": {
             "colorbar": {
              "outlinewidth": 0,
              "ticks": ""
             }
            },
            "type": "histogram"
           }
          ],
          "histogram2d": [
           {
            "colorbar": {
             "outlinewidth": 0,
             "ticks": ""
            },
            "colorscale": [
             [
              0,
              "#0d0887"
             ],
             [
              0.1111111111111111,
              "#46039f"
             ],
             [
              0.2222222222222222,
              "#7201a8"
             ],
             [
              0.3333333333333333,
              "#9c179e"
             ],
             [
              0.4444444444444444,
              "#bd3786"
             ],
             [
              0.5555555555555556,
              "#d8576b"
             ],
             [
              0.6666666666666666,
              "#ed7953"
             ],
             [
              0.7777777777777778,
              "#fb9f3a"
             ],
             [
              0.8888888888888888,
              "#fdca26"
             ],
             [
              1,
              "#f0f921"
             ]
            ],
            "type": "histogram2d"
           }
          ],
          "histogram2dcontour": [
           {
            "colorbar": {
             "outlinewidth": 0,
             "ticks": ""
            },
            "colorscale": [
             [
              0,
              "#0d0887"
             ],
             [
              0.1111111111111111,
              "#46039f"
             ],
             [
              0.2222222222222222,
              "#7201a8"
             ],
             [
              0.3333333333333333,
              "#9c179e"
             ],
             [
              0.4444444444444444,
              "#bd3786"
             ],
             [
              0.5555555555555556,
              "#d8576b"
             ],
             [
              0.6666666666666666,
              "#ed7953"
             ],
             [
              0.7777777777777778,
              "#fb9f3a"
             ],
             [
              0.8888888888888888,
              "#fdca26"
             ],
             [
              1,
              "#f0f921"
             ]
            ],
            "type": "histogram2dcontour"
           }
          ],
          "mesh3d": [
           {
            "colorbar": {
             "outlinewidth": 0,
             "ticks": ""
            },
            "type": "mesh3d"
           }
          ],
          "parcoords": [
           {
            "line": {
             "colorbar": {
              "outlinewidth": 0,
              "ticks": ""
             }
            },
            "type": "parcoords"
           }
          ],
          "pie": [
           {
            "automargin": true,
            "type": "pie"
           }
          ],
          "scatter": [
           {
            "marker": {
             "colorbar": {
              "outlinewidth": 0,
              "ticks": ""
             }
            },
            "type": "scatter"
           }
          ],
          "scatter3d": [
           {
            "line": {
             "colorbar": {
              "outlinewidth": 0,
              "ticks": ""
             }
            },
            "marker": {
             "colorbar": {
              "outlinewidth": 0,
              "ticks": ""
             }
            },
            "type": "scatter3d"
           }
          ],
          "scattercarpet": [
           {
            "marker": {
             "colorbar": {
              "outlinewidth": 0,
              "ticks": ""
             }
            },
            "type": "scattercarpet"
           }
          ],
          "scattergeo": [
           {
            "marker": {
             "colorbar": {
              "outlinewidth": 0,
              "ticks": ""
             }
            },
            "type": "scattergeo"
           }
          ],
          "scattergl": [
           {
            "marker": {
             "colorbar": {
              "outlinewidth": 0,
              "ticks": ""
             }
            },
            "type": "scattergl"
           }
          ],
          "scattermapbox": [
           {
            "marker": {
             "colorbar": {
              "outlinewidth": 0,
              "ticks": ""
             }
            },
            "type": "scattermapbox"
           }
          ],
          "scatterpolar": [
           {
            "marker": {
             "colorbar": {
              "outlinewidth": 0,
              "ticks": ""
             }
            },
            "type": "scatterpolar"
           }
          ],
          "scatterpolargl": [
           {
            "marker": {
             "colorbar": {
              "outlinewidth": 0,
              "ticks": ""
             }
            },
            "type": "scatterpolargl"
           }
          ],
          "scatterternary": [
           {
            "marker": {
             "colorbar": {
              "outlinewidth": 0,
              "ticks": ""
             }
            },
            "type": "scatterternary"
           }
          ],
          "surface": [
           {
            "colorbar": {
             "outlinewidth": 0,
             "ticks": ""
            },
            "colorscale": [
             [
              0,
              "#0d0887"
             ],
             [
              0.1111111111111111,
              "#46039f"
             ],
             [
              0.2222222222222222,
              "#7201a8"
             ],
             [
              0.3333333333333333,
              "#9c179e"
             ],
             [
              0.4444444444444444,
              "#bd3786"
             ],
             [
              0.5555555555555556,
              "#d8576b"
             ],
             [
              0.6666666666666666,
              "#ed7953"
             ],
             [
              0.7777777777777778,
              "#fb9f3a"
             ],
             [
              0.8888888888888888,
              "#fdca26"
             ],
             [
              1,
              "#f0f921"
             ]
            ],
            "type": "surface"
           }
          ],
          "table": [
           {
            "cells": {
             "fill": {
              "color": "#EBF0F8"
             },
             "line": {
              "color": "white"
             }
            },
            "header": {
             "fill": {
              "color": "#C8D4E3"
             },
             "line": {
              "color": "white"
             }
            },
            "type": "table"
           }
          ]
         },
         "layout": {
          "annotationdefaults": {
           "arrowcolor": "#2a3f5f",
           "arrowhead": 0,
           "arrowwidth": 1
          },
          "autotypenumbers": "strict",
          "coloraxis": {
           "colorbar": {
            "outlinewidth": 0,
            "ticks": ""
           }
          },
          "colorscale": {
           "diverging": [
            [
             0,
             "#8e0152"
            ],
            [
             0.1,
             "#c51b7d"
            ],
            [
             0.2,
             "#de77ae"
            ],
            [
             0.3,
             "#f1b6da"
            ],
            [
             0.4,
             "#fde0ef"
            ],
            [
             0.5,
             "#f7f7f7"
            ],
            [
             0.6,
             "#e6f5d0"
            ],
            [
             0.7,
             "#b8e186"
            ],
            [
             0.8,
             "#7fbc41"
            ],
            [
             0.9,
             "#4d9221"
            ],
            [
             1,
             "#276419"
            ]
           ],
           "sequential": [
            [
             0,
             "#0d0887"
            ],
            [
             0.1111111111111111,
             "#46039f"
            ],
            [
             0.2222222222222222,
             "#7201a8"
            ],
            [
             0.3333333333333333,
             "#9c179e"
            ],
            [
             0.4444444444444444,
             "#bd3786"
            ],
            [
             0.5555555555555556,
             "#d8576b"
            ],
            [
             0.6666666666666666,
             "#ed7953"
            ],
            [
             0.7777777777777778,
             "#fb9f3a"
            ],
            [
             0.8888888888888888,
             "#fdca26"
            ],
            [
             1,
             "#f0f921"
            ]
           ],
           "sequentialminus": [
            [
             0,
             "#0d0887"
            ],
            [
             0.1111111111111111,
             "#46039f"
            ],
            [
             0.2222222222222222,
             "#7201a8"
            ],
            [
             0.3333333333333333,
             "#9c179e"
            ],
            [
             0.4444444444444444,
             "#bd3786"
            ],
            [
             0.5555555555555556,
             "#d8576b"
            ],
            [
             0.6666666666666666,
             "#ed7953"
            ],
            [
             0.7777777777777778,
             "#fb9f3a"
            ],
            [
             0.8888888888888888,
             "#fdca26"
            ],
            [
             1,
             "#f0f921"
            ]
           ]
          },
          "colorway": [
           "#636efa",
           "#EF553B",
           "#00cc96",
           "#ab63fa",
           "#FFA15A",
           "#19d3f3",
           "#FF6692",
           "#B6E880",
           "#FF97FF",
           "#FECB52"
          ],
          "font": {
           "color": "#2a3f5f"
          },
          "geo": {
           "bgcolor": "white",
           "lakecolor": "white",
           "landcolor": "#E5ECF6",
           "showlakes": true,
           "showland": true,
           "subunitcolor": "white"
          },
          "hoverlabel": {
           "align": "left"
          },
          "hovermode": "closest",
          "mapbox": {
           "style": "light"
          },
          "paper_bgcolor": "white",
          "plot_bgcolor": "#E5ECF6",
          "polar": {
           "angularaxis": {
            "gridcolor": "white",
            "linecolor": "white",
            "ticks": ""
           },
           "bgcolor": "#E5ECF6",
           "radialaxis": {
            "gridcolor": "white",
            "linecolor": "white",
            "ticks": ""
           }
          },
          "scene": {
           "xaxis": {
            "backgroundcolor": "#E5ECF6",
            "gridcolor": "white",
            "gridwidth": 2,
            "linecolor": "white",
            "showbackground": true,
            "ticks": "",
            "zerolinecolor": "white"
           },
           "yaxis": {
            "backgroundcolor": "#E5ECF6",
            "gridcolor": "white",
            "gridwidth": 2,
            "linecolor": "white",
            "showbackground": true,
            "ticks": "",
            "zerolinecolor": "white"
           },
           "zaxis": {
            "backgroundcolor": "#E5ECF6",
            "gridcolor": "white",
            "gridwidth": 2,
            "linecolor": "white",
            "showbackground": true,
            "ticks": "",
            "zerolinecolor": "white"
           }
          },
          "shapedefaults": {
           "line": {
            "color": "#2a3f5f"
           }
          },
          "ternary": {
           "aaxis": {
            "gridcolor": "white",
            "linecolor": "white",
            "ticks": ""
           },
           "baxis": {
            "gridcolor": "white",
            "linecolor": "white",
            "ticks": ""
           },
           "bgcolor": "#E5ECF6",
           "caxis": {
            "gridcolor": "white",
            "linecolor": "white",
            "ticks": ""
           }
          },
          "title": {
           "x": 0.05
          },
          "xaxis": {
           "automargin": true,
           "gridcolor": "white",
           "linecolor": "white",
           "ticks": "",
           "title": {
            "standoff": 15
           },
           "zerolinecolor": "white",
           "zerolinewidth": 2
          },
          "yaxis": {
           "automargin": true,
           "gridcolor": "white",
           "linecolor": "white",
           "ticks": "",
           "title": {
            "standoff": 15
           },
           "zerolinecolor": "white",
           "zerolinewidth": 2
          }
         }
        },
        "xaxis": {
         "anchor": "y",
         "domain": [
          0,
          1
         ],
         "title": {
          "text": "Name"
         }
        },
        "yaxis": {
         "anchor": "x",
         "domain": [
          0,
          1
         ],
         "title": {
          "text": "sum of Price/Earnings"
         }
        }
       }
      }
     },
     "metadata": {}
    },
    {
     "output_type": "display_data",
     "data": {
      "application/vnd.plotly.v1+json": {
       "config": {
        "plotlyServerURL": "https://plot.ly"
       },
       "data": [
        {
         "alignmentgroup": "True",
         "bingroup": "x",
         "histfunc": "sum",
         "hovertemplate": "Sector=Industrials<br>Name=%{x}<br>sum of Dividend Yield=%{y}<extra></extra>",
         "legendgroup": "Industrials",
         "marker": {
          "color": "#636efa"
         },
         "name": "Industrials",
         "offsetgroup": "Industrials",
         "orientation": "v",
         "showlegend": true,
         "type": "histogram",
         "x": [
          "3M Company",
          "A.O. Smith Corp",
          "Acuity Brands Inc",
          "Alaska Air Group Inc",
          "Allegion",
          "American Airlines Group",
          "AMETEK Inc",
          "Boeing Company",
          "C. H. Robinson Worldwide",
          "Caterpillar Inc.",
          "Cintas Corporation",
          "CSX Corp.",
          "Cummins Inc.",
          "Deere & Co.",
          "Delta Air Lines Inc.",
          "Dover Corp.",
          "Eaton Corporation",
          "Emerson Electric Company",
          "Equifax Inc.",
          "Expeditors International",
          "Fastenal Co",
          "FedEx Corporation",
          "Flowserve Corporation",
          "Fluor Corp.",
          "Fortive Corp",
          "Fortune Brands Home & Security",
          "General Dynamics",
          "General Electric",
          "Grainger (W.W.) Inc.",
          "Honeywell Int'l Inc.",
          "Huntington Ingalls Industries",
          "IHS Markit Ltd.",
          "Illinois Tool Works",
          "Ingersoll-Rand PLC",
          "J. B. Hunt Transport Services",
          "Jacobs Engineering Group",
          "Johnson Controls International",
          "Kansas City Southern",
          "L-3 Communications Holdings",
          "Lockheed Martin Corp.",
          "Masco Corp.",
          "Nielsen Holdings",
          "Norfolk Southern Corp.",
          "Northrop Grumman Corp.",
          "PACCAR Inc.",
          "Parker-Hannifin",
          "Pentair Ltd.",
          "Quanta Services Inc.",
          "Raytheon Co.",
          "Republic Services Inc",
          "Robert Half International",
          "Rockwell Automation Inc.",
          "Rockwell Collins",
          "Roper Technologies",
          "Southwest Airlines",
          "Stericycle Inc",
          "Textron Inc.",
          "United Continental Holdings",
          "United Parcel Service",
          "United Rentals, Inc.",
          "United Technologies",
          "Verisk Analytics",
          "Waste Management Inc.",
          "Xylem Inc."
         ],
         "xaxis": "x",
         "y": [
          2.3328617,
          1.1479592,
          0.35118526,
          1.9928383,
          0.8004002,
          0.7782101,
          0.75512403,
          1.9648397,
          1.987685,
          2.0215108,
          1.0344827,
          1.5102888,
          2.5008683,
          1.4866204,
          2.2655525,
          1.8815053,
          2.9404557,
          2.813225,
          1.3265306,
          1.3520038,
          2.7798648,
          0.7963368,
          1.8291216,
          1.4726508,
          0.39057052,
          1.2618296,
          1.5631542,
          3.147541,
          1.9700643,
          1.9710299,
          1.2264713,
          0,
          1.9089574,
          1.9739007,
          0.8139042,
          0.9089532,
          2.7659574,
          1.3445379,
          1.4444605,
          2.315954,
          0.98383695,
          3.6208732,
          2.018503,
          1.3030859,
          1.455816,
          1.4401833,
          2.03933,
          0,
          1.5612764,
          2.1362228,
          1.7075773,
          1.7692552,
          0.9748892,
          0.61985797,
          0.863707,
          0,
          0.1381454,
          0,
          2.9666696,
          0,
          2.1216943,
          0,
          2.0800195,
          1.1700794
         ],
         "yaxis": "y"
        },
        {
         "alignmentgroup": "True",
         "bingroup": "x",
         "histfunc": "sum",
         "hovertemplate": "Sector=Health Care<br>Name=%{x}<br>sum of Dividend Yield=%{y}<extra></extra>",
         "legendgroup": "Health Care",
         "marker": {
          "color": "#EF553B"
         },
         "name": "Health Care",
         "offsetgroup": "Health Care",
         "orientation": "v",
         "showlegend": true,
         "type": "histogram",
         "x": [
          "Abbott Laboratories",
          "AbbVie Inc.",
          "Aetna Inc",
          "Agilent Technologies Inc",
          "Alexion Pharmaceuticals",
          "Align Technology",
          "Allergan, Plc",
          "AmerisourceBergen Corp",
          "Amgen Inc",
          "Anthem Inc.",
          "Baxter International Inc.",
          "Becton Dickinson",
          "Biogen Inc.",
          "Boston Scientific",
          "Bristol-Myers Squibb",
          "Cardinal Health Inc.",
          "Celgene Corp.",
          "Centene Corporation",
          "Cerner",
          "CIGNA Corp.",
          "Danaher Corp.",
          "DaVita Inc.",
          "Dentsply Sirona",
          "Edwards Lifesciences",
          "Envision Healthcare",
          "Express Scripts",
          "Gilead Sciences",
          "Henry Schein",
          "Hologic",
          "Humana Inc.",
          "IDEXX Laboratories",
          "Illumina Inc",
          "Incyte",
          "Intuitive Surgical Inc.",
          "IQVIA Holdings Inc.",
          "Johnson & Johnson",
          "Laboratory Corp. of America Holding",
          "Lilly (Eli) & Co.",
          "McKesson Corp.",
          "Medtronic plc",
          "Merck & Co.",
          "Mettler Toledo",
          "Mylan N.V.",
          "Patterson Companies",
          "PerkinElmer",
          "Pfizer Inc.",
          "Quest Diagnostics",
          "Regeneron",
          "ResMed",
          "Stryker Corp.",
          "The Cooper Companies",
          "Thermo Fisher Scientific",
          "United Health Group Inc.",
          "Universal Health Services, Inc.",
          "Varian Medical Systems",
          "Vertex Pharmaceuticals Inc",
          "Waters Corporation",
          "Zimmer Biomet Holdings",
          "Zoetis"
         ],
         "xaxis": "x",
         "y": [
          1.9089824,
          2.4995599,
          1.101989,
          0.8756979,
          0,
          0,
          1.643289,
          1.6132456,
          2.9751508,
          1.2581781,
          0.97635394,
          1.3518385,
          0,
          0,
          2.5546863,
          2.8394227,
          0,
          0,
          0,
          0.020466639,
          0.5879265,
          0,
          0.60034305,
          0,
          0,
          0,
          2.754954,
          0,
          0,
          0.6040015,
          0,
          0,
          0,
          0,
          0,
          2.5566885,
          0,
          2.9327424,
          0.8898776,
          2.2618315,
          3.435934,
          0,
          0,
          3.0723782,
          0.3695394,
          3.8879359,
          1.9884669,
          0,
          1.5120423,
          1.2234008,
          0.026033757,
          0.3276319,
          1.3284917,
          0.34153005,
          0,
          0,
          0,
          0.7948336,
          0.68237203
         ],
         "yaxis": "y"
        },
        {
         "alignmentgroup": "True",
         "bingroup": "x",
         "histfunc": "sum",
         "hovertemplate": "Sector=Information Technology<br>Name=%{x}<br>sum of Dividend Yield=%{y}<extra></extra>",
         "legendgroup": "Information Technology",
         "marker": {
          "color": "#00cc96"
         },
         "name": "Information Technology",
         "offsetgroup": "Information Technology",
         "orientation": "v",
         "showlegend": true,
         "type": "histogram",
         "x": [
          "Accenture plc",
          "Activision Blizzard",
          "Adobe Systems Inc",
          "Advanced Micro Devices Inc",
          "Akamai Technologies Inc",
          "Alliance Data Systems",
          "Alphabet Inc Class A",
          "Alphabet Inc Class C",
          "Amphenol Corp",
          "Analog Devices, Inc.",
          "ANSYS",
          "Apple Inc.",
          "Applied Materials Inc",
          "Autodesk Inc",
          "Automatic Data Processing",
          "Broadcom",
          "CA, Inc.",
          "Cadence Design Systems",
          "Cisco Systems",
          "Citrix Systems",
          "Cognizant Technology Solutions",
          "Corning Inc.",
          "CSRA Inc.",
          "DXC Technology",
          "eBay Inc.",
          "Electronic Arts",
          "F5 Networks",
          "Facebook, Inc.",
          "Fidelity National Information Services",
          "Fiserv Inc",
          "FLIR Systems",
          "Gartner Inc",
          "Global Payments Inc.",
          "Harris Corporation",
          "Hewlett Packard Enterprise",
          "HP Inc.",
          "Intel Corp.",
          "International Business Machines",
          "Intuit Inc.",
          "Juniper Networks",
          "KLA-Tencor Corp.",
          "Lam Research",
          "Mastercard Inc.",
          "Microchip Technology",
          "Micron Technology",
          "Microsoft Corp.",
          "Motorola Solutions Inc.",
          "NetApp",
          "Netflix Inc.",
          "Nvidia Corporation",
          "Oracle Corp.",
          "Paychex Inc.",
          "PayPal",
          "Qorvo",
          "QUALCOMM Inc.",
          "Red Hat Inc.",
          "Salesforce.com",
          "Seagate Technology",
          "Skyworks Solutions",
          "Symantec Corp.",
          "Synopsys Inc.",
          "TE Connectivity Ltd.",
          "Texas Instruments",
          "Total System Services",
          "Verisign Inc.",
          "Visa Inc.",
          "Western Digital",
          "Western Union Co",
          "Xerox Corp.",
          "Xilinx Inc"
         ],
         "xaxis": "x",
         "y": [
          1.7144699,
          0.43190324,
          0,
          0,
          0,
          0.9240122,
          0,
          0,
          0.8608971,
          2.108963,
          0,
          1.5795412,
          0.8215239,
          0,
          2.2190912,
          2.9488583,
          3,
          0,
          2.8755577,
          0,
          1.0454783,
          2.0791416,
          1.275917,
          0.7493755,
          0,
          0,
          0,
          0,
          1.322724,
          0,
          1.2396694,
          0,
          0.037622273,
          1.4922442,
          1.9280206,
          2.6270628,
          2.6548672,
          3.8999026,
          0.96720195,
          1.5754234,
          2.2988505,
          1.1652974,
          0.5926628,
          1.7512966,
          0,
          1.8747908,
          2.0266979,
          1.3881658,
          0,
          0.26223776,
          1.5551463,
          3.0892801,
          0,
          0,
          3.5055351,
          0,
          0,
          5.085772,
          1.2629502,
          1.1286682,
          0,
          1.6062645,
          2.4318495,
          0.6091133,
          0,
          0.70204765,
          2.389201,
          3.5915854,
          3.207184,
          2.0904882
         ],
         "yaxis": "y"
        },
        {
         "alignmentgroup": "True",
         "bingroup": "x",
         "histfunc": "sum",
         "hovertemplate": "Sector=Consumer Discretionary<br>Name=%{x}<br>sum of Dividend Yield=%{y}<extra></extra>",
         "legendgroup": "Consumer Discretionary",
         "marker": {
          "color": "#ab63fa"
         },
         "name": "Consumer Discretionary",
         "offsetgroup": "Consumer Discretionary",
         "orientation": "v",
         "showlegend": true,
         "type": "histogram",
         "x": [
          "Advance Auto Parts",
          "Amazon.com Inc",
          "Aptiv Plc",
          "AutoZone Inc",
          "Best Buy Co. Inc.",
          "BorgWarner",
          "Carmax Inc",
          "Carnival Corp.",
          "CBS Corp.",
          "Charter Communications",
          "Chipotle Mexican Grill",
          "Comcast Corp.",
          "D. R. Horton",
          "Darden Restaurants",
          "Discovery Communications-A",
          "Discovery Communications-C",
          "Dish Network",
          "Dollar General",
          "Dollar Tree",
          "Expedia Inc.",
          "Ford Motor",
          "Gap Inc.",
          "Garmin Ltd.",
          "General Motors",
          "Genuine Parts",
          "Goodyear Tire & Rubber",
          "Hanesbrands Inc",
          "Harley-Davidson",
          "Hasbro Inc.",
          "Hilton Worldwide Holdings Inc",
          "Home Depot",
          "Interpublic Group",
          "Kohl's Corp.",
          "L Brands Inc.",
          "Leggett & Platt",
          "Lennar Corp.",
          "LKQ Corporation",
          "Lowe's Cos.",
          "Macy's Inc.",
          "Marriott Int'l.",
          "Mattel Inc.",
          "McDonald's Corp.",
          "MGM Resorts International",
          "Michael Kors Holdings",
          "Mohawk Industries",
          "Newell Brands",
          "News Corp. Class A",
          "News Corp. Class B",
          "Nike",
          "Nordstrom",
          "Norwegian Cruise Line",
          "O'Reilly Automotive",
          "Omnicom Group",
          "Polo Ralph Lauren Corp.",
          "Priceline.com Inc",
          "Pulte Homes Inc.",
          "PVH Corp.",
          "Ross Stores",
          "Royal Caribbean Cruises Ltd",
          "Scripps Networks Interactive Inc.",
          "Signet Jewelers",
          "Snap-On Inc.",
          "Stanley Black & Decker",
          "Starbucks Corp.",
          "Target Corp.",
          "The Walt Disney Company",
          "Tiffany & Co.",
          "Time Warner Inc.",
          "TJX Companies Inc.",
          "Tractor Supply Company",
          "TripAdvisor",
          "Twenty-First Century Fox Class A",
          "Twenty-First Century Fox Class B",
          "Ulta Salon Cosmetics & Fragrance Inc",
          "Under Armour Class A",
          "Under Armour Class C",
          "V.F. Corp.",
          "Viacom Inc.",
          "Whirlpool Corp.",
          "Wyndham Worldwide",
          "Wynn Resorts Ltd",
          "Yum! Brands Inc"
         ],
         "xaxis": "x",
         "y": [
          0.21832074,
          0,
          0.9392678,
          0,
          1.9085041,
          1.2363636,
          0,
          2.6041667,
          1.3473054,
          0,
          0,
          1.8929017,
          1.0801469,
          2.6503997,
          0,
          0,
          0,
          1.0625255,
          0,
          0.92785895,
          6.7843866,
          2.8203557,
          3.2339885,
          3.5857513,
          2.7198548,
          1.6731402,
          2.7322404,
          3.0218647,
          2.2304833,
          0.7315289,
          1.8610487,
          3.3802817,
          3.4965036,
          4.886988,
          3.1454785,
          0.26268265,
          0,
          1.6413131,
          6.098546,
          0.9452879,
          0,
          2.437994,
          1.2687428,
          0,
          0,
          3.1228786,
          1.24533,
          1.2269939,
          1.2189548,
          3.0020285,
          0,
          0,
          3.1838684,
          1.8570102,
          0,
          1.2036108,
          0.100529455,
          0.82061803,
          1.8674136,
          1.3761468,
          2.4730754,
          1.968433,
          1.5775635,
          2.203452,
          3.3856654,
          1.6036655,
          1.9402406,
          1.6927768,
          1.64042,
          1.6030874,
          0,
          0.9983361,
          1.0084034,
          0,
          0,
          0,
          2.2865665,
          2.622091,
          2.5652986,
          1.9541779,
          1.1279043,
          1.7970798
         ],
         "yaxis": "y"
        },
        {
         "alignmentgroup": "True",
         "bingroup": "x",
         "histfunc": "sum",
         "hovertemplate": "Sector=Utilities<br>Name=%{x}<br>sum of Dividend Yield=%{y}<extra></extra>",
         "legendgroup": "Utilities",
         "marker": {
          "color": "#FFA15A"
         },
         "name": "Utilities",
         "offsetgroup": "Utilities",
         "orientation": "v",
         "showlegend": true,
         "type": "histogram",
         "x": [
          "AES Corp",
          "Alliant Energy Corp",
          "Ameren Corp",
          "American Electric Power",
          "American Water Works Company Inc",
          "CenterPoint Energy",
          "CMS Energy",
          "Consolidated Edison",
          "Dominion Energy",
          "DTE Energy Co.",
          "Duke Energy",
          "Edison Int'l",
          "Entergy Corp.",
          "Eversource Energy",
          "Exelon Corp.",
          "FirstEnergy Corp",
          "NextEra Energy",
          "NiSource Inc.",
          "NRG Energy",
          "PG&E Corp.",
          "Pinnacle West Capital",
          "PPL Corp.",
          "Public Serv. Enterprise Inc.",
          "SCANA Corp",
          "Sempra Energy",
          "Southern Co.",
          "Wec Energy Group Inc",
          "Xcel Energy Inc"
         ],
         "xaxis": "x",
         "y": [
          4.961832,
          3.5733333,
          3.4404964,
          3.8479443,
          2.129297,
          4.2109256,
          3.3918407,
          3.8001595,
          4.5281997,
          3.5559585,
          4.7849464,
          4.0542803,
          4.892126,
          3.3397784,
          3.8174274,
          4.673807,
          2.6537917,
          3.3780859,
          1.4195584,
          0,
          3.698776,
          5.2196894,
          3.60587,
          6.6830335,
          3.1607263,
          5.3530226,
          3.691948,
          3.3914273
         ],
         "yaxis": "y"
        },
        {
         "alignmentgroup": "True",
         "bingroup": "x",
         "histfunc": "sum",
         "hovertemplate": "Sector=Financials<br>Name=%{x}<br>sum of Dividend Yield=%{y}<extra></extra>",
         "legendgroup": "Financials",
         "marker": {
          "color": "#19d3f3"
         },
         "name": "Financials",
         "offsetgroup": "Financials",
         "orientation": "v",
         "showlegend": true,
         "type": "histogram",
         "x": [
          "Affiliated Managers Group Inc",
          "AFLAC Inc",
          "Allstate Corp",
          "American Express Co",
          "American International Group, Inc.",
          "Ameriprise Financial",
          "Aon plc",
          "Arthur J. Gallagher & Co.",
          "Assurant Inc",
          "Bank of America Corp",
          "BB&T Corporation",
          "Berkshire Hathaway",
          "BlackRock",
          "Block H&R",
          "Brighthouse Financial Inc",
          "Capital One Financial",
          "CBOE Holdings",
          "Charles Schwab Corporation",
          "Chubb Limited",
          "Cincinnati Financial",
          "Citigroup Inc.",
          "Citizens Financial Group",
          "CME Group Inc.",
          "Comerica Inc.",
          "Discover Financial Services",
          "E*Trade",
          "Everest Re Group Ltd.",
          "Fifth Third Bancorp",
          "Franklin Resources",
          "Goldman Sachs Group",
          "Hartford Financial Svc.Gp.",
          "Huntington Bancshares",
          "Intercontinental Exchange",
          "Invesco Ltd.",
          "JPMorgan Chase & Co.",
          "KeyCorp",
          "Leucadia National Corp.",
          "Lincoln National",
          "Loews Corp.",
          "M&T Bank Corp.",
          "Marsh & McLennan",
          "MetLife Inc.",
          "Moody's Corp",
          "Morgan Stanley",
          "Nasdaq, Inc.",
          "Navient",
          "Northern Trust Corp.",
          "People's United Financial",
          "PNC Financial Services",
          "Principal Financial Group",
          "Progressive Corp.",
          "Prudential Financial",
          "Raymond James Financial Inc.",
          "Regions Financial Corp.",
          "S&P Global, Inc.",
          "State Street Corp.",
          "SunTrust Banks",
          "Synchrony Financial",
          "T. Rowe Price Group",
          "The Bank of New York Mellon Corp.",
          "The Travelers Companies Inc.",
          "Torchmark Corp.",
          "U.S. Bancorp",
          "Unum Group",
          "Wells Fargo",
          "Willis Towers Watson",
          "XL Capital",
          "Zions Bancorp"
         ],
         "xaxis": "x",
         "y": [
          0.6387395,
          2.4299066,
          1.5278208,
          1.4955667,
          2.1167521,
          2.0735743,
          1.0245464,
          2.4807138,
          2.5313594,
          1.536,
          2.4526198,
          0,
          2.1643558,
          3.7296038,
          0,
          1.6306564,
          0.9426963,
          0.76878726,
          1.9251627,
          2.918904,
          1.7068943,
          1.9625335,
          3.6828613,
          1.2823253,
          1.8269607,
          0,
          2.1078234,
          1.9789734,
          2.332657,
          1.1668612,
          1.7901897,
          2.8132992,
          5.4298644,
          3.466826,
          1.9845841,
          1.9876952,
          1.5993602,
          1.6813145,
          4.5131636,
          1.6218846,
          1.8257059,
          3.4587116,
          1.114065,
          1.8331805,
          1.9671283,
          4.5584044,
          1.6678249,
          3.59375,
          1.9354838,
          3.1914895,
          2.1061797,
          2.6985698,
          1.0982976,
          1.8987342,
          1.0947506,
          1.6228749,
          2.3185046,
          1.6,
          2.140443,
          1.7347307,
          2.0261714,
          0.7204611,
          2.189781,
          1.8189007,
          2.7111576,
          1.347058,
          2.0952382,
          1.480933
         ],
         "yaxis": "y"
        },
        {
         "alignmentgroup": "True",
         "bingroup": "x",
         "histfunc": "sum",
         "hovertemplate": "Sector=Materials<br>Name=%{x}<br>sum of Dividend Yield=%{y}<extra></extra>",
         "legendgroup": "Materials",
         "marker": {
          "color": "#FF6692"
         },
         "name": "Materials",
         "offsetgroup": "Materials",
         "orientation": "v",
         "showlegend": true,
         "type": "histogram",
         "x": [
          "Air Products & Chemicals Inc",
          "Albemarle Corp",
          "Avery Dennison Corp",
          "Ball Corp",
          "CF Industries Holdings Inc",
          "DowDuPont",
          "Eastman Chemical",
          "Ecolab Inc.",
          "FMC Corporation",
          "Freeport-McMoRan Inc.",
          "International Paper",
          "Intl Flavors & Fragrances",
          "LyondellBasell",
          "Martin Marietta Materials",
          "Monsanto Co.",
          "Newmont Mining Corporation",
          "Nucor Corp.",
          "Packaging Corporation of America",
          "PPG Industries",
          "Praxair Inc.",
          "Sealed Air",
          "Sherwin-Williams",
          "The Mosaic Company",
          "Vulcan Materials",
          "WestRock Company"
         ],
         "xaxis": "x",
         "y": [
          2.7811136,
          1.2004126,
          1.5682175,
          1.0170354,
          3.0395136,
          2.1529746,
          2.2630835,
          1.2319711,
          0.785995,
          1.1198208,
          3.206751,
          1.9341276,
          3.264714,
          0.8042038,
          1.7938709,
          0.8101539,
          2.415766,
          2.1514556,
          1.5771489,
          2.1998534,
          1.4427412,
          0.8426688,
          0.3960396,
          0.7797879,
          2.6699784
         ],
         "yaxis": "y"
        },
        {
         "alignmentgroup": "True",
         "bingroup": "x",
         "histfunc": "sum",
         "hovertemplate": "Sector=Real Estate<br>Name=%{x}<br>sum of Dividend Yield=%{y}<extra></extra>",
         "legendgroup": "Real Estate",
         "marker": {
          "color": "#B6E880"
         },
         "name": "Real Estate",
         "offsetgroup": "Real Estate",
         "orientation": "v",
         "showlegend": true,
         "type": "histogram",
         "x": [
          "Alexandria Real Estate Equities Inc",
          "American Tower Corp A",
          "Apartment Investment & Management",
          "AvalonBay Communities, Inc.",
          "Boston Properties",
          "CBRE Group",
          "Crown Castle International Corp.",
          "Digital Realty Trust Inc",
          "Duke Realty Corp",
          "Equinix",
          "Equity Residential",
          "Essex Property Trust, Inc.",
          "Extra Space Storage",
          "Federal Realty Investment Trust",
          "General Growth Properties Inc.",
          "HCP Inc.",
          "Host Hotels & Resorts",
          "Iron Mountain Incorporated",
          "Kimco Realty",
          "Macerich",
          "Mid-America Apartments",
          "Prologis",
          "Public Storage",
          "Realty Income Corporation",
          "Regency Centers Corporation",
          "SBA Communications",
          "Simon Property Group Inc",
          "SL Green Realty",
          "UDR Inc",
          "Ventas Inc",
          "Vornado Realty Trust",
          "Welltower Inc.",
          "Weyerhaeuser Corp."
         ],
         "xaxis": "x",
         "y": [
          3.0262272,
          2,
          3.876562,
          3.7149355,
          2.7744062,
          0,
          3.862069,
          3.5710857,
          3.1533308,
          1.8775817,
          3.5437918,
          3.2138102,
          3.879632,
          3.5925992,
          4.005462,
          6.330197,
          4.1131105,
          7.08258,
          7.7134986,
          4.9177604,
          4.19652,
          2.931379,
          4.316159,
          5.372036,
          3.6850338,
          0,
          5.0368075,
          3.4998922,
          3.668639,
          5.965641,
          3.744428,
          6.1538463,
          3.7079954
         ],
         "yaxis": "y"
        },
        {
         "alignmentgroup": "True",
         "bingroup": "x",
         "histfunc": "sum",
         "hovertemplate": "Sector=Consumer Staples<br>Name=%{x}<br>sum of Dividend Yield=%{y}<extra></extra>",
         "legendgroup": "Consumer Staples",
         "marker": {
          "color": "#FF97FF"
         },
         "name": "Consumer Staples",
         "offsetgroup": "Consumer Staples",
         "orientation": "v",
         "showlegend": true,
         "type": "histogram",
         "x": [
          "Altria Group Inc",
          "Archer-Daniels-Midland Co",
          "Brown-Forman Corp.",
          "Campbell Soup",
          "Church & Dwight",
          "Coca-Cola Company (The)",
          "Colgate-Palmolive",
          "Conagra Brands",
          "Constellation Brands",
          "Costco Wholesale Corp.",
          "Coty, Inc",
          "CVS Health",
          "Dr Pepper Snapple Group",
          "Estee Lauder Cos.",
          "General Mills",
          "Hormel Foods Corp.",
          "JM Smucker",
          "Kellogg Co.",
          "Kimberly-Clark",
          "Kraft Heinz Co",
          "Kroger Co.",
          "McCormick & Co.",
          "Molson Coors Brewing Company",
          "Mondelez International",
          "Monster Beverage",
          "Philip Morris International",
          "Procter & Gamble",
          "Sysco Corp.",
          "The Clorox Company",
          "The Hershey Company",
          "Tyson Foods",
          "Wal-Mart Stores",
          "Walgreens Boots Alliance"
         ],
         "xaxis": "x",
         "y": [
          3.9526875,
          3.1761081,
          1.1216964,
          3.125,
          1.8366054,
          3.3213644,
          2.2801766,
          2.3683476,
          0.9712818,
          1.0917627,
          2.860412,
          2.6899798,
          1.9661016,
          1.1283498,
          3.5864594,
          2.2907758,
          2.6036885,
          3.363962,
          3.5599859,
          3.3990483,
          1.7301039,
          2.0261056,
          2.1533613,
          1.9977299,
          0,
          4.328479,
          3.3704789,
          2.4644873,
          2.6286967,
          2.6494346,
          1.6353229,
          1.983471,
          2.2368238
         ],
         "yaxis": "y"
        },
        {
         "alignmentgroup": "True",
         "bingroup": "x",
         "histfunc": "sum",
         "hovertemplate": "Sector=Energy<br>Name=%{x}<br>sum of Dividend Yield=%{y}<extra></extra>",
         "legendgroup": "Energy",
         "marker": {
          "color": "#FECB52"
         },
         "name": "Energy",
         "offsetgroup": "Energy",
         "orientation": "v",
         "showlegend": true,
         "type": "histogram",
         "x": [
          "Anadarko Petroleum Corp",
          "Andeavor",
          "Apache Corporation",
          "Baker Hughes, a GE Company",
          "Cabot Oil & Gas",
          "Chesapeake Energy",
          "Chevron Corp.",
          "Cimarex Energy",
          "Concho Resources",
          "ConocoPhillips",
          "Devon Energy Corp.",
          "EOG Resources",
          "EQT Corporation",
          "Exxon Mobil Corp.",
          "Halliburton Co.",
          "Helmerich & Payne",
          "Hess Corporation",
          "Kinder Morgan",
          "Marathon Petroleum",
          "National Oilwell Varco Inc.",
          "Newfield Exploration Co",
          "Noble Energy Inc",
          "ONEOK",
          "Phillips 66",
          "Pioneer Natural Resources",
          "Range Resources Corp.",
          "Schlumberger Ltd.",
          "TechnipFMC",
          "Valero Energy",
          "Williams Cos."
         ],
         "xaxis": "x",
         "y": [
          1.7029973,
          2.3454583,
          2.528445,
          2.4991322,
          1.0269576,
          0,
          3.885853,
          0.30214334,
          0,
          2.049254,
          0.6528836,
          0.63339007,
          0.2518363,
          4.0031195,
          1.4489837,
          4.1499925,
          2.2670596,
          2.891845,
          2.8268552,
          0.5873715,
          0,
          1.4771049,
          5.4436197,
          2.928564,
          0.1816118,
          0.6097561,
          2.8673835,
          1.7060367,
          3.5618877,
          4
         ],
         "yaxis": "y"
        },
        {
         "alignmentgroup": "True",
         "bingroup": "x",
         "histfunc": "sum",
         "hovertemplate": "Sector=Telecommunication Services<br>Name=%{x}<br>sum of Dividend Yield=%{y}<extra></extra>",
         "legendgroup": "Telecommunication Services",
         "marker": {
          "color": "#636efa"
         },
         "name": "Telecommunication Services",
         "offsetgroup": "Telecommunication Services",
         "orientation": "v",
         "showlegend": true,
         "type": "histogram",
         "x": [
          "AT&T Inc",
          "CenturyLink Inc",
          "Verizon Communications"
         ],
         "xaxis": "x",
         "y": [
          5.4156513,
          12.661196,
          4.626544
         ],
         "yaxis": "y"
        }
       ],
       "layout": {
        "barmode": "relative",
        "legend": {
         "title": {
          "text": "Sector"
         },
         "tracegroupgap": 0
        },
        "margin": {
         "t": 60
        },
        "template": {
         "data": {
          "bar": [
           {
            "error_x": {
             "color": "#2a3f5f"
            },
            "error_y": {
             "color": "#2a3f5f"
            },
            "marker": {
             "line": {
              "color": "#E5ECF6",
              "width": 0.5
             }
            },
            "type": "bar"
           }
          ],
          "barpolar": [
           {
            "marker": {
             "line": {
              "color": "#E5ECF6",
              "width": 0.5
             }
            },
            "type": "barpolar"
           }
          ],
          "carpet": [
           {
            "aaxis": {
             "endlinecolor": "#2a3f5f",
             "gridcolor": "white",
             "linecolor": "white",
             "minorgridcolor": "white",
             "startlinecolor": "#2a3f5f"
            },
            "baxis": {
             "endlinecolor": "#2a3f5f",
             "gridcolor": "white",
             "linecolor": "white",
             "minorgridcolor": "white",
             "startlinecolor": "#2a3f5f"
            },
            "type": "carpet"
           }
          ],
          "choropleth": [
           {
            "colorbar": {
             "outlinewidth": 0,
             "ticks": ""
            },
            "type": "choropleth"
           }
          ],
          "contour": [
           {
            "colorbar": {
             "outlinewidth": 0,
             "ticks": ""
            },
            "colorscale": [
             [
              0,
              "#0d0887"
             ],
             [
              0.1111111111111111,
              "#46039f"
             ],
             [
              0.2222222222222222,
              "#7201a8"
             ],
             [
              0.3333333333333333,
              "#9c179e"
             ],
             [
              0.4444444444444444,
              "#bd3786"
             ],
             [
              0.5555555555555556,
              "#d8576b"
             ],
             [
              0.6666666666666666,
              "#ed7953"
             ],
             [
              0.7777777777777778,
              "#fb9f3a"
             ],
             [
              0.8888888888888888,
              "#fdca26"
             ],
             [
              1,
              "#f0f921"
             ]
            ],
            "type": "contour"
           }
          ],
          "contourcarpet": [
           {
            "colorbar": {
             "outlinewidth": 0,
             "ticks": ""
            },
            "type": "contourcarpet"
           }
          ],
          "heatmap": [
           {
            "colorbar": {
             "outlinewidth": 0,
             "ticks": ""
            },
            "colorscale": [
             [
              0,
              "#0d0887"
             ],
             [
              0.1111111111111111,
              "#46039f"
             ],
             [
              0.2222222222222222,
              "#7201a8"
             ],
             [
              0.3333333333333333,
              "#9c179e"
             ],
             [
              0.4444444444444444,
              "#bd3786"
             ],
             [
              0.5555555555555556,
              "#d8576b"
             ],
             [
              0.6666666666666666,
              "#ed7953"
             ],
             [
              0.7777777777777778,
              "#fb9f3a"
             ],
             [
              0.8888888888888888,
              "#fdca26"
             ],
             [
              1,
              "#f0f921"
             ]
            ],
            "type": "heatmap"
           }
          ],
          "heatmapgl": [
           {
            "colorbar": {
             "outlinewidth": 0,
             "ticks": ""
            },
            "colorscale": [
             [
              0,
              "#0d0887"
             ],
             [
              0.1111111111111111,
              "#46039f"
             ],
             [
              0.2222222222222222,
              "#7201a8"
             ],
             [
              0.3333333333333333,
              "#9c179e"
             ],
             [
              0.4444444444444444,
              "#bd3786"
             ],
             [
              0.5555555555555556,
              "#d8576b"
             ],
             [
              0.6666666666666666,
              "#ed7953"
             ],
             [
              0.7777777777777778,
              "#fb9f3a"
             ],
             [
              0.8888888888888888,
              "#fdca26"
             ],
             [
              1,
              "#f0f921"
             ]
            ],
            "type": "heatmapgl"
           }
          ],
          "histogram": [
           {
            "marker": {
             "colorbar": {
              "outlinewidth": 0,
              "ticks": ""
             }
            },
            "type": "histogram"
           }
          ],
          "histogram2d": [
           {
            "colorbar": {
             "outlinewidth": 0,
             "ticks": ""
            },
            "colorscale": [
             [
              0,
              "#0d0887"
             ],
             [
              0.1111111111111111,
              "#46039f"
             ],
             [
              0.2222222222222222,
              "#7201a8"
             ],
             [
              0.3333333333333333,
              "#9c179e"
             ],
             [
              0.4444444444444444,
              "#bd3786"
             ],
             [
              0.5555555555555556,
              "#d8576b"
             ],
             [
              0.6666666666666666,
              "#ed7953"
             ],
             [
              0.7777777777777778,
              "#fb9f3a"
             ],
             [
              0.8888888888888888,
              "#fdca26"
             ],
             [
              1,
              "#f0f921"
             ]
            ],
            "type": "histogram2d"
           }
          ],
          "histogram2dcontour": [
           {
            "colorbar": {
             "outlinewidth": 0,
             "ticks": ""
            },
            "colorscale": [
             [
              0,
              "#0d0887"
             ],
             [
              0.1111111111111111,
              "#46039f"
             ],
             [
              0.2222222222222222,
              "#7201a8"
             ],
             [
              0.3333333333333333,
              "#9c179e"
             ],
             [
              0.4444444444444444,
              "#bd3786"
             ],
             [
              0.5555555555555556,
              "#d8576b"
             ],
             [
              0.6666666666666666,
              "#ed7953"
             ],
             [
              0.7777777777777778,
              "#fb9f3a"
             ],
             [
              0.8888888888888888,
              "#fdca26"
             ],
             [
              1,
              "#f0f921"
             ]
            ],
            "type": "histogram2dcontour"
           }
          ],
          "mesh3d": [
           {
            "colorbar": {
             "outlinewidth": 0,
             "ticks": ""
            },
            "type": "mesh3d"
           }
          ],
          "parcoords": [
           {
            "line": {
             "colorbar": {
              "outlinewidth": 0,
              "ticks": ""
             }
            },
            "type": "parcoords"
           }
          ],
          "pie": [
           {
            "automargin": true,
            "type": "pie"
           }
          ],
          "scatter": [
           {
            "marker": {
             "colorbar": {
              "outlinewidth": 0,
              "ticks": ""
             }
            },
            "type": "scatter"
           }
          ],
          "scatter3d": [
           {
            "line": {
             "colorbar": {
              "outlinewidth": 0,
              "ticks": ""
             }
            },
            "marker": {
             "colorbar": {
              "outlinewidth": 0,
              "ticks": ""
             }
            },
            "type": "scatter3d"
           }
          ],
          "scattercarpet": [
           {
            "marker": {
             "colorbar": {
              "outlinewidth": 0,
              "ticks": ""
             }
            },
            "type": "scattercarpet"
           }
          ],
          "scattergeo": [
           {
            "marker": {
             "colorbar": {
              "outlinewidth": 0,
              "ticks": ""
             }
            },
            "type": "scattergeo"
           }
          ],
          "scattergl": [
           {
            "marker": {
             "colorbar": {
              "outlinewidth": 0,
              "ticks": ""
             }
            },
            "type": "scattergl"
           }
          ],
          "scattermapbox": [
           {
            "marker": {
             "colorbar": {
              "outlinewidth": 0,
              "ticks": ""
             }
            },
            "type": "scattermapbox"
           }
          ],
          "scatterpolar": [
           {
            "marker": {
             "colorbar": {
              "outlinewidth": 0,
              "ticks": ""
             }
            },
            "type": "scatterpolar"
           }
          ],
          "scatterpolargl": [
           {
            "marker": {
             "colorbar": {
              "outlinewidth": 0,
              "ticks": ""
             }
            },
            "type": "scatterpolargl"
           }
          ],
          "scatterternary": [
           {
            "marker": {
             "colorbar": {
              "outlinewidth": 0,
              "ticks": ""
             }
            },
            "type": "scatterternary"
           }
          ],
          "surface": [
           {
            "colorbar": {
             "outlinewidth": 0,
             "ticks": ""
            },
            "colorscale": [
             [
              0,
              "#0d0887"
             ],
             [
              0.1111111111111111,
              "#46039f"
             ],
             [
              0.2222222222222222,
              "#7201a8"
             ],
             [
              0.3333333333333333,
              "#9c179e"
             ],
             [
              0.4444444444444444,
              "#bd3786"
             ],
             [
              0.5555555555555556,
              "#d8576b"
             ],
             [
              0.6666666666666666,
              "#ed7953"
             ],
             [
              0.7777777777777778,
              "#fb9f3a"
             ],
             [
              0.8888888888888888,
              "#fdca26"
             ],
             [
              1,
              "#f0f921"
             ]
            ],
            "type": "surface"
           }
          ],
          "table": [
           {
            "cells": {
             "fill": {
              "color": "#EBF0F8"
             },
             "line": {
              "color": "white"
             }
            },
            "header": {
             "fill": {
              "color": "#C8D4E3"
             },
             "line": {
              "color": "white"
             }
            },
            "type": "table"
           }
          ]
         },
         "layout": {
          "annotationdefaults": {
           "arrowcolor": "#2a3f5f",
           "arrowhead": 0,
           "arrowwidth": 1
          },
          "autotypenumbers": "strict",
          "coloraxis": {
           "colorbar": {
            "outlinewidth": 0,
            "ticks": ""
           }
          },
          "colorscale": {
           "diverging": [
            [
             0,
             "#8e0152"
            ],
            [
             0.1,
             "#c51b7d"
            ],
            [
             0.2,
             "#de77ae"
            ],
            [
             0.3,
             "#f1b6da"
            ],
            [
             0.4,
             "#fde0ef"
            ],
            [
             0.5,
             "#f7f7f7"
            ],
            [
             0.6,
             "#e6f5d0"
            ],
            [
             0.7,
             "#b8e186"
            ],
            [
             0.8,
             "#7fbc41"
            ],
            [
             0.9,
             "#4d9221"
            ],
            [
             1,
             "#276419"
            ]
           ],
           "sequential": [
            [
             0,
             "#0d0887"
            ],
            [
             0.1111111111111111,
             "#46039f"
            ],
            [
             0.2222222222222222,
             "#7201a8"
            ],
            [
             0.3333333333333333,
             "#9c179e"
            ],
            [
             0.4444444444444444,
             "#bd3786"
            ],
            [
             0.5555555555555556,
             "#d8576b"
            ],
            [
             0.6666666666666666,
             "#ed7953"
            ],
            [
             0.7777777777777778,
             "#fb9f3a"
            ],
            [
             0.8888888888888888,
             "#fdca26"
            ],
            [
             1,
             "#f0f921"
            ]
           ],
           "sequentialminus": [
            [
             0,
             "#0d0887"
            ],
            [
             0.1111111111111111,
             "#46039f"
            ],
            [
             0.2222222222222222,
             "#7201a8"
            ],
            [
             0.3333333333333333,
             "#9c179e"
            ],
            [
             0.4444444444444444,
             "#bd3786"
            ],
            [
             0.5555555555555556,
             "#d8576b"
            ],
            [
             0.6666666666666666,
             "#ed7953"
            ],
            [
             0.7777777777777778,
             "#fb9f3a"
            ],
            [
             0.8888888888888888,
             "#fdca26"
            ],
            [
             1,
             "#f0f921"
            ]
           ]
          },
          "colorway": [
           "#636efa",
           "#EF553B",
           "#00cc96",
           "#ab63fa",
           "#FFA15A",
           "#19d3f3",
           "#FF6692",
           "#B6E880",
           "#FF97FF",
           "#FECB52"
          ],
          "font": {
           "color": "#2a3f5f"
          },
          "geo": {
           "bgcolor": "white",
           "lakecolor": "white",
           "landcolor": "#E5ECF6",
           "showlakes": true,
           "showland": true,
           "subunitcolor": "white"
          },
          "hoverlabel": {
           "align": "left"
          },
          "hovermode": "closest",
          "mapbox": {
           "style": "light"
          },
          "paper_bgcolor": "white",
          "plot_bgcolor": "#E5ECF6",
          "polar": {
           "angularaxis": {
            "gridcolor": "white",
            "linecolor": "white",
            "ticks": ""
           },
           "bgcolor": "#E5ECF6",
           "radialaxis": {
            "gridcolor": "white",
            "linecolor": "white",
            "ticks": ""
           }
          },
          "scene": {
           "xaxis": {
            "backgroundcolor": "#E5ECF6",
            "gridcolor": "white",
            "gridwidth": 2,
            "linecolor": "white",
            "showbackground": true,
            "ticks": "",
            "zerolinecolor": "white"
           },
           "yaxis": {
            "backgroundcolor": "#E5ECF6",
            "gridcolor": "white",
            "gridwidth": 2,
            "linecolor": "white",
            "showbackground": true,
            "ticks": "",
            "zerolinecolor": "white"
           },
           "zaxis": {
            "backgroundcolor": "#E5ECF6",
            "gridcolor": "white",
            "gridwidth": 2,
            "linecolor": "white",
            "showbackground": true,
            "ticks": "",
            "zerolinecolor": "white"
           }
          },
          "shapedefaults": {
           "line": {
            "color": "#2a3f5f"
           }
          },
          "ternary": {
           "aaxis": {
            "gridcolor": "white",
            "linecolor": "white",
            "ticks": ""
           },
           "baxis": {
            "gridcolor": "white",
            "linecolor": "white",
            "ticks": ""
           },
           "bgcolor": "#E5ECF6",
           "caxis": {
            "gridcolor": "white",
            "linecolor": "white",
            "ticks": ""
           }
          },
          "title": {
           "x": 0.05
          },
          "xaxis": {
           "automargin": true,
           "gridcolor": "white",
           "linecolor": "white",
           "ticks": "",
           "title": {
            "standoff": 15
           },
           "zerolinecolor": "white",
           "zerolinewidth": 2
          },
          "yaxis": {
           "automargin": true,
           "gridcolor": "white",
           "linecolor": "white",
           "ticks": "",
           "title": {
            "standoff": 15
           },
           "zerolinecolor": "white",
           "zerolinewidth": 2
          }
         }
        },
        "xaxis": {
         "anchor": "y",
         "domain": [
          0,
          1
         ],
         "title": {
          "text": "Name"
         }
        },
        "yaxis": {
         "anchor": "x",
         "domain": [
          0,
          1
         ],
         "title": {
          "text": "sum of Dividend Yield"
         }
        }
       }
      }
     },
     "metadata": {}
    },
    {
     "output_type": "display_data",
     "data": {
      "application/vnd.plotly.v1+json": {
       "config": {
        "plotlyServerURL": "https://plot.ly"
       },
       "data": [
        {
         "alignmentgroup": "True",
         "bingroup": "x",
         "histfunc": "sum",
         "hovertemplate": "Sector=Industrials<br>Name=%{x}<br>sum of Earnings/Share=%{y}<extra></extra>",
         "legendgroup": "Industrials",
         "marker": {
          "color": "#636efa"
         },
         "name": "Industrials",
         "offsetgroup": "Industrials",
         "orientation": "v",
         "showlegend": true,
         "type": "histogram",
         "x": [
          "3M Company",
          "A.O. Smith Corp",
          "Acuity Brands Inc",
          "Alaska Air Group Inc",
          "Allegion",
          "American Airlines Group",
          "AMETEK Inc",
          "Boeing Company",
          "C. H. Robinson Worldwide",
          "Caterpillar Inc.",
          "Cintas Corporation",
          "CSX Corp.",
          "Cummins Inc.",
          "Deere & Co.",
          "Delta Air Lines Inc.",
          "Dover Corp.",
          "Eaton Corporation",
          "Emerson Electric Company",
          "Equifax Inc.",
          "Expeditors International",
          "Fastenal Co",
          "FedEx Corporation",
          "Flowserve Corporation",
          "Fluor Corp.",
          "Fortive Corp",
          "Fortune Brands Home & Security",
          "General Dynamics",
          "General Electric",
          "Grainger (W.W.) Inc.",
          "Honeywell Int'l Inc.",
          "Huntington Ingalls Industries",
          "IHS Markit Ltd.",
          "Illinois Tool Works",
          "Ingersoll-Rand PLC",
          "J. B. Hunt Transport Services",
          "Jacobs Engineering Group",
          "Johnson Controls International",
          "Kansas City Southern",
          "L-3 Communications Holdings",
          "Lockheed Martin Corp.",
          "Masco Corp.",
          "Nielsen Holdings",
          "Norfolk Southern Corp.",
          "Northrop Grumman Corp.",
          "PACCAR Inc.",
          "Parker-Hannifin",
          "Pentair Ltd.",
          "Quanta Services Inc.",
          "Raytheon Co.",
          "Republic Services Inc",
          "Robert Half International",
          "Rockwell Automation Inc.",
          "Rockwell Collins",
          "Roper Technologies",
          "Southwest Airlines",
          "Stericycle Inc",
          "Textron Inc.",
          "United Continental Holdings",
          "United Parcel Service",
          "United Rentals, Inc.",
          "United Technologies",
          "Verisk Analytics",
          "Waste Management Inc.",
          "Xylem Inc."
         ],
         "xaxis": "x",
         "y": [
          7.92,
          1.7,
          7.43,
          8.28,
          2.37,
          3.91,
          2.94,
          13.47,
          3.57,
          1.26,
          4.38,
          6.07,
          8.23,
          6.64,
          4.94,
          5.15,
          6.68,
          2.35,
          4.04,
          2.36,
          2.01,
          11.07,
          1.12,
          1.99,
          2.46,
          3.04,
          9.55,
          -0.72,
          10.02,
          2.08,
          12.15,
          1,
          4.86,
          5.07,
          6.19,
          2.43,
          1.71,
          9.16,
          8.51,
          6.83,
          1.47,
          1.39,
          18.73,
          11.47,
          4.75,
          7.24,
          3.63,
          1.28,
          6.95,
          1.77,
          2.32,
          6.35,
          4.8,
          9.38,
          5.82,
          2.08,
          1.14,
          7.05,
          5.62,
          15.72,
          5.7,
          3.45,
          2.66,
          1.83
         ],
         "yaxis": "y"
        },
        {
         "alignmentgroup": "True",
         "bingroup": "x",
         "histfunc": "sum",
         "hovertemplate": "Sector=Health Care<br>Name=%{x}<br>sum of Earnings/Share=%{y}<extra></extra>",
         "legendgroup": "Health Care",
         "marker": {
          "color": "#EF553B"
         },
         "name": "Health Care",
         "offsetgroup": "Health Care",
         "orientation": "v",
         "showlegend": true,
         "type": "histogram",
         "x": [
          "Abbott Laboratories",
          "AbbVie Inc.",
          "Aetna Inc",
          "Agilent Technologies Inc",
          "Alexion Pharmaceuticals",
          "Align Technology",
          "Allergan, Plc",
          "AmerisourceBergen Corp",
          "Amgen Inc",
          "Anthem Inc.",
          "Baxter International Inc.",
          "Becton Dickinson",
          "Biogen Inc.",
          "Boston Scientific",
          "Bristol-Myers Squibb",
          "Cardinal Health Inc.",
          "Celgene Corp.",
          "Centene Corporation",
          "Cerner",
          "CIGNA Corp.",
          "Danaher Corp.",
          "DaVita Inc.",
          "Dentsply Sirona",
          "Edwards Lifesciences",
          "Envision Healthcare",
          "Express Scripts",
          "Gilead Sciences",
          "Henry Schein",
          "Hologic",
          "Humana Inc.",
          "IDEXX Laboratories",
          "Illumina Inc",
          "Incyte",
          "Intuitive Surgical Inc.",
          "IQVIA Holdings Inc.",
          "Johnson & Johnson",
          "Laboratory Corp. of America Holding",
          "Lilly (Eli) & Co.",
          "McKesson Corp.",
          "Medtronic plc",
          "Merck & Co.",
          "Mettler Toledo",
          "Mylan N.V.",
          "Patterson Companies",
          "PerkinElmer",
          "Pfizer Inc.",
          "Quest Diagnostics",
          "Regeneron",
          "ResMed",
          "Stryker Corp.",
          "The Cooper Companies",
          "Thermo Fisher Scientific",
          "United Health Group Inc.",
          "Universal Health Services, Inc.",
          "Varian Medical Systems",
          "Vertex Pharmaceuticals Inc",
          "Waters Corporation",
          "Zimmer Biomet Holdings",
          "Zoetis"
         ],
         "xaxis": "x",
         "y": [
          0.26,
          3.29,
          5.75,
          2.1,
          1.77,
          2.84,
          38.35,
          1.64,
          2.57,
          14.36,
          1.29,
          4.65,
          11.94,
          0.07,
          2.65,
          4.04,
          3.58,
          3.23,
          1.84,
          7.2,
          3.53,
          4.3,
          1.99,
          2.88,
          -0.48,
          5.39,
          9.95,
          3.1,
          2.64,
          4.06,
          2.94,
          4.92,
          0.54,
          5.67,
          0.76,
          0.39,
          7.02,
          -0.2,
          22.74,
          2.89,
          1.4,
          14.24,
          0.93,
          1.79,
          2.64,
          3.51,
          5.5,
          7.74,
          2.41,
          2.68,
          7.52,
          5.6,
          10.71,
          7.14,
          2.69,
          1.04,
          0.19,
          9.01,
          1.65
         ],
         "yaxis": "y"
        },
        {
         "alignmentgroup": "True",
         "bingroup": "x",
         "histfunc": "sum",
         "hovertemplate": "Sector=Information Technology<br>Name=%{x}<br>sum of Earnings/Share=%{y}<extra></extra>",
         "legendgroup": "Information Technology",
         "marker": {
          "color": "#00cc96"
         },
         "name": "Information Technology",
         "offsetgroup": "Information Technology",
         "orientation": "v",
         "showlegend": true,
         "type": "histogram",
         "x": [
          "Accenture plc",
          "Activision Blizzard",
          "Adobe Systems Inc",
          "Advanced Micro Devices Inc",
          "Akamai Technologies Inc",
          "Alliance Data Systems",
          "Alphabet Inc Class A",
          "Alphabet Inc Class C",
          "Amphenol Corp",
          "Analog Devices, Inc.",
          "ANSYS",
          "Apple Inc.",
          "Applied Materials Inc",
          "Autodesk Inc",
          "Automatic Data Processing",
          "Broadcom",
          "CA, Inc.",
          "Cadence Design Systems",
          "Cisco Systems",
          "Citrix Systems",
          "Cognizant Technology Solutions",
          "Corning Inc.",
          "CSRA Inc.",
          "DXC Technology",
          "eBay Inc.",
          "Electronic Arts",
          "F5 Networks",
          "Facebook, Inc.",
          "Fidelity National Information Services",
          "Fiserv Inc",
          "FLIR Systems",
          "Gartner Inc",
          "Global Payments Inc.",
          "Harris Corporation",
          "Hewlett Packard Enterprise",
          "HP Inc.",
          "Intel Corp.",
          "International Business Machines",
          "Intuit Inc.",
          "Juniper Networks",
          "KLA-Tencor Corp.",
          "Lam Research",
          "Mastercard Inc.",
          "Microchip Technology",
          "Micron Technology",
          "Microsoft Corp.",
          "Motorola Solutions Inc.",
          "NetApp",
          "Netflix Inc.",
          "Nvidia Corporation",
          "Oracle Corp.",
          "Paychex Inc.",
          "PayPal",
          "Qorvo",
          "QUALCOMM Inc.",
          "Red Hat Inc.",
          "Salesforce.com",
          "Seagate Technology",
          "Skyworks Solutions",
          "Symantec Corp.",
          "Synopsys Inc.",
          "TE Connectivity Ltd.",
          "Texas Instruments",
          "Total System Services",
          "Verisign Inc.",
          "Visa Inc.",
          "Western Digital",
          "Western Union Co",
          "Xerox Corp.",
          "Xilinx Inc"
         ],
         "xaxis": "x",
         "y": [
          5.44,
          1.28,
          3.39,
          0.03,
          1.79,
          14.13,
          22.27,
          22.27,
          2.05,
          2.11,
          2.99,
          9.2,
          3.17,
          -2.61,
          3.85,
          4.01,
          1.85,
          0.74,
          1.91,
          -0.24,
          2.54,
          -0.78,
          1.83,
          -0.89,
          -1.07,
          3.07,
          6.51,
          5.39,
          1.72,
          4.14,
          1.21,
          2.31,
          1.58,
          4.43,
          0.21,
          1.49,
          1.98,
          6.11,
          3.72,
          0.78,
          5.88,
          9.22,
          3.65,
          0.66,
          4.36,
          2.97,
          -1.08,
          1.81,
          1.25,
          2.57,
          2.2,
          2.26,
          1.47,
          -0.13,
          1.65,
          1.68,
          0.27,
          2.58,
          5.41,
          -0.17,
          0.87,
          4.71,
          3.6,
          3.16,
          3.43,
          2.8,
          1.29,
          0.51,
          0.59,
          2.32
         ],
         "yaxis": "y"
        },
        {
         "alignmentgroup": "True",
         "bingroup": "x",
         "histfunc": "sum",
         "hovertemplate": "Sector=Consumer Discretionary<br>Name=%{x}<br>sum of Earnings/Share=%{y}<extra></extra>",
         "legendgroup": "Consumer Discretionary",
         "marker": {
          "color": "#ab63fa"
         },
         "name": "Consumer Discretionary",
         "offsetgroup": "Consumer Discretionary",
         "orientation": "v",
         "showlegend": true,
         "type": "histogram",
         "x": [
          "Advance Auto Parts",
          "Amazon.com Inc",
          "Aptiv Plc",
          "AutoZone Inc",
          "Best Buy Co. Inc.",
          "BorgWarner",
          "Carmax Inc",
          "Carnival Corp.",
          "CBS Corp.",
          "Charter Communications",
          "Chipotle Mexican Grill",
          "Comcast Corp.",
          "D. R. Horton",
          "Darden Restaurants",
          "Discovery Communications-A",
          "Discovery Communications-C",
          "Dish Network",
          "Dollar General",
          "Dollar Tree",
          "Expedia Inc.",
          "Ford Motor",
          "Gap Inc.",
          "Garmin Ltd.",
          "General Motors",
          "Genuine Parts",
          "Goodyear Tire & Rubber",
          "Hanesbrands Inc",
          "Harley-Davidson",
          "Hasbro Inc.",
          "Hilton Worldwide Holdings Inc",
          "Home Depot",
          "Interpublic Group",
          "Kohl's Corp.",
          "L Brands Inc.",
          "Leggett & Platt",
          "Lennar Corp.",
          "LKQ Corporation",
          "Lowe's Cos.",
          "Macy's Inc.",
          "Marriott Int'l.",
          "Mattel Inc.",
          "McDonald's Corp.",
          "MGM Resorts International",
          "Michael Kors Holdings",
          "Mohawk Industries",
          "Newell Brands",
          "News Corp. Class A",
          "News Corp. Class B",
          "Nike",
          "Nordstrom",
          "Norwegian Cruise Line",
          "O'Reilly Automotive",
          "Omnicom Group",
          "Polo Ralph Lauren Corp.",
          "Priceline.com Inc",
          "Pulte Homes Inc.",
          "PVH Corp.",
          "Ross Stores",
          "Royal Caribbean Cruises Ltd",
          "Scripps Networks Interactive Inc.",
          "Signet Jewelers",
          "Snap-On Inc.",
          "Stanley Black & Decker",
          "Starbucks Corp.",
          "Target Corp.",
          "The Walt Disney Company",
          "Tiffany & Co.",
          "Time Warner Inc.",
          "TJX Companies Inc.",
          "Tractor Supply Company",
          "TripAdvisor",
          "Twenty-First Century Fox Class A",
          "Twenty-First Century Fox Class B",
          "Ulta Salon Cosmetics & Fragrance Inc",
          "Under Armour Class A",
          "Under Armour Class C",
          "V.F. Corp.",
          "Viacom Inc.",
          "Whirlpool Corp.",
          "Wyndham Worldwide",
          "Wynn Resorts Ltd",
          "Yum! Brands Inc"
         ],
         "xaxis": "x",
         "y": [
          6.19,
          6.16,
          5.05,
          44.09,
          3.81,
          0.55,
          3.97,
          3.58,
          2.81,
          34.08,
          0.8,
          4.74,
          2.73,
          3.81,
          1.96,
          1.96,
          3.06,
          4.43,
          3.77,
          1.81,
          1.9,
          1.69,
          2.69,
          6,
          4.6,
          4.74,
          1.41,
          2.98,
          4.34,
          1.05,
          6.46,
          1.49,
          3.12,
          3.98,
          2.76,
          3.38,
          1.5,
          3.46,
          1.98,
          2.67,
          -3.06,
          6.36,
          1.92,
          3.31,
          12.48,
          1.17,
          -1.28,
          -1.28,
          2.51,
          2.02,
          2.78,
          10.73,
          4.79,
          -1.19,
          42.66,
          1.44,
          6.77,
          2.83,
          7.53,
          5.18,
          7.03,
          9.2,
          8.05,
          1.97,
          4.71,
          5.7,
          3.55,
          6.62,
          3.46,
          3.3,
          0.81,
          1.59,
          1.59,
          6.52,
          0.45,
          0.45,
          2.55,
          4.68,
          4.51,
          5.53,
          7.27,
          4.07
         ],
         "yaxis": "y"
        },
        {
         "alignmentgroup": "True",
         "bingroup": "x",
         "histfunc": "sum",
         "hovertemplate": "Sector=Utilities<br>Name=%{x}<br>sum of Earnings/Share=%{y}<extra></extra>",
         "legendgroup": "Utilities",
         "marker": {
          "color": "#FFA15A"
         },
         "name": "Utilities",
         "offsetgroup": "Utilities",
         "orientation": "v",
         "showlegend": true,
         "type": "histogram",
         "x": [
          "AES Corp",
          "Alliant Energy Corp",
          "Ameren Corp",
          "American Electric Power",
          "American Water Works Company Inc",
          "CenterPoint Energy",
          "CMS Energy",
          "Consolidated Edison",
          "Dominion Energy",
          "DTE Energy Co.",
          "Duke Energy",
          "Edison Int'l",
          "Entergy Corp.",
          "Eversource Energy",
          "Exelon Corp.",
          "FirstEnergy Corp",
          "NextEra Energy",
          "NiSource Inc.",
          "NRG Energy",
          "PG&E Corp.",
          "Pinnacle West Capital",
          "PPL Corp.",
          "Public Serv. Enterprise Inc.",
          "SCANA Corp",
          "Sempra Energy",
          "Southern Co.",
          "Wec Energy Group Inc",
          "Xcel Energy Inc"
         ],
         "xaxis": "x",
         "y": [
          -1.72,
          1.65,
          2.68,
          1.24,
          2.63,
          1,
          1.99,
          4.1,
          4.91,
          4.82,
          3.12,
          3.96,
          -3.26,
          2.96,
          1.23,
          -14.49,
          11.39,
          1.02,
          -2.23,
          2.78,
          3.95,
          2.79,
          1.75,
          4.16,
          5.45,
          2.53,
          3.79,
          2.21
         ],
         "yaxis": "y"
        },
        {
         "alignmentgroup": "True",
         "bingroup": "x",
         "histfunc": "sum",
         "hovertemplate": "Sector=Financials<br>Name=%{x}<br>sum of Earnings/Share=%{y}<extra></extra>",
         "legendgroup": "Financials",
         "marker": {
          "color": "#19d3f3"
         },
         "name": "Financials",
         "offsetgroup": "Financials",
         "orientation": "v",
         "showlegend": true,
         "type": "histogram",
         "x": [
          "Affiliated Managers Group Inc",
          "AFLAC Inc",
          "Allstate Corp",
          "American Express Co",
          "American International Group, Inc.",
          "Ameriprise Financial",
          "Aon plc",
          "Arthur J. Gallagher & Co.",
          "Assurant Inc",
          "Bank of America Corp",
          "BB&T Corporation",
          "Berkshire Hathaway",
          "BlackRock",
          "Block H&R",
          "Brighthouse Financial Inc",
          "Capital One Financial",
          "CBOE Holdings",
          "Charles Schwab Corporation",
          "Chubb Limited",
          "Cincinnati Financial",
          "Citigroup Inc.",
          "Citizens Financial Group",
          "CME Group Inc.",
          "Comerica Inc.",
          "Discover Financial Services",
          "E*Trade",
          "Everest Re Group Ltd.",
          "Fifth Third Bancorp",
          "Franklin Resources",
          "Goldman Sachs Group",
          "Hartford Financial Svc.Gp.",
          "Huntington Bancshares",
          "Intercontinental Exchange",
          "Invesco Ltd.",
          "JPMorgan Chase & Co.",
          "KeyCorp",
          "Leucadia National Corp.",
          "Lincoln National",
          "Loews Corp.",
          "M&T Bank Corp.",
          "Marsh & McLennan",
          "MetLife Inc.",
          "Moody's Corp",
          "Morgan Stanley",
          "Nasdaq, Inc.",
          "Navient",
          "Northern Trust Corp.",
          "People's United Financial",
          "PNC Financial Services",
          "Principal Financial Group",
          "Progressive Corp.",
          "Prudential Financial",
          "Raymond James Financial Inc.",
          "Regions Financial Corp.",
          "S&P Global, Inc.",
          "State Street Corp.",
          "SunTrust Banks",
          "Synchrony Financial",
          "T. Rowe Price Group",
          "The Bank of New York Mellon Corp.",
          "The Travelers Companies Inc.",
          "Torchmark Corp.",
          "U.S. Bancorp",
          "Unum Group",
          "Wells Fargo",
          "Willis Towers Watson",
          "XL Capital",
          "Zions Bancorp"
         ],
         "xaxis": "x",
         "y": [
          12.07,
          11.01,
          4.68,
          2.9,
          -0.76,
          9.44,
          4.66,
          2.54,
          9.08,
          1.55,
          2.74,
          9.76,
          30.3,
          1.92,
          -24.62,
          3.45,
          2.27,
          1.61,
          8.2,
          3.55,
          -3.1,
          3.27,
          11.94,
          4.13,
          5.41,
          2.15,
          23.71,
          2.85,
          3,
          8.61,
          2.27,
          1,
          2.37,
          2.74,
          6.3,
          1.12,
          0.33,
          9.24,
          1.93,
          8.69,
          2.87,
          0.63,
          1.35,
          3.09,
          4.32,
          1.01,
          4.92,
          0.97,
          10.4,
          4.5,
          2.73,
          9.73,
          4.12,
          1,
          7.95,
          5.23,
          4.48,
          2.41,
          4.75,
          3.73,
          7.31,
          4.5,
          3.52,
          4.38,
          4.07,
          3.07,
          -2.24,
          2.6
         ],
         "yaxis": "y"
        },
        {
         "alignmentgroup": "True",
         "bingroup": "x",
         "histfunc": "sum",
         "hovertemplate": "Sector=Materials<br>Name=%{x}<br>sum of Earnings/Share=%{y}<extra></extra>",
         "legendgroup": "Materials",
         "marker": {
          "color": "#FF6692"
         },
         "name": "Materials",
         "offsetgroup": "Materials",
         "orientation": "v",
         "showlegend": true,
         "type": "histogram",
         "x": [
          "Air Products & Chemicals Inc",
          "Albemarle Corp",
          "Avery Dennison Corp",
          "Ball Corp",
          "CF Industries Holdings Inc",
          "DowDuPont",
          "Eastman Chemical",
          "Ecolab Inc.",
          "FMC Corporation",
          "Freeport-McMoRan Inc.",
          "International Paper",
          "Intl Flavors & Fragrances",
          "LyondellBasell",
          "Martin Marietta Materials",
          "Monsanto Co.",
          "Newmont Mining Corporation",
          "Nucor Corp.",
          "Packaging Corporation of America",
          "PPG Industries",
          "Praxair Inc.",
          "Sealed Air",
          "Sherwin-Williams",
          "The Mosaic Company",
          "Vulcan Materials",
          "WestRock Company"
         ],
         "xaxis": "x",
         "y": [
          13.66,
          5.66,
          3.11,
          0.85,
          -1.2,
          1.59,
          10.12,
          4.14,
          1.56,
          1.24,
          5.14,
          5.05,
          12.25,
          6.63,
          5.09,
          -1.18,
          4.1,
          7.07,
          6.31,
          4.32,
          2.46,
          18.61,
          0.85,
          3.1,
          2.77
         ],
         "yaxis": "y"
        },
        {
         "alignmentgroup": "True",
         "bingroup": "x",
         "histfunc": "sum",
         "hovertemplate": "Sector=Real Estate<br>Name=%{x}<br>sum of Earnings/Share=%{y}<extra></extra>",
         "legendgroup": "Real Estate",
         "marker": {
          "color": "#B6E880"
         },
         "name": "Real Estate",
         "offsetgroup": "Real Estate",
         "orientation": "v",
         "showlegend": true,
         "type": "histogram",
         "x": [
          "Alexandria Real Estate Equities Inc",
          "American Tower Corp A",
          "Apartment Investment & Management",
          "AvalonBay Communities, Inc.",
          "Boston Properties",
          "CBRE Group",
          "Crown Castle International Corp.",
          "Digital Realty Trust Inc",
          "Duke Realty Corp",
          "Equinix",
          "Equity Residential",
          "Essex Property Trust, Inc.",
          "Extra Space Storage",
          "Federal Realty Investment Trust",
          "General Growth Properties Inc.",
          "HCP Inc.",
          "Host Hotels & Resorts",
          "Iron Mountain Incorporated",
          "Kimco Realty",
          "Macerich",
          "Mid-America Apartments",
          "Prologis",
          "Public Storage",
          "Realty Income Corporation",
          "Regency Centers Corporation",
          "SBA Communications",
          "Simon Property Group Inc",
          "SL Green Realty",
          "UDR Inc",
          "Ventas Inc",
          "Vornado Realty Trust",
          "Welltower Inc.",
          "Weyerhaeuser Corp."
         ],
         "xaxis": "x",
         "y": [
          1.57,
          1.97,
          1.95,
          6.36,
          2.93,
          1.69,
          1.02,
          2.19,
          0.88,
          1.77,
          1.63,
          6.27,
          2.92,
          3.5,
          1.34,
          1.33,
          1.02,
          0.46,
          0.8,
          3.43,
          2.86,
          3.06,
          6.81,
          1.12,
          1.43,
          0.62,
          6.25,
          0.88,
          1.08,
          1.86,
          4.33,
          2.81,
          0.77
         ],
         "yaxis": "y"
        },
        {
         "alignmentgroup": "True",
         "bingroup": "x",
         "histfunc": "sum",
         "hovertemplate": "Sector=Consumer Staples<br>Name=%{x}<br>sum of Earnings/Share=%{y}<extra></extra>",
         "legendgroup": "Consumer Staples",
         "marker": {
          "color": "#FF97FF"
         },
         "name": "Consumer Staples",
         "offsetgroup": "Consumer Staples",
         "orientation": "v",
         "showlegend": true,
         "type": "histogram",
         "x": [
          "Altria Group Inc",
          "Archer-Daniels-Midland Co",
          "Brown-Forman Corp.",
          "Campbell Soup",
          "Church & Dwight",
          "Coca-Cola Company (The)",
          "Colgate-Palmolive",
          "Conagra Brands",
          "Constellation Brands",
          "Costco Wholesale Corp.",
          "Coty, Inc",
          "CVS Health",
          "Dr Pepper Snapple Group",
          "Estee Lauder Cos.",
          "General Mills",
          "Hormel Foods Corp.",
          "JM Smucker",
          "Kellogg Co.",
          "Kimberly-Clark",
          "Kraft Heinz Co",
          "Kroger Co.",
          "McCormick & Co.",
          "Molson Coors Brewing Company",
          "Mondelez International",
          "Monster Beverage",
          "Philip Morris International",
          "Procter & Gamble",
          "Sysco Corp.",
          "The Clorox Company",
          "The Hershey Company",
          "Tyson Foods",
          "Wal-Mart Stores",
          "Walgreens Boots Alliance"
         ],
         "xaxis": "x",
         "y": [
          5.31,
          2.17,
          1.7,
          2.89,
          2.92,
          1.49,
          2.28,
          1.46,
          8.71,
          6.09,
          -0.63,
          4.91,
          4.54,
          3.35,
          2.77,
          1.57,
          5.1,
          1.95,
          6.41,
          2.81,
          2.05,
          3.73,
          9.27,
          1.91,
          1.19,
          4.48,
          5.6,
          2.08,
          5.33,
          3.66,
          4.79,
          4.39,
          3.78
         ],
         "yaxis": "y"
        },
        {
         "alignmentgroup": "True",
         "bingroup": "x",
         "histfunc": "sum",
         "hovertemplate": "Sector=Energy<br>Name=%{x}<br>sum of Earnings/Share=%{y}<extra></extra>",
         "legendgroup": "Energy",
         "marker": {
          "color": "#FECB52"
         },
         "name": "Energy",
         "offsetgroup": "Energy",
         "orientation": "v",
         "showlegend": true,
         "type": "histogram",
         "x": [
          "Anadarko Petroleum Corp",
          "Andeavor",
          "Apache Corporation",
          "Baker Hughes, a GE Company",
          "Cabot Oil & Gas",
          "Chesapeake Energy",
          "Chevron Corp.",
          "Cimarex Energy",
          "Concho Resources",
          "ConocoPhillips",
          "Devon Energy Corp.",
          "EOG Resources",
          "EQT Corporation",
          "Exxon Mobil Corp.",
          "Halliburton Co.",
          "Helmerich & Payne",
          "Hess Corporation",
          "Kinder Morgan",
          "Marathon Petroleum",
          "National Oilwell Varco Inc.",
          "Newfield Exploration Co",
          "Noble Energy Inc",
          "ONEOK",
          "Phillips 66",
          "Pioneer Natural Resources",
          "Range Resources Corp.",
          "Schlumberger Ltd.",
          "TechnipFMC",
          "Valero Energy",
          "Williams Cos."
         ],
         "xaxis": "x",
         "y": [
          -5.9,
          6.13,
          -3.72,
          -0.31,
          -0.92,
          -6.44,
          4.85,
          -4.64,
          -11.04,
          -0.65,
          -6.89,
          -1.98,
          -2.69,
          1.88,
          -0.53,
          -1.2,
          -19.94,
          0.01,
          6.85,
          -6.4,
          -6.5,
          -2.32,
          1.66,
          9.93,
          -3.39,
          -2.79,
          -1.08,
          0,
          9.24,
          -0.57
         ],
         "yaxis": "y"
        },
        {
         "alignmentgroup": "True",
         "bingroup": "x",
         "histfunc": "sum",
         "hovertemplate": "Sector=Telecommunication Services<br>Name=%{x}<br>sum of Earnings/Share=%{y}<extra></extra>",
         "legendgroup": "Telecommunication Services",
         "marker": {
          "color": "#636efa"
         },
         "name": "Telecommunication Services",
         "offsetgroup": "Telecommunication Services",
         "orientation": "v",
         "showlegend": true,
         "type": "histogram",
         "x": [
          "AT&T Inc",
          "CenturyLink Inc",
          "Verizon Communications"
         ],
         "xaxis": "x",
         "y": [
          4.76,
          1.16,
          7.36
         ],
         "yaxis": "y"
        }
       ],
       "layout": {
        "barmode": "relative",
        "legend": {
         "title": {
          "text": "Sector"
         },
         "tracegroupgap": 0
        },
        "margin": {
         "t": 60
        },
        "template": {
         "data": {
          "bar": [
           {
            "error_x": {
             "color": "#2a3f5f"
            },
            "error_y": {
             "color": "#2a3f5f"
            },
            "marker": {
             "line": {
              "color": "#E5ECF6",
              "width": 0.5
             }
            },
            "type": "bar"
           }
          ],
          "barpolar": [
           {
            "marker": {
             "line": {
              "color": "#E5ECF6",
              "width": 0.5
             }
            },
            "type": "barpolar"
           }
          ],
          "carpet": [
           {
            "aaxis": {
             "endlinecolor": "#2a3f5f",
             "gridcolor": "white",
             "linecolor": "white",
             "minorgridcolor": "white",
             "startlinecolor": "#2a3f5f"
            },
            "baxis": {
             "endlinecolor": "#2a3f5f",
             "gridcolor": "white",
             "linecolor": "white",
             "minorgridcolor": "white",
             "startlinecolor": "#2a3f5f"
            },
            "type": "carpet"
           }
          ],
          "choropleth": [
           {
            "colorbar": {
             "outlinewidth": 0,
             "ticks": ""
            },
            "type": "choropleth"
           }
          ],
          "contour": [
           {
            "colorbar": {
             "outlinewidth": 0,
             "ticks": ""
            },
            "colorscale": [
             [
              0,
              "#0d0887"
             ],
             [
              0.1111111111111111,
              "#46039f"
             ],
             [
              0.2222222222222222,
              "#7201a8"
             ],
             [
              0.3333333333333333,
              "#9c179e"
             ],
             [
              0.4444444444444444,
              "#bd3786"
             ],
             [
              0.5555555555555556,
              "#d8576b"
             ],
             [
              0.6666666666666666,
              "#ed7953"
             ],
             [
              0.7777777777777778,
              "#fb9f3a"
             ],
             [
              0.8888888888888888,
              "#fdca26"
             ],
             [
              1,
              "#f0f921"
             ]
            ],
            "type": "contour"
           }
          ],
          "contourcarpet": [
           {
            "colorbar": {
             "outlinewidth": 0,
             "ticks": ""
            },
            "type": "contourcarpet"
           }
          ],
          "heatmap": [
           {
            "colorbar": {
             "outlinewidth": 0,
             "ticks": ""
            },
            "colorscale": [
             [
              0,
              "#0d0887"
             ],
             [
              0.1111111111111111,
              "#46039f"
             ],
             [
              0.2222222222222222,
              "#7201a8"
             ],
             [
              0.3333333333333333,
              "#9c179e"
             ],
             [
              0.4444444444444444,
              "#bd3786"
             ],
             [
              0.5555555555555556,
              "#d8576b"
             ],
             [
              0.6666666666666666,
              "#ed7953"
             ],
             [
              0.7777777777777778,
              "#fb9f3a"
             ],
             [
              0.8888888888888888,
              "#fdca26"
             ],
             [
              1,
              "#f0f921"
             ]
            ],
            "type": "heatmap"
           }
          ],
          "heatmapgl": [
           {
            "colorbar": {
             "outlinewidth": 0,
             "ticks": ""
            },
            "colorscale": [
             [
              0,
              "#0d0887"
             ],
             [
              0.1111111111111111,
              "#46039f"
             ],
             [
              0.2222222222222222,
              "#7201a8"
             ],
             [
              0.3333333333333333,
              "#9c179e"
             ],
             [
              0.4444444444444444,
              "#bd3786"
             ],
             [
              0.5555555555555556,
              "#d8576b"
             ],
             [
              0.6666666666666666,
              "#ed7953"
             ],
             [
              0.7777777777777778,
              "#fb9f3a"
             ],
             [
              0.8888888888888888,
              "#fdca26"
             ],
             [
              1,
              "#f0f921"
             ]
            ],
            "type": "heatmapgl"
           }
          ],
          "histogram": [
           {
            "marker": {
             "colorbar": {
              "outlinewidth": 0,
              "ticks": ""
             }
            },
            "type": "histogram"
           }
          ],
          "histogram2d": [
           {
            "colorbar": {
             "outlinewidth": 0,
             "ticks": ""
            },
            "colorscale": [
             [
              0,
              "#0d0887"
             ],
             [
              0.1111111111111111,
              "#46039f"
             ],
             [
              0.2222222222222222,
              "#7201a8"
             ],
             [
              0.3333333333333333,
              "#9c179e"
             ],
             [
              0.4444444444444444,
              "#bd3786"
             ],
             [
              0.5555555555555556,
              "#d8576b"
             ],
             [
              0.6666666666666666,
              "#ed7953"
             ],
             [
              0.7777777777777778,
              "#fb9f3a"
             ],
             [
              0.8888888888888888,
              "#fdca26"
             ],
             [
              1,
              "#f0f921"
             ]
            ],
            "type": "histogram2d"
           }
          ],
          "histogram2dcontour": [
           {
            "colorbar": {
             "outlinewidth": 0,
             "ticks": ""
            },
            "colorscale": [
             [
              0,
              "#0d0887"
             ],
             [
              0.1111111111111111,
              "#46039f"
             ],
             [
              0.2222222222222222,
              "#7201a8"
             ],
             [
              0.3333333333333333,
              "#9c179e"
             ],
             [
              0.4444444444444444,
              "#bd3786"
             ],
             [
              0.5555555555555556,
              "#d8576b"
             ],
             [
              0.6666666666666666,
              "#ed7953"
             ],
             [
              0.7777777777777778,
              "#fb9f3a"
             ],
             [
              0.8888888888888888,
              "#fdca26"
             ],
             [
              1,
              "#f0f921"
             ]
            ],
            "type": "histogram2dcontour"
           }
          ],
          "mesh3d": [
           {
            "colorbar": {
             "outlinewidth": 0,
             "ticks": ""
            },
            "type": "mesh3d"
           }
          ],
          "parcoords": [
           {
            "line": {
             "colorbar": {
              "outlinewidth": 0,
              "ticks": ""
             }
            },
            "type": "parcoords"
           }
          ],
          "pie": [
           {
            "automargin": true,
            "type": "pie"
           }
          ],
          "scatter": [
           {
            "marker": {
             "colorbar": {
              "outlinewidth": 0,
              "ticks": ""
             }
            },
            "type": "scatter"
           }
          ],
          "scatter3d": [
           {
            "line": {
             "colorbar": {
              "outlinewidth": 0,
              "ticks": ""
             }
            },
            "marker": {
             "colorbar": {
              "outlinewidth": 0,
              "ticks": ""
             }
            },
            "type": "scatter3d"
           }
          ],
          "scattercarpet": [
           {
            "marker": {
             "colorbar": {
              "outlinewidth": 0,
              "ticks": ""
             }
            },
            "type": "scattercarpet"
           }
          ],
          "scattergeo": [
           {
            "marker": {
             "colorbar": {
              "outlinewidth": 0,
              "ticks": ""
             }
            },
            "type": "scattergeo"
           }
          ],
          "scattergl": [
           {
            "marker": {
             "colorbar": {
              "outlinewidth": 0,
              "ticks": ""
             }
            },
            "type": "scattergl"
           }
          ],
          "scattermapbox": [
           {
            "marker": {
             "colorbar": {
              "outlinewidth": 0,
              "ticks": ""
             }
            },
            "type": "scattermapbox"
           }
          ],
          "scatterpolar": [
           {
            "marker": {
             "colorbar": {
              "outlinewidth": 0,
              "ticks": ""
             }
            },
            "type": "scatterpolar"
           }
          ],
          "scatterpolargl": [
           {
            "marker": {
             "colorbar": {
              "outlinewidth": 0,
              "ticks": ""
             }
            },
            "type": "scatterpolargl"
           }
          ],
          "scatterternary": [
           {
            "marker": {
             "colorbar": {
              "outlinewidth": 0,
              "ticks": ""
             }
            },
            "type": "scatterternary"
           }
          ],
          "surface": [
           {
            "colorbar": {
             "outlinewidth": 0,
             "ticks": ""
            },
            "colorscale": [
             [
              0,
              "#0d0887"
             ],
             [
              0.1111111111111111,
              "#46039f"
             ],
             [
              0.2222222222222222,
              "#7201a8"
             ],
             [
              0.3333333333333333,
              "#9c179e"
             ],
             [
              0.4444444444444444,
              "#bd3786"
             ],
             [
              0.5555555555555556,
              "#d8576b"
             ],
             [
              0.6666666666666666,
              "#ed7953"
             ],
             [
              0.7777777777777778,
              "#fb9f3a"
             ],
             [
              0.8888888888888888,
              "#fdca26"
             ],
             [
              1,
              "#f0f921"
             ]
            ],
            "type": "surface"
           }
          ],
          "table": [
           {
            "cells": {
             "fill": {
              "color": "#EBF0F8"
             },
             "line": {
              "color": "white"
             }
            },
            "header": {
             "fill": {
              "color": "#C8D4E3"
             },
             "line": {
              "color": "white"
             }
            },
            "type": "table"
           }
          ]
         },
         "layout": {
          "annotationdefaults": {
           "arrowcolor": "#2a3f5f",
           "arrowhead": 0,
           "arrowwidth": 1
          },
          "autotypenumbers": "strict",
          "coloraxis": {
           "colorbar": {
            "outlinewidth": 0,
            "ticks": ""
           }
          },
          "colorscale": {
           "diverging": [
            [
             0,
             "#8e0152"
            ],
            [
             0.1,
             "#c51b7d"
            ],
            [
             0.2,
             "#de77ae"
            ],
            [
             0.3,
             "#f1b6da"
            ],
            [
             0.4,
             "#fde0ef"
            ],
            [
             0.5,
             "#f7f7f7"
            ],
            [
             0.6,
             "#e6f5d0"
            ],
            [
             0.7,
             "#b8e186"
            ],
            [
             0.8,
             "#7fbc41"
            ],
            [
             0.9,
             "#4d9221"
            ],
            [
             1,
             "#276419"
            ]
           ],
           "sequential": [
            [
             0,
             "#0d0887"
            ],
            [
             0.1111111111111111,
             "#46039f"
            ],
            [
             0.2222222222222222,
             "#7201a8"
            ],
            [
             0.3333333333333333,
             "#9c179e"
            ],
            [
             0.4444444444444444,
             "#bd3786"
            ],
            [
             0.5555555555555556,
             "#d8576b"
            ],
            [
             0.6666666666666666,
             "#ed7953"
            ],
            [
             0.7777777777777778,
             "#fb9f3a"
            ],
            [
             0.8888888888888888,
             "#fdca26"
            ],
            [
             1,
             "#f0f921"
            ]
           ],
           "sequentialminus": [
            [
             0,
             "#0d0887"
            ],
            [
             0.1111111111111111,
             "#46039f"
            ],
            [
             0.2222222222222222,
             "#7201a8"
            ],
            [
             0.3333333333333333,
             "#9c179e"
            ],
            [
             0.4444444444444444,
             "#bd3786"
            ],
            [
             0.5555555555555556,
             "#d8576b"
            ],
            [
             0.6666666666666666,
             "#ed7953"
            ],
            [
             0.7777777777777778,
             "#fb9f3a"
            ],
            [
             0.8888888888888888,
             "#fdca26"
            ],
            [
             1,
             "#f0f921"
            ]
           ]
          },
          "colorway": [
           "#636efa",
           "#EF553B",
           "#00cc96",
           "#ab63fa",
           "#FFA15A",
           "#19d3f3",
           "#FF6692",
           "#B6E880",
           "#FF97FF",
           "#FECB52"
          ],
          "font": {
           "color": "#2a3f5f"
          },
          "geo": {
           "bgcolor": "white",
           "lakecolor": "white",
           "landcolor": "#E5ECF6",
           "showlakes": true,
           "showland": true,
           "subunitcolor": "white"
          },
          "hoverlabel": {
           "align": "left"
          },
          "hovermode": "closest",
          "mapbox": {
           "style": "light"
          },
          "paper_bgcolor": "white",
          "plot_bgcolor": "#E5ECF6",
          "polar": {
           "angularaxis": {
            "gridcolor": "white",
            "linecolor": "white",
            "ticks": ""
           },
           "bgcolor": "#E5ECF6",
           "radialaxis": {
            "gridcolor": "white",
            "linecolor": "white",
            "ticks": ""
           }
          },
          "scene": {
           "xaxis": {
            "backgroundcolor": "#E5ECF6",
            "gridcolor": "white",
            "gridwidth": 2,
            "linecolor": "white",
            "showbackground": true,
            "ticks": "",
            "zerolinecolor": "white"
           },
           "yaxis": {
            "backgroundcolor": "#E5ECF6",
            "gridcolor": "white",
            "gridwidth": 2,
            "linecolor": "white",
            "showbackground": true,
            "ticks": "",
            "zerolinecolor": "white"
           },
           "zaxis": {
            "backgroundcolor": "#E5ECF6",
            "gridcolor": "white",
            "gridwidth": 2,
            "linecolor": "white",
            "showbackground": true,
            "ticks": "",
            "zerolinecolor": "white"
           }
          },
          "shapedefaults": {
           "line": {
            "color": "#2a3f5f"
           }
          },
          "ternary": {
           "aaxis": {
            "gridcolor": "white",
            "linecolor": "white",
            "ticks": ""
           },
           "baxis": {
            "gridcolor": "white",
            "linecolor": "white",
            "ticks": ""
           },
           "bgcolor": "#E5ECF6",
           "caxis": {
            "gridcolor": "white",
            "linecolor": "white",
            "ticks": ""
           }
          },
          "title": {
           "x": 0.05
          },
          "xaxis": {
           "automargin": true,
           "gridcolor": "white",
           "linecolor": "white",
           "ticks": "",
           "title": {
            "standoff": 15
           },
           "zerolinecolor": "white",
           "zerolinewidth": 2
          },
          "yaxis": {
           "automargin": true,
           "gridcolor": "white",
           "linecolor": "white",
           "ticks": "",
           "title": {
            "standoff": 15
           },
           "zerolinecolor": "white",
           "zerolinewidth": 2
          }
         }
        },
        "xaxis": {
         "anchor": "y",
         "domain": [
          0,
          1
         ],
         "title": {
          "text": "Name"
         }
        },
        "yaxis": {
         "anchor": "x",
         "domain": [
          0,
          1
         ],
         "title": {
          "text": "sum of Earnings/Share"
         }
        }
       }
      }
     },
     "metadata": {}
    },
    {
     "output_type": "display_data",
     "data": {
      "application/vnd.plotly.v1+json": {
       "config": {
        "plotlyServerURL": "https://plot.ly"
       },
       "data": [
        {
         "alignmentgroup": "True",
         "bingroup": "x",
         "histfunc": "sum",
         "hovertemplate": "Sector=Industrials<br>Name=%{x}<br>sum of 52 Week Low=%{y}<extra></extra>",
         "legendgroup": "Industrials",
         "marker": {
          "color": "#636efa"
         },
         "name": "Industrials",
         "offsetgroup": "Industrials",
         "orientation": "v",
         "showlegend": true,
         "type": "histogram",
         "x": [
          "3M Company",
          "A.O. Smith Corp",
          "Acuity Brands Inc",
          "Alaska Air Group Inc",
          "Allegion",
          "American Airlines Group",
          "AMETEK Inc",
          "Boeing Company",
          "C. H. Robinson Worldwide",
          "Caterpillar Inc.",
          "Cintas Corporation",
          "CSX Corp.",
          "Cummins Inc.",
          "Deere & Co.",
          "Delta Air Lines Inc.",
          "Dover Corp.",
          "Eaton Corporation",
          "Emerson Electric Company",
          "Equifax Inc.",
          "Expeditors International",
          "Fastenal Co",
          "FedEx Corporation",
          "Flowserve Corporation",
          "Fluor Corp.",
          "Fortive Corp",
          "Fortune Brands Home & Security",
          "General Dynamics",
          "General Electric",
          "Grainger (W.W.) Inc.",
          "Honeywell Int'l Inc.",
          "Huntington Ingalls Industries",
          "IHS Markit Ltd.",
          "Illinois Tool Works",
          "Ingersoll-Rand PLC",
          "J. B. Hunt Transport Services",
          "Jacobs Engineering Group",
          "Johnson Controls International",
          "Kansas City Southern",
          "L-3 Communications Holdings",
          "Lockheed Martin Corp.",
          "Masco Corp.",
          "Nielsen Holdings",
          "Norfolk Southern Corp.",
          "Northrop Grumman Corp.",
          "PACCAR Inc.",
          "Parker-Hannifin",
          "Pentair Ltd.",
          "Quanta Services Inc.",
          "Raytheon Co.",
          "Republic Services Inc",
          "Robert Half International",
          "Rockwell Automation Inc.",
          "Rockwell Collins",
          "Roper Technologies",
          "Southwest Airlines",
          "Stericycle Inc",
          "Textron Inc.",
          "United Continental Holdings",
          "United Parcel Service",
          "United Rentals, Inc.",
          "United Technologies",
          "Verisk Analytics",
          "Waste Management Inc.",
          "Xylem Inc."
         ],
         "xaxis": "x",
         "y": [
          259.77,
          68.39,
          225.36,
          101.43,
          89.81,
          59.08,
          78.51,
          361.45,
          100.18,
          173.24,
          169.96,
          60.04,
          194.18,
          171.96,
          60.79,
          109.06,
          89.85,
          74.45,
          147.02,
          67.54,
          57.815,
          274.66,
          51.92,
          62.09,
          76.68,
          73.62,
          229.54,
          30.59,
          298.145,
          165.13,
          253.44,
          49.19,
          179.07,
          97.67,
          126.49,
          72.18,
          44.37,
          114.85,
          218.705,
          361.79,
          46.445,
          45.73,
          157.1499,
          349.18,
          79.69,
          212.8,
          74.84,
          40.105,
          213.45,
          69.4,
          60.59,
          210.72,
          139.63,
          290.415,
          66.985,
          88,
          62.19,
          83.04,
          135.53,
          189,
          139.24,
          100.54,
          89.73,
          76.81
         ],
         "yaxis": "y"
        },
        {
         "alignmentgroup": "True",
         "bingroup": "x",
         "histfunc": "sum",
         "hovertemplate": "Sector=Health Care<br>Name=%{x}<br>sum of 52 Week Low=%{y}<extra></extra>",
         "legendgroup": "Health Care",
         "marker": {
          "color": "#EF553B"
         },
         "name": "Health Care",
         "offsetgroup": "Health Care",
         "orientation": "v",
         "showlegend": true,
         "type": "histogram",
         "x": [
          "Abbott Laboratories",
          "AbbVie Inc.",
          "Aetna Inc",
          "Agilent Technologies Inc",
          "Alexion Pharmaceuticals",
          "Align Technology",
          "Allergan, Plc",
          "AmerisourceBergen Corp",
          "Amgen Inc",
          "Anthem Inc.",
          "Baxter International Inc.",
          "Becton Dickinson",
          "Biogen Inc.",
          "Boston Scientific",
          "Bristol-Myers Squibb",
          "Cardinal Health Inc.",
          "Celgene Corp.",
          "Centene Corporation",
          "Cerner",
          "CIGNA Corp.",
          "Danaher Corp.",
          "DaVita Inc.",
          "Dentsply Sirona",
          "Edwards Lifesciences",
          "Envision Healthcare",
          "Express Scripts",
          "Gilead Sciences",
          "Henry Schein",
          "Hologic",
          "Humana Inc.",
          "IDEXX Laboratories",
          "Illumina Inc",
          "Incyte",
          "Intuitive Surgical Inc.",
          "IQVIA Holdings Inc.",
          "Johnson & Johnson",
          "Laboratory Corp. of America Holding",
          "Lilly (Eli) & Co.",
          "McKesson Corp.",
          "Medtronic plc",
          "Merck & Co.",
          "Mettler Toledo",
          "Mylan N.V.",
          "Patterson Companies",
          "PerkinElmer",
          "Pfizer Inc.",
          "Quest Diagnostics",
          "Regeneron",
          "ResMed",
          "Stryker Corp.",
          "The Cooper Companies",
          "Thermo Fisher Scientific",
          "United Health Group Inc.",
          "Universal Health Services, Inc.",
          "Varian Medical Systems",
          "Vertex Pharmaceuticals Inc",
          "Waters Corporation",
          "Zimmer Biomet Holdings",
          "Zoetis"
         ],
         "xaxis": "x",
         "y": [
          64.6,
          125.86,
          194.4,
          75,
          149.34,
          287.32,
          256.8,
          106.27,
          201.23,
          267.95,
          72.58,
          248.3888,
          370.57,
          29.93,
          66.1,
          84.88,
          147.17,
          112.42,
          73.86,
          227.13,
          104.82,
          80.71,
          68.98,
          138.48,
          73,
          83.485,
          89.54,
          93.495,
          46.8,
          293.35,
          198.73,
          248.97,
          153.15,
          452,
          110.67,
          148.32,
          181.715,
          89.09,
          178.86,
          89.72,
          66.8,
          697.26,
          47.82,
          48.295,
          84.49,
          39.43,
          112.965,
          543.5518,
          104.78,
          170,
          256.39,
          226.44,
          250.79,
          129.74,
          130.29,
          174.955,
          220.2,
          133.49,
          80.13
         ],
         "yaxis": "y"
        },
        {
         "alignmentgroup": "True",
         "bingroup": "x",
         "histfunc": "sum",
         "hovertemplate": "Sector=Information Technology<br>Name=%{x}<br>sum of 52 Week Low=%{y}<extra></extra>",
         "legendgroup": "Information Technology",
         "marker": {
          "color": "#00cc96"
         },
         "name": "Information Technology",
         "offsetgroup": "Information Technology",
         "orientation": "v",
         "showlegend": true,
         "type": "histogram",
         "x": [
          "Accenture plc",
          "Activision Blizzard",
          "Adobe Systems Inc",
          "Advanced Micro Devices Inc",
          "Akamai Technologies Inc",
          "Alliance Data Systems",
          "Alphabet Inc Class A",
          "Alphabet Inc Class C",
          "Amphenol Corp",
          "Analog Devices, Inc.",
          "ANSYS",
          "Apple Inc.",
          "Applied Materials Inc",
          "Autodesk Inc",
          "Automatic Data Processing",
          "Broadcom",
          "CA, Inc.",
          "Cadence Design Systems",
          "Cisco Systems",
          "Citrix Systems",
          "Cognizant Technology Solutions",
          "Corning Inc.",
          "CSRA Inc.",
          "DXC Technology",
          "eBay Inc.",
          "Electronic Arts",
          "F5 Networks",
          "Facebook, Inc.",
          "Fidelity National Information Services",
          "Fiserv Inc",
          "FLIR Systems",
          "Gartner Inc",
          "Global Payments Inc.",
          "Harris Corporation",
          "Hewlett Packard Enterprise",
          "HP Inc.",
          "Intel Corp.",
          "International Business Machines",
          "Intuit Inc.",
          "Juniper Networks",
          "KLA-Tencor Corp.",
          "Lam Research",
          "Mastercard Inc.",
          "Microchip Technology",
          "Micron Technology",
          "Microsoft Corp.",
          "Motorola Solutions Inc.",
          "NetApp",
          "Netflix Inc.",
          "Nvidia Corporation",
          "Oracle Corp.",
          "Paychex Inc.",
          "PayPal",
          "Qorvo",
          "QUALCOMM Inc.",
          "Red Hat Inc.",
          "Salesforce.com",
          "Seagate Technology",
          "Skyworks Solutions",
          "Symantec Corp.",
          "Synopsys Inc.",
          "TE Connectivity Ltd.",
          "Texas Instruments",
          "Total System Services",
          "Verisign Inc.",
          "Visa Inc.",
          "Western Digital",
          "Western Union Co",
          "Xerox Corp.",
          "Xilinx Inc"
         ],
         "xaxis": "x",
         "y": [
          162.6,
          74.945,
          204.45,
          15.65,
          69.56,
          278.33,
          1198,
          1186.89,
          93.62,
          98.38,
          164.9,
          180.1,
          60.89,
          131.1,
          125.24,
          285.68,
          36.56,
          46,
          42.98,
          95,
          79.28,
          35.1,
          33.79,
          102.95,
          46.99,
          131.01,
          149.5,
          195.32,
          103.65,
          144.2,
          52.88,
          142.16,
          113.26,
          160.67,
          24.88,
          24.1,
          50.85,
          182.79,
          170.59,
          30.96,
          121.65,
          219.7,
          177.11,
          99.17,
          49.89,
          96.07,
          107.78,
          64.0599,
          286.81,
          249.27,
          53.14,
          73.1,
          86.32,
          85.24,
          69.28,
          135.77,
          114.52,
          56.45,
          117.65,
          34.2,
          94.8,
          108.23,
          120.75,
          89.92,
          118.28,
          126.88,
          95.77,
          22.21,
          37.42,
          77.26
         ],
         "yaxis": "y"
        },
        {
         "alignmentgroup": "True",
         "bingroup": "x",
         "histfunc": "sum",
         "hovertemplate": "Sector=Consumer Discretionary<br>Name=%{x}<br>sum of 52 Week Low=%{y}<extra></extra>",
         "legendgroup": "Consumer Discretionary",
         "marker": {
          "color": "#ab63fa"
         },
         "name": "Consumer Discretionary",
         "offsetgroup": "Consumer Discretionary",
         "orientation": "v",
         "showlegend": true,
         "type": "histogram",
         "x": [
          "Advance Auto Parts",
          "Amazon.com Inc",
          "Aptiv Plc",
          "AutoZone Inc",
          "Best Buy Co. Inc.",
          "BorgWarner",
          "Carmax Inc",
          "Carnival Corp.",
          "CBS Corp.",
          "Charter Communications",
          "Chipotle Mexican Grill",
          "Comcast Corp.",
          "D. R. Horton",
          "Darden Restaurants",
          "Discovery Communications-A",
          "Discovery Communications-C",
          "Dish Network",
          "Dollar General",
          "Dollar Tree",
          "Expedia Inc.",
          "Ford Motor",
          "Gap Inc.",
          "Garmin Ltd.",
          "General Motors",
          "Genuine Parts",
          "Goodyear Tire & Rubber",
          "Hanesbrands Inc",
          "Harley-Davidson",
          "Hasbro Inc.",
          "Hilton Worldwide Holdings Inc",
          "Home Depot",
          "Interpublic Group",
          "Kohl's Corp.",
          "L Brands Inc.",
          "Leggett & Platt",
          "Lennar Corp.",
          "LKQ Corporation",
          "Lowe's Cos.",
          "Macy's Inc.",
          "Marriott Int'l.",
          "Mattel Inc.",
          "McDonald's Corp.",
          "MGM Resorts International",
          "Michael Kors Holdings",
          "Mohawk Industries",
          "Newell Brands",
          "News Corp. Class A",
          "News Corp. Class B",
          "Nike",
          "Nordstrom",
          "Norwegian Cruise Line",
          "O'Reilly Automotive",
          "Omnicom Group",
          "Polo Ralph Lauren Corp.",
          "Priceline.com Inc",
          "Pulte Homes Inc.",
          "PVH Corp.",
          "Ross Stores",
          "Royal Caribbean Cruises Ltd",
          "Scripps Networks Interactive Inc.",
          "Signet Jewelers",
          "Snap-On Inc.",
          "Stanley Black & Decker",
          "Starbucks Corp.",
          "Target Corp.",
          "The Walt Disney Company",
          "Tiffany & Co.",
          "Time Warner Inc.",
          "TJX Companies Inc.",
          "Tractor Supply Company",
          "TripAdvisor",
          "Twenty-First Century Fox Class A",
          "Twenty-First Century Fox Class B",
          "Ulta Salon Cosmetics & Fragrance Inc",
          "Under Armour Class A",
          "Under Armour Class C",
          "V.F. Corp.",
          "Viacom Inc.",
          "Whirlpool Corp.",
          "Wyndham Worldwide",
          "Wynn Resorts Ltd",
          "Yum! Brands Inc"
         ],
         "xaxis": "x",
         "y": [
          169.55,
          1498,
          96.91,
          797.89,
          78.59,
          58.22,
          77.64,
          72.7,
          70.095,
          408.83,
          499,
          44,
          53.32,
          100.11,
          30.25,
          29.18,
          66.5,
          105.82,
          116.65,
          161,
          13.48,
          35.68,
          64.96,
          46.76,
          107.75,
          37.2,
          25.73,
          63.4,
          116.2,
          88.11,
          207.605,
          25.71,
          69.14,
          63.1,
          54.97,
          72.17,
          43.8599,
          108.98,
          33.73,
          149.21,
          26.3,
          178.7,
          38.41,
          69.95,
          286.85,
          55.08,
          17.29,
          17.7,
          68.83,
          53,
          61.48,
          279.23,
          86.71,
          119.33,
          2067.99,
          35.21,
          157.96,
          85.66,
          135.65,
          88.87,
          77.94,
          185.47,
          176.62,
          64.87,
          78.7,
          116.1,
          111.44,
          103.9,
          81.46,
          82.68,
          53.29,
          39.135,
          38.56,
          314.86,
          23.46,
          21.805,
          82.95,
          46.72,
          202.99,
          127.96,
          203.63,
          86.93
         ],
         "yaxis": "y"
        },
        {
         "alignmentgroup": "True",
         "bingroup": "x",
         "histfunc": "sum",
         "hovertemplate": "Sector=Utilities<br>Name=%{x}<br>sum of 52 Week Low=%{y}<extra></extra>",
         "legendgroup": "Utilities",
         "marker": {
          "color": "#FFA15A"
         },
         "name": "Utilities",
         "offsetgroup": "Utilities",
         "orientation": "v",
         "showlegend": true,
         "type": "histogram",
         "x": [
          "AES Corp",
          "Alliant Energy Corp",
          "Ameren Corp",
          "American Electric Power",
          "American Water Works Company Inc",
          "CenterPoint Energy",
          "CMS Energy",
          "Consolidated Edison",
          "Dominion Energy",
          "DTE Energy Co.",
          "Duke Energy",
          "Edison Int'l",
          "Entergy Corp.",
          "Eversource Energy",
          "Exelon Corp.",
          "FirstEnergy Corp",
          "NextEra Energy",
          "NiSource Inc.",
          "NRG Energy",
          "PG&E Corp.",
          "Pinnacle West Capital",
          "PPL Corp.",
          "Public Serv. Enterprise Inc.",
          "SCANA Corp",
          "Sempra Energy",
          "Southern Co.",
          "Wec Energy Group Inc",
          "Xcel Energy Inc"
         ],
         "xaxis": "x",
         "y": [
          12.05,
          45.55,
          64.89,
          78.07,
          92.37,
          30.45,
          50.85,
          89.7,
          85.3,
          116.74,
          91.8,
          83.38,
          87.95,
          66.15,
          42.67,
          35.22,
          159.64,
          27.76,
          29.78,
          71.57,
          92.48,
          40.2,
          53.28,
          71.28,
          122.975,
          53.51,
          70.09,
          52.22
         ],
         "yaxis": "y"
        },
        {
         "alignmentgroup": "True",
         "bingroup": "x",
         "histfunc": "sum",
         "hovertemplate": "Sector=Financials<br>Name=%{x}<br>sum of 52 Week Low=%{y}<extra></extra>",
         "legendgroup": "Financials",
         "marker": {
          "color": "#19d3f3"
         },
         "name": "Financials",
         "offsetgroup": "Financials",
         "orientation": "v",
         "showlegend": true,
         "type": "histogram",
         "x": [
          "Affiliated Managers Group Inc",
          "AFLAC Inc",
          "Allstate Corp",
          "American Express Co",
          "American International Group, Inc.",
          "Ameriprise Financial",
          "Aon plc",
          "Arthur J. Gallagher & Co.",
          "Assurant Inc",
          "Bank of America Corp",
          "BB&T Corporation",
          "Berkshire Hathaway",
          "BlackRock",
          "Block H&R",
          "Brighthouse Financial Inc",
          "Capital One Financial",
          "CBOE Holdings",
          "Charles Schwab Corporation",
          "Chubb Limited",
          "Cincinnati Financial",
          "Citigroup Inc.",
          "Citizens Financial Group",
          "CME Group Inc.",
          "Comerica Inc.",
          "Discover Financial Services",
          "E*Trade",
          "Everest Re Group Ltd.",
          "Fifth Third Bancorp",
          "Franklin Resources",
          "Goldman Sachs Group",
          "Hartford Financial Svc.Gp.",
          "Huntington Bancshares",
          "Intercontinental Exchange",
          "Invesco Ltd.",
          "JPMorgan Chase & Co.",
          "KeyCorp",
          "Leucadia National Corp.",
          "Lincoln National",
          "Loews Corp.",
          "M&T Bank Corp.",
          "Marsh & McLennan",
          "MetLife Inc.",
          "Moody's Corp",
          "Morgan Stanley",
          "Nasdaq, Inc.",
          "Navient",
          "Northern Trust Corp.",
          "People's United Financial",
          "PNC Financial Services",
          "Principal Financial Group",
          "Progressive Corp.",
          "Prudential Financial",
          "Raymond James Financial Inc.",
          "Regions Financial Corp.",
          "S&P Global, Inc.",
          "State Street Corp.",
          "SunTrust Banks",
          "Synchrony Financial",
          "T. Rowe Price Group",
          "The Bank of New York Mellon Corp.",
          "The Travelers Companies Inc.",
          "Torchmark Corp.",
          "U.S. Bancorp",
          "Unum Group",
          "Wells Fargo",
          "Willis Towers Watson",
          "XL Capital",
          "Zions Bancorp"
         ],
         "xaxis": "x",
         "y": [
          216.995,
          91.73,
          105.36,
          102.385,
          67.3,
          183.9,
          152.78,
          70.55,
          106.985,
          32.67,
          55.99,
          217.62,
          594.52,
          31.8,
          75,
          106.5,
          138.54,
          56.25,
          157.5,
          81.98,
          80.7,
          48.23,
          163,
          98.18,
          81.93,
          56,
          277.17,
          33.91,
          47.65,
          273.79,
          59.2,
          16.53,
          76.1378,
          38.43,
          117.3529,
          22.22,
          28.3,
          86.68,
          53.59,
          193.85,
          86.54,
          56.58,
          167.23,
          58.05,
          83.29,
          16.97,
          108.91,
          20.14,
          160.07,
          75.585,
          58.25,
          127.14,
          99.1,
          19.9,
          185.38,
          114.27,
          72.06,
          40.59,
          120.07,
          58.99,
          150.55,
          93.595,
          58.5,
          58.73,
          66.31,
          165,
          47.27,
          55.61
         ],
         "yaxis": "y"
        },
        {
         "alignmentgroup": "True",
         "bingroup": "x",
         "histfunc": "sum",
         "hovertemplate": "Sector=Materials<br>Name=%{x}<br>sum of 52 Week Low=%{y}<extra></extra>",
         "legendgroup": "Materials",
         "marker": {
          "color": "#FF6692"
         },
         "name": "Materials",
         "offsetgroup": "Materials",
         "orientation": "v",
         "showlegend": true,
         "type": "histogram",
         "x": [
          "Air Products & Chemicals Inc",
          "Albemarle Corp",
          "Avery Dennison Corp",
          "Ball Corp",
          "CF Industries Holdings Inc",
          "DowDuPont",
          "Eastman Chemical",
          "Ecolab Inc.",
          "FMC Corporation",
          "Freeport-McMoRan Inc.",
          "International Paper",
          "Intl Flavors & Fragrances",
          "LyondellBasell",
          "Martin Marietta Materials",
          "Monsanto Co.",
          "Newmont Mining Corporation",
          "Nucor Corp.",
          "Packaging Corporation of America",
          "PPG Industries",
          "Praxair Inc.",
          "Sealed Air",
          "Sherwin-Williams",
          "The Mosaic Company",
          "Vulcan Materials",
          "WestRock Company"
         ],
         "xaxis": "x",
         "y": [
          175.17,
          144.99,
          123.67,
          43.24,
          43.98,
          77.08,
          104.08,
          140.5,
          98.7,
          20.25,
          66.94,
          157.4,
          121.95,
          244.32,
          123.15,
          42.04,
          70.48,
          131.1316,
          122.0697,
          166.95,
          50.62,
          435.15,
          34.36,
          141.2,
          71.55
         ],
         "yaxis": "y"
        },
        {
         "alignmentgroup": "True",
         "bingroup": "x",
         "histfunc": "sum",
         "hovertemplate": "Sector=Real Estate<br>Name=%{x}<br>sum of 52 Week Low=%{y}<extra></extra>",
         "legendgroup": "Real Estate",
         "marker": {
          "color": "#B6E880"
         },
         "name": "Real Estate",
         "offsetgroup": "Real Estate",
         "orientation": "v",
         "showlegend": true,
         "type": "histogram",
         "x": [
          "Alexandria Real Estate Equities Inc",
          "American Tower Corp A",
          "Apartment Investment & Management",
          "AvalonBay Communities, Inc.",
          "Boston Properties",
          "CBRE Group",
          "Crown Castle International Corp.",
          "Digital Realty Trust Inc",
          "Duke Realty Corp",
          "Equinix",
          "Equity Residential",
          "Essex Property Trust, Inc.",
          "Extra Space Storage",
          "Federal Realty Investment Trust",
          "General Growth Properties Inc.",
          "HCP Inc.",
          "Host Hotels & Resorts",
          "Iron Mountain Incorporated",
          "Kimco Realty",
          "Macerich",
          "Mid-America Apartments",
          "Prologis",
          "Public Storage",
          "Realty Income Corporation",
          "Regency Centers Corporation",
          "SBA Communications",
          "Simon Property Group Inc",
          "SL Green Realty",
          "UDR Inc",
          "Ventas Inc",
          "Vornado Realty Trust",
          "Welltower Inc.",
          "Weyerhaeuser Corp."
         ],
         "xaxis": "x",
         "y": [
          134.37,
          155.28,
          46.855,
          199.52,
          140.13,
          46.6,
          114.97,
          127.23,
          30.14,
          495.345,
          70.455,
          270.04,
          88.56,
          143.79,
          25.72,
          33.67,
          21.53,
          41.53,
          25.15,
          69.73,
          110.95,
          67.53,
          232.21,
          63.6,
          72.05,
          177.67,
          187.35,
          115.34,
          40.71,
          72.36,
          111.72,
          78.17,
          37.89
         ],
         "yaxis": "y"
        },
        {
         "alignmentgroup": "True",
         "bingroup": "x",
         "histfunc": "sum",
         "hovertemplate": "Sector=Consumer Staples<br>Name=%{x}<br>sum of 52 Week Low=%{y}<extra></extra>",
         "legendgroup": "Consumer Staples",
         "marker": {
          "color": "#FF97FF"
         },
         "name": "Consumer Staples",
         "offsetgroup": "Consumer Staples",
         "orientation": "v",
         "showlegend": true,
         "type": "histogram",
         "x": [
          "Altria Group Inc",
          "Archer-Daniels-Midland Co",
          "Brown-Forman Corp.",
          "Campbell Soup",
          "Church & Dwight",
          "Coca-Cola Company (The)",
          "Colgate-Palmolive",
          "Conagra Brands",
          "Constellation Brands",
          "Costco Wholesale Corp.",
          "Coty, Inc",
          "CVS Health",
          "Dr Pepper Snapple Group",
          "Estee Lauder Cos.",
          "General Mills",
          "Hormel Foods Corp.",
          "JM Smucker",
          "Kellogg Co.",
          "Kimberly-Clark",
          "Kraft Heinz Co",
          "Kroger Co.",
          "McCormick & Co.",
          "Molson Coors Brewing Company",
          "Mondelez International",
          "Monster Beverage",
          "Philip Morris International",
          "Procter & Gamble",
          "Sysco Corp.",
          "The Clorox Company",
          "The Hershey Company",
          "Tyson Foods",
          "Wal-Mart Stores",
          "Walgreens Boots Alliance"
         ],
         "xaxis": "x",
         "y": [
          77.79,
          47.44,
          69.9028,
          64.23,
          54.1799,
          48.615,
          77.91,
          41.68,
          229.5,
          199.88,
          21.175,
          84,
          126.65,
          138.74,
          63.73,
          38,
          143.68,
          76.69,
          136.21,
          97.77,
          34.75,
          109.67,
          102.14,
          47.23,
          70.215,
          123.55,
          94.67,
          64.27,
          150.4,
          116.49,
          84.65,
          109.98,
          88
         ],
         "yaxis": "y"
        },
        {
         "alignmentgroup": "True",
         "bingroup": "x",
         "histfunc": "sum",
         "hovertemplate": "Sector=Energy<br>Name=%{x}<br>sum of 52 Week Low=%{y}<extra></extra>",
         "legendgroup": "Energy",
         "marker": {
          "color": "#FECB52"
         },
         "name": "Energy",
         "offsetgroup": "Energy",
         "orientation": "v",
         "showlegend": true,
         "type": "histogram",
         "x": [
          "Anadarko Petroleum Corp",
          "Andeavor",
          "Apache Corporation",
          "Baker Hughes, a GE Company",
          "Cabot Oil & Gas",
          "Chesapeake Energy",
          "Chevron Corp.",
          "Cimarex Energy",
          "Concho Resources",
          "ConocoPhillips",
          "Devon Energy Corp.",
          "EOG Resources",
          "EQT Corporation",
          "Exxon Mobil Corp.",
          "Halliburton Co.",
          "Helmerich & Payne",
          "Hess Corporation",
          "Kinder Morgan",
          "Marathon Petroleum",
          "National Oilwell Varco Inc.",
          "Newfield Exploration Co",
          "Noble Energy Inc",
          "ONEOK",
          "Phillips 66",
          "Pioneer Natural Resources",
          "Range Resources Corp.",
          "Schlumberger Ltd.",
          "TechnipFMC",
          "Valero Energy",
          "Williams Cos."
         ],
         "xaxis": "x",
         "y": [
          70,
          121.71,
          57.9,
          57.73,
          29.57,
          6.59,
          133.88,
          136.31,
          162.91,
          61.315,
          47.25,
          119,
          67.84,
          89.3,
          57.86,
          75.02,
          55.48,
          22.75,
          73.53,
          41.895,
          43.74,
          39.6,
          61.36,
          107.47,
          199.83,
          34.09,
          82.71,
          35,
          99.95,
          33.67
         ],
         "yaxis": "y"
        },
        {
         "alignmentgroup": "True",
         "bingroup": "x",
         "histfunc": "sum",
         "hovertemplate": "Sector=Telecommunication Services<br>Name=%{x}<br>sum of 52 Week Low=%{y}<extra></extra>",
         "legendgroup": "Telecommunication Services",
         "marker": {
          "color": "#636efa"
         },
         "name": "Telecommunication Services",
         "offsetgroup": "Telecommunication Services",
         "orientation": "v",
         "showlegend": true,
         "type": "histogram",
         "x": [
          "AT&T Inc",
          "CenturyLink Inc",
          "Verizon Communications"
         ],
         "xaxis": "x",
         "y": [
          42.7,
          27.61,
          54.77
         ],
         "yaxis": "y"
        }
       ],
       "layout": {
        "barmode": "relative",
        "legend": {
         "title": {
          "text": "Sector"
         },
         "tracegroupgap": 0
        },
        "margin": {
         "t": 60
        },
        "template": {
         "data": {
          "bar": [
           {
            "error_x": {
             "color": "#2a3f5f"
            },
            "error_y": {
             "color": "#2a3f5f"
            },
            "marker": {
             "line": {
              "color": "#E5ECF6",
              "width": 0.5
             }
            },
            "type": "bar"
           }
          ],
          "barpolar": [
           {
            "marker": {
             "line": {
              "color": "#E5ECF6",
              "width": 0.5
             }
            },
            "type": "barpolar"
           }
          ],
          "carpet": [
           {
            "aaxis": {
             "endlinecolor": "#2a3f5f",
             "gridcolor": "white",
             "linecolor": "white",
             "minorgridcolor": "white",
             "startlinecolor": "#2a3f5f"
            },
            "baxis": {
             "endlinecolor": "#2a3f5f",
             "gridcolor": "white",
             "linecolor": "white",
             "minorgridcolor": "white",
             "startlinecolor": "#2a3f5f"
            },
            "type": "carpet"
           }
          ],
          "choropleth": [
           {
            "colorbar": {
             "outlinewidth": 0,
             "ticks": ""
            },
            "type": "choropleth"
           }
          ],
          "contour": [
           {
            "colorbar": {
             "outlinewidth": 0,
             "ticks": ""
            },
            "colorscale": [
             [
              0,
              "#0d0887"
             ],
             [
              0.1111111111111111,
              "#46039f"
             ],
             [
              0.2222222222222222,
              "#7201a8"
             ],
             [
              0.3333333333333333,
              "#9c179e"
             ],
             [
              0.4444444444444444,
              "#bd3786"
             ],
             [
              0.5555555555555556,
              "#d8576b"
             ],
             [
              0.6666666666666666,
              "#ed7953"
             ],
             [
              0.7777777777777778,
              "#fb9f3a"
             ],
             [
              0.8888888888888888,
              "#fdca26"
             ],
             [
              1,
              "#f0f921"
             ]
            ],
            "type": "contour"
           }
          ],
          "contourcarpet": [
           {
            "colorbar": {
             "outlinewidth": 0,
             "ticks": ""
            },
            "type": "contourcarpet"
           }
          ],
          "heatmap": [
           {
            "colorbar": {
             "outlinewidth": 0,
             "ticks": ""
            },
            "colorscale": [
             [
              0,
              "#0d0887"
             ],
             [
              0.1111111111111111,
              "#46039f"
             ],
             [
              0.2222222222222222,
              "#7201a8"
             ],
             [
              0.3333333333333333,
              "#9c179e"
             ],
             [
              0.4444444444444444,
              "#bd3786"
             ],
             [
              0.5555555555555556,
              "#d8576b"
             ],
             [
              0.6666666666666666,
              "#ed7953"
             ],
             [
              0.7777777777777778,
              "#fb9f3a"
             ],
             [
              0.8888888888888888,
              "#fdca26"
             ],
             [
              1,
              "#f0f921"
             ]
            ],
            "type": "heatmap"
           }
          ],
          "heatmapgl": [
           {
            "colorbar": {
             "outlinewidth": 0,
             "ticks": ""
            },
            "colorscale": [
             [
              0,
              "#0d0887"
             ],
             [
              0.1111111111111111,
              "#46039f"
             ],
             [
              0.2222222222222222,
              "#7201a8"
             ],
             [
              0.3333333333333333,
              "#9c179e"
             ],
             [
              0.4444444444444444,
              "#bd3786"
             ],
             [
              0.5555555555555556,
              "#d8576b"
             ],
             [
              0.6666666666666666,
              "#ed7953"
             ],
             [
              0.7777777777777778,
              "#fb9f3a"
             ],
             [
              0.8888888888888888,
              "#fdca26"
             ],
             [
              1,
              "#f0f921"
             ]
            ],
            "type": "heatmapgl"
           }
          ],
          "histogram": [
           {
            "marker": {
             "colorbar": {
              "outlinewidth": 0,
              "ticks": ""
             }
            },
            "type": "histogram"
           }
          ],
          "histogram2d": [
           {
            "colorbar": {
             "outlinewidth": 0,
             "ticks": ""
            },
            "colorscale": [
             [
              0,
              "#0d0887"
             ],
             [
              0.1111111111111111,
              "#46039f"
             ],
             [
              0.2222222222222222,
              "#7201a8"
             ],
             [
              0.3333333333333333,
              "#9c179e"
             ],
             [
              0.4444444444444444,
              "#bd3786"
             ],
             [
              0.5555555555555556,
              "#d8576b"
             ],
             [
              0.6666666666666666,
              "#ed7953"
             ],
             [
              0.7777777777777778,
              "#fb9f3a"
             ],
             [
              0.8888888888888888,
              "#fdca26"
             ],
             [
              1,
              "#f0f921"
             ]
            ],
            "type": "histogram2d"
           }
          ],
          "histogram2dcontour": [
           {
            "colorbar": {
             "outlinewidth": 0,
             "ticks": ""
            },
            "colorscale": [
             [
              0,
              "#0d0887"
             ],
             [
              0.1111111111111111,
              "#46039f"
             ],
             [
              0.2222222222222222,
              "#7201a8"
             ],
             [
              0.3333333333333333,
              "#9c179e"
             ],
             [
              0.4444444444444444,
              "#bd3786"
             ],
             [
              0.5555555555555556,
              "#d8576b"
             ],
             [
              0.6666666666666666,
              "#ed7953"
             ],
             [
              0.7777777777777778,
              "#fb9f3a"
             ],
             [
              0.8888888888888888,
              "#fdca26"
             ],
             [
              1,
              "#f0f921"
             ]
            ],
            "type": "histogram2dcontour"
           }
          ],
          "mesh3d": [
           {
            "colorbar": {
             "outlinewidth": 0,
             "ticks": ""
            },
            "type": "mesh3d"
           }
          ],
          "parcoords": [
           {
            "line": {
             "colorbar": {
              "outlinewidth": 0,
              "ticks": ""
             }
            },
            "type": "parcoords"
           }
          ],
          "pie": [
           {
            "automargin": true,
            "type": "pie"
           }
          ],
          "scatter": [
           {
            "marker": {
             "colorbar": {
              "outlinewidth": 0,
              "ticks": ""
             }
            },
            "type": "scatter"
           }
          ],
          "scatter3d": [
           {
            "line": {
             "colorbar": {
              "outlinewidth": 0,
              "ticks": ""
             }
            },
            "marker": {
             "colorbar": {
              "outlinewidth": 0,
              "ticks": ""
             }
            },
            "type": "scatter3d"
           }
          ],
          "scattercarpet": [
           {
            "marker": {
             "colorbar": {
              "outlinewidth": 0,
              "ticks": ""
             }
            },
            "type": "scattercarpet"
           }
          ],
          "scattergeo": [
           {
            "marker": {
             "colorbar": {
              "outlinewidth": 0,
              "ticks": ""
             }
            },
            "type": "scattergeo"
           }
          ],
          "scattergl": [
           {
            "marker": {
             "colorbar": {
              "outlinewidth": 0,
              "ticks": ""
             }
            },
            "type": "scattergl"
           }
          ],
          "scattermapbox": [
           {
            "marker": {
             "colorbar": {
              "outlinewidth": 0,
              "ticks": ""
             }
            },
            "type": "scattermapbox"
           }
          ],
          "scatterpolar": [
           {
            "marker": {
             "colorbar": {
              "outlinewidth": 0,
              "ticks": ""
             }
            },
            "type": "scatterpolar"
           }
          ],
          "scatterpolargl": [
           {
            "marker": {
             "colorbar": {
              "outlinewidth": 0,
              "ticks": ""
             }
            },
            "type": "scatterpolargl"
           }
          ],
          "scatterternary": [
           {
            "marker": {
             "colorbar": {
              "outlinewidth": 0,
              "ticks": ""
             }
            },
            "type": "scatterternary"
           }
          ],
          "surface": [
           {
            "colorbar": {
             "outlinewidth": 0,
             "ticks": ""
            },
            "colorscale": [
             [
              0,
              "#0d0887"
             ],
             [
              0.1111111111111111,
              "#46039f"
             ],
             [
              0.2222222222222222,
              "#7201a8"
             ],
             [
              0.3333333333333333,
              "#9c179e"
             ],
             [
              0.4444444444444444,
              "#bd3786"
             ],
             [
              0.5555555555555556,
              "#d8576b"
             ],
             [
              0.6666666666666666,
              "#ed7953"
             ],
             [
              0.7777777777777778,
              "#fb9f3a"
             ],
             [
              0.8888888888888888,
              "#fdca26"
             ],
             [
              1,
              "#f0f921"
             ]
            ],
            "type": "surface"
           }
          ],
          "table": [
           {
            "cells": {
             "fill": {
              "color": "#EBF0F8"
             },
             "line": {
              "color": "white"
             }
            },
            "header": {
             "fill": {
              "color": "#C8D4E3"
             },
             "line": {
              "color": "white"
             }
            },
            "type": "table"
           }
          ]
         },
         "layout": {
          "annotationdefaults": {
           "arrowcolor": "#2a3f5f",
           "arrowhead": 0,
           "arrowwidth": 1
          },
          "autotypenumbers": "strict",
          "coloraxis": {
           "colorbar": {
            "outlinewidth": 0,
            "ticks": ""
           }
          },
          "colorscale": {
           "diverging": [
            [
             0,
             "#8e0152"
            ],
            [
             0.1,
             "#c51b7d"
            ],
            [
             0.2,
             "#de77ae"
            ],
            [
             0.3,
             "#f1b6da"
            ],
            [
             0.4,
             "#fde0ef"
            ],
            [
             0.5,
             "#f7f7f7"
            ],
            [
             0.6,
             "#e6f5d0"
            ],
            [
             0.7,
             "#b8e186"
            ],
            [
             0.8,
             "#7fbc41"
            ],
            [
             0.9,
             "#4d9221"
            ],
            [
             1,
             "#276419"
            ]
           ],
           "sequential": [
            [
             0,
             "#0d0887"
            ],
            [
             0.1111111111111111,
             "#46039f"
            ],
            [
             0.2222222222222222,
             "#7201a8"
            ],
            [
             0.3333333333333333,
             "#9c179e"
            ],
            [
             0.4444444444444444,
             "#bd3786"
            ],
            [
             0.5555555555555556,
             "#d8576b"
            ],
            [
             0.6666666666666666,
             "#ed7953"
            ],
            [
             0.7777777777777778,
             "#fb9f3a"
            ],
            [
             0.8888888888888888,
             "#fdca26"
            ],
            [
             1,
             "#f0f921"
            ]
           ],
           "sequentialminus": [
            [
             0,
             "#0d0887"
            ],
            [
             0.1111111111111111,
             "#46039f"
            ],
            [
             0.2222222222222222,
             "#7201a8"
            ],
            [
             0.3333333333333333,
             "#9c179e"
            ],
            [
             0.4444444444444444,
             "#bd3786"
            ],
            [
             0.5555555555555556,
             "#d8576b"
            ],
            [
             0.6666666666666666,
             "#ed7953"
            ],
            [
             0.7777777777777778,
             "#fb9f3a"
            ],
            [
             0.8888888888888888,
             "#fdca26"
            ],
            [
             1,
             "#f0f921"
            ]
           ]
          },
          "colorway": [
           "#636efa",
           "#EF553B",
           "#00cc96",
           "#ab63fa",
           "#FFA15A",
           "#19d3f3",
           "#FF6692",
           "#B6E880",
           "#FF97FF",
           "#FECB52"
          ],
          "font": {
           "color": "#2a3f5f"
          },
          "geo": {
           "bgcolor": "white",
           "lakecolor": "white",
           "landcolor": "#E5ECF6",
           "showlakes": true,
           "showland": true,
           "subunitcolor": "white"
          },
          "hoverlabel": {
           "align": "left"
          },
          "hovermode": "closest",
          "mapbox": {
           "style": "light"
          },
          "paper_bgcolor": "white",
          "plot_bgcolor": "#E5ECF6",
          "polar": {
           "angularaxis": {
            "gridcolor": "white",
            "linecolor": "white",
            "ticks": ""
           },
           "bgcolor": "#E5ECF6",
           "radialaxis": {
            "gridcolor": "white",
            "linecolor": "white",
            "ticks": ""
           }
          },
          "scene": {
           "xaxis": {
            "backgroundcolor": "#E5ECF6",
            "gridcolor": "white",
            "gridwidth": 2,
            "linecolor": "white",
            "showbackground": true,
            "ticks": "",
            "zerolinecolor": "white"
           },
           "yaxis": {
            "backgroundcolor": "#E5ECF6",
            "gridcolor": "white",
            "gridwidth": 2,
            "linecolor": "white",
            "showbackground": true,
            "ticks": "",
            "zerolinecolor": "white"
           },
           "zaxis": {
            "backgroundcolor": "#E5ECF6",
            "gridcolor": "white",
            "gridwidth": 2,
            "linecolor": "white",
            "showbackground": true,
            "ticks": "",
            "zerolinecolor": "white"
           }
          },
          "shapedefaults": {
           "line": {
            "color": "#2a3f5f"
           }
          },
          "ternary": {
           "aaxis": {
            "gridcolor": "white",
            "linecolor": "white",
            "ticks": ""
           },
           "baxis": {
            "gridcolor": "white",
            "linecolor": "white",
            "ticks": ""
           },
           "bgcolor": "#E5ECF6",
           "caxis": {
            "gridcolor": "white",
            "linecolor": "white",
            "ticks": ""
           }
          },
          "title": {
           "x": 0.05
          },
          "xaxis": {
           "automargin": true,
           "gridcolor": "white",
           "linecolor": "white",
           "ticks": "",
           "title": {
            "standoff": 15
           },
           "zerolinecolor": "white",
           "zerolinewidth": 2
          },
          "yaxis": {
           "automargin": true,
           "gridcolor": "white",
           "linecolor": "white",
           "ticks": "",
           "title": {
            "standoff": 15
           },
           "zerolinecolor": "white",
           "zerolinewidth": 2
          }
         }
        },
        "xaxis": {
         "anchor": "y",
         "domain": [
          0,
          1
         ],
         "title": {
          "text": "Name"
         }
        },
        "yaxis": {
         "anchor": "x",
         "domain": [
          0,
          1
         ],
         "title": {
          "text": "sum of 52 Week Low"
         }
        }
       }
      }
     },
     "metadata": {}
    },
    {
     "output_type": "display_data",
     "data": {
      "application/vnd.plotly.v1+json": {
       "config": {
        "plotlyServerURL": "https://plot.ly"
       },
       "data": [
        {
         "alignmentgroup": "True",
         "bingroup": "x",
         "histfunc": "sum",
         "hovertemplate": "Sector=Industrials<br>Name=%{x}<br>sum of 52 Week High=%{y}<extra></extra>",
         "legendgroup": "Industrials",
         "marker": {
          "color": "#636efa"
         },
         "name": "Industrials",
         "offsetgroup": "Industrials",
         "orientation": "v",
         "showlegend": true,
         "type": "histogram",
         "x": [
          "3M Company",
          "A.O. Smith Corp",
          "Acuity Brands Inc",
          "Alaska Air Group Inc",
          "Allegion",
          "American Airlines Group",
          "AMETEK Inc",
          "Boeing Company",
          "C. H. Robinson Worldwide",
          "Caterpillar Inc.",
          "Cintas Corporation",
          "CSX Corp.",
          "Cummins Inc.",
          "Deere & Co.",
          "Delta Air Lines Inc.",
          "Dover Corp.",
          "Eaton Corporation",
          "Emerson Electric Company",
          "Equifax Inc.",
          "Expeditors International",
          "Fastenal Co",
          "FedEx Corporation",
          "Flowserve Corporation",
          "Fluor Corp.",
          "Fortive Corp",
          "Fortune Brands Home & Security",
          "General Dynamics",
          "General Electric",
          "Grainger (W.W.) Inc.",
          "Honeywell Int'l Inc.",
          "Huntington Ingalls Industries",
          "IHS Markit Ltd.",
          "Illinois Tool Works",
          "Ingersoll-Rand PLC",
          "J. B. Hunt Transport Services",
          "Jacobs Engineering Group",
          "Johnson Controls International",
          "Kansas City Southern",
          "L-3 Communications Holdings",
          "Lockheed Martin Corp.",
          "Masco Corp.",
          "Nielsen Holdings",
          "Norfolk Southern Corp.",
          "Northrop Grumman Corp.",
          "PACCAR Inc.",
          "Parker-Hannifin",
          "Pentair Ltd.",
          "Quanta Services Inc.",
          "Raytheon Co.",
          "Republic Services Inc",
          "Robert Half International",
          "Rockwell Automation Inc.",
          "Rockwell Collins",
          "Roper Technologies",
          "Southwest Airlines",
          "Stericycle Inc",
          "Textron Inc.",
          "United Continental Holdings",
          "United Parcel Service",
          "United Rentals, Inc.",
          "United Technologies",
          "Verisk Analytics",
          "Waste Management Inc.",
          "Xylem Inc."
         ],
         "xaxis": "x",
         "y": [
          175.49,
          48.925,
          142,
          59.25,
          66.72,
          39.21,
          51.31,
          163.69,
          63.41,
          90.34,
          113.79,
          45.41,
          143.8301,
          106.72,
          43.81,
          75.51,
          69.45,
          56.77,
          90.72,
          51.96,
          39.79,
          182.89,
          37.51,
          37.0351,
          54.8844,
          55.25,
          181.94,
          14.71,
          155,
          119.31,
          183.42,
          37.82,
          126.52,
          77.26,
          83.35,
          49.31,
          34.51,
          81.54,
          159.43,
          256.4,
          31.29,
          34.22,
          109.27,
          231.98,
          61.93,
          145.38,
          57.63,
          30.23,
          147.86,
          57.53,
          42.92,
          147.67,
          89.9,
          191.22,
          49.76,
          61.25,
          45,
          56.51,
          102.12,
          100.621,
          107.05,
          75.6,
          69.55,
          46.86
         ],
         "yaxis": "y"
        },
        {
         "alignmentgroup": "True",
         "bingroup": "x",
         "histfunc": "sum",
         "hovertemplate": "Sector=Health Care<br>Name=%{x}<br>sum of 52 Week High=%{y}<extra></extra>",
         "legendgroup": "Health Care",
         "marker": {
          "color": "#EF553B"
         },
         "name": "Health Care",
         "offsetgroup": "Health Care",
         "orientation": "v",
         "showlegend": true,
         "type": "histogram",
         "x": [
          "Abbott Laboratories",
          "AbbVie Inc.",
          "Aetna Inc",
          "Agilent Technologies Inc",
          "Alexion Pharmaceuticals",
          "Align Technology",
          "Allergan, Plc",
          "AmerisourceBergen Corp",
          "Amgen Inc",
          "Anthem Inc.",
          "Baxter International Inc.",
          "Becton Dickinson",
          "Biogen Inc.",
          "Boston Scientific",
          "Bristol-Myers Squibb",
          "Cardinal Health Inc.",
          "Celgene Corp.",
          "Centene Corporation",
          "Cerner",
          "CIGNA Corp.",
          "Danaher Corp.",
          "DaVita Inc.",
          "Dentsply Sirona",
          "Edwards Lifesciences",
          "Envision Healthcare",
          "Express Scripts",
          "Gilead Sciences",
          "Henry Schein",
          "Hologic",
          "Humana Inc.",
          "IDEXX Laboratories",
          "Illumina Inc",
          "Incyte",
          "Intuitive Surgical Inc.",
          "IQVIA Holdings Inc.",
          "Johnson & Johnson",
          "Laboratory Corp. of America Holding",
          "Lilly (Eli) & Co.",
          "McKesson Corp.",
          "Medtronic plc",
          "Merck & Co.",
          "Mettler Toledo",
          "Mylan N.V.",
          "Patterson Companies",
          "PerkinElmer",
          "Pfizer Inc.",
          "Quest Diagnostics",
          "Regeneron",
          "ResMed",
          "Stryker Corp.",
          "The Cooper Companies",
          "Thermo Fisher Scientific",
          "United Health Group Inc.",
          "Universal Health Services, Inc.",
          "Varian Medical Systems",
          "Vertex Pharmaceuticals Inc",
          "Waters Corporation",
          "Zimmer Biomet Holdings",
          "Zoetis"
         ],
         "xaxis": "x",
         "y": [
          42.28,
          60.05,
          119.51,
          49.23,
          96.18,
          92.61,
          160.07,
          71.9,
          152.16,
          156.81,
          48.15,
          175.66,
          244.28,
          23.29,
          51.12,
          54.66,
          92.85,
          65.03,
          51.2617,
          141.93,
          78.97,
          52.51,
          52.535,
          89.2,
          23.77,
          55.8,
          63.759,
          65.28,
          35.76,
          189.01,
          140.63,
          158.0203,
          84.21,
          233.10643,
          75.94,
          113.15,
          130.292,
          75.71,
          133.82,
          75.44,
          53.63,
          459.34,
          29.39,
          32.07,
          52.63,
          31.67,
          90.1,
          319.5,
          67.04,
          122.01,
          187.02,
          151.69,
          156.49,
          95.26,
          77.73,
          84.39,
          145.94,
          108.17,
          52
         ],
         "yaxis": "y"
        },
        {
         "alignmentgroup": "True",
         "bingroup": "x",
         "histfunc": "sum",
         "hovertemplate": "Sector=Information Technology<br>Name=%{x}<br>sum of 52 Week High=%{y}<extra></extra>",
         "legendgroup": "Information Technology",
         "marker": {
          "color": "#00cc96"
         },
         "name": "Information Technology",
         "offsetgroup": "Information Technology",
         "orientation": "v",
         "showlegend": true,
         "type": "histogram",
         "x": [
          "Accenture plc",
          "Activision Blizzard",
          "Adobe Systems Inc",
          "Advanced Micro Devices Inc",
          "Akamai Technologies Inc",
          "Alliance Data Systems",
          "Alphabet Inc Class A",
          "Alphabet Inc Class C",
          "Amphenol Corp",
          "Analog Devices, Inc.",
          "ANSYS",
          "Apple Inc.",
          "Applied Materials Inc",
          "Autodesk Inc",
          "Automatic Data Processing",
          "Broadcom",
          "CA, Inc.",
          "Cadence Design Systems",
          "Cisco Systems",
          "Citrix Systems",
          "Cognizant Technology Solutions",
          "Corning Inc.",
          "CSRA Inc.",
          "DXC Technology",
          "eBay Inc.",
          "Electronic Arts",
          "F5 Networks",
          "Facebook, Inc.",
          "Fidelity National Information Services",
          "Fiserv Inc",
          "FLIR Systems",
          "Gartner Inc",
          "Global Payments Inc.",
          "Harris Corporation",
          "Hewlett Packard Enterprise",
          "HP Inc.",
          "Intel Corp.",
          "International Business Machines",
          "Intuit Inc.",
          "Juniper Networks",
          "KLA-Tencor Corp.",
          "Lam Research",
          "Mastercard Inc.",
          "Microchip Technology",
          "Micron Technology",
          "Microsoft Corp.",
          "Motorola Solutions Inc.",
          "NetApp",
          "Netflix Inc.",
          "Nvidia Corporation",
          "Oracle Corp.",
          "Paychex Inc.",
          "PayPal",
          "Qorvo",
          "QUALCOMM Inc.",
          "Red Hat Inc.",
          "Salesforce.com",
          "Seagate Technology",
          "Skyworks Solutions",
          "Symantec Corp.",
          "Synopsys Inc.",
          "TE Connectivity Ltd.",
          "Texas Instruments",
          "Total System Services",
          "Verisign Inc.",
          "Visa Inc.",
          "Western Digital",
          "Western Union Co",
          "Xerox Corp.",
          "Xilinx Inc"
         ],
         "xaxis": "x",
         "y": [
          114.82,
          38.93,
          114.451,
          9.7,
          44.65,
          209,
          824.3,
          803.1903,
          67.26,
          74.65,
          94.52,
          131.12,
          34.58,
          81.75,
          95.5,
          202.61,
          30.45,
          29.01,
          30.36,
          73.3346,
          54.76,
          26.31,
          27.38,
          67.76,
          31.89,
          81.27,
          114.63,
          132.44,
          77.63,
          106.2,
          33.75,
          97.96,
          76.47,
          104.16,
          12.815,
          15.39,
          33.23,
          139.13,
          111.9,
          23.87,
          86.33,
          113.1982,
          105.8,
          69.76,
          22.64,
          63.22,
          77.23,
          37.43,
          138.26,
          95.17,
          40.01,
          54.2,
          39.92,
          62.68,
          48.92,
          78.48,
          79.63,
          30.6,
          90.53,
          25.65,
          64.75,
          71.93,
          74.52,
          50.96,
          81.17,
          84.88,
          71.38,
          18.39,
          26.64,
          54.99
         ],
         "yaxis": "y"
        },
        {
         "alignmentgroup": "True",
         "bingroup": "x",
         "histfunc": "sum",
         "hovertemplate": "Sector=Consumer Discretionary<br>Name=%{x}<br>sum of 52 Week High=%{y}<extra></extra>",
         "legendgroup": "Consumer Discretionary",
         "marker": {
          "color": "#ab63fa"
         },
         "name": "Consumer Discretionary",
         "offsetgroup": "Consumer Discretionary",
         "orientation": "v",
         "showlegend": true,
         "type": "histogram",
         "x": [
          "Advance Auto Parts",
          "Amazon.com Inc",
          "Aptiv Plc",
          "AutoZone Inc",
          "Best Buy Co. Inc.",
          "BorgWarner",
          "Carmax Inc",
          "Carnival Corp.",
          "CBS Corp.",
          "Charter Communications",
          "Chipotle Mexican Grill",
          "Comcast Corp.",
          "D. R. Horton",
          "Darden Restaurants",
          "Discovery Communications-A",
          "Discovery Communications-C",
          "Dish Network",
          "Dollar General",
          "Dollar Tree",
          "Expedia Inc.",
          "Ford Motor",
          "Gap Inc.",
          "Garmin Ltd.",
          "General Motors",
          "Genuine Parts",
          "Goodyear Tire & Rubber",
          "Hanesbrands Inc",
          "Harley-Davidson",
          "Hasbro Inc.",
          "Hilton Worldwide Holdings Inc",
          "Home Depot",
          "Interpublic Group",
          "Kohl's Corp.",
          "L Brands Inc.",
          "Leggett & Platt",
          "Lennar Corp.",
          "LKQ Corporation",
          "Lowe's Cos.",
          "Macy's Inc.",
          "Marriott Int'l.",
          "Mattel Inc.",
          "McDonald's Corp.",
          "MGM Resorts International",
          "Michael Kors Holdings",
          "Mohawk Industries",
          "Newell Brands",
          "News Corp. Class A",
          "News Corp. Class B",
          "Nike",
          "Nordstrom",
          "Norwegian Cruise Line",
          "O'Reilly Automotive",
          "Omnicom Group",
          "Polo Ralph Lauren Corp.",
          "Priceline.com Inc",
          "Pulte Homes Inc.",
          "PVH Corp.",
          "Ross Stores",
          "Royal Caribbean Cruises Ltd",
          "Scripps Networks Interactive Inc.",
          "Signet Jewelers",
          "Snap-On Inc.",
          "Stanley Black & Decker",
          "Starbucks Corp.",
          "Target Corp.",
          "The Walt Disney Company",
          "Tiffany & Co.",
          "Time Warner Inc.",
          "TJX Companies Inc.",
          "Tractor Supply Company",
          "TripAdvisor",
          "Twenty-First Century Fox Class A",
          "Twenty-First Century Fox Class B",
          "Ulta Salon Cosmetics & Fragrance Inc",
          "Under Armour Class A",
          "Under Armour Class C",
          "V.F. Corp.",
          "Viacom Inc.",
          "Whirlpool Corp.",
          "Wyndham Worldwide",
          "Wynn Resorts Ltd",
          "Yum! Brands Inc"
         ],
         "xaxis": "x",
         "y": [
          78.81,
          812.5,
          82.97,
          491.13,
          41.67,
          37.54,
          54.29,
          54.75,
          52.75,
          308.3,
          263,
          34.78,
          29.3716,
          71.7,
          15.99,
          14.99,
          42.48,
          65.97,
          65.63,
          115.55,
          10.19,
          21.02,
          48.5,
          31.92,
          79.86,
          28.81,
          18.9,
          44.52,
          87.92,
          55.79,
          136.82,
          18.3,
          35.16,
          35,
          42,
          43.647053,
          27.85,
          70.76,
          17.405,
          85.3725,
          12.71,
          124.36,
          25.15,
          32.38,
          209.9,
          23.85,
          12,
          12.35,
          50.35,
          37.7924,
          46.96,
          169.43,
          65.32,
          66.06,
          1589,
          21.06,
          84.53,
          52.85,
          93.4,
          64.87,
          46.09,
          140.83,
          121.09,
          52.58,
          48.56,
          96.2,
          77.93,
          85.88,
          66.44,
          49.87,
          29.5,
          24.81,
          24.3,
          187.96,
          11.4,
          10.36,
          48.05,
          22.13,
          158.8,
          80.11,
          92.67,
          62.85
         ],
         "yaxis": "y"
        },
        {
         "alignmentgroup": "True",
         "bingroup": "x",
         "histfunc": "sum",
         "hovertemplate": "Sector=Utilities<br>Name=%{x}<br>sum of 52 Week High=%{y}<extra></extra>",
         "legendgroup": "Utilities",
         "marker": {
          "color": "#FFA15A"
         },
         "name": "Utilities",
         "offsetgroup": "Utilities",
         "orientation": "v",
         "showlegend": true,
         "type": "histogram",
         "x": [
          "AES Corp",
          "Alliant Energy Corp",
          "Ameren Corp",
          "American Electric Power",
          "American Water Works Company Inc",
          "CenterPoint Energy",
          "CMS Energy",
          "Consolidated Edison",
          "Dominion Energy",
          "DTE Energy Co.",
          "Duke Energy",
          "Edison Int'l",
          "Entergy Corp.",
          "Eversource Energy",
          "Exelon Corp.",
          "FirstEnergy Corp",
          "NextEra Energy",
          "NiSource Inc.",
          "NRG Energy",
          "PG&E Corp.",
          "Pinnacle West Capital",
          "PPL Corp.",
          "Public Serv. Enterprise Inc.",
          "SCANA Corp",
          "Sempra Energy",
          "Southern Co.",
          "Wec Energy Group Inc",
          "Xcel Energy Inc"
         ],
         "xaxis": "x",
         "y": [
          10,
          36.84,
          51.81,
          62.69,
          71.89,
          25.51,
          41.07,
          72.63,
          71.59,
          96.56,
          72.93,
          58.76,
          69.63,
          55.2,
          33.3,
          27.93,
          124.18,
          21.93,
          14.52,
          38.45,
          73.81,
          29.205,
          41.67,
          35.31,
          100.63,
          42.63,
          56.63,
          41.16
         ],
         "yaxis": "y"
        },
        {
         "alignmentgroup": "True",
         "bingroup": "x",
         "histfunc": "sum",
         "hovertemplate": "Sector=Financials<br>Name=%{x}<br>sum of 52 Week High=%{y}<extra></extra>",
         "legendgroup": "Financials",
         "marker": {
          "color": "#19d3f3"
         },
         "name": "Financials",
         "offsetgroup": "Financials",
         "orientation": "v",
         "showlegend": true,
         "type": "histogram",
         "x": [
          "Affiliated Managers Group Inc",
          "AFLAC Inc",
          "Allstate Corp",
          "American Express Co",
          "American International Group, Inc.",
          "Ameriprise Financial",
          "Aon plc",
          "Arthur J. Gallagher & Co.",
          "Assurant Inc",
          "Bank of America Corp",
          "BB&T Corporation",
          "Berkshire Hathaway",
          "BlackRock",
          "Block H&R",
          "Brighthouse Financial Inc",
          "Capital One Financial",
          "CBOE Holdings",
          "Charles Schwab Corporation",
          "Chubb Limited",
          "Cincinnati Financial",
          "Citigroup Inc.",
          "Citizens Financial Group",
          "CME Group Inc.",
          "Comerica Inc.",
          "Discover Financial Services",
          "E*Trade",
          "Everest Re Group Ltd.",
          "Fifth Third Bancorp",
          "Franklin Resources",
          "Goldman Sachs Group",
          "Hartford Financial Svc.Gp.",
          "Huntington Bancshares",
          "Intercontinental Exchange",
          "Invesco Ltd.",
          "JPMorgan Chase & Co.",
          "KeyCorp",
          "Leucadia National Corp.",
          "Lincoln National",
          "Loews Corp.",
          "M&T Bank Corp.",
          "Marsh & McLennan",
          "MetLife Inc.",
          "Moody's Corp",
          "Morgan Stanley",
          "Nasdaq, Inc.",
          "Navient",
          "Northern Trust Corp.",
          "People's United Financial",
          "PNC Financial Services",
          "Principal Financial Group",
          "Progressive Corp.",
          "Prudential Financial",
          "Raymond James Financial Inc.",
          "Regions Financial Corp.",
          "S&P Global, Inc.",
          "State Street Corp.",
          "SunTrust Banks",
          "Synchrony Financial",
          "T. Rowe Price Group",
          "The Bank of New York Mellon Corp.",
          "The Travelers Companies Inc.",
          "Torchmark Corp.",
          "U.S. Bancorp",
          "Unum Group",
          "Wells Fargo",
          "Willis Towers Watson",
          "XL Capital",
          "Zions Bancorp"
         ],
         "xaxis": "x",
         "y": [
          148.81,
          68.8,
          77.73,
          75.51,
          57.85,
          118.84,
          113.2201,
          53.63,
          85.91,
          22.07,
          41.17,
          160.93,
          368,
          19.85,
          52.751,
          76.05,
          76.75,
          37.16,
          130.17,
          68.24,
          56.14,
          31.51,
          114.8176,
          64.04,
          57.5,
          32.25,
          208.81,
          23.2,
          37.01,
          209.62,
          46.35,
          12.14,
          56.8,
          29.36,
          81.635,
          16.28,
          22.23,
          61.45,
          45.01,
          141.12,
          69.33,
          44.58,
          106.48,
          40.06,
          65.98,
          11.481,
          83.17,
          15.965,
          115.25,
          58.9401,
          36.84,
          97.88,
          71.35,
          13,
          124.64,
          75.27,
          51.96,
          26.01,
          66.7,
          44.91,
          113.76,
          73.53,
          49.535,
          43.55,
          49.27,
          120.869,
          33.77,
          38.43
         ],
         "yaxis": "y"
        },
        {
         "alignmentgroup": "True",
         "bingroup": "x",
         "histfunc": "sum",
         "hovertemplate": "Sector=Materials<br>Name=%{x}<br>sum of 52 Week High=%{y}<extra></extra>",
         "legendgroup": "Materials",
         "marker": {
          "color": "#FF6692"
         },
         "name": "Materials",
         "offsetgroup": "Materials",
         "orientation": "v",
         "showlegend": true,
         "type": "histogram",
         "x": [
          "Air Products & Chemicals Inc",
          "Albemarle Corp",
          "Avery Dennison Corp",
          "Ball Corp",
          "CF Industries Holdings Inc",
          "DowDuPont",
          "Eastman Chemical",
          "Ecolab Inc.",
          "FMC Corporation",
          "Freeport-McMoRan Inc.",
          "International Paper",
          "Intl Flavors & Fragrances",
          "LyondellBasell",
          "Martin Marietta Materials",
          "Monsanto Co.",
          "Newmont Mining Corporation",
          "Nucor Corp.",
          "Packaging Corporation of America",
          "PPG Industries",
          "Praxair Inc.",
          "Sealed Air",
          "Sherwin-Williams",
          "The Mosaic Company",
          "Vulcan Materials",
          "WestRock Company"
         ],
         "xaxis": "x",
         "y": [
          133.6301,
          90.35,
          78.471,
          35.6,
          25.04,
          64.01,
          76.02,
          119.61,
          56.53,
          11.05,
          49.6,
          116.3,
          78.01,
          191.09,
          106.97,
          31.42,
          51.67,
          88.47,
          99.57,
          115.53,
          41.22,
          302.0101,
          19.23,
          108.95,
          49.23
         ],
         "yaxis": "y"
        },
        {
         "alignmentgroup": "True",
         "bingroup": "x",
         "histfunc": "sum",
         "hovertemplate": "Sector=Real Estate<br>Name=%{x}<br>sum of 52 Week High=%{y}<extra></extra>",
         "legendgroup": "Real Estate",
         "marker": {
          "color": "#B6E880"
         },
         "name": "Real Estate",
         "offsetgroup": "Real Estate",
         "orientation": "v",
         "showlegend": true,
         "type": "histogram",
         "x": [
          "Alexandria Real Estate Equities Inc",
          "American Tower Corp A",
          "Apartment Investment & Management",
          "AvalonBay Communities, Inc.",
          "Boston Properties",
          "CBRE Group",
          "Crown Castle International Corp.",
          "Digital Realty Trust Inc",
          "Duke Realty Corp",
          "Equinix",
          "Equity Residential",
          "Essex Property Trust, Inc.",
          "Extra Space Storage",
          "Federal Realty Investment Trust",
          "General Growth Properties Inc.",
          "HCP Inc.",
          "Host Hotels & Resorts",
          "Iron Mountain Incorporated",
          "Kimco Realty",
          "Macerich",
          "Mid-America Apartments",
          "Prologis",
          "Public Storage",
          "Realty Income Corporation",
          "Regency Centers Corporation",
          "SBA Communications",
          "Simon Property Group Inc",
          "SL Green Realty",
          "UDR Inc",
          "Ventas Inc",
          "Vornado Realty Trust",
          "Welltower Inc.",
          "Weyerhaeuser Corp."
         ],
         "xaxis": "x",
         "y": [
          106.89,
          103.36,
          38.85,
          156.01,
          111.87,
          30.43,
          86.93,
          101.101,
          24.73,
          361.9,
          56.07,
          214.03,
          71.34,
          109.74,
          18.83,
          22.8,
          17.26,
          32.05,
          14.33,
          52.12,
          86.95,
          48.69,
          180.9254,
          48.89,
          56.66,
          103.51,
          150.15,
          91.2,
          33.31,
          51.8,
          66.0101,
          55.29,
          30.9504
         ],
         "yaxis": "y"
        },
        {
         "alignmentgroup": "True",
         "bingroup": "x",
         "histfunc": "sum",
         "hovertemplate": "Sector=Consumer Staples<br>Name=%{x}<br>sum of 52 Week High=%{y}<extra></extra>",
         "legendgroup": "Consumer Staples",
         "marker": {
          "color": "#FF97FF"
         },
         "name": "Consumer Staples",
         "offsetgroup": "Consumer Staples",
         "orientation": "v",
         "showlegend": true,
         "type": "histogram",
         "x": [
          "Altria Group Inc",
          "Archer-Daniels-Midland Co",
          "Brown-Forman Corp.",
          "Campbell Soup",
          "Church & Dwight",
          "Coca-Cola Company (The)",
          "Colgate-Palmolive",
          "Conagra Brands",
          "Constellation Brands",
          "Costco Wholesale Corp.",
          "Coty, Inc",
          "CVS Health",
          "Dr Pepper Snapple Group",
          "Estee Lauder Cos.",
          "General Mills",
          "Hormel Foods Corp.",
          "JM Smucker",
          "Kellogg Co.",
          "Kimberly-Clark",
          "Kraft Heinz Co",
          "Kroger Co.",
          "McCormick & Co.",
          "Molson Coors Brewing Company",
          "Mondelez International",
          "Monster Beverage",
          "Philip Morris International",
          "Procter & Gamble",
          "Sysco Corp.",
          "The Clorox Company",
          "The Hershey Company",
          "Tyson Foods",
          "Wal-Mart Stores",
          "Walgreens Boots Alliance"
         ],
         "xaxis": "x",
         "y": [
          60.01,
          38.59,
          45.415,
          43.5,
          43.21,
          40.22,
          66.26,
          32.16,
          152.01,
          150,
          14.24,
          66.45,
          83.23,
          81.69,
          49.65,
          29.75,
          99.565,
          58.76,
          109.67,
          72.05,
          19.69,
          90.25,
          75.79,
          39.19,
          41.02,
          96.66,
          80.1,
          48.85,
          124.09,
          98.851,
          57.2,
          66.89,
          63.82
         ],
         "yaxis": "y"
        },
        {
         "alignmentgroup": "True",
         "bingroup": "x",
         "histfunc": "sum",
         "hovertemplate": "Sector=Energy<br>Name=%{x}<br>sum of 52 Week High=%{y}<extra></extra>",
         "legendgroup": "Energy",
         "marker": {
          "color": "#FECB52"
         },
         "name": "Energy",
         "offsetgroup": "Energy",
         "orientation": "v",
         "showlegend": true,
         "type": "histogram",
         "x": [
          "Anadarko Petroleum Corp",
          "Andeavor",
          "Apache Corporation",
          "Baker Hughes, a GE Company",
          "Cabot Oil & Gas",
          "Chesapeake Energy",
          "Chevron Corp.",
          "Cimarex Energy",
          "Concho Resources",
          "ConocoPhillips",
          "Devon Energy Corp.",
          "EOG Resources",
          "EQT Corporation",
          "Exxon Mobil Corp.",
          "Halliburton Co.",
          "Helmerich & Payne",
          "Hess Corporation",
          "Kinder Morgan",
          "Marathon Petroleum",
          "National Oilwell Varco Inc.",
          "Newfield Exploration Co",
          "Noble Energy Inc",
          "ONEOK",
          "Phillips 66",
          "Pioneer Natural Resources",
          "Range Resources Corp.",
          "Schlumberger Ltd.",
          "TechnipFMC",
          "Valero Energy",
          "Williams Cos."
         ],
         "xaxis": "x",
         "y": [
          39.96,
          75.11,
          38.14,
          28.03,
          21.4,
          2.8,
          102.55,
          89.49,
          106.73,
          42.265,
          28.7947,
          81.99,
          47.13,
          76.05,
          38.181,
          42.16,
          37.25,
          16.56,
          47.39,
          29.9,
          24.41,
          22.985,
          47.14,
          75.135,
          125.46,
          12.7,
          61.02,
          24.53,
          60.69,
          26.8188
         ],
         "yaxis": "y"
        },
        {
         "alignmentgroup": "True",
         "bingroup": "x",
         "histfunc": "sum",
         "hovertemplate": "Sector=Telecommunication Services<br>Name=%{x}<br>sum of 52 Week High=%{y}<extra></extra>",
         "legendgroup": "Telecommunication Services",
         "marker": {
          "color": "#636efa"
         },
         "name": "Telecommunication Services",
         "offsetgroup": "Telecommunication Services",
         "orientation": "v",
         "showlegend": true,
         "type": "histogram",
         "x": [
          "AT&T Inc",
          "CenturyLink Inc",
          "Verizon Communications"
         ],
         "xaxis": "x",
         "y": [
          32.55,
          13.161,
          42.8
         ],
         "yaxis": "y"
        }
       ],
       "layout": {
        "barmode": "relative",
        "legend": {
         "title": {
          "text": "Sector"
         },
         "tracegroupgap": 0
        },
        "margin": {
         "t": 60
        },
        "template": {
         "data": {
          "bar": [
           {
            "error_x": {
             "color": "#2a3f5f"
            },
            "error_y": {
             "color": "#2a3f5f"
            },
            "marker": {
             "line": {
              "color": "#E5ECF6",
              "width": 0.5
             }
            },
            "type": "bar"
           }
          ],
          "barpolar": [
           {
            "marker": {
             "line": {
              "color": "#E5ECF6",
              "width": 0.5
             }
            },
            "type": "barpolar"
           }
          ],
          "carpet": [
           {
            "aaxis": {
             "endlinecolor": "#2a3f5f",
             "gridcolor": "white",
             "linecolor": "white",
             "minorgridcolor": "white",
             "startlinecolor": "#2a3f5f"
            },
            "baxis": {
             "endlinecolor": "#2a3f5f",
             "gridcolor": "white",
             "linecolor": "white",
             "minorgridcolor": "white",
             "startlinecolor": "#2a3f5f"
            },
            "type": "carpet"
           }
          ],
          "choropleth": [
           {
            "colorbar": {
             "outlinewidth": 0,
             "ticks": ""
            },
            "type": "choropleth"
           }
          ],
          "contour": [
           {
            "colorbar": {
             "outlinewidth": 0,
             "ticks": ""
            },
            "colorscale": [
             [
              0,
              "#0d0887"
             ],
             [
              0.1111111111111111,
              "#46039f"
             ],
             [
              0.2222222222222222,
              "#7201a8"
             ],
             [
              0.3333333333333333,
              "#9c179e"
             ],
             [
              0.4444444444444444,
              "#bd3786"
             ],
             [
              0.5555555555555556,
              "#d8576b"
             ],
             [
              0.6666666666666666,
              "#ed7953"
             ],
             [
              0.7777777777777778,
              "#fb9f3a"
             ],
             [
              0.8888888888888888,
              "#fdca26"
             ],
             [
              1,
              "#f0f921"
             ]
            ],
            "type": "contour"
           }
          ],
          "contourcarpet": [
           {
            "colorbar": {
             "outlinewidth": 0,
             "ticks": ""
            },
            "type": "contourcarpet"
           }
          ],
          "heatmap": [
           {
            "colorbar": {
             "outlinewidth": 0,
             "ticks": ""
            },
            "colorscale": [
             [
              0,
              "#0d0887"
             ],
             [
              0.1111111111111111,
              "#46039f"
             ],
             [
              0.2222222222222222,
              "#7201a8"
             ],
             [
              0.3333333333333333,
              "#9c179e"
             ],
             [
              0.4444444444444444,
              "#bd3786"
             ],
             [
              0.5555555555555556,
              "#d8576b"
             ],
             [
              0.6666666666666666,
              "#ed7953"
             ],
             [
              0.7777777777777778,
              "#fb9f3a"
             ],
             [
              0.8888888888888888,
              "#fdca26"
             ],
             [
              1,
              "#f0f921"
             ]
            ],
            "type": "heatmap"
           }
          ],
          "heatmapgl": [
           {
            "colorbar": {
             "outlinewidth": 0,
             "ticks": ""
            },
            "colorscale": [
             [
              0,
              "#0d0887"
             ],
             [
              0.1111111111111111,
              "#46039f"
             ],
             [
              0.2222222222222222,
              "#7201a8"
             ],
             [
              0.3333333333333333,
              "#9c179e"
             ],
             [
              0.4444444444444444,
              "#bd3786"
             ],
             [
              0.5555555555555556,
              "#d8576b"
             ],
             [
              0.6666666666666666,
              "#ed7953"
             ],
             [
              0.7777777777777778,
              "#fb9f3a"
             ],
             [
              0.8888888888888888,
              "#fdca26"
             ],
             [
              1,
              "#f0f921"
             ]
            ],
            "type": "heatmapgl"
           }
          ],
          "histogram": [
           {
            "marker": {
             "colorbar": {
              "outlinewidth": 0,
              "ticks": ""
             }
            },
            "type": "histogram"
           }
          ],
          "histogram2d": [
           {
            "colorbar": {
             "outlinewidth": 0,
             "ticks": ""
            },
            "colorscale": [
             [
              0,
              "#0d0887"
             ],
             [
              0.1111111111111111,
              "#46039f"
             ],
             [
              0.2222222222222222,
              "#7201a8"
             ],
             [
              0.3333333333333333,
              "#9c179e"
             ],
             [
              0.4444444444444444,
              "#bd3786"
             ],
             [
              0.5555555555555556,
              "#d8576b"
             ],
             [
              0.6666666666666666,
              "#ed7953"
             ],
             [
              0.7777777777777778,
              "#fb9f3a"
             ],
             [
              0.8888888888888888,
              "#fdca26"
             ],
             [
              1,
              "#f0f921"
             ]
            ],
            "type": "histogram2d"
           }
          ],
          "histogram2dcontour": [
           {
            "colorbar": {
             "outlinewidth": 0,
             "ticks": ""
            },
            "colorscale": [
             [
              0,
              "#0d0887"
             ],
             [
              0.1111111111111111,
              "#46039f"
             ],
             [
              0.2222222222222222,
              "#7201a8"
             ],
             [
              0.3333333333333333,
              "#9c179e"
             ],
             [
              0.4444444444444444,
              "#bd3786"
             ],
             [
              0.5555555555555556,
              "#d8576b"
             ],
             [
              0.6666666666666666,
              "#ed7953"
             ],
             [
              0.7777777777777778,
              "#fb9f3a"
             ],
             [
              0.8888888888888888,
              "#fdca26"
             ],
             [
              1,
              "#f0f921"
             ]
            ],
            "type": "histogram2dcontour"
           }
          ],
          "mesh3d": [
           {
            "colorbar": {
             "outlinewidth": 0,
             "ticks": ""
            },
            "type": "mesh3d"
           }
          ],
          "parcoords": [
           {
            "line": {
             "colorbar": {
              "outlinewidth": 0,
              "ticks": ""
             }
            },
            "type": "parcoords"
           }
          ],
          "pie": [
           {
            "automargin": true,
            "type": "pie"
           }
          ],
          "scatter": [
           {
            "marker": {
             "colorbar": {
              "outlinewidth": 0,
              "ticks": ""
             }
            },
            "type": "scatter"
           }
          ],
          "scatter3d": [
           {
            "line": {
             "colorbar": {
              "outlinewidth": 0,
              "ticks": ""
             }
            },
            "marker": {
             "colorbar": {
              "outlinewidth": 0,
              "ticks": ""
             }
            },
            "type": "scatter3d"
           }
          ],
          "scattercarpet": [
           {
            "marker": {
             "colorbar": {
              "outlinewidth": 0,
              "ticks": ""
             }
            },
            "type": "scattercarpet"
           }
          ],
          "scattergeo": [
           {
            "marker": {
             "colorbar": {
              "outlinewidth": 0,
              "ticks": ""
             }
            },
            "type": "scattergeo"
           }
          ],
          "scattergl": [
           {
            "marker": {
             "colorbar": {
              "outlinewidth": 0,
              "ticks": ""
             }
            },
            "type": "scattergl"
           }
          ],
          "scattermapbox": [
           {
            "marker": {
             "colorbar": {
              "outlinewidth": 0,
              "ticks": ""
             }
            },
            "type": "scattermapbox"
           }
          ],
          "scatterpolar": [
           {
            "marker": {
             "colorbar": {
              "outlinewidth": 0,
              "ticks": ""
             }
            },
            "type": "scatterpolar"
           }
          ],
          "scatterpolargl": [
           {
            "marker": {
             "colorbar": {
              "outlinewidth": 0,
              "ticks": ""
             }
            },
            "type": "scatterpolargl"
           }
          ],
          "scatterternary": [
           {
            "marker": {
             "colorbar": {
              "outlinewidth": 0,
              "ticks": ""
             }
            },
            "type": "scatterternary"
           }
          ],
          "surface": [
           {
            "colorbar": {
             "outlinewidth": 0,
             "ticks": ""
            },
            "colorscale": [
             [
              0,
              "#0d0887"
             ],
             [
              0.1111111111111111,
              "#46039f"
             ],
             [
              0.2222222222222222,
              "#7201a8"
             ],
             [
              0.3333333333333333,
              "#9c179e"
             ],
             [
              0.4444444444444444,
              "#bd3786"
             ],
             [
              0.5555555555555556,
              "#d8576b"
             ],
             [
              0.6666666666666666,
              "#ed7953"
             ],
             [
              0.7777777777777778,
              "#fb9f3a"
             ],
             [
              0.8888888888888888,
              "#fdca26"
             ],
             [
              1,
              "#f0f921"
             ]
            ],
            "type": "surface"
           }
          ],
          "table": [
           {
            "cells": {
             "fill": {
              "color": "#EBF0F8"
             },
             "line": {
              "color": "white"
             }
            },
            "header": {
             "fill": {
              "color": "#C8D4E3"
             },
             "line": {
              "color": "white"
             }
            },
            "type": "table"
           }
          ]
         },
         "layout": {
          "annotationdefaults": {
           "arrowcolor": "#2a3f5f",
           "arrowhead": 0,
           "arrowwidth": 1
          },
          "autotypenumbers": "strict",
          "coloraxis": {
           "colorbar": {
            "outlinewidth": 0,
            "ticks": ""
           }
          },
          "colorscale": {
           "diverging": [
            [
             0,
             "#8e0152"
            ],
            [
             0.1,
             "#c51b7d"
            ],
            [
             0.2,
             "#de77ae"
            ],
            [
             0.3,
             "#f1b6da"
            ],
            [
             0.4,
             "#fde0ef"
            ],
            [
             0.5,
             "#f7f7f7"
            ],
            [
             0.6,
             "#e6f5d0"
            ],
            [
             0.7,
             "#b8e186"
            ],
            [
             0.8,
             "#7fbc41"
            ],
            [
             0.9,
             "#4d9221"
            ],
            [
             1,
             "#276419"
            ]
           ],
           "sequential": [
            [
             0,
             "#0d0887"
            ],
            [
             0.1111111111111111,
             "#46039f"
            ],
            [
             0.2222222222222222,
             "#7201a8"
            ],
            [
             0.3333333333333333,
             "#9c179e"
            ],
            [
             0.4444444444444444,
             "#bd3786"
            ],
            [
             0.5555555555555556,
             "#d8576b"
            ],
            [
             0.6666666666666666,
             "#ed7953"
            ],
            [
             0.7777777777777778,
             "#fb9f3a"
            ],
            [
             0.8888888888888888,
             "#fdca26"
            ],
            [
             1,
             "#f0f921"
            ]
           ],
           "sequentialminus": [
            [
             0,
             "#0d0887"
            ],
            [
             0.1111111111111111,
             "#46039f"
            ],
            [
             0.2222222222222222,
             "#7201a8"
            ],
            [
             0.3333333333333333,
             "#9c179e"
            ],
            [
             0.4444444444444444,
             "#bd3786"
            ],
            [
             0.5555555555555556,
             "#d8576b"
            ],
            [
             0.6666666666666666,
             "#ed7953"
            ],
            [
             0.7777777777777778,
             "#fb9f3a"
            ],
            [
             0.8888888888888888,
             "#fdca26"
            ],
            [
             1,
             "#f0f921"
            ]
           ]
          },
          "colorway": [
           "#636efa",
           "#EF553B",
           "#00cc96",
           "#ab63fa",
           "#FFA15A",
           "#19d3f3",
           "#FF6692",
           "#B6E880",
           "#FF97FF",
           "#FECB52"
          ],
          "font": {
           "color": "#2a3f5f"
          },
          "geo": {
           "bgcolor": "white",
           "lakecolor": "white",
           "landcolor": "#E5ECF6",
           "showlakes": true,
           "showland": true,
           "subunitcolor": "white"
          },
          "hoverlabel": {
           "align": "left"
          },
          "hovermode": "closest",
          "mapbox": {
           "style": "light"
          },
          "paper_bgcolor": "white",
          "plot_bgcolor": "#E5ECF6",
          "polar": {
           "angularaxis": {
            "gridcolor": "white",
            "linecolor": "white",
            "ticks": ""
           },
           "bgcolor": "#E5ECF6",
           "radialaxis": {
            "gridcolor": "white",
            "linecolor": "white",
            "ticks": ""
           }
          },
          "scene": {
           "xaxis": {
            "backgroundcolor": "#E5ECF6",
            "gridcolor": "white",
            "gridwidth": 2,
            "linecolor": "white",
            "showbackground": true,
            "ticks": "",
            "zerolinecolor": "white"
           },
           "yaxis": {
            "backgroundcolor": "#E5ECF6",
            "gridcolor": "white",
            "gridwidth": 2,
            "linecolor": "white",
            "showbackground": true,
            "ticks": "",
            "zerolinecolor": "white"
           },
           "zaxis": {
            "backgroundcolor": "#E5ECF6",
            "gridcolor": "white",
            "gridwidth": 2,
            "linecolor": "white",
            "showbackground": true,
            "ticks": "",
            "zerolinecolor": "white"
           }
          },
          "shapedefaults": {
           "line": {
            "color": "#2a3f5f"
           }
          },
          "ternary": {
           "aaxis": {
            "gridcolor": "white",
            "linecolor": "white",
            "ticks": ""
           },
           "baxis": {
            "gridcolor": "white",
            "linecolor": "white",
            "ticks": ""
           },
           "bgcolor": "#E5ECF6",
           "caxis": {
            "gridcolor": "white",
            "linecolor": "white",
            "ticks": ""
           }
          },
          "title": {
           "x": 0.05
          },
          "xaxis": {
           "automargin": true,
           "gridcolor": "white",
           "linecolor": "white",
           "ticks": "",
           "title": {
            "standoff": 15
           },
           "zerolinecolor": "white",
           "zerolinewidth": 2
          },
          "yaxis": {
           "automargin": true,
           "gridcolor": "white",
           "linecolor": "white",
           "ticks": "",
           "title": {
            "standoff": 15
           },
           "zerolinecolor": "white",
           "zerolinewidth": 2
          }
         }
        },
        "xaxis": {
         "anchor": "y",
         "domain": [
          0,
          1
         ],
         "title": {
          "text": "Name"
         }
        },
        "yaxis": {
         "anchor": "x",
         "domain": [
          0,
          1
         ],
         "title": {
          "text": "sum of 52 Week High"
         }
        }
       }
      }
     },
     "metadata": {}
    },
    {
     "output_type": "display_data",
     "data": {
      "application/vnd.plotly.v1+json": {
       "config": {
        "plotlyServerURL": "https://plot.ly"
       },
       "data": [
        {
         "alignmentgroup": "True",
         "bingroup": "x",
         "histfunc": "sum",
         "hovertemplate": "Sector=Industrials<br>Name=%{x}<br>sum of Market Cap=%{y}<extra></extra>",
         "legendgroup": "Industrials",
         "marker": {
          "color": "#636efa"
         },
         "name": "Industrials",
         "offsetgroup": "Industrials",
         "orientation": "v",
         "showlegend": true,
         "type": "histogram",
         "x": [
          "3M Company",
          "A.O. Smith Corp",
          "Acuity Brands Inc",
          "Alaska Air Group Inc",
          "Allegion",
          "American Airlines Group",
          "AMETEK Inc",
          "Boeing Company",
          "C. H. Robinson Worldwide",
          "Caterpillar Inc.",
          "Cintas Corporation",
          "CSX Corp.",
          "Cummins Inc.",
          "Deere & Co.",
          "Delta Air Lines Inc.",
          "Dover Corp.",
          "Eaton Corporation",
          "Emerson Electric Company",
          "Equifax Inc.",
          "Expeditors International",
          "Fastenal Co",
          "FedEx Corporation",
          "Flowserve Corporation",
          "Fluor Corp.",
          "Fortive Corp",
          "Fortune Brands Home & Security",
          "General Dynamics",
          "General Electric",
          "Grainger (W.W.) Inc.",
          "Honeywell Int'l Inc.",
          "Huntington Ingalls Industries",
          "IHS Markit Ltd.",
          "Illinois Tool Works",
          "Ingersoll-Rand PLC",
          "J. B. Hunt Transport Services",
          "Jacobs Engineering Group",
          "Johnson Controls International",
          "Kansas City Southern",
          "L-3 Communications Holdings",
          "Lockheed Martin Corp.",
          "Masco Corp.",
          "Nielsen Holdings",
          "Norfolk Southern Corp.",
          "Northrop Grumman Corp.",
          "PACCAR Inc.",
          "Parker-Hannifin",
          "Pentair Ltd.",
          "Quanta Services Inc.",
          "Raytheon Co.",
          "Republic Services Inc",
          "Robert Half International",
          "Rockwell Automation Inc.",
          "Rockwell Collins",
          "Roper Technologies",
          "Southwest Airlines",
          "Stericycle Inc",
          "Textron Inc.",
          "United Continental Holdings",
          "United Parcel Service",
          "United Rentals, Inc.",
          "United Technologies",
          "Verisk Analytics",
          "Waste Management Inc.",
          "Xylem Inc."
         ],
         "xaxis": "x",
         "y": [
          138721055226,
          10783419933,
          6242377704,
          7903173734,
          7599609494,
          24594852352,
          17139651923,
          205617405233,
          12932483889,
          91822049046,
          16676145923,
          47340511707,
          28669230787,
          52186628646,
          38393603535,
          15566645713,
          35961772000,
          44040298425,
          14121334618,
          11040678071,
          15311373377,
          67280478816,
          5427884956,
          7978485059,
          24916503061,
          9624169008,
          64180390701,
          132249296250,
          14639308205,
          114422168609,
          10628247899,
          17969275816,
          55994378108,
          22785450609,
          12945366350,
          9326484316,
          34822224800,
          11037040988,
          16229343134,
          98102120000,
          13428792315,
          13377670080,
          40543547441,
          58782413951,
          24152102921,
          24421668509,
          12466660892,
          5330131216,
          59066255840,
          21590903863,
          7047165475,
          24123216432,
          22197870556,
          27247789759,
          34351211637,
          6218560288,
          15254672353,
          19363059152,
          96436356833,
          14654954091,
          105387272474,
          15594677147,
          35488486675,
          12915021000
         ],
         "yaxis": "y"
        },
        {
         "alignmentgroup": "True",
         "bingroup": "x",
         "histfunc": "sum",
         "hovertemplate": "Sector=Health Care<br>Name=%{x}<br>sum of Market Cap=%{y}<extra></extra>",
         "legendgroup": "Health Care",
         "marker": {
          "color": "#EF553B"
         },
         "name": "Health Care",
         "offsetgroup": "Health Care",
         "orientation": "v",
         "showlegend": true,
         "type": "histogram",
         "x": [
          "Abbott Laboratories",
          "AbbVie Inc.",
          "Aetna Inc",
          "Agilent Technologies Inc",
          "Alexion Pharmaceuticals",
          "Align Technology",
          "Allergan, Plc",
          "AmerisourceBergen Corp",
          "Amgen Inc",
          "Anthem Inc.",
          "Baxter International Inc.",
          "Becton Dickinson",
          "Biogen Inc.",
          "Boston Scientific",
          "Bristol-Myers Squibb",
          "Cardinal Health Inc.",
          "Celgene Corp.",
          "Centene Corporation",
          "Cerner",
          "CIGNA Corp.",
          "Danaher Corp.",
          "DaVita Inc.",
          "Dentsply Sirona",
          "Edwards Lifesciences",
          "Envision Healthcare",
          "Express Scripts",
          "Gilead Sciences",
          "Henry Schein",
          "Hologic",
          "Humana Inc.",
          "IDEXX Laboratories",
          "Illumina Inc",
          "Incyte",
          "Intuitive Surgical Inc.",
          "IQVIA Holdings Inc.",
          "Johnson & Johnson",
          "Laboratory Corp. of America Holding",
          "Lilly (Eli) & Co.",
          "McKesson Corp.",
          "Medtronic plc",
          "Merck & Co.",
          "Mettler Toledo",
          "Mylan N.V.",
          "Patterson Companies",
          "PerkinElmer",
          "Pfizer Inc.",
          "Quest Diagnostics",
          "Regeneron",
          "ResMed",
          "Stryker Corp.",
          "The Cooper Companies",
          "Thermo Fisher Scientific",
          "United Health Group Inc.",
          "Universal Health Services, Inc.",
          "Varian Medical Systems",
          "Vertex Pharmaceuticals Inc",
          "Waters Corporation",
          "Zimmer Biomet Holdings",
          "Zoetis"
         ],
         "xaxis": "x",
         "y": [
          102121042306,
          181386347059,
          59197016353,
          21984606918,
          26172439795,
          18788041378,
          56668833898,
          20587704101,
          128133340000,
          61221978627,
          35713732553,
          50910180308,
          69157726427,
          36142506007,
          102506501960,
          20493281175,
          74921079154,
          18012494506,
          21101697598,
          47680910480,
          66351150000,
          13685178000,
          13390513478,
          27447099863,
          4212729247,
          42449656350,
          108106822109,
          11452961984,
          11181493750,
          36973617235,
          15422885020,
          32295200000,
          18220961259,
          44866621303,
          20426488713,
          353062464971,
          17271388000,
          84475986228,
          31534840262,
          110107062300,
          152241530340,
          16420774443,
          21698849265,
          3209792400,
          8351767268,
          208505541949,
          13578300000,
          35950369241,
          13233622689,
          57509096756,
          11297958140,
          83226586345,
          218834811333,
          11116075286,
          10692681720,
          39369386348,
          16064078572,
          24454698119,
          35991109776
         ],
         "yaxis": "y"
        },
        {
         "alignmentgroup": "True",
         "bingroup": "x",
         "histfunc": "sum",
         "hovertemplate": "Sector=Information Technology<br>Name=%{x}<br>sum of Market Cap=%{y}<extra></extra>",
         "legendgroup": "Information Technology",
         "marker": {
          "color": "#00cc96"
         },
         "name": "Information Technology",
         "offsetgroup": "Information Technology",
         "orientation": "v",
         "showlegend": true,
         "type": "histogram",
         "x": [
          "Accenture plc",
          "Activision Blizzard",
          "Adobe Systems Inc",
          "Advanced Micro Devices Inc",
          "Akamai Technologies Inc",
          "Alliance Data Systems",
          "Alphabet Inc Class A",
          "Alphabet Inc Class C",
          "Amphenol Corp",
          "Analog Devices, Inc.",
          "ANSYS",
          "Apple Inc.",
          "Applied Materials Inc",
          "Autodesk Inc",
          "Automatic Data Processing",
          "Broadcom",
          "CA, Inc.",
          "Cadence Design Systems",
          "Cisco Systems",
          "Citrix Systems",
          "Cognizant Technology Solutions",
          "Corning Inc.",
          "CSRA Inc.",
          "DXC Technology",
          "eBay Inc.",
          "Electronic Arts",
          "F5 Networks",
          "Facebook, Inc.",
          "Fidelity National Information Services",
          "Fiserv Inc",
          "FLIR Systems",
          "Gartner Inc",
          "Global Payments Inc.",
          "Harris Corporation",
          "Hewlett Packard Enterprise",
          "HP Inc.",
          "Intel Corp.",
          "International Business Machines",
          "Intuit Inc.",
          "Juniper Networks",
          "KLA-Tencor Corp.",
          "Lam Research",
          "Mastercard Inc.",
          "Microchip Technology",
          "Micron Technology",
          "Microsoft Corp.",
          "Motorola Solutions Inc.",
          "NetApp",
          "Netflix Inc.",
          "Nvidia Corporation",
          "Oracle Corp.",
          "Paychex Inc.",
          "PayPal",
          "Qorvo",
          "QUALCOMM Inc.",
          "Red Hat Inc.",
          "Salesforce.com",
          "Seagate Technology",
          "Skyworks Solutions",
          "Symantec Corp.",
          "Synopsys Inc.",
          "TE Connectivity Ltd.",
          "Texas Instruments",
          "Total System Services",
          "Verisign Inc.",
          "Visa Inc.",
          "Western Digital",
          "Western Union Co",
          "Xerox Corp.",
          "Xilinx Inc"
         ],
         "xaxis": "x",
         "y": [
          98765855553,
          52518668144,
          94550214268,
          11191663795,
          10906904066,
          13632608582,
          733823966137,
          728535558140,
          26955335395,
          31811578855,
          13155919129,
          809508034020,
          51296481503,
          24348294504,
          50337702249,
          92791974933,
          14175422936,
          10890625200,
          199425716482,
          13199167493,
          45119684067,
          25759280346,
          5134501276,
          27408621020,
          44216696399,
          37890226992,
          8744185796,
          523423036576,
          32308459680,
          26918949723,
          6706992926,
          10828314389,
          16920023264,
          18140726600,
          24800859640,
          34895294088,
          211536000000,
          142433003505,
          41233771565,
          9267350000,
          16078622033,
          27967534829,
          187102014193,
          19393095636,
          48576791974,
          689978437468,
          16626039679,
          15375210915,
          114805404842,
          138652800000,
          202302349740,
          23253666810,
          90708000000,
          9877885146,
          96282828902,
          22799923883,
          79489115000,
          14113197720,
          18493080922,
          16520497264,
          12767067883,
          34983666316,
          100262526470,
          15694951118,
          10754983829,
          270038723213,
          24760297793,
          8951609207,
          7938833340,
          17064975551
         ],
         "yaxis": "y"
        },
        {
         "alignmentgroup": "True",
         "bingroup": "x",
         "histfunc": "sum",
         "hovertemplate": "Sector=Consumer Discretionary<br>Name=%{x}<br>sum of Market Cap=%{y}<extra></extra>",
         "legendgroup": "Consumer Discretionary",
         "marker": {
          "color": "#ab63fa"
         },
         "name": "Consumer Discretionary",
         "offsetgroup": "Consumer Discretionary",
         "orientation": "v",
         "showlegend": true,
         "type": "histogram",
         "x": [
          "Advance Auto Parts",
          "Amazon.com Inc",
          "Aptiv Plc",
          "AutoZone Inc",
          "Best Buy Co. Inc.",
          "BorgWarner",
          "Carmax Inc",
          "Carnival Corp.",
          "CBS Corp.",
          "Charter Communications",
          "Chipotle Mexican Grill",
          "Comcast Corp.",
          "D. R. Horton",
          "Darden Restaurants",
          "Discovery Communications-A",
          "Discovery Communications-C",
          "Dish Network",
          "Dollar General",
          "Dollar Tree",
          "Expedia Inc.",
          "Ford Motor",
          "Gap Inc.",
          "Garmin Ltd.",
          "General Motors",
          "Genuine Parts",
          "Goodyear Tire & Rubber",
          "Hanesbrands Inc",
          "Harley-Davidson",
          "Hasbro Inc.",
          "Hilton Worldwide Holdings Inc",
          "Home Depot",
          "Interpublic Group",
          "Kohl's Corp.",
          "L Brands Inc.",
          "Leggett & Platt",
          "Lennar Corp.",
          "LKQ Corporation",
          "Lowe's Cos.",
          "Macy's Inc.",
          "Marriott Int'l.",
          "Mattel Inc.",
          "McDonald's Corp.",
          "MGM Resorts International",
          "Michael Kors Holdings",
          "Mohawk Industries",
          "Newell Brands",
          "News Corp. Class A",
          "News Corp. Class B",
          "Nike",
          "Nordstrom",
          "Norwegian Cruise Line",
          "O'Reilly Automotive",
          "Omnicom Group",
          "Polo Ralph Lauren Corp.",
          "Priceline.com Inc",
          "Pulte Homes Inc.",
          "PVH Corp.",
          "Ross Stores",
          "Royal Caribbean Cruises Ltd",
          "Scripps Networks Interactive Inc.",
          "Signet Jewelers",
          "Snap-On Inc.",
          "Stanley Black & Decker",
          "Starbucks Corp.",
          "Target Corp.",
          "The Walt Disney Company",
          "Tiffany & Co.",
          "Time Warner Inc.",
          "TJX Companies Inc.",
          "Tractor Supply Company",
          "TripAdvisor",
          "Twenty-First Century Fox Class A",
          "Twenty-First Century Fox Class B",
          "Ulta Salon Cosmetics & Fragrance Inc",
          "Under Armour Class A",
          "Under Armour Class C",
          "V.F. Corp.",
          "Viacom Inc.",
          "Whirlpool Corp.",
          "Wyndham Worldwide",
          "Wynn Resorts Ltd",
          "Yum! Brands Inc"
         ],
         "xaxis": "x",
         "y": [
          8123611867,
          685873374731,
          24906530300,
          19922021415,
          20831186176,
          11596117445,
          11827453706,
          49180044050,
          20431395736,
          86708878113,
          7685283970,
          186476996883,
          17390873686,
          11745595320,
          8763756733,
          8320262123,
          21032719056,
          26580644874,
          25151198417,
          19722178609,
          42414328338,
          12684517721,
          11840331607,
          61536606173,
          14554321748,
          8244568238,
          8006268615,
          8158949890,
          12732072001,
          26242415796,
          223378633329,
          8277363031,
          10570861198,
          13862042842,
          6034600480,
          14615967194,
          12469931896,
          82909678852,
          7541063495,
          50910130358,
          5843402350,
          132101623787,
          19633674337,
          10053919023,
          19897356456,
          14438346000,
          9356906461,
          9496735699,
          106776113744,
          8212509855,
          13191507318,
          21433781860,
          17377551986,
          8753430477,
          91817448863,
          8792572352,
          11478625926,
          29803566306,
          27418147452,
          11328642413,
          3034275549,
          9499107736,
          24496399600,
          76548976000,
          39816696539,
          157817273295,
          12810515320,
          74185800000,
          48181450881,
          8459271203,
          5700998508,
          44027094922,
          66135313503,
          13300000127,
          5856913571,
          5366628950,
          31797645904,
          10601008017,
          12177920000,
          11993835688,
          18225400525,
          27003303098
         ],
         "yaxis": "y"
        },
        {
         "alignmentgroup": "True",
         "bingroup": "x",
         "histfunc": "sum",
         "hovertemplate": "Sector=Utilities<br>Name=%{x}<br>sum of Market Cap=%{y}<extra></extra>",
         "legendgroup": "Utilities",
         "marker": {
          "color": "#FFA15A"
         },
         "name": "Utilities",
         "offsetgroup": "Utilities",
         "orientation": "v",
         "showlegend": true,
         "type": "histogram",
         "x": [
          "AES Corp",
          "Alliant Energy Corp",
          "Ameren Corp",
          "American Electric Power",
          "American Water Works Company Inc",
          "CenterPoint Energy",
          "CMS Energy",
          "Consolidated Edison",
          "Dominion Energy",
          "DTE Energy Co.",
          "Duke Energy",
          "Edison Int'l",
          "Entergy Corp.",
          "Eversource Energy",
          "Exelon Corp.",
          "FirstEnergy Corp",
          "NextEra Energy",
          "NiSource Inc.",
          "NRG Energy",
          "PG&E Corp.",
          "Pinnacle West Capital",
          "PPL Corp.",
          "Public Serv. Enterprise Inc.",
          "SCANA Corp",
          "Sempra Energy",
          "Southern Co.",
          "Wec Energy Group Inc",
          "Xcel Energy Inc"
         ],
         "xaxis": "x",
         "y": [
          6920851212,
          8670163500,
          12905744906,
          31701916517,
          13906146184,
          11362043297,
          11873960824,
          23335777662,
          47543571860,
          17808073691,
          52078185682,
          19447670886,
          13116894887,
          18027633617,
          34734816899,
          13706075072,
          69661177770,
          7776566371,
          8030036023,
          20309412381,
          8397609889,
          20839814845,
          24138050331,
          5229448882,
          26163862235,
          43497224128,
          18890296993,
          21559611927
         ],
         "yaxis": "y"
        },
        {
         "alignmentgroup": "True",
         "bingroup": "x",
         "histfunc": "sum",
         "hovertemplate": "Sector=Financials<br>Name=%{x}<br>sum of Market Cap=%{y}<extra></extra>",
         "legendgroup": "Financials",
         "marker": {
          "color": "#19d3f3"
         },
         "name": "Financials",
         "offsetgroup": "Financials",
         "orientation": "v",
         "showlegend": true,
         "type": "histogram",
         "x": [
          "Affiliated Managers Group Inc",
          "AFLAC Inc",
          "Allstate Corp",
          "American Express Co",
          "American International Group, Inc.",
          "Ameriprise Financial",
          "Aon plc",
          "Arthur J. Gallagher & Co.",
          "Assurant Inc",
          "Bank of America Corp",
          "BB&T Corporation",
          "Berkshire Hathaway",
          "BlackRock",
          "Block H&R",
          "Brighthouse Financial Inc",
          "Capital One Financial",
          "CBOE Holdings",
          "Charles Schwab Corporation",
          "Chubb Limited",
          "Cincinnati Financial",
          "Citigroup Inc.",
          "Citizens Financial Group",
          "CME Group Inc.",
          "Comerica Inc.",
          "Discover Financial Services",
          "E*Trade",
          "Everest Re Group Ltd.",
          "Fifth Third Bancorp",
          "Franklin Resources",
          "Goldman Sachs Group",
          "Hartford Financial Svc.Gp.",
          "Huntington Bancshares",
          "Intercontinental Exchange",
          "Invesco Ltd.",
          "JPMorgan Chase & Co.",
          "KeyCorp",
          "Leucadia National Corp.",
          "Lincoln National",
          "Loews Corp.",
          "M&T Bank Corp.",
          "Marsh & McLennan",
          "MetLife Inc.",
          "Moody's Corp",
          "Morgan Stanley",
          "Nasdaq, Inc.",
          "Navient",
          "Northern Trust Corp.",
          "People's United Financial",
          "PNC Financial Services",
          "Principal Financial Group",
          "Progressive Corp.",
          "Prudential Financial",
          "Raymond James Financial Inc.",
          "Regions Financial Corp.",
          "S&P Global, Inc.",
          "State Street Corp.",
          "SunTrust Banks",
          "Synchrony Financial",
          "T. Rowe Price Group",
          "The Bank of New York Mellon Corp.",
          "The Travelers Companies Inc.",
          "Torchmark Corp.",
          "U.S. Bancorp",
          "Unum Group",
          "Wells Fargo",
          "Willis Towers Watson",
          "XL Capital",
          "Zions Bancorp"
         ],
         "xaxis": "x",
         "y": [
          10442174371,
          33422948000,
          34759468905,
          80410990000,
          54360073164,
          23472126000,
          35123123422,
          11968488290,
          4653993594,
          321478200969,
          42087562920,
          261401203633,
          85907759858,
          5381433872,
          7066613254,
          47637260000,
          12998295607,
          69750188843,
          68424670566,
          11916533018,
          192709302000,
          22008050974,
          54423298745,
          16274969256,
          27433540000,
          13754977266,
          10131892523,
          22437653700,
          21759187973,
          96978500251,
          19926305632,
          16766497291,
          41373051167,
          13620847614,
          386613611000,
          22589744920,
          8910389431,
          17123031000,
          16111166935,
          27840827434,
          41819440000,
          48679364276,
          30189978000,
          97535400000,
          12844304115,
          3692691330,
          22908130223,
          6527616000,
          73315000000,
          18457199721,
          31062780000,
          47136080000,
          13216271700,
          21500640000,
          46585950000,
          38059113300,
          32498948310,
          28893750000,
          25810865035,
          56083904906,
          38903131815,
          9614412169,
          90940115897,
          11256432318,
          281463620775,
          20780269334,
          10753423590,
          10670678640
         ],
         "yaxis": "y"
        },
        {
         "alignmentgroup": "True",
         "bingroup": "x",
         "histfunc": "sum",
         "hovertemplate": "Sector=Materials<br>Name=%{x}<br>sum of Market Cap=%{y}<extra></extra>",
         "legendgroup": "Materials",
         "marker": {
          "color": "#FF6692"
         },
         "name": "Materials",
         "offsetgroup": "Materials",
         "orientation": "v",
         "showlegend": true,
         "type": "histogram",
         "x": [
          "Air Products & Chemicals Inc",
          "Albemarle Corp",
          "Avery Dennison Corp",
          "Ball Corp",
          "CF Industries Holdings Inc",
          "DowDuPont",
          "Eastman Chemical",
          "Ecolab Inc.",
          "FMC Corporation",
          "Freeport-McMoRan Inc.",
          "International Paper",
          "Intl Flavors & Fragrances",
          "LyondellBasell",
          "Martin Marietta Materials",
          "Monsanto Co.",
          "Newmont Mining Corporation",
          "Nucor Corp.",
          "Packaging Corporation of America",
          "PPG Industries",
          "Praxair Inc.",
          "Sealed Air",
          "Sherwin-Williams",
          "The Mosaic Company",
          "Vulcan Materials",
          "WestRock Company"
         ],
         "xaxis": "x",
         "y": [
          34638387128,
          11782151266,
          10104814319,
          13767688518,
          9209106695,
          165203312427,
          14226830813,
          38460272282,
          11273961835,
          25853969330,
          24465996443,
          11270040447,
          43556650000,
          13756812736,
          53076824328,
          19749449484,
          20003317128,
          11051273948,
          29043337549,
          42948664203,
          8001938397,
          37730994828,
          9726962131,
          16964162228,
          16433340688
         ],
         "yaxis": "y"
        },
        {
         "alignmentgroup": "True",
         "bingroup": "x",
         "histfunc": "sum",
         "hovertemplate": "Sector=Real Estate<br>Name=%{x}<br>sum of Market Cap=%{y}<extra></extra>",
         "legendgroup": "Real Estate",
         "marker": {
          "color": "#B6E880"
         },
         "name": "Real Estate",
         "offsetgroup": "Real Estate",
         "orientation": "v",
         "showlegend": true,
         "type": "histogram",
         "x": [
          "Alexandria Real Estate Equities Inc",
          "American Tower Corp A",
          "Apartment Investment & Management",
          "AvalonBay Communities, Inc.",
          "Boston Properties",
          "CBRE Group",
          "Crown Castle International Corp.",
          "Digital Realty Trust Inc",
          "Duke Realty Corp",
          "Equinix",
          "Equity Residential",
          "Essex Property Trust, Inc.",
          "Extra Space Storage",
          "Federal Realty Investment Trust",
          "General Growth Properties Inc.",
          "HCP Inc.",
          "Host Hotels & Resorts",
          "Iron Mountain Incorporated",
          "Kimco Realty",
          "Macerich",
          "Mid-America Apartments",
          "Prologis",
          "Public Storage",
          "Realty Income Corporation",
          "Regency Centers Corporation",
          "SBA Communications",
          "Simon Property Group Inc",
          "SL Green Realty",
          "UDR Inc",
          "Ventas Inc",
          "Vornado Realty Trust",
          "Welltower Inc.",
          "Weyerhaeuser Corp."
         ],
         "xaxis": "x",
         "y": [
          12043374429,
          59213892640,
          6156884142,
          21856547430,
          17799878487,
          14440591731,
          44183023189,
          21400952517,
          9035293365,
          33333813618,
          20925508143,
          14383525286,
          10133547517,
          8077368506,
          21018887283,
          10967755538,
          14394715334,
          9410249279,
          6180487499,
          8473119166,
          9992628990,
          31953288000,
          32258539942,
          13784942453,
          9858367494,
          19572031314,
          48139839531,
          8617714345,
          9050154422,
          18865999082,
          12778779911,
          20943679019,
          26070297960
         ],
         "yaxis": "y"
        },
        {
         "alignmentgroup": "True",
         "bingroup": "x",
         "histfunc": "sum",
         "hovertemplate": "Sector=Consumer Staples<br>Name=%{x}<br>sum of Market Cap=%{y}<extra></extra>",
         "legendgroup": "Consumer Staples",
         "marker": {
          "color": "#FF97FF"
         },
         "name": "Consumer Staples",
         "offsetgroup": "Consumer Staples",
         "orientation": "v",
         "showlegend": true,
         "type": "histogram",
         "x": [
          "Altria Group Inc",
          "Archer-Daniels-Midland Co",
          "Brown-Forman Corp.",
          "Campbell Soup",
          "Church & Dwight",
          "Coca-Cola Company (The)",
          "Colgate-Palmolive",
          "Conagra Brands",
          "Constellation Brands",
          "Costco Wholesale Corp.",
          "Coty, Inc",
          "CVS Health",
          "Dr Pepper Snapple Group",
          "Estee Lauder Cos.",
          "General Mills",
          "Hormel Foods Corp.",
          "JM Smucker",
          "Kellogg Co.",
          "Kimberly-Clark",
          "Kraft Heinz Co",
          "Kroger Co.",
          "McCormick & Co.",
          "Molson Coors Brewing Company",
          "Mondelez International",
          "Monster Beverage",
          "Philip Morris International",
          "Procter & Gamble",
          "Sysco Corp.",
          "The Clorox Company",
          "The Hershey Company",
          "Tyson Foods",
          "Wal-Mart Stores",
          "Walgreens Boots Alliance"
         ],
         "xaxis": "x",
         "y": [
          126985101434,
          23594770663,
          5498033502,
          13467193376,
          11838963451,
          189855335601,
          61616643498,
          14379717835,
          41697453163,
          80439804508,
          13101112504,
          75323141722,
          21209783858,
          49543264457,
          31098243069,
          17338613096,
          13612394896,
          22182794875,
          39449596000,
          89618309338,
          25471355847,
          13459353253,
          12396862128,
          65827817742,
          36403831015,
          153580671803,
          206318943299,
          30445320778,
          16540418002,
          20867272020,
          26957526800,
          304680931618,
          70862541911
         ],
         "yaxis": "y"
        },
        {
         "alignmentgroup": "True",
         "bingroup": "x",
         "histfunc": "sum",
         "hovertemplate": "Sector=Energy<br>Name=%{x}<br>sum of Market Cap=%{y}<extra></extra>",
         "legendgroup": "Energy",
         "marker": {
          "color": "#FECB52"
         },
         "name": "Energy",
         "offsetgroup": "Energy",
         "orientation": "v",
         "showlegend": true,
         "type": "histogram",
         "x": [
          "Anadarko Petroleum Corp",
          "Andeavor",
          "Apache Corporation",
          "Baker Hughes, a GE Company",
          "Cabot Oil & Gas",
          "Chesapeake Energy",
          "Chevron Corp.",
          "Cimarex Energy",
          "Concho Resources",
          "ConocoPhillips",
          "Devon Energy Corp.",
          "EOG Resources",
          "EQT Corporation",
          "Exxon Mobil Corp.",
          "Halliburton Co.",
          "Helmerich & Payne",
          "Hess Corporation",
          "Kinder Morgan",
          "Marathon Petroleum",
          "National Oilwell Varco Inc.",
          "Newfield Exploration Co",
          "Noble Energy Inc",
          "ONEOK",
          "Phillips 66",
          "Pioneer Natural Resources",
          "Range Resources Corp.",
          "Schlumberger Ltd.",
          "TechnipFMC",
          "Valero Energy",
          "Williams Cos."
         ],
         "xaxis": "x",
         "y": [
          32129091747,
          15696449735,
          15066280977,
          32995712852,
          10808821635,
          2626102121,
          218978820159,
          10089082025,
          22021882339,
          65482462410,
          19317380000,
          61164030149,
          12638828950,
          326148660000,
          43356557470,
          7345243806,
          14016129999,
          38612712234,
          31633740000,
          12940096785,
          5695123080,
          13177325251,
          21988472489,
          47996220000,
          29983119693,
          3255587970,
          96529311126,
          14163064455,
          39312309113,
          24802396470
         ],
         "yaxis": "y"
        },
        {
         "alignmentgroup": "True",
         "bingroup": "x",
         "histfunc": "sum",
         "hovertemplate": "Sector=Telecommunication Services<br>Name=%{x}<br>sum of Market Cap=%{y}<extra></extra>",
         "legendgroup": "Telecommunication Services",
         "marker": {
          "color": "#636efa"
         },
         "name": "Telecommunication Services",
         "offsetgroup": "Telecommunication Services",
         "orientation": "v",
         "showlegend": true,
         "type": "histogram",
         "x": [
          "AT&T Inc",
          "CenturyLink Inc",
          "Verizon Communications"
         ],
         "xaxis": "x",
         "y": [
          226713270000,
          18237196861,
          208092277044
         ],
         "yaxis": "y"
        }
       ],
       "layout": {
        "barmode": "relative",
        "legend": {
         "title": {
          "text": "Sector"
         },
         "tracegroupgap": 0
        },
        "margin": {
         "t": 60
        },
        "template": {
         "data": {
          "bar": [
           {
            "error_x": {
             "color": "#2a3f5f"
            },
            "error_y": {
             "color": "#2a3f5f"
            },
            "marker": {
             "line": {
              "color": "#E5ECF6",
              "width": 0.5
             }
            },
            "type": "bar"
           }
          ],
          "barpolar": [
           {
            "marker": {
             "line": {
              "color": "#E5ECF6",
              "width": 0.5
             }
            },
            "type": "barpolar"
           }
          ],
          "carpet": [
           {
            "aaxis": {
             "endlinecolor": "#2a3f5f",
             "gridcolor": "white",
             "linecolor": "white",
             "minorgridcolor": "white",
             "startlinecolor": "#2a3f5f"
            },
            "baxis": {
             "endlinecolor": "#2a3f5f",
             "gridcolor": "white",
             "linecolor": "white",
             "minorgridcolor": "white",
             "startlinecolor": "#2a3f5f"
            },
            "type": "carpet"
           }
          ],
          "choropleth": [
           {
            "colorbar": {
             "outlinewidth": 0,
             "ticks": ""
            },
            "type": "choropleth"
           }
          ],
          "contour": [
           {
            "colorbar": {
             "outlinewidth": 0,
             "ticks": ""
            },
            "colorscale": [
             [
              0,
              "#0d0887"
             ],
             [
              0.1111111111111111,
              "#46039f"
             ],
             [
              0.2222222222222222,
              "#7201a8"
             ],
             [
              0.3333333333333333,
              "#9c179e"
             ],
             [
              0.4444444444444444,
              "#bd3786"
             ],
             [
              0.5555555555555556,
              "#d8576b"
             ],
             [
              0.6666666666666666,
              "#ed7953"
             ],
             [
              0.7777777777777778,
              "#fb9f3a"
             ],
             [
              0.8888888888888888,
              "#fdca26"
             ],
             [
              1,
              "#f0f921"
             ]
            ],
            "type": "contour"
           }
          ],
          "contourcarpet": [
           {
            "colorbar": {
             "outlinewidth": 0,
             "ticks": ""
            },
            "type": "contourcarpet"
           }
          ],
          "heatmap": [
           {
            "colorbar": {
             "outlinewidth": 0,
             "ticks": ""
            },
            "colorscale": [
             [
              0,
              "#0d0887"
             ],
             [
              0.1111111111111111,
              "#46039f"
             ],
             [
              0.2222222222222222,
              "#7201a8"
             ],
             [
              0.3333333333333333,
              "#9c179e"
             ],
             [
              0.4444444444444444,
              "#bd3786"
             ],
             [
              0.5555555555555556,
              "#d8576b"
             ],
             [
              0.6666666666666666,
              "#ed7953"
             ],
             [
              0.7777777777777778,
              "#fb9f3a"
             ],
             [
              0.8888888888888888,
              "#fdca26"
             ],
             [
              1,
              "#f0f921"
             ]
            ],
            "type": "heatmap"
           }
          ],
          "heatmapgl": [
           {
            "colorbar": {
             "outlinewidth": 0,
             "ticks": ""
            },
            "colorscale": [
             [
              0,
              "#0d0887"
             ],
             [
              0.1111111111111111,
              "#46039f"
             ],
             [
              0.2222222222222222,
              "#7201a8"
             ],
             [
              0.3333333333333333,
              "#9c179e"
             ],
             [
              0.4444444444444444,
              "#bd3786"
             ],
             [
              0.5555555555555556,
              "#d8576b"
             ],
             [
              0.6666666666666666,
              "#ed7953"
             ],
             [
              0.7777777777777778,
              "#fb9f3a"
             ],
             [
              0.8888888888888888,
              "#fdca26"
             ],
             [
              1,
              "#f0f921"
             ]
            ],
            "type": "heatmapgl"
           }
          ],
          "histogram": [
           {
            "marker": {
             "colorbar": {
              "outlinewidth": 0,
              "ticks": ""
             }
            },
            "type": "histogram"
           }
          ],
          "histogram2d": [
           {
            "colorbar": {
             "outlinewidth": 0,
             "ticks": ""
            },
            "colorscale": [
             [
              0,
              "#0d0887"
             ],
             [
              0.1111111111111111,
              "#46039f"
             ],
             [
              0.2222222222222222,
              "#7201a8"
             ],
             [
              0.3333333333333333,
              "#9c179e"
             ],
             [
              0.4444444444444444,
              "#bd3786"
             ],
             [
              0.5555555555555556,
              "#d8576b"
             ],
             [
              0.6666666666666666,
              "#ed7953"
             ],
             [
              0.7777777777777778,
              "#fb9f3a"
             ],
             [
              0.8888888888888888,
              "#fdca26"
             ],
             [
              1,
              "#f0f921"
             ]
            ],
            "type": "histogram2d"
           }
          ],
          "histogram2dcontour": [
           {
            "colorbar": {
             "outlinewidth": 0,
             "ticks": ""
            },
            "colorscale": [
             [
              0,
              "#0d0887"
             ],
             [
              0.1111111111111111,
              "#46039f"
             ],
             [
              0.2222222222222222,
              "#7201a8"
             ],
             [
              0.3333333333333333,
              "#9c179e"
             ],
             [
              0.4444444444444444,
              "#bd3786"
             ],
             [
              0.5555555555555556,
              "#d8576b"
             ],
             [
              0.6666666666666666,
              "#ed7953"
             ],
             [
              0.7777777777777778,
              "#fb9f3a"
             ],
             [
              0.8888888888888888,
              "#fdca26"
             ],
             [
              1,
              "#f0f921"
             ]
            ],
            "type": "histogram2dcontour"
           }
          ],
          "mesh3d": [
           {
            "colorbar": {
             "outlinewidth": 0,
             "ticks": ""
            },
            "type": "mesh3d"
           }
          ],
          "parcoords": [
           {
            "line": {
             "colorbar": {
              "outlinewidth": 0,
              "ticks": ""
             }
            },
            "type": "parcoords"
           }
          ],
          "pie": [
           {
            "automargin": true,
            "type": "pie"
           }
          ],
          "scatter": [
           {
            "marker": {
             "colorbar": {
              "outlinewidth": 0,
              "ticks": ""
             }
            },
            "type": "scatter"
           }
          ],
          "scatter3d": [
           {
            "line": {
             "colorbar": {
              "outlinewidth": 0,
              "ticks": ""
             }
            },
            "marker": {
             "colorbar": {
              "outlinewidth": 0,
              "ticks": ""
             }
            },
            "type": "scatter3d"
           }
          ],
          "scattercarpet": [
           {
            "marker": {
             "colorbar": {
              "outlinewidth": 0,
              "ticks": ""
             }
            },
            "type": "scattercarpet"
           }
          ],
          "scattergeo": [
           {
            "marker": {
             "colorbar": {
              "outlinewidth": 0,
              "ticks": ""
             }
            },
            "type": "scattergeo"
           }
          ],
          "scattergl": [
           {
            "marker": {
             "colorbar": {
              "outlinewidth": 0,
              "ticks": ""
             }
            },
            "type": "scattergl"
           }
          ],
          "scattermapbox": [
           {
            "marker": {
             "colorbar": {
              "outlinewidth": 0,
              "ticks": ""
             }
            },
            "type": "scattermapbox"
           }
          ],
          "scatterpolar": [
           {
            "marker": {
             "colorbar": {
              "outlinewidth": 0,
              "ticks": ""
             }
            },
            "type": "scatterpolar"
           }
          ],
          "scatterpolargl": [
           {
            "marker": {
             "colorbar": {
              "outlinewidth": 0,
              "ticks": ""
             }
            },
            "type": "scatterpolargl"
           }
          ],
          "scatterternary": [
           {
            "marker": {
             "colorbar": {
              "outlinewidth": 0,
              "ticks": ""
             }
            },
            "type": "scatterternary"
           }
          ],
          "surface": [
           {
            "colorbar": {
             "outlinewidth": 0,
             "ticks": ""
            },
            "colorscale": [
             [
              0,
              "#0d0887"
             ],
             [
              0.1111111111111111,
              "#46039f"
             ],
             [
              0.2222222222222222,
              "#7201a8"
             ],
             [
              0.3333333333333333,
              "#9c179e"
             ],
             [
              0.4444444444444444,
              "#bd3786"
             ],
             [
              0.5555555555555556,
              "#d8576b"
             ],
             [
              0.6666666666666666,
              "#ed7953"
             ],
             [
              0.7777777777777778,
              "#fb9f3a"
             ],
             [
              0.8888888888888888,
              "#fdca26"
             ],
             [
              1,
              "#f0f921"
             ]
            ],
            "type": "surface"
           }
          ],
          "table": [
           {
            "cells": {
             "fill": {
              "color": "#EBF0F8"
             },
             "line": {
              "color": "white"
             }
            },
            "header": {
             "fill": {
              "color": "#C8D4E3"
             },
             "line": {
              "color": "white"
             }
            },
            "type": "table"
           }
          ]
         },
         "layout": {
          "annotationdefaults": {
           "arrowcolor": "#2a3f5f",
           "arrowhead": 0,
           "arrowwidth": 1
          },
          "autotypenumbers": "strict",
          "coloraxis": {
           "colorbar": {
            "outlinewidth": 0,
            "ticks": ""
           }
          },
          "colorscale": {
           "diverging": [
            [
             0,
             "#8e0152"
            ],
            [
             0.1,
             "#c51b7d"
            ],
            [
             0.2,
             "#de77ae"
            ],
            [
             0.3,
             "#f1b6da"
            ],
            [
             0.4,
             "#fde0ef"
            ],
            [
             0.5,
             "#f7f7f7"
            ],
            [
             0.6,
             "#e6f5d0"
            ],
            [
             0.7,
             "#b8e186"
            ],
            [
             0.8,
             "#7fbc41"
            ],
            [
             0.9,
             "#4d9221"
            ],
            [
             1,
             "#276419"
            ]
           ],
           "sequential": [
            [
             0,
             "#0d0887"
            ],
            [
             0.1111111111111111,
             "#46039f"
            ],
            [
             0.2222222222222222,
             "#7201a8"
            ],
            [
             0.3333333333333333,
             "#9c179e"
            ],
            [
             0.4444444444444444,
             "#bd3786"
            ],
            [
             0.5555555555555556,
             "#d8576b"
            ],
            [
             0.6666666666666666,
             "#ed7953"
            ],
            [
             0.7777777777777778,
             "#fb9f3a"
            ],
            [
             0.8888888888888888,
             "#fdca26"
            ],
            [
             1,
             "#f0f921"
            ]
           ],
           "sequentialminus": [
            [
             0,
             "#0d0887"
            ],
            [
             0.1111111111111111,
             "#46039f"
            ],
            [
             0.2222222222222222,
             "#7201a8"
            ],
            [
             0.3333333333333333,
             "#9c179e"
            ],
            [
             0.4444444444444444,
             "#bd3786"
            ],
            [
             0.5555555555555556,
             "#d8576b"
            ],
            [
             0.6666666666666666,
             "#ed7953"
            ],
            [
             0.7777777777777778,
             "#fb9f3a"
            ],
            [
             0.8888888888888888,
             "#fdca26"
            ],
            [
             1,
             "#f0f921"
            ]
           ]
          },
          "colorway": [
           "#636efa",
           "#EF553B",
           "#00cc96",
           "#ab63fa",
           "#FFA15A",
           "#19d3f3",
           "#FF6692",
           "#B6E880",
           "#FF97FF",
           "#FECB52"
          ],
          "font": {
           "color": "#2a3f5f"
          },
          "geo": {
           "bgcolor": "white",
           "lakecolor": "white",
           "landcolor": "#E5ECF6",
           "showlakes": true,
           "showland": true,
           "subunitcolor": "white"
          },
          "hoverlabel": {
           "align": "left"
          },
          "hovermode": "closest",
          "mapbox": {
           "style": "light"
          },
          "paper_bgcolor": "white",
          "plot_bgcolor": "#E5ECF6",
          "polar": {
           "angularaxis": {
            "gridcolor": "white",
            "linecolor": "white",
            "ticks": ""
           },
           "bgcolor": "#E5ECF6",
           "radialaxis": {
            "gridcolor": "white",
            "linecolor": "white",
            "ticks": ""
           }
          },
          "scene": {
           "xaxis": {
            "backgroundcolor": "#E5ECF6",
            "gridcolor": "white",
            "gridwidth": 2,
            "linecolor": "white",
            "showbackground": true,
            "ticks": "",
            "zerolinecolor": "white"
           },
           "yaxis": {
            "backgroundcolor": "#E5ECF6",
            "gridcolor": "white",
            "gridwidth": 2,
            "linecolor": "white",
            "showbackground": true,
            "ticks": "",
            "zerolinecolor": "white"
           },
           "zaxis": {
            "backgroundcolor": "#E5ECF6",
            "gridcolor": "white",
            "gridwidth": 2,
            "linecolor": "white",
            "showbackground": true,
            "ticks": "",
            "zerolinecolor": "white"
           }
          },
          "shapedefaults": {
           "line": {
            "color": "#2a3f5f"
           }
          },
          "ternary": {
           "aaxis": {
            "gridcolor": "white",
            "linecolor": "white",
            "ticks": ""
           },
           "baxis": {
            "gridcolor": "white",
            "linecolor": "white",
            "ticks": ""
           },
           "bgcolor": "#E5ECF6",
           "caxis": {
            "gridcolor": "white",
            "linecolor": "white",
            "ticks": ""
           }
          },
          "title": {
           "x": 0.05
          },
          "xaxis": {
           "automargin": true,
           "gridcolor": "white",
           "linecolor": "white",
           "ticks": "",
           "title": {
            "standoff": 15
           },
           "zerolinecolor": "white",
           "zerolinewidth": 2
          },
          "yaxis": {
           "automargin": true,
           "gridcolor": "white",
           "linecolor": "white",
           "ticks": "",
           "title": {
            "standoff": 15
           },
           "zerolinecolor": "white",
           "zerolinewidth": 2
          }
         }
        },
        "xaxis": {
         "anchor": "y",
         "domain": [
          0,
          1
         ],
         "title": {
          "text": "Name"
         }
        },
        "yaxis": {
         "anchor": "x",
         "domain": [
          0,
          1
         ],
         "title": {
          "text": "sum of Market Cap"
         }
        }
       }
      }
     },
     "metadata": {}
    },
    {
     "output_type": "display_data",
     "data": {
      "application/vnd.plotly.v1+json": {
       "config": {
        "plotlyServerURL": "https://plot.ly"
       },
       "data": [
        {
         "alignmentgroup": "True",
         "bingroup": "x",
         "histfunc": "sum",
         "hovertemplate": "Sector=Industrials<br>Name=%{x}<br>sum of EBITDA=%{y}<extra></extra>",
         "legendgroup": "Industrials",
         "marker": {
          "color": "#636efa"
         },
         "name": "Industrials",
         "offsetgroup": "Industrials",
         "orientation": "v",
         "showlegend": true,
         "type": "histogram",
         "x": [
          "3M Company",
          "A.O. Smith Corp",
          "Acuity Brands Inc",
          "Alaska Air Group Inc",
          "Allegion",
          "American Airlines Group",
          "AMETEK Inc",
          "Boeing Company",
          "C. H. Robinson Worldwide",
          "Caterpillar Inc.",
          "Cintas Corporation",
          "CSX Corp.",
          "Cummins Inc.",
          "Deere & Co.",
          "Delta Air Lines Inc.",
          "Dover Corp.",
          "Eaton Corporation",
          "Emerson Electric Company",
          "Equifax Inc.",
          "Expeditors International",
          "Fastenal Co",
          "FedEx Corporation",
          "Flowserve Corporation",
          "Fluor Corp.",
          "Fortive Corp",
          "Fortune Brands Home & Security",
          "General Dynamics",
          "General Electric",
          "Grainger (W.W.) Inc.",
          "Honeywell Int'l Inc.",
          "Huntington Ingalls Industries",
          "IHS Markit Ltd.",
          "Illinois Tool Works",
          "Ingersoll-Rand PLC",
          "J. B. Hunt Transport Services",
          "Jacobs Engineering Group",
          "Johnson Controls International",
          "Kansas City Southern",
          "L-3 Communications Holdings",
          "Lockheed Martin Corp.",
          "Masco Corp.",
          "Nielsen Holdings",
          "Norfolk Southern Corp.",
          "Northrop Grumman Corp.",
          "PACCAR Inc.",
          "Parker-Hannifin",
          "Pentair Ltd.",
          "Quanta Services Inc.",
          "Raytheon Co.",
          "Republic Services Inc",
          "Robert Half International",
          "Rockwell Automation Inc.",
          "Rockwell Collins",
          "Roper Technologies",
          "Southwest Airlines",
          "Stericycle Inc",
          "Textron Inc.",
          "United Continental Holdings",
          "United Parcel Service",
          "United Rentals, Inc.",
          "United Technologies",
          "Verisk Analytics",
          "Waste Management Inc.",
          "Xylem Inc."
         ],
         "xaxis": "x",
         "y": [
          9048000000,
          601000000,
          587800000,
          1665000000,
          531800000,
          5761000000,
          1025763000,
          12476000000,
          868096000,
          8136000000,
          1097295000,
          5003000000,
          2924000000,
          4053300000,
          8348000000,
          1513291000,
          4253000000,
          2542000000,
          1141200000,
          721643000,
          1009600000,
          8062000000,
          463066000,
          709756000,
          1508300000,
          814500000,
          4618000000,
          -206000000,
          1279846000,
          8333000000,
          1107000000,
          1018900000,
          3924000000,
          1987100000,
          1007309000,
          409832000,
          4295000000,
          1295400000,
          1137000000,
          7115000000,
          1179000000,
          1836000000,
          4737000000,
          3884000000,
          3619200000,
          2092089000,
          863700000,
          649404000,
          3868000000,
          2734000000,
          565196000,
          1323200000,
          1696000000,
          1555209000,
          4533000000,
          305085000,
          1454000000,
          5929000000,
          7919000000,
          2760000000,
          10584000000,
          1011200000,
          3896000000,
          722000000
         ],
         "yaxis": "y"
        },
        {
         "alignmentgroup": "True",
         "bingroup": "x",
         "histfunc": "sum",
         "hovertemplate": "Sector=Health Care<br>Name=%{x}<br>sum of EBITDA=%{y}<extra></extra>",
         "legendgroup": "Health Care",
         "marker": {
          "color": "#EF553B"
         },
         "name": "Health Care",
         "offsetgroup": "Health Care",
         "orientation": "v",
         "showlegend": true,
         "type": "histogram",
         "x": [
          "Abbott Laboratories",
          "AbbVie Inc.",
          "Aetna Inc",
          "Agilent Technologies Inc",
          "Alexion Pharmaceuticals",
          "Align Technology",
          "Allergan, Plc",
          "AmerisourceBergen Corp",
          "Amgen Inc",
          "Anthem Inc.",
          "Baxter International Inc.",
          "Becton Dickinson",
          "Biogen Inc.",
          "Boston Scientific",
          "Bristol-Myers Squibb",
          "Cardinal Health Inc.",
          "Celgene Corp.",
          "Centene Corporation",
          "Cerner",
          "CIGNA Corp.",
          "Danaher Corp.",
          "DaVita Inc.",
          "Dentsply Sirona",
          "Edwards Lifesciences",
          "Envision Healthcare",
          "Express Scripts",
          "Gilead Sciences",
          "Henry Schein",
          "Hologic",
          "Humana Inc.",
          "IDEXX Laboratories",
          "Illumina Inc",
          "Incyte",
          "Intuitive Surgical Inc.",
          "IQVIA Holdings Inc.",
          "Johnson & Johnson",
          "Laboratory Corp. of America Holding",
          "Lilly (Eli) & Co.",
          "McKesson Corp.",
          "Medtronic plc",
          "Merck & Co.",
          "Mettler Toledo",
          "Mylan N.V.",
          "Patterson Companies",
          "PerkinElmer",
          "Pfizer Inc.",
          "Quest Diagnostics",
          "Regeneron",
          "ResMed",
          "Stryker Corp.",
          "The Cooper Companies",
          "Thermo Fisher Scientific",
          "United Health Group Inc.",
          "Universal Health Services, Inc.",
          "Varian Medical Systems",
          "Vertex Pharmaceuticals Inc",
          "Waters Corporation",
          "Zimmer Biomet Holdings",
          "Zoetis"
         ],
         "xaxis": "x",
         "y": [
          5744000000,
          10310000000,
          4139000000,
          1094000000,
          1072000000,
          380326000,
          -2888100000,
          991884000,
          11945000000,
          0,
          1832000000,
          1537000000,
          6511400000,
          1726000000,
          5170000000,
          1913000000,
          5233000000,
          2063000000,
          1523440000,
          0,
          4339800000,
          2252294000,
          -411100000,
          1156700000,
          827200000,
          7309300000,
          17590000000,
          1033985000,
          1561000000,
          0,
          478307000,
          1192000000,
          -81686000,
          1153700000,
          1542000000,
          22430000000,
          1861200000,
          3459800000,
          7232000000,
          9204000000,
          8715000000,
          666706000,
          3113300000,
          359644000,
          445658000,
          20569000000,
          1453000000,
          2043160000,
          636942000,
          2863000000,
          615700000,
          4751300000,
          17454000000,
          1676204000,
          500600000,
          97562000,
          773932000,
          2007400000,
          1734000000
         ],
         "yaxis": "y"
        },
        {
         "alignmentgroup": "True",
         "bingroup": "x",
         "histfunc": "sum",
         "hovertemplate": "Sector=Information Technology<br>Name=%{x}<br>sum of EBITDA=%{y}<extra></extra>",
         "legendgroup": "Information Technology",
         "marker": {
          "color": "#00cc96"
         },
         "name": "Information Technology",
         "offsetgroup": "Information Technology",
         "orientation": "v",
         "showlegend": true,
         "type": "histogram",
         "x": [
          "Accenture plc",
          "Activision Blizzard",
          "Adobe Systems Inc",
          "Advanced Micro Devices Inc",
          "Akamai Technologies Inc",
          "Alliance Data Systems",
          "Alphabet Inc Class A",
          "Alphabet Inc Class C",
          "Amphenol Corp",
          "Analog Devices, Inc.",
          "ANSYS",
          "Apple Inc.",
          "Applied Materials Inc",
          "Autodesk Inc",
          "Automatic Data Processing",
          "Broadcom",
          "CA, Inc.",
          "Cadence Design Systems",
          "Cisco Systems",
          "Citrix Systems",
          "Cognizant Technology Solutions",
          "Corning Inc.",
          "CSRA Inc.",
          "DXC Technology",
          "eBay Inc.",
          "Electronic Arts",
          "F5 Networks",
          "Facebook, Inc.",
          "Fidelity National Information Services",
          "Fiserv Inc",
          "FLIR Systems",
          "Gartner Inc",
          "Global Payments Inc.",
          "Harris Corporation",
          "Hewlett Packard Enterprise",
          "HP Inc.",
          "Intel Corp.",
          "International Business Machines",
          "Intuit Inc.",
          "Juniper Networks",
          "KLA-Tencor Corp.",
          "Lam Research",
          "Mastercard Inc.",
          "Microchip Technology",
          "Micron Technology",
          "Microsoft Corp.",
          "Motorola Solutions Inc.",
          "NetApp",
          "Netflix Inc.",
          "Nvidia Corporation",
          "Oracle Corp.",
          "Paychex Inc.",
          "PayPal",
          "Qorvo",
          "QUALCOMM Inc.",
          "Red Hat Inc.",
          "Salesforce.com",
          "Seagate Technology",
          "Skyworks Solutions",
          "Symantec Corp.",
          "Synopsys Inc.",
          "TE Connectivity Ltd.",
          "Texas Instruments",
          "Total System Services",
          "Verisign Inc.",
          "Visa Inc.",
          "Western Digital",
          "Western Union Co",
          "Xerox Corp.",
          "Xilinx Inc"
         ],
         "xaxis": "x",
         "y": [
          5643228000,
          2704000000,
          2538040000,
          339000000,
          789517000,
          2143200000,
          34217000000,
          32714000000,
          1671700000,
          1663384000,
          458515000,
          79386000000,
          4336000000,
          -378100000,
          2767400000,
          7016000000,
          1613000000,
          455607000,
          15447000000,
          810268000,
          2946000000,
          2970000000,
          543000000,
          1628000000,
          2941000000,
          1560000000,
          629940000,
          23624000000,
          2782000000,
          1911000000,
          375267000,
          234935000,
          960345000,
          1368000000,
          3683000000,
          3700000000,
          26247000000,
          16557000000,
          1654000000,
          1115500000,
          1506642000,
          2967218000,
          7113000000,
          997492000,
          12541000000,
          41079000000,
          1629000000,
          1075000000,
          809028000,
          3098000000,
          16545000000,
          1414900000,
          2932000000,
          806875000,
          4191000000,
          541809000,
          925804000,
          1811000000,
          1122900000,
          1227000000,
          579844000,
          2797000000,
          7013000000,
          1097534000,
          767864000,
          13086000000,
          5169000000,
          694600000,
          1191000000,
          845468000
         ],
         "yaxis": "y"
        },
        {
         "alignmentgroup": "True",
         "bingroup": "x",
         "histfunc": "sum",
         "hovertemplate": "Sector=Consumer Discretionary<br>Name=%{x}<br>sum of EBITDA=%{y}<extra></extra>",
         "legendgroup": "Consumer Discretionary",
         "marker": {
          "color": "#ab63fa"
         },
         "name": "Consumer Discretionary",
         "offsetgroup": "Consumer Discretionary",
         "orientation": "v",
         "showlegend": true,
         "type": "histogram",
         "x": [
          "Advance Auto Parts",
          "Amazon.com Inc",
          "Aptiv Plc",
          "AutoZone Inc",
          "Best Buy Co. Inc.",
          "BorgWarner",
          "Carmax Inc",
          "Carnival Corp.",
          "CBS Corp.",
          "Charter Communications",
          "Chipotle Mexican Grill",
          "Comcast Corp.",
          "D. R. Horton",
          "Darden Restaurants",
          "Discovery Communications-A",
          "Discovery Communications-C",
          "Dish Network",
          "Dollar General",
          "Dollar Tree",
          "Expedia Inc.",
          "Ford Motor",
          "Gap Inc.",
          "Garmin Ltd.",
          "General Motors",
          "Genuine Parts",
          "Goodyear Tire & Rubber",
          "Hanesbrands Inc",
          "Harley-Davidson",
          "Hasbro Inc.",
          "Hilton Worldwide Holdings Inc",
          "Home Depot",
          "Interpublic Group",
          "Kohl's Corp.",
          "L Brands Inc.",
          "Leggett & Platt",
          "Lennar Corp.",
          "LKQ Corporation",
          "Lowe's Cos.",
          "Macy's Inc.",
          "Marriott Int'l.",
          "Mattel Inc.",
          "McDonald's Corp.",
          "MGM Resorts International",
          "Michael Kors Holdings",
          "Mohawk Industries",
          "Newell Brands",
          "News Corp. Class A",
          "News Corp. Class B",
          "Nike",
          "Nordstrom",
          "Norwegian Cruise Line",
          "O'Reilly Automotive",
          "Omnicom Group",
          "Polo Ralph Lauren Corp.",
          "Priceline.com Inc",
          "Pulte Homes Inc.",
          "PVH Corp.",
          "Ross Stores",
          "Royal Caribbean Cruises Ltd",
          "Scripps Networks Interactive Inc.",
          "Signet Jewelers",
          "Snap-On Inc.",
          "Stanley Black & Decker",
          "Starbucks Corp.",
          "Target Corp.",
          "The Walt Disney Company",
          "Tiffany & Co.",
          "Time Warner Inc.",
          "TJX Companies Inc.",
          "Tractor Supply Company",
          "TripAdvisor",
          "Twenty-First Century Fox Class A",
          "Twenty-First Century Fox Class B",
          "Ulta Salon Cosmetics & Fragrance Inc",
          "Under Armour Class A",
          "Under Armour Class C",
          "V.F. Corp.",
          "Viacom Inc.",
          "Whirlpool Corp.",
          "Wyndham Worldwide",
          "Wynn Resorts Ltd",
          "Yum! Brands Inc"
         ],
         "xaxis": "x",
         "y": [
          853941000,
          16132000000,
          2370000000,
          2347304000,
          2555000000,
          867900000,
          1339628000,
          4711000000,
          2841000000,
          14694000000,
          401293000,
          28675000000,
          1691000000,
          997600000,
          2100000000,
          2100000000,
          2754331000,
          2457604000,
          2430300000,
          1481458000,
          9281000000,
          1959000000,
          736798000,
          23541000000,
          1201517000,
          2044000000,
          926153000,
          1058817000,
          1028425000,
          2815000000,
          16513000000,
          1074900000,
          2286000000,
          2329000000,
          447000000,
          1405319000,
          1065614000,
          7858000000,
          2446000000,
          2620000000,
          -203599000,
          10515400000,
          2680385000,
          456600000,
          1750393000,
          2021400000,
          679000000,
          679000000,
          5162000000,
          1448000000,
          1529401000,
          1965187000,
          2366000000,
          506100000,
          4803487000,
          992811000,
          1057500000,
          2247009000,
          2876309000,
          1351059000,
          852700000,
          982200000,
          2264600000,
          7361500000,
          7105000000,
          12544000000,
          949500000,
          7671000000,
          4600216000,
          859519000,
          234000000,
          5280000000,
          5280000000,
          1002093000,
          399277000,
          399277000,
          1624441000,
          5600000000,
          1842000000,
          1232000000,
          1501301000,
          2289000000
         ],
         "yaxis": "y"
        },
        {
         "alignmentgroup": "True",
         "bingroup": "x",
         "histfunc": "sum",
         "hovertemplate": "Sector=Utilities<br>Name=%{x}<br>sum of EBITDA=%{y}<extra></extra>",
         "legendgroup": "Utilities",
         "marker": {
          "color": "#FFA15A"
         },
         "name": "Utilities",
         "offsetgroup": "Utilities",
         "orientation": "v",
         "showlegend": true,
         "type": "histogram",
         "x": [
          "AES Corp",
          "Alliant Energy Corp",
          "Ameren Corp",
          "American Electric Power",
          "American Water Works Company Inc",
          "CenterPoint Energy",
          "CMS Energy",
          "Consolidated Edison",
          "Dominion Energy",
          "DTE Energy Co.",
          "Duke Energy",
          "Edison Int'l",
          "Entergy Corp.",
          "Eversource Energy",
          "Exelon Corp.",
          "FirstEnergy Corp",
          "NextEra Energy",
          "NiSource Inc.",
          "NRG Energy",
          "PG&E Corp.",
          "Pinnacle West Capital",
          "PPL Corp.",
          "Public Serv. Enterprise Inc.",
          "SCANA Corp",
          "Sempra Energy",
          "Southern Co.",
          "Wec Energy Group Inc",
          "Xcel Energy Inc"
         ],
         "xaxis": "x",
         "y": [
          3001000000,
          1168400000,
          2298000000,
          4450800000,
          1711000000,
          2337000000,
          2099000000,
          4288000000,
          6428000000,
          2790000000,
          9895000000,
          4284000000,
          880700000,
          2738713000,
          8548000000,
          -5067000000,
          9018000000,
          1448600000,
          1774000000,
          6471000000,
          1614399000,
          3937000000,
          3613000000,
          1459000000,
          3763000000,
          6012000000,
          2736500000,
          3885828000
         ],
         "yaxis": "y"
        },
        {
         "alignmentgroup": "True",
         "bingroup": "x",
         "histfunc": "sum",
         "hovertemplate": "Sector=Financials<br>Name=%{x}<br>sum of EBITDA=%{y}<extra></extra>",
         "legendgroup": "Financials",
         "marker": {
          "color": "#19d3f3"
         },
         "name": "Financials",
         "offsetgroup": "Financials",
         "orientation": "v",
         "showlegend": true,
         "type": "histogram",
         "x": [
          "Affiliated Managers Group Inc",
          "AFLAC Inc",
          "Allstate Corp",
          "American Express Co",
          "American International Group, Inc.",
          "Ameriprise Financial",
          "Aon plc",
          "Arthur J. Gallagher & Co.",
          "Assurant Inc",
          "Bank of America Corp",
          "BB&T Corporation",
          "Berkshire Hathaway",
          "BlackRock",
          "Block H&R",
          "Brighthouse Financial Inc",
          "Capital One Financial",
          "CBOE Holdings",
          "Charles Schwab Corporation",
          "Chubb Limited",
          "Cincinnati Financial",
          "Citigroup Inc.",
          "Citizens Financial Group",
          "CME Group Inc.",
          "Comerica Inc.",
          "Discover Financial Services",
          "E*Trade",
          "Everest Re Group Ltd.",
          "Fifth Third Bancorp",
          "Franklin Resources",
          "Goldman Sachs Group",
          "Hartford Financial Svc.Gp.",
          "Huntington Bancshares",
          "Intercontinental Exchange",
          "Invesco Ltd.",
          "JPMorgan Chase & Co.",
          "KeyCorp",
          "Leucadia National Corp.",
          "Lincoln National",
          "Loews Corp.",
          "M&T Bank Corp.",
          "Marsh & McLennan",
          "MetLife Inc.",
          "Moody's Corp",
          "Morgan Stanley",
          "Nasdaq, Inc.",
          "Navient",
          "Northern Trust Corp.",
          "People's United Financial",
          "PNC Financial Services",
          "Principal Financial Group",
          "Progressive Corp.",
          "Prudential Financial",
          "Raymond James Financial Inc.",
          "Regions Financial Corp.",
          "S&P Global, Inc.",
          "State Street Corp.",
          "SunTrust Banks",
          "Synchrony Financial",
          "T. Rowe Price Group",
          "The Bank of New York Mellon Corp.",
          "The Travelers Companies Inc.",
          "Torchmark Corp.",
          "U.S. Bancorp",
          "Unum Group",
          "Wells Fargo",
          "Willis Towers Watson",
          "XL Capital",
          "Zions Bancorp"
         ],
         "xaxis": "x",
         "y": [
          1261400000,
          0,
          0,
          0,
          0,
          0,
          1858000000,
          888000000,
          0,
          0,
          0,
          0,
          5684000000,
          894754000,
          0,
          0,
          488406000,
          0,
          0,
          0,
          0,
          0,
          2851800000,
          0,
          0,
          0,
          0,
          0,
          2711300000,
          0,
          0,
          0,
          3103000000,
          1606200000,
          0,
          0,
          2201336000,
          0,
          0,
          0,
          3236000000,
          0,
          1238000000,
          0,
          1212000000,
          0,
          0,
          0,
          0,
          0,
          0,
          0,
          0,
          0,
          3021000000,
          0,
          0,
          0,
          2281400000,
          0,
          0,
          0,
          0,
          0,
          0,
          1440000000,
          0,
          0
         ],
         "yaxis": "y"
        },
        {
         "alignmentgroup": "True",
         "bingroup": "x",
         "histfunc": "sum",
         "hovertemplate": "Sector=Materials<br>Name=%{x}<br>sum of EBITDA=%{y}<extra></extra>",
         "legendgroup": "Materials",
         "marker": {
          "color": "#FF6692"
         },
         "name": "Materials",
         "offsetgroup": "Materials",
         "orientation": "v",
         "showlegend": true,
         "type": "histogram",
         "x": [
          "Air Products & Chemicals Inc",
          "Albemarle Corp",
          "Avery Dennison Corp",
          "Ball Corp",
          "CF Industries Holdings Inc",
          "DowDuPont",
          "Eastman Chemical",
          "Ecolab Inc.",
          "FMC Corporation",
          "Freeport-McMoRan Inc.",
          "International Paper",
          "Intl Flavors & Fragrances",
          "LyondellBasell",
          "Martin Marietta Materials",
          "Monsanto Co.",
          "Newmont Mining Corporation",
          "Nucor Corp.",
          "Packaging Corporation of America",
          "PPG Industries",
          "Praxair Inc.",
          "Sealed Air",
          "Sherwin-Williams",
          "The Mosaic Company",
          "Vulcan Materials",
          "WestRock Company"
         ],
         "xaxis": "x",
         "y": [
          2542500000,
          686030000,
          831200000,
          1317000000,
          711000000,
          5250000000,
          2152000000,
          2848600000,
          557800000,
          5347000000,
          3004000000,
          699963000,
          6851000000,
          975223000,
          4217000000,
          1509000000,
          2648729000,
          1214900000,
          2585000000,
          3632000000,
          969700000,
          2160668000,
          1165100000,
          970976000,
          2262300000
         ],
         "yaxis": "y"
        },
        {
         "alignmentgroup": "True",
         "bingroup": "x",
         "histfunc": "sum",
         "hovertemplate": "Sector=Real Estate<br>Name=%{x}<br>sum of EBITDA=%{y}<extra></extra>",
         "legendgroup": "Real Estate",
         "marker": {
          "color": "#B6E880"
         },
         "name": "Real Estate",
         "offsetgroup": "Real Estate",
         "orientation": "v",
         "showlegend": true,
         "type": "histogram",
         "x": [
          "Alexandria Real Estate Equities Inc",
          "American Tower Corp A",
          "Apartment Investment & Management",
          "AvalonBay Communities, Inc.",
          "Boston Properties",
          "CBRE Group",
          "Crown Castle International Corp.",
          "Digital Realty Trust Inc",
          "Duke Realty Corp",
          "Equinix",
          "Equity Residential",
          "Essex Property Trust, Inc.",
          "Extra Space Storage",
          "Federal Realty Investment Trust",
          "General Growth Properties Inc.",
          "HCP Inc.",
          "Host Hotels & Resorts",
          "Iron Mountain Incorporated",
          "Kimco Realty",
          "Macerich",
          "Mid-America Apartments",
          "Prologis",
          "Public Storage",
          "Realty Income Corporation",
          "Regency Centers Corporation",
          "SBA Communications",
          "Simon Property Group Inc",
          "SL Green Realty",
          "UDR Inc",
          "Ventas Inc",
          "Vornado Realty Trust",
          "Welltower Inc.",
          "Weyerhaeuser Corp."
         ],
         "xaxis": "x",
         "y": [
          0,
          3792383000,
          874871000,
          1331579000,
          1546846000,
          1652961000,
          2292600000,
          1260662000,
          529483000,
          1687152000,
          1710686000,
          1237886000,
          717468000,
          540767000,
          1740540000,
          1412684000,
          1547000000,
          1116140000,
          701190000,
          503183000,
          871483000,
          2969194000,
          1924803000,
          1075568000,
          487636000,
          1074240000,
          4411515000,
          795889000,
          665141000,
          1935931000,
          0,
          1908253000,
          1365000000
         ],
         "yaxis": "y"
        },
        {
         "alignmentgroup": "True",
         "bingroup": "x",
         "histfunc": "sum",
         "hovertemplate": "Sector=Consumer Staples<br>Name=%{x}<br>sum of EBITDA=%{y}<extra></extra>",
         "legendgroup": "Consumer Staples",
         "marker": {
          "color": "#FF97FF"
         },
         "name": "Consumer Staples",
         "offsetgroup": "Consumer Staples",
         "orientation": "v",
         "showlegend": true,
         "type": "histogram",
         "x": [
          "Altria Group Inc",
          "Archer-Daniels-Midland Co",
          "Brown-Forman Corp.",
          "Campbell Soup",
          "Church & Dwight",
          "Coca-Cola Company (The)",
          "Colgate-Palmolive",
          "Conagra Brands",
          "Constellation Brands",
          "Costco Wholesale Corp.",
          "Coty, Inc",
          "CVS Health",
          "Dr Pepper Snapple Group",
          "Estee Lauder Cos.",
          "General Mills",
          "Hormel Foods Corp.",
          "JM Smucker",
          "Kellogg Co.",
          "Kimberly-Clark",
          "Kraft Heinz Co",
          "Kroger Co.",
          "McCormick & Co.",
          "Molson Coors Brewing Company",
          "Mondelez International",
          "Monster Beverage",
          "Philip Morris International",
          "Procter & Gamble",
          "Sysco Corp.",
          "The Clorox Company",
          "The Hershey Company",
          "Tyson Foods",
          "Wal-Mart Stores",
          "Walgreens Boots Alliance"
         ],
         "xaxis": "x",
         "y": [
          10773000000,
          2927000000,
          1139000000,
          1683000000,
          868000000,
          8589000000,
          4064000000,
          1281200000,
          3033300000,
          5679000000,
          211400000,
          11704000000,
          1507000000,
          2478000000,
          3107600000,
          1422305000,
          1411300000,
          1827000000,
          4033000000,
          7832000000,
          5342000000,
          815700000,
          4708400000,
          4355000000,
          1229478000,
          11802000000,
          17249000000,
          2988725000,
          1295000000,
          1404123000,
          2521000000,
          30721000000,
          7083000000
         ],
         "yaxis": "y"
        },
        {
         "alignmentgroup": "True",
         "bingroup": "x",
         "histfunc": "sum",
         "hovertemplate": "Sector=Energy<br>Name=%{x}<br>sum of EBITDA=%{y}<extra></extra>",
         "legendgroup": "Energy",
         "marker": {
          "color": "#FECB52"
         },
         "name": "Energy",
         "offsetgroup": "Energy",
         "orientation": "v",
         "showlegend": true,
         "type": "histogram",
         "x": [
          "Anadarko Petroleum Corp",
          "Andeavor",
          "Apache Corporation",
          "Baker Hughes, a GE Company",
          "Cabot Oil & Gas",
          "Chesapeake Energy",
          "Chevron Corp.",
          "Cimarex Energy",
          "Concho Resources",
          "ConocoPhillips",
          "Devon Energy Corp.",
          "EOG Resources",
          "EQT Corporation",
          "Exxon Mobil Corp.",
          "Halliburton Co.",
          "Helmerich & Payne",
          "Hess Corporation",
          "Kinder Morgan",
          "Marathon Petroleum",
          "National Oilwell Varco Inc.",
          "Newfield Exploration Co",
          "Noble Energy Inc",
          "ONEOK",
          "Phillips 66",
          "Pioneer Natural Resources",
          "Range Resources Corp.",
          "Schlumberger Ltd.",
          "TechnipFMC",
          "Valero Energy",
          "Williams Cos."
         ],
         "xaxis": "x",
         "y": [
          3115000000,
          2548000000,
          3265000000,
          285000000,
          404951000,
          1470000000,
          28877000000,
          1061056000,
          2151190000,
          5328000000,
          3723000000,
          3692749000,
          1518305000,
          39052000000,
          2910000000,
          483673000,
          -819000000,
          5981000000,
          5978000000,
          353000000,
          896000000,
          -518000000,
          1851783000,
          5311000000,
          1717000000,
          820095000,
          3222000000,
          540167833.42,
          5401000000,
          3955000000
         ],
         "yaxis": "y"
        },
        {
         "alignmentgroup": "True",
         "bingroup": "x",
         "histfunc": "sum",
         "hovertemplate": "Sector=Telecommunication Services<br>Name=%{x}<br>sum of EBITDA=%{y}<extra></extra>",
         "legendgroup": "Telecommunication Services",
         "marker": {
          "color": "#636efa"
         },
         "name": "Telecommunication Services",
         "offsetgroup": "Telecommunication Services",
         "orientation": "v",
         "showlegend": true,
         "type": "histogram",
         "x": [
          "AT&T Inc",
          "CenturyLink Inc",
          "Verizon Communications"
         ],
         "xaxis": "x",
         "y": [
          49653000000,
          5577000000,
          45745000000
         ],
         "yaxis": "y"
        }
       ],
       "layout": {
        "barmode": "relative",
        "legend": {
         "title": {
          "text": "Sector"
         },
         "tracegroupgap": 0
        },
        "margin": {
         "t": 60
        },
        "template": {
         "data": {
          "bar": [
           {
            "error_x": {
             "color": "#2a3f5f"
            },
            "error_y": {
             "color": "#2a3f5f"
            },
            "marker": {
             "line": {
              "color": "#E5ECF6",
              "width": 0.5
             }
            },
            "type": "bar"
           }
          ],
          "barpolar": [
           {
            "marker": {
             "line": {
              "color": "#E5ECF6",
              "width": 0.5
             }
            },
            "type": "barpolar"
           }
          ],
          "carpet": [
           {
            "aaxis": {
             "endlinecolor": "#2a3f5f",
             "gridcolor": "white",
             "linecolor": "white",
             "minorgridcolor": "white",
             "startlinecolor": "#2a3f5f"
            },
            "baxis": {
             "endlinecolor": "#2a3f5f",
             "gridcolor": "white",
             "linecolor": "white",
             "minorgridcolor": "white",
             "startlinecolor": "#2a3f5f"
            },
            "type": "carpet"
           }
          ],
          "choropleth": [
           {
            "colorbar": {
             "outlinewidth": 0,
             "ticks": ""
            },
            "type": "choropleth"
           }
          ],
          "contour": [
           {
            "colorbar": {
             "outlinewidth": 0,
             "ticks": ""
            },
            "colorscale": [
             [
              0,
              "#0d0887"
             ],
             [
              0.1111111111111111,
              "#46039f"
             ],
             [
              0.2222222222222222,
              "#7201a8"
             ],
             [
              0.3333333333333333,
              "#9c179e"
             ],
             [
              0.4444444444444444,
              "#bd3786"
             ],
             [
              0.5555555555555556,
              "#d8576b"
             ],
             [
              0.6666666666666666,
              "#ed7953"
             ],
             [
              0.7777777777777778,
              "#fb9f3a"
             ],
             [
              0.8888888888888888,
              "#fdca26"
             ],
             [
              1,
              "#f0f921"
             ]
            ],
            "type": "contour"
           }
          ],
          "contourcarpet": [
           {
            "colorbar": {
             "outlinewidth": 0,
             "ticks": ""
            },
            "type": "contourcarpet"
           }
          ],
          "heatmap": [
           {
            "colorbar": {
             "outlinewidth": 0,
             "ticks": ""
            },
            "colorscale": [
             [
              0,
              "#0d0887"
             ],
             [
              0.1111111111111111,
              "#46039f"
             ],
             [
              0.2222222222222222,
              "#7201a8"
             ],
             [
              0.3333333333333333,
              "#9c179e"
             ],
             [
              0.4444444444444444,
              "#bd3786"
             ],
             [
              0.5555555555555556,
              "#d8576b"
             ],
             [
              0.6666666666666666,
              "#ed7953"
             ],
             [
              0.7777777777777778,
              "#fb9f3a"
             ],
             [
              0.8888888888888888,
              "#fdca26"
             ],
             [
              1,
              "#f0f921"
             ]
            ],
            "type": "heatmap"
           }
          ],
          "heatmapgl": [
           {
            "colorbar": {
             "outlinewidth": 0,
             "ticks": ""
            },
            "colorscale": [
             [
              0,
              "#0d0887"
             ],
             [
              0.1111111111111111,
              "#46039f"
             ],
             [
              0.2222222222222222,
              "#7201a8"
             ],
             [
              0.3333333333333333,
              "#9c179e"
             ],
             [
              0.4444444444444444,
              "#bd3786"
             ],
             [
              0.5555555555555556,
              "#d8576b"
             ],
             [
              0.6666666666666666,
              "#ed7953"
             ],
             [
              0.7777777777777778,
              "#fb9f3a"
             ],
             [
              0.8888888888888888,
              "#fdca26"
             ],
             [
              1,
              "#f0f921"
             ]
            ],
            "type": "heatmapgl"
           }
          ],
          "histogram": [
           {
            "marker": {
             "colorbar": {
              "outlinewidth": 0,
              "ticks": ""
             }
            },
            "type": "histogram"
           }
          ],
          "histogram2d": [
           {
            "colorbar": {
             "outlinewidth": 0,
             "ticks": ""
            },
            "colorscale": [
             [
              0,
              "#0d0887"
             ],
             [
              0.1111111111111111,
              "#46039f"
             ],
             [
              0.2222222222222222,
              "#7201a8"
             ],
             [
              0.3333333333333333,
              "#9c179e"
             ],
             [
              0.4444444444444444,
              "#bd3786"
             ],
             [
              0.5555555555555556,
              "#d8576b"
             ],
             [
              0.6666666666666666,
              "#ed7953"
             ],
             [
              0.7777777777777778,
              "#fb9f3a"
             ],
             [
              0.8888888888888888,
              "#fdca26"
             ],
             [
              1,
              "#f0f921"
             ]
            ],
            "type": "histogram2d"
           }
          ],
          "histogram2dcontour": [
           {
            "colorbar": {
             "outlinewidth": 0,
             "ticks": ""
            },
            "colorscale": [
             [
              0,
              "#0d0887"
             ],
             [
              0.1111111111111111,
              "#46039f"
             ],
             [
              0.2222222222222222,
              "#7201a8"
             ],
             [
              0.3333333333333333,
              "#9c179e"
             ],
             [
              0.4444444444444444,
              "#bd3786"
             ],
             [
              0.5555555555555556,
              "#d8576b"
             ],
             [
              0.6666666666666666,
              "#ed7953"
             ],
             [
              0.7777777777777778,
              "#fb9f3a"
             ],
             [
              0.8888888888888888,
              "#fdca26"
             ],
             [
              1,
              "#f0f921"
             ]
            ],
            "type": "histogram2dcontour"
           }
          ],
          "mesh3d": [
           {
            "colorbar": {
             "outlinewidth": 0,
             "ticks": ""
            },
            "type": "mesh3d"
           }
          ],
          "parcoords": [
           {
            "line": {
             "colorbar": {
              "outlinewidth": 0,
              "ticks": ""
             }
            },
            "type": "parcoords"
           }
          ],
          "pie": [
           {
            "automargin": true,
            "type": "pie"
           }
          ],
          "scatter": [
           {
            "marker": {
             "colorbar": {
              "outlinewidth": 0,
              "ticks": ""
             }
            },
            "type": "scatter"
           }
          ],
          "scatter3d": [
           {
            "line": {
             "colorbar": {
              "outlinewidth": 0,
              "ticks": ""
             }
            },
            "marker": {
             "colorbar": {
              "outlinewidth": 0,
              "ticks": ""
             }
            },
            "type": "scatter3d"
           }
          ],
          "scattercarpet": [
           {
            "marker": {
             "colorbar": {
              "outlinewidth": 0,
              "ticks": ""
             }
            },
            "type": "scattercarpet"
           }
          ],
          "scattergeo": [
           {
            "marker": {
             "colorbar": {
              "outlinewidth": 0,
              "ticks": ""
             }
            },
            "type": "scattergeo"
           }
          ],
          "scattergl": [
           {
            "marker": {
             "colorbar": {
              "outlinewidth": 0,
              "ticks": ""
             }
            },
            "type": "scattergl"
           }
          ],
          "scattermapbox": [
           {
            "marker": {
             "colorbar": {
              "outlinewidth": 0,
              "ticks": ""
             }
            },
            "type": "scattermapbox"
           }
          ],
          "scatterpolar": [
           {
            "marker": {
             "colorbar": {
              "outlinewidth": 0,
              "ticks": ""
             }
            },
            "type": "scatterpolar"
           }
          ],
          "scatterpolargl": [
           {
            "marker": {
             "colorbar": {
              "outlinewidth": 0,
              "ticks": ""
             }
            },
            "type": "scatterpolargl"
           }
          ],
          "scatterternary": [
           {
            "marker": {
             "colorbar": {
              "outlinewidth": 0,
              "ticks": ""
             }
            },
            "type": "scatterternary"
           }
          ],
          "surface": [
           {
            "colorbar": {
             "outlinewidth": 0,
             "ticks": ""
            },
            "colorscale": [
             [
              0,
              "#0d0887"
             ],
             [
              0.1111111111111111,
              "#46039f"
             ],
             [
              0.2222222222222222,
              "#7201a8"
             ],
             [
              0.3333333333333333,
              "#9c179e"
             ],
             [
              0.4444444444444444,
              "#bd3786"
             ],
             [
              0.5555555555555556,
              "#d8576b"
             ],
             [
              0.6666666666666666,
              "#ed7953"
             ],
             [
              0.7777777777777778,
              "#fb9f3a"
             ],
             [
              0.8888888888888888,
              "#fdca26"
             ],
             [
              1,
              "#f0f921"
             ]
            ],
            "type": "surface"
           }
          ],
          "table": [
           {
            "cells": {
             "fill": {
              "color": "#EBF0F8"
             },
             "line": {
              "color": "white"
             }
            },
            "header": {
             "fill": {
              "color": "#C8D4E3"
             },
             "line": {
              "color": "white"
             }
            },
            "type": "table"
           }
          ]
         },
         "layout": {
          "annotationdefaults": {
           "arrowcolor": "#2a3f5f",
           "arrowhead": 0,
           "arrowwidth": 1
          },
          "autotypenumbers": "strict",
          "coloraxis": {
           "colorbar": {
            "outlinewidth": 0,
            "ticks": ""
           }
          },
          "colorscale": {
           "diverging": [
            [
             0,
             "#8e0152"
            ],
            [
             0.1,
             "#c51b7d"
            ],
            [
             0.2,
             "#de77ae"
            ],
            [
             0.3,
             "#f1b6da"
            ],
            [
             0.4,
             "#fde0ef"
            ],
            [
             0.5,
             "#f7f7f7"
            ],
            [
             0.6,
             "#e6f5d0"
            ],
            [
             0.7,
             "#b8e186"
            ],
            [
             0.8,
             "#7fbc41"
            ],
            [
             0.9,
             "#4d9221"
            ],
            [
             1,
             "#276419"
            ]
           ],
           "sequential": [
            [
             0,
             "#0d0887"
            ],
            [
             0.1111111111111111,
             "#46039f"
            ],
            [
             0.2222222222222222,
             "#7201a8"
            ],
            [
             0.3333333333333333,
             "#9c179e"
            ],
            [
             0.4444444444444444,
             "#bd3786"
            ],
            [
             0.5555555555555556,
             "#d8576b"
            ],
            [
             0.6666666666666666,
             "#ed7953"
            ],
            [
             0.7777777777777778,
             "#fb9f3a"
            ],
            [
             0.8888888888888888,
             "#fdca26"
            ],
            [
             1,
             "#f0f921"
            ]
           ],
           "sequentialminus": [
            [
             0,
             "#0d0887"
            ],
            [
             0.1111111111111111,
             "#46039f"
            ],
            [
             0.2222222222222222,
             "#7201a8"
            ],
            [
             0.3333333333333333,
             "#9c179e"
            ],
            [
             0.4444444444444444,
             "#bd3786"
            ],
            [
             0.5555555555555556,
             "#d8576b"
            ],
            [
             0.6666666666666666,
             "#ed7953"
            ],
            [
             0.7777777777777778,
             "#fb9f3a"
            ],
            [
             0.8888888888888888,
             "#fdca26"
            ],
            [
             1,
             "#f0f921"
            ]
           ]
          },
          "colorway": [
           "#636efa",
           "#EF553B",
           "#00cc96",
           "#ab63fa",
           "#FFA15A",
           "#19d3f3",
           "#FF6692",
           "#B6E880",
           "#FF97FF",
           "#FECB52"
          ],
          "font": {
           "color": "#2a3f5f"
          },
          "geo": {
           "bgcolor": "white",
           "lakecolor": "white",
           "landcolor": "#E5ECF6",
           "showlakes": true,
           "showland": true,
           "subunitcolor": "white"
          },
          "hoverlabel": {
           "align": "left"
          },
          "hovermode": "closest",
          "mapbox": {
           "style": "light"
          },
          "paper_bgcolor": "white",
          "plot_bgcolor": "#E5ECF6",
          "polar": {
           "angularaxis": {
            "gridcolor": "white",
            "linecolor": "white",
            "ticks": ""
           },
           "bgcolor": "#E5ECF6",
           "radialaxis": {
            "gridcolor": "white",
            "linecolor": "white",
            "ticks": ""
           }
          },
          "scene": {
           "xaxis": {
            "backgroundcolor": "#E5ECF6",
            "gridcolor": "white",
            "gridwidth": 2,
            "linecolor": "white",
            "showbackground": true,
            "ticks": "",
            "zerolinecolor": "white"
           },
           "yaxis": {
            "backgroundcolor": "#E5ECF6",
            "gridcolor": "white",
            "gridwidth": 2,
            "linecolor": "white",
            "showbackground": true,
            "ticks": "",
            "zerolinecolor": "white"
           },
           "zaxis": {
            "backgroundcolor": "#E5ECF6",
            "gridcolor": "white",
            "gridwidth": 2,
            "linecolor": "white",
            "showbackground": true,
            "ticks": "",
            "zerolinecolor": "white"
           }
          },
          "shapedefaults": {
           "line": {
            "color": "#2a3f5f"
           }
          },
          "ternary": {
           "aaxis": {
            "gridcolor": "white",
            "linecolor": "white",
            "ticks": ""
           },
           "baxis": {
            "gridcolor": "white",
            "linecolor": "white",
            "ticks": ""
           },
           "bgcolor": "#E5ECF6",
           "caxis": {
            "gridcolor": "white",
            "linecolor": "white",
            "ticks": ""
           }
          },
          "title": {
           "x": 0.05
          },
          "xaxis": {
           "automargin": true,
           "gridcolor": "white",
           "linecolor": "white",
           "ticks": "",
           "title": {
            "standoff": 15
           },
           "zerolinecolor": "white",
           "zerolinewidth": 2
          },
          "yaxis": {
           "automargin": true,
           "gridcolor": "white",
           "linecolor": "white",
           "ticks": "",
           "title": {
            "standoff": 15
           },
           "zerolinecolor": "white",
           "zerolinewidth": 2
          }
         }
        },
        "xaxis": {
         "anchor": "y",
         "domain": [
          0,
          1
         ],
         "title": {
          "text": "Name"
         }
        },
        "yaxis": {
         "anchor": "x",
         "domain": [
          0,
          1
         ],
         "title": {
          "text": "sum of EBITDA"
         }
        }
       }
      }
     },
     "metadata": {}
    },
    {
     "output_type": "display_data",
     "data": {
      "application/vnd.plotly.v1+json": {
       "config": {
        "plotlyServerURL": "https://plot.ly"
       },
       "data": [
        {
         "alignmentgroup": "True",
         "bingroup": "x",
         "histfunc": "sum",
         "hovertemplate": "Sector=Industrials<br>Name=%{x}<br>sum of Price/Sales=%{y}<extra></extra>",
         "legendgroup": "Industrials",
         "marker": {
          "color": "#636efa"
         },
         "name": "Industrials",
         "offsetgroup": "Industrials",
         "orientation": "v",
         "showlegend": true,
         "type": "histogram",
         "x": [
          "3M Company",
          "A.O. Smith Corp",
          "Acuity Brands Inc",
          "Alaska Air Group Inc",
          "Allegion",
          "American Airlines Group",
          "AMETEK Inc",
          "Boeing Company",
          "C. H. Robinson Worldwide",
          "Caterpillar Inc.",
          "Cintas Corporation",
          "CSX Corp.",
          "Cummins Inc.",
          "Deere & Co.",
          "Delta Air Lines Inc.",
          "Dover Corp.",
          "Eaton Corporation",
          "Emerson Electric Company",
          "Equifax Inc.",
          "Expeditors International",
          "Fastenal Co",
          "FedEx Corporation",
          "Flowserve Corporation",
          "Fluor Corp.",
          "Fortive Corp",
          "Fortune Brands Home & Security",
          "General Dynamics",
          "General Electric",
          "Grainger (W.W.) Inc.",
          "Honeywell Int'l Inc.",
          "Huntington Ingalls Industries",
          "IHS Markit Ltd.",
          "Illinois Tool Works",
          "Ingersoll-Rand PLC",
          "J. B. Hunt Transport Services",
          "Jacobs Engineering Group",
          "Johnson Controls International",
          "Kansas City Southern",
          "L-3 Communications Holdings",
          "Lockheed Martin Corp.",
          "Masco Corp.",
          "Nielsen Holdings",
          "Norfolk Southern Corp.",
          "Northrop Grumman Corp.",
          "PACCAR Inc.",
          "Parker-Hannifin",
          "Pentair Ltd.",
          "Quanta Services Inc.",
          "Raytheon Co.",
          "Republic Services Inc",
          "Robert Half International",
          "Rockwell Automation Inc.",
          "Rockwell Collins",
          "Roper Technologies",
          "Southwest Airlines",
          "Stericycle Inc",
          "Textron Inc.",
          "United Continental Holdings",
          "United Parcel Service",
          "United Rentals, Inc.",
          "United Technologies",
          "Verisk Analytics",
          "Waste Management Inc.",
          "Xylem Inc."
         ],
         "xaxis": "x",
         "y": [
          4.3902707,
          3.5754826,
          1.7953473,
          0.9801092,
          4.265232,
          0.58022565,
          4.015368,
          2.1560605,
          0.85282737,
          2.0468428,
          2.7614057,
          4.216355,
          1.9406168,
          2.3746448,
          0.91792434,
          1.986176,
          1.8161736,
          3.6707752,
          5.6338058,
          2.190319,
          3.472977,
          1.0751684,
          2.0803037,
          0.5516402,
          5.1682673,
          1.8434572,
          2.0481362,
          1.0887611,
          1.3995146,
          2.8267899,
          1.8924941,
          5.0604,
          3.9286149,
          1.6147361,
          1.7697402,
          1.2129636,
          1.1415336,
          4.281897,
          1.4884604,
          1.8781451,
          2.308266,
          2.7288198,
          3.8525908,
          2.209576,
          1.28693,
          1.8652664,
          2.5191512,
          0.77893436,
          2.2938328,
          2.8841186,
          1.3330402,
          3.760594,
          3.781273,
          5.9715905,
          1.6294897,
          2.2607324,
          1.0645695,
          0.5020496,
          1.4744618,
          2.1782618,
          1.7324123,
          9.935474,
          3.2787669,
          2.7262094
         ],
         "yaxis": "y"
        },
        {
         "alignmentgroup": "True",
         "bingroup": "x",
         "histfunc": "sum",
         "hovertemplate": "Sector=Health Care<br>Name=%{x}<br>sum of Price/Sales=%{y}<extra></extra>",
         "legendgroup": "Health Care",
         "marker": {
          "color": "#EF553B"
         },
         "name": "Health Care",
         "offsetgroup": "Health Care",
         "orientation": "v",
         "showlegend": true,
         "type": "histogram",
         "x": [
          "Abbott Laboratories",
          "AbbVie Inc.",
          "Aetna Inc",
          "Agilent Technologies Inc",
          "Alexion Pharmaceuticals",
          "Align Technology",
          "Allergan, Plc",
          "AmerisourceBergen Corp",
          "Amgen Inc",
          "Anthem Inc.",
          "Baxter International Inc.",
          "Becton Dickinson",
          "Biogen Inc.",
          "Boston Scientific",
          "Bristol-Myers Squibb",
          "Cardinal Health Inc.",
          "Celgene Corp.",
          "Centene Corporation",
          "Cerner",
          "CIGNA Corp.",
          "Danaher Corp.",
          "DaVita Inc.",
          "Dentsply Sirona",
          "Edwards Lifesciences",
          "Envision Healthcare",
          "Express Scripts",
          "Gilead Sciences",
          "Henry Schein",
          "Hologic",
          "Humana Inc.",
          "IDEXX Laboratories",
          "Illumina Inc",
          "Incyte",
          "Intuitive Surgical Inc.",
          "IQVIA Holdings Inc.",
          "Johnson & Johnson",
          "Laboratory Corp. of America Holding",
          "Lilly (Eli) & Co.",
          "McKesson Corp.",
          "Medtronic plc",
          "Merck & Co.",
          "Mettler Toledo",
          "Mylan N.V.",
          "Patterson Companies",
          "PerkinElmer",
          "Pfizer Inc.",
          "Quest Diagnostics",
          "Regeneron",
          "ResMed",
          "Stryker Corp.",
          "The Cooper Companies",
          "Thermo Fisher Scientific",
          "United Health Group Inc.",
          "Universal Health Services, Inc.",
          "Varian Medical Systems",
          "Vertex Pharmaceuticals Inc",
          "Waters Corporation",
          "Zimmer Biomet Holdings",
          "Zoetis"
         ],
         "xaxis": "x",
         "y": [
          3.7404804,
          6.291571,
          0.9923546,
          6.493563,
          9.720562,
          13.138819,
          4.820115,
          0.17396984,
          5.58192,
          0.6696521,
          3.4394414,
          5.6912947,
          5.737439,
          4.055685,
          6.503231,
          0.21131156,
          5.830071,
          0.5028663,
          5.5560412,
          1.550762,
          3.688278,
          1.1451397,
          4.626262,
          7.8283277,
          1.227099,
          0.57588416,
          5.2087464,
          1.262194,
          4.80335,
          0.9256895,
          7.97525,
          11.713953,
          17.02699,
          14.655261,
          2.8477087,
          4.6326222,
          2.2459624,
          3.754678,
          0.15318617,
          4.944542,
          5.0893345,
          8.372307,
          2.5358944,
          0.7872792,
          3.7116463,
          4.0020885,
          1.7709883,
          8.48541,
          6.1640687,
          4.635566,
          6.8538465,
          4.015666,
          1.0903316,
          1.3158662,
          3.9652252,
          16.185404,
          6.9824114,
          3.1648953,
          9.280896
         ],
         "yaxis": "y"
        },
        {
         "alignmentgroup": "True",
         "bingroup": "x",
         "histfunc": "sum",
         "hovertemplate": "Sector=Information Technology<br>Name=%{x}<br>sum of Price/Sales=%{y}<extra></extra>",
         "legendgroup": "Information Technology",
         "marker": {
          "color": "#00cc96"
         },
         "name": "Information Technology",
         "offsetgroup": "Information Technology",
         "orientation": "v",
         "showlegend": true,
         "type": "histogram",
         "x": [
          "Accenture plc",
          "Activision Blizzard",
          "Adobe Systems Inc",
          "Advanced Micro Devices Inc",
          "Akamai Technologies Inc",
          "Alliance Data Systems",
          "Alphabet Inc Class A",
          "Alphabet Inc Class C",
          "Amphenol Corp",
          "Analog Devices, Inc.",
          "ANSYS",
          "Apple Inc.",
          "Applied Materials Inc",
          "Autodesk Inc",
          "Automatic Data Processing",
          "Broadcom",
          "CA, Inc.",
          "Cadence Design Systems",
          "Cisco Systems",
          "Citrix Systems",
          "Cognizant Technology Solutions",
          "Corning Inc.",
          "CSRA Inc.",
          "DXC Technology",
          "eBay Inc.",
          "Electronic Arts",
          "F5 Networks",
          "Facebook, Inc.",
          "Fidelity National Information Services",
          "Fiserv Inc",
          "FLIR Systems",
          "Gartner Inc",
          "Global Payments Inc.",
          "Harris Corporation",
          "Hewlett Packard Enterprise",
          "HP Inc.",
          "Intel Corp.",
          "International Business Machines",
          "Intuit Inc.",
          "Juniper Networks",
          "KLA-Tencor Corp.",
          "Lam Research",
          "Mastercard Inc.",
          "Microchip Technology",
          "Micron Technology",
          "Microsoft Corp.",
          "Motorola Solutions Inc.",
          "NetApp",
          "Netflix Inc.",
          "Nvidia Corporation",
          "Oracle Corp.",
          "Paychex Inc.",
          "PayPal",
          "Qorvo",
          "QUALCOMM Inc.",
          "Red Hat Inc.",
          "Salesforce.com",
          "Seagate Technology",
          "Skyworks Solutions",
          "Symantec Corp.",
          "Synopsys Inc.",
          "TE Connectivity Ltd.",
          "Texas Instruments",
          "Total System Services",
          "Verisign Inc.",
          "Visa Inc.",
          "Western Digital",
          "Western Union Co",
          "Xerox Corp.",
          "Xilinx Inc"
         ],
         "xaxis": "x",
         "y": [
          2.604117,
          10.59512,
          13.092818,
          2.1091955,
          5.8546524,
          1.7282298,
          6.801692,
          6.772653,
          3.85675,
          8.00391,
          16.8134,
          3.4586093,
          4.7020154,
          16.50682,
          4.0483294,
          6.961893,
          3.3742425,
          5.751737,
          5.484418,
          4.7538714,
          3.9678397,
          2.544682,
          1.3324839,
          1.9598055,
          4.6720185,
          7.4415817,
          4.1203604,
          13.241967,
          4.7038417,
          6.518713,
          5.137961,
          4.894499,
          5.775833,
          2.9516637,
          1.4609766,
          0.8954903,
          3.348876,
          1.817167,
          9.633731,
          1.8543326,
          4.3395863,
          3.0405293,
          15.020556,
          7.4475183,
          2.1912806,
          7.1130967,
          2.6092634,
          3.6687026,
          9.861594,
          20.094294,
          5.2561646,
          7.248487,
          6.935696,
          3.389142,
          4.263658,
          8.202077,
          10.3738785,
          1.3048558,
          6.9704437,
          3.5516493,
          6.276264,
          2.5734365,
          6.9572234,
          3.175548,
          12.401829,
          14.433654,
          1.245503,
          2.22677,
          0.7877656,
          7.101206
         ],
         "yaxis": "y"
        },
        {
         "alignmentgroup": "True",
         "bingroup": "x",
         "histfunc": "sum",
         "hovertemplate": "Sector=Consumer Discretionary<br>Name=%{x}<br>sum of Price/Sales=%{y}<extra></extra>",
         "legendgroup": "Consumer Discretionary",
         "marker": {
          "color": "#ab63fa"
         },
         "name": "Consumer Discretionary",
         "offsetgroup": "Consumer Discretionary",
         "orientation": "v",
         "showlegend": true,
         "type": "histogram",
         "x": [
          "Advance Auto Parts",
          "Amazon.com Inc",
          "Aptiv Plc",
          "AutoZone Inc",
          "Best Buy Co. Inc.",
          "BorgWarner",
          "Carmax Inc",
          "Carnival Corp.",
          "CBS Corp.",
          "Charter Communications",
          "Chipotle Mexican Grill",
          "Comcast Corp.",
          "D. R. Horton",
          "Darden Restaurants",
          "Discovery Communications-A",
          "Discovery Communications-C",
          "Dish Network",
          "Dollar General",
          "Dollar Tree",
          "Expedia Inc.",
          "Ford Motor",
          "Gap Inc.",
          "Garmin Ltd.",
          "General Motors",
          "Genuine Parts",
          "Goodyear Tire & Rubber",
          "Hanesbrands Inc",
          "Harley-Davidson",
          "Hasbro Inc.",
          "Hilton Worldwide Holdings Inc",
          "Home Depot",
          "Interpublic Group",
          "Kohl's Corp.",
          "L Brands Inc.",
          "Leggett & Platt",
          "Lennar Corp.",
          "LKQ Corporation",
          "Lowe's Cos.",
          "Macy's Inc.",
          "Marriott Int'l.",
          "Mattel Inc.",
          "McDonald's Corp.",
          "MGM Resorts International",
          "Michael Kors Holdings",
          "Mohawk Industries",
          "Newell Brands",
          "News Corp. Class A",
          "News Corp. Class B",
          "Nike",
          "Nordstrom",
          "Norwegian Cruise Line",
          "O'Reilly Automotive",
          "Omnicom Group",
          "Polo Ralph Lauren Corp.",
          "Priceline.com Inc",
          "Pulte Homes Inc.",
          "PVH Corp.",
          "Ross Stores",
          "Royal Caribbean Cruises Ltd",
          "Scripps Networks Interactive Inc.",
          "Signet Jewelers",
          "Snap-On Inc.",
          "Stanley Black & Decker",
          "Starbucks Corp.",
          "Target Corp.",
          "The Walt Disney Company",
          "Tiffany & Co.",
          "Time Warner Inc.",
          "TJX Companies Inc.",
          "Tractor Supply Company",
          "TripAdvisor",
          "Twenty-First Century Fox Class A",
          "Twenty-First Century Fox Class B",
          "Ulta Salon Cosmetics & Fragrance Inc",
          "Under Armour Class A",
          "Under Armour Class C",
          "V.F. Corp.",
          "Viacom Inc.",
          "Whirlpool Corp.",
          "Wyndham Worldwide",
          "Wynn Resorts Ltd",
          "Yum! Brands Inc"
         ],
         "xaxis": "x",
         "y": [
          1.1301061,
          3.927053,
          1.5025798,
          1.8510429,
          0.76715523,
          1.5831376,
          0.6913859,
          2.8147783,
          2.1055017,
          2.1208634,
          2.5523853,
          2.1797748,
          1.1931022,
          1.5278828,
          1.804088,
          1.7147918,
          1.8521843,
          1.5283886,
          1.6097589,
          2.5074897,
          0.27054095,
          1.1289738,
          5.319881,
          0.5633218,
          1.212236,
          0.72725976,
          1.6339768,
          1.66195,
          3.2375681,
          3.7628453,
          2.8964398,
          1.4712903,
          0.8557757,
          1.7060977,
          2.0302901,
          1.1468264,
          1.723609,
          1.5653384,
          0.45503208,
          2.9997249,
          1.1863722,
          5.770237,
          2.2276719,
          3.1455927,
          2.7977824,
          1.2810479,
          1.5518167,
          1.5718216,
          3.0549932,
          0.74603415,
          3.2066104,
          3.1934319,
          1.5327156,
          1.3948758,
          9.176564,
          1.0341544,
          1.7617522,
          2.9734495,
          3.1026611,
          4.374079,
          0.7564699,
          3.5114813,
          1.944325,
          3.4392443,
          0.8047394,
          3.9635563,
          4.516748,
          2.3735986,
          1.9293598,
          1.1642125,
          4.5925775,
          2.1080317,
          3.1654842,
          3.3779113,
          1.602308,
          1.4738787,
          3.7110944,
          1.0924768,
          0.58064795,
          2.7332082,
          2.478658,
          6.3136363
         ],
         "yaxis": "y"
        },
        {
         "alignmentgroup": "True",
         "bingroup": "x",
         "histfunc": "sum",
         "hovertemplate": "Sector=Utilities<br>Name=%{x}<br>sum of Price/Sales=%{y}<extra></extra>",
         "legendgroup": "Utilities",
         "marker": {
          "color": "#FFA15A"
         },
         "name": "Utilities",
         "offsetgroup": "Utilities",
         "orientation": "v",
         "showlegend": true,
         "type": "histogram",
         "x": [
          "AES Corp",
          "Alliant Energy Corp",
          "Ameren Corp",
          "American Electric Power",
          "American Water Works Company Inc",
          "CenterPoint Energy",
          "CMS Energy",
          "Consolidated Edison",
          "Dominion Energy",
          "DTE Energy Co.",
          "Duke Energy",
          "Edison Int'l",
          "Entergy Corp.",
          "Eversource Energy",
          "Exelon Corp.",
          "FirstEnergy Corp",
          "NextEra Energy",
          "NiSource Inc.",
          "NRG Energy",
          "PG&E Corp.",
          "Pinnacle West Capital",
          "PPL Corp.",
          "Public Serv. Enterprise Inc.",
          "SCANA Corp",
          "Sempra Energy",
          "Southern Co.",
          "Wec Energy Group Inc",
          "Xcel Energy Inc"
         ],
         "xaxis": "x",
         "y": [
          0.65951383,
          3.4331481,
          2.693119,
          2.7489934,
          5.553833,
          1.6262617,
          2.4711676,
          2.960244,
          3.7954214,
          1.9091922,
          2.9348857,
          2.161095,
          1.5543115,
          3.1134193,
          1.3933871,
          1.2994481,
          4.091698,
          2.2361343,
          0.9933021,
          1.5730644,
          2.9931207,
          3.7497053,
          3.4491453,
          1.651705,
          3.15303,
          2.5080602,
          2.4834197,
          2.520456
         ],
         "yaxis": "y"
        },
        {
         "alignmentgroup": "True",
         "bingroup": "x",
         "histfunc": "sum",
         "hovertemplate": "Sector=Financials<br>Name=%{x}<br>sum of Price/Sales=%{y}<extra></extra>",
         "legendgroup": "Financials",
         "marker": {
          "color": "#19d3f3"
         },
         "name": "Financials",
         "offsetgroup": "Financials",
         "orientation": "v",
         "showlegend": true,
         "type": "histogram",
         "x": [
          "Affiliated Managers Group Inc",
          "AFLAC Inc",
          "Allstate Corp",
          "American Express Co",
          "American International Group, Inc.",
          "Ameriprise Financial",
          "Aon plc",
          "Arthur J. Gallagher & Co.",
          "Assurant Inc",
          "Bank of America Corp",
          "BB&T Corporation",
          "Berkshire Hathaway",
          "BlackRock",
          "Block H&R",
          "Brighthouse Financial Inc",
          "Capital One Financial",
          "CBOE Holdings",
          "Charles Schwab Corporation",
          "Chubb Limited",
          "Cincinnati Financial",
          "Citigroup Inc.",
          "Citizens Financial Group",
          "CME Group Inc.",
          "Comerica Inc.",
          "Discover Financial Services",
          "E*Trade",
          "Everest Re Group Ltd.",
          "Fifth Third Bancorp",
          "Franklin Resources",
          "Goldman Sachs Group",
          "Hartford Financial Svc.Gp.",
          "Huntington Bancshares",
          "Intercontinental Exchange",
          "Invesco Ltd.",
          "JPMorgan Chase & Co.",
          "KeyCorp",
          "Leucadia National Corp.",
          "Lincoln National",
          "Loews Corp.",
          "M&T Bank Corp.",
          "Marsh & McLennan",
          "MetLife Inc.",
          "Moody's Corp",
          "Morgan Stanley",
          "Nasdaq, Inc.",
          "Navient",
          "Northern Trust Corp.",
          "People's United Financial",
          "PNC Financial Services",
          "Principal Financial Group",
          "Progressive Corp.",
          "Prudential Financial",
          "Raymond James Financial Inc.",
          "Regions Financial Corp.",
          "S&P Global, Inc.",
          "State Street Corp.",
          "SunTrust Banks",
          "Synchrony Financial",
          "T. Rowe Price Group",
          "The Bank of New York Mellon Corp.",
          "The Travelers Companies Inc.",
          "Torchmark Corp.",
          "U.S. Bancorp",
          "Unum Group",
          "Wells Fargo",
          "Willis Towers Watson",
          "XL Capital",
          "Zions Bancorp"
         ],
         "xaxis": "x",
         "y": [
          4.591235,
          1.5429344,
          1.2085556,
          2.273575,
          1.4686536,
          1.9493247,
          3.4972682,
          1.9400215,
          0.9821866,
          3.2011874,
          3.4552107,
          1.4328232,
          6.9158196,
          2.0188456,
          1.4188358,
          1.5931405,
          8.249042,
          7.949615,
          2.0985637,
          2.756679,
          2.1857586,
          3.3917346,
          14.881806,
          4.905472,
          2.3610325,
          5.689136,
          2.0991988,
          2.8802848,
          3.399101,
          2.309415,
          1.3939538,
          3.5112102,
          9.619987,
          2.6513786,
          3.3714993,
          3.270451,
          1.0410156,
          1.201944,
          1.5809761,
          4.6277885,
          2.9848945,
          1.0496864,
          9.932974,
          2.2258842,
          3.2591083,
          0.6986579,
          4.031728,
          3.9272704,
          4.04653,
          1.7167546,
          1.1458876,
          1.083727,
          1.9734555,
          3.474771,
          10.254704,
          3.263072,
          3.3089445,
          2.1096623,
          7.3911157,
          3.3834257,
          1.33382,
          3.1079664,
          3.7773547,
          0.9984924,
          2.8728192,
          3.4484663,
          0.84394187,
          3.7945793
         ],
         "yaxis": "y"
        },
        {
         "alignmentgroup": "True",
         "bingroup": "x",
         "histfunc": "sum",
         "hovertemplate": "Sector=Materials<br>Name=%{x}<br>sum of Price/Sales=%{y}<extra></extra>",
         "legendgroup": "Materials",
         "marker": {
          "color": "#FF6692"
         },
         "name": "Materials",
         "offsetgroup": "Materials",
         "orientation": "v",
         "showlegend": true,
         "type": "histogram",
         "x": [
          "Air Products & Chemicals Inc",
          "Albemarle Corp",
          "Avery Dennison Corp",
          "Ball Corp",
          "CF Industries Holdings Inc",
          "DowDuPont",
          "Eastman Chemical",
          "Ecolab Inc.",
          "FMC Corporation",
          "Freeport-McMoRan Inc.",
          "International Paper",
          "Intl Flavors & Fragrances",
          "LyondellBasell",
          "Martin Marietta Materials",
          "Monsanto Co.",
          "Newmont Mining Corporation",
          "Nucor Corp.",
          "Packaging Corporation of America",
          "PPG Industries",
          "Praxair Inc.",
          "Sealed Air",
          "Sherwin-Williams",
          "The Mosaic Company",
          "Vulcan Materials",
          "WestRock Company"
         ],
         "xaxis": "x",
         "y": [
          4.1163683,
          5.3666205,
          1.5206499,
          1.5696399,
          3.0044448,
          2.6922395,
          1.4904785,
          3.7360687,
          6.0089035,
          1.6538345,
          1.0738261,
          4.4208813,
          1.3037612,
          4.416998,
          3.589782,
          3.7076392,
          0.99837583,
          1.741522,
          1.9551051,
          3.887915,
          2.4700067,
          2.5276077,
          1.8161958,
          5.7576876,
          1.075785
         ],
         "yaxis": "y"
        },
        {
         "alignmentgroup": "True",
         "bingroup": "x",
         "histfunc": "sum",
         "hovertemplate": "Sector=Real Estate<br>Name=%{x}<br>sum of Price/Sales=%{y}<extra></extra>",
         "legendgroup": "Real Estate",
         "marker": {
          "color": "#B6E880"
         },
         "name": "Real Estate",
         "offsetgroup": "Real Estate",
         "orientation": "v",
         "showlegend": true,
         "type": "histogram",
         "x": [
          "Alexandria Real Estate Equities Inc",
          "American Tower Corp A",
          "Apartment Investment & Management",
          "AvalonBay Communities, Inc.",
          "Boston Properties",
          "CBRE Group",
          "Crown Castle International Corp.",
          "Digital Realty Trust Inc",
          "Duke Realty Corp",
          "Equinix",
          "Equity Residential",
          "Essex Property Trust, Inc.",
          "Extra Space Storage",
          "Federal Realty Investment Trust",
          "General Growth Properties Inc.",
          "HCP Inc.",
          "Host Hotels & Resorts",
          "Iron Mountain Incorporated",
          "Kimco Realty",
          "Macerich",
          "Mid-America Apartments",
          "Prologis",
          "Public Storage",
          "Realty Income Corporation",
          "Regency Centers Corporation",
          "SBA Communications",
          "Simon Property Group Inc",
          "SL Green Realty",
          "UDR Inc",
          "Ventas Inc",
          "Vornado Realty Trust",
          "Welltower Inc.",
          "Weyerhaeuser Corp."
         ],
         "xaxis": "x",
         "y": [
          10.492155,
          11.954137,
          6.187621,
          10.251216,
          6.839459,
          1.4622321,
          10.125291,
          12.434961,
          16.077257,
          10.639136,
          8.593619,
          14.1830845,
          12.204818,
          12.898601,
          17.003777,
          8.127109,
          3.5549128,
          3.2898626,
          7.0508943,
          11.394877,
          6.6291075,
          14.380373,
          16.16417,
          15.588069,
          13.762162,
          15.189207,
          8.754495,
          6.5820084,
          12.365829,
          7.0740495,
          7.1491003,
          6.725218,
          3.6396794
         ],
         "yaxis": "y"
        },
        {
         "alignmentgroup": "True",
         "bingroup": "x",
         "histfunc": "sum",
         "hovertemplate": "Sector=Consumer Staples<br>Name=%{x}<br>sum of Price/Sales=%{y}<extra></extra>",
         "legendgroup": "Consumer Staples",
         "marker": {
          "color": "#FF97FF"
         },
         "name": "Consumer Staples",
         "offsetgroup": "Consumer Staples",
         "orientation": "v",
         "showlegend": true,
         "type": "histogram",
         "x": [
          "Altria Group Inc",
          "Archer-Daniels-Midland Co",
          "Brown-Forman Corp.",
          "Campbell Soup",
          "Church & Dwight",
          "Coca-Cola Company (The)",
          "Colgate-Palmolive",
          "Conagra Brands",
          "Constellation Brands",
          "Costco Wholesale Corp.",
          "Coty, Inc",
          "CVS Health",
          "Dr Pepper Snapple Group",
          "Estee Lauder Cos.",
          "General Mills",
          "Hormel Foods Corp.",
          "JM Smucker",
          "Kellogg Co.",
          "Kimberly-Clark",
          "Kraft Heinz Co",
          "Kroger Co.",
          "McCormick & Co.",
          "Molson Coors Brewing Company",
          "Mondelez International",
          "Monster Beverage",
          "Philip Morris International",
          "Procter & Gamble",
          "Sysco Corp.",
          "The Clorox Company",
          "The Hershey Company",
          "Tyson Foods",
          "Wal-Mart Stores",
          "Walgreens Boots Alliance"
         ],
         "xaxis": "x",
         "y": [
          4.945682,
          0.52478915,
          1.8411398,
          2.3898203,
          3.1682448,
          6.822138,
          4.000737,
          1.8294994,
          5.145596,
          0.61203885,
          2.0061796,
          0.549852,
          4.2149186,
          3.9522583,
          2.0389178,
          2.5174792,
          2.496677,
          2.3173764,
          2.1947837,
          4.6780853,
          0.27961263,
          2.7788277,
          1.2371694,
          2.5708609,
          14.152587,
          2.7574685,
          3.1595004,
          0.7295535,
          2.798683,
          2.8396711,
          0.93730986,
          0.82099426,
          0.5904388
         ],
         "yaxis": "y"
        },
        {
         "alignmentgroup": "True",
         "bingroup": "x",
         "histfunc": "sum",
         "hovertemplate": "Sector=Energy<br>Name=%{x}<br>sum of Price/Sales=%{y}<extra></extra>",
         "legendgroup": "Energy",
         "marker": {
          "color": "#FECB52"
         },
         "name": "Energy",
         "offsetgroup": "Energy",
         "orientation": "v",
         "showlegend": true,
         "type": "histogram",
         "x": [
          "Anadarko Petroleum Corp",
          "Andeavor",
          "Apache Corporation",
          "Baker Hughes, a GE Company",
          "Cabot Oil & Gas",
          "Chesapeake Energy",
          "Chevron Corp.",
          "Cimarex Energy",
          "Concho Resources",
          "ConocoPhillips",
          "Devon Energy Corp.",
          "EOG Resources",
          "EQT Corporation",
          "Exxon Mobil Corp.",
          "Halliburton Co.",
          "Helmerich & Payne",
          "Hess Corporation",
          "Kinder Morgan",
          "Marathon Petroleum",
          "National Oilwell Varco Inc.",
          "Newfield Exploration Co",
          "Noble Energy Inc",
          "ONEOK",
          "Phillips 66",
          "Pioneer Natural Resources",
          "Range Resources Corp.",
          "Schlumberger Ltd.",
          "TechnipFMC",
          "Valero Energy",
          "Williams Cos."
         ],
         "xaxis": "x",
         "y": [
          3.9682212,
          0.6618165,
          3.651366,
          1.9390045,
          8.636729,
          0.40765184,
          1.6489863,
          7.556446,
          12.271951,
          2.0764177,
          2.0660408,
          8.02302,
          6.4987307,
          1.7701944,
          2.1424224,
          3.7385862,
          3.780475,
          2.823936,
          0.42713487,
          2.5209634,
          4.703259,
          4.6976447,
          2.6159565,
          0.47499472,
          6.7890477,
          1.9624339,
          3.2297828,
          1.561575,
          0.4211918,
          4.2982845
         ],
         "yaxis": "y"
        },
        {
         "alignmentgroup": "True",
         "bingroup": "x",
         "histfunc": "sum",
         "hovertemplate": "Sector=Telecommunication Services<br>Name=%{x}<br>sum of Price/Sales=%{y}<extra></extra>",
         "legendgroup": "Telecommunication Services",
         "marker": {
          "color": "#636efa"
         },
         "name": "Telecommunication Services",
         "offsetgroup": "Telecommunication Services",
         "orientation": "v",
         "showlegend": true,
         "type": "histogram",
         "x": [
          "AT&T Inc",
          "CenturyLink Inc",
          "Verizon Communications"
         ],
         "xaxis": "x",
         "y": [
          1.4083152,
          1.4795984,
          1.6452544
         ],
         "yaxis": "y"
        }
       ],
       "layout": {
        "barmode": "relative",
        "legend": {
         "title": {
          "text": "Sector"
         },
         "tracegroupgap": 0
        },
        "margin": {
         "t": 60
        },
        "template": {
         "data": {
          "bar": [
           {
            "error_x": {
             "color": "#2a3f5f"
            },
            "error_y": {
             "color": "#2a3f5f"
            },
            "marker": {
             "line": {
              "color": "#E5ECF6",
              "width": 0.5
             }
            },
            "type": "bar"
           }
          ],
          "barpolar": [
           {
            "marker": {
             "line": {
              "color": "#E5ECF6",
              "width": 0.5
             }
            },
            "type": "barpolar"
           }
          ],
          "carpet": [
           {
            "aaxis": {
             "endlinecolor": "#2a3f5f",
             "gridcolor": "white",
             "linecolor": "white",
             "minorgridcolor": "white",
             "startlinecolor": "#2a3f5f"
            },
            "baxis": {
             "endlinecolor": "#2a3f5f",
             "gridcolor": "white",
             "linecolor": "white",
             "minorgridcolor": "white",
             "startlinecolor": "#2a3f5f"
            },
            "type": "carpet"
           }
          ],
          "choropleth": [
           {
            "colorbar": {
             "outlinewidth": 0,
             "ticks": ""
            },
            "type": "choropleth"
           }
          ],
          "contour": [
           {
            "colorbar": {
             "outlinewidth": 0,
             "ticks": ""
            },
            "colorscale": [
             [
              0,
              "#0d0887"
             ],
             [
              0.1111111111111111,
              "#46039f"
             ],
             [
              0.2222222222222222,
              "#7201a8"
             ],
             [
              0.3333333333333333,
              "#9c179e"
             ],
             [
              0.4444444444444444,
              "#bd3786"
             ],
             [
              0.5555555555555556,
              "#d8576b"
             ],
             [
              0.6666666666666666,
              "#ed7953"
             ],
             [
              0.7777777777777778,
              "#fb9f3a"
             ],
             [
              0.8888888888888888,
              "#fdca26"
             ],
             [
              1,
              "#f0f921"
             ]
            ],
            "type": "contour"
           }
          ],
          "contourcarpet": [
           {
            "colorbar": {
             "outlinewidth": 0,
             "ticks": ""
            },
            "type": "contourcarpet"
           }
          ],
          "heatmap": [
           {
            "colorbar": {
             "outlinewidth": 0,
             "ticks": ""
            },
            "colorscale": [
             [
              0,
              "#0d0887"
             ],
             [
              0.1111111111111111,
              "#46039f"
             ],
             [
              0.2222222222222222,
              "#7201a8"
             ],
             [
              0.3333333333333333,
              "#9c179e"
             ],
             [
              0.4444444444444444,
              "#bd3786"
             ],
             [
              0.5555555555555556,
              "#d8576b"
             ],
             [
              0.6666666666666666,
              "#ed7953"
             ],
             [
              0.7777777777777778,
              "#fb9f3a"
             ],
             [
              0.8888888888888888,
              "#fdca26"
             ],
             [
              1,
              "#f0f921"
             ]
            ],
            "type": "heatmap"
           }
          ],
          "heatmapgl": [
           {
            "colorbar": {
             "outlinewidth": 0,
             "ticks": ""
            },
            "colorscale": [
             [
              0,
              "#0d0887"
             ],
             [
              0.1111111111111111,
              "#46039f"
             ],
             [
              0.2222222222222222,
              "#7201a8"
             ],
             [
              0.3333333333333333,
              "#9c179e"
             ],
             [
              0.4444444444444444,
              "#bd3786"
             ],
             [
              0.5555555555555556,
              "#d8576b"
             ],
             [
              0.6666666666666666,
              "#ed7953"
             ],
             [
              0.7777777777777778,
              "#fb9f3a"
             ],
             [
              0.8888888888888888,
              "#fdca26"
             ],
             [
              1,
              "#f0f921"
             ]
            ],
            "type": "heatmapgl"
           }
          ],
          "histogram": [
           {
            "marker": {
             "colorbar": {
              "outlinewidth": 0,
              "ticks": ""
             }
            },
            "type": "histogram"
           }
          ],
          "histogram2d": [
           {
            "colorbar": {
             "outlinewidth": 0,
             "ticks": ""
            },
            "colorscale": [
             [
              0,
              "#0d0887"
             ],
             [
              0.1111111111111111,
              "#46039f"
             ],
             [
              0.2222222222222222,
              "#7201a8"
             ],
             [
              0.3333333333333333,
              "#9c179e"
             ],
             [
              0.4444444444444444,
              "#bd3786"
             ],
             [
              0.5555555555555556,
              "#d8576b"
             ],
             [
              0.6666666666666666,
              "#ed7953"
             ],
             [
              0.7777777777777778,
              "#fb9f3a"
             ],
             [
              0.8888888888888888,
              "#fdca26"
             ],
             [
              1,
              "#f0f921"
             ]
            ],
            "type": "histogram2d"
           }
          ],
          "histogram2dcontour": [
           {
            "colorbar": {
             "outlinewidth": 0,
             "ticks": ""
            },
            "colorscale": [
             [
              0,
              "#0d0887"
             ],
             [
              0.1111111111111111,
              "#46039f"
             ],
             [
              0.2222222222222222,
              "#7201a8"
             ],
             [
              0.3333333333333333,
              "#9c179e"
             ],
             [
              0.4444444444444444,
              "#bd3786"
             ],
             [
              0.5555555555555556,
              "#d8576b"
             ],
             [
              0.6666666666666666,
              "#ed7953"
             ],
             [
              0.7777777777777778,
              "#fb9f3a"
             ],
             [
              0.8888888888888888,
              "#fdca26"
             ],
             [
              1,
              "#f0f921"
             ]
            ],
            "type": "histogram2dcontour"
           }
          ],
          "mesh3d": [
           {
            "colorbar": {
             "outlinewidth": 0,
             "ticks": ""
            },
            "type": "mesh3d"
           }
          ],
          "parcoords": [
           {
            "line": {
             "colorbar": {
              "outlinewidth": 0,
              "ticks": ""
             }
            },
            "type": "parcoords"
           }
          ],
          "pie": [
           {
            "automargin": true,
            "type": "pie"
           }
          ],
          "scatter": [
           {
            "marker": {
             "colorbar": {
              "outlinewidth": 0,
              "ticks": ""
             }
            },
            "type": "scatter"
           }
          ],
          "scatter3d": [
           {
            "line": {
             "colorbar": {
              "outlinewidth": 0,
              "ticks": ""
             }
            },
            "marker": {
             "colorbar": {
              "outlinewidth": 0,
              "ticks": ""
             }
            },
            "type": "scatter3d"
           }
          ],
          "scattercarpet": [
           {
            "marker": {
             "colorbar": {
              "outlinewidth": 0,
              "ticks": ""
             }
            },
            "type": "scattercarpet"
           }
          ],
          "scattergeo": [
           {
            "marker": {
             "colorbar": {
              "outlinewidth": 0,
              "ticks": ""
             }
            },
            "type": "scattergeo"
           }
          ],
          "scattergl": [
           {
            "marker": {
             "colorbar": {
              "outlinewidth": 0,
              "ticks": ""
             }
            },
            "type": "scattergl"
           }
          ],
          "scattermapbox": [
           {
            "marker": {
             "colorbar": {
              "outlinewidth": 0,
              "ticks": ""
             }
            },
            "type": "scattermapbox"
           }
          ],
          "scatterpolar": [
           {
            "marker": {
             "colorbar": {
              "outlinewidth": 0,
              "ticks": ""
             }
            },
            "type": "scatterpolar"
           }
          ],
          "scatterpolargl": [
           {
            "marker": {
             "colorbar": {
              "outlinewidth": 0,
              "ticks": ""
             }
            },
            "type": "scatterpolargl"
           }
          ],
          "scatterternary": [
           {
            "marker": {
             "colorbar": {
              "outlinewidth": 0,
              "ticks": ""
             }
            },
            "type": "scatterternary"
           }
          ],
          "surface": [
           {
            "colorbar": {
             "outlinewidth": 0,
             "ticks": ""
            },
            "colorscale": [
             [
              0,
              "#0d0887"
             ],
             [
              0.1111111111111111,
              "#46039f"
             ],
             [
              0.2222222222222222,
              "#7201a8"
             ],
             [
              0.3333333333333333,
              "#9c179e"
             ],
             [
              0.4444444444444444,
              "#bd3786"
             ],
             [
              0.5555555555555556,
              "#d8576b"
             ],
             [
              0.6666666666666666,
              "#ed7953"
             ],
             [
              0.7777777777777778,
              "#fb9f3a"
             ],
             [
              0.8888888888888888,
              "#fdca26"
             ],
             [
              1,
              "#f0f921"
             ]
            ],
            "type": "surface"
           }
          ],
          "table": [
           {
            "cells": {
             "fill": {
              "color": "#EBF0F8"
             },
             "line": {
              "color": "white"
             }
            },
            "header": {
             "fill": {
              "color": "#C8D4E3"
             },
             "line": {
              "color": "white"
             }
            },
            "type": "table"
           }
          ]
         },
         "layout": {
          "annotationdefaults": {
           "arrowcolor": "#2a3f5f",
           "arrowhead": 0,
           "arrowwidth": 1
          },
          "autotypenumbers": "strict",
          "coloraxis": {
           "colorbar": {
            "outlinewidth": 0,
            "ticks": ""
           }
          },
          "colorscale": {
           "diverging": [
            [
             0,
             "#8e0152"
            ],
            [
             0.1,
             "#c51b7d"
            ],
            [
             0.2,
             "#de77ae"
            ],
            [
             0.3,
             "#f1b6da"
            ],
            [
             0.4,
             "#fde0ef"
            ],
            [
             0.5,
             "#f7f7f7"
            ],
            [
             0.6,
             "#e6f5d0"
            ],
            [
             0.7,
             "#b8e186"
            ],
            [
             0.8,
             "#7fbc41"
            ],
            [
             0.9,
             "#4d9221"
            ],
            [
             1,
             "#276419"
            ]
           ],
           "sequential": [
            [
             0,
             "#0d0887"
            ],
            [
             0.1111111111111111,
             "#46039f"
            ],
            [
             0.2222222222222222,
             "#7201a8"
            ],
            [
             0.3333333333333333,
             "#9c179e"
            ],
            [
             0.4444444444444444,
             "#bd3786"
            ],
            [
             0.5555555555555556,
             "#d8576b"
            ],
            [
             0.6666666666666666,
             "#ed7953"
            ],
            [
             0.7777777777777778,
             "#fb9f3a"
            ],
            [
             0.8888888888888888,
             "#fdca26"
            ],
            [
             1,
             "#f0f921"
            ]
           ],
           "sequentialminus": [
            [
             0,
             "#0d0887"
            ],
            [
             0.1111111111111111,
             "#46039f"
            ],
            [
             0.2222222222222222,
             "#7201a8"
            ],
            [
             0.3333333333333333,
             "#9c179e"
            ],
            [
             0.4444444444444444,
             "#bd3786"
            ],
            [
             0.5555555555555556,
             "#d8576b"
            ],
            [
             0.6666666666666666,
             "#ed7953"
            ],
            [
             0.7777777777777778,
             "#fb9f3a"
            ],
            [
             0.8888888888888888,
             "#fdca26"
            ],
            [
             1,
             "#f0f921"
            ]
           ]
          },
          "colorway": [
           "#636efa",
           "#EF553B",
           "#00cc96",
           "#ab63fa",
           "#FFA15A",
           "#19d3f3",
           "#FF6692",
           "#B6E880",
           "#FF97FF",
           "#FECB52"
          ],
          "font": {
           "color": "#2a3f5f"
          },
          "geo": {
           "bgcolor": "white",
           "lakecolor": "white",
           "landcolor": "#E5ECF6",
           "showlakes": true,
           "showland": true,
           "subunitcolor": "white"
          },
          "hoverlabel": {
           "align": "left"
          },
          "hovermode": "closest",
          "mapbox": {
           "style": "light"
          },
          "paper_bgcolor": "white",
          "plot_bgcolor": "#E5ECF6",
          "polar": {
           "angularaxis": {
            "gridcolor": "white",
            "linecolor": "white",
            "ticks": ""
           },
           "bgcolor": "#E5ECF6",
           "radialaxis": {
            "gridcolor": "white",
            "linecolor": "white",
            "ticks": ""
           }
          },
          "scene": {
           "xaxis": {
            "backgroundcolor": "#E5ECF6",
            "gridcolor": "white",
            "gridwidth": 2,
            "linecolor": "white",
            "showbackground": true,
            "ticks": "",
            "zerolinecolor": "white"
           },
           "yaxis": {
            "backgroundcolor": "#E5ECF6",
            "gridcolor": "white",
            "gridwidth": 2,
            "linecolor": "white",
            "showbackground": true,
            "ticks": "",
            "zerolinecolor": "white"
           },
           "zaxis": {
            "backgroundcolor": "#E5ECF6",
            "gridcolor": "white",
            "gridwidth": 2,
            "linecolor": "white",
            "showbackground": true,
            "ticks": "",
            "zerolinecolor": "white"
           }
          },
          "shapedefaults": {
           "line": {
            "color": "#2a3f5f"
           }
          },
          "ternary": {
           "aaxis": {
            "gridcolor": "white",
            "linecolor": "white",
            "ticks": ""
           },
           "baxis": {
            "gridcolor": "white",
            "linecolor": "white",
            "ticks": ""
           },
           "bgcolor": "#E5ECF6",
           "caxis": {
            "gridcolor": "white",
            "linecolor": "white",
            "ticks": ""
           }
          },
          "title": {
           "x": 0.05
          },
          "xaxis": {
           "automargin": true,
           "gridcolor": "white",
           "linecolor": "white",
           "ticks": "",
           "title": {
            "standoff": 15
           },
           "zerolinecolor": "white",
           "zerolinewidth": 2
          },
          "yaxis": {
           "automargin": true,
           "gridcolor": "white",
           "linecolor": "white",
           "ticks": "",
           "title": {
            "standoff": 15
           },
           "zerolinecolor": "white",
           "zerolinewidth": 2
          }
         }
        },
        "xaxis": {
         "anchor": "y",
         "domain": [
          0,
          1
         ],
         "title": {
          "text": "Name"
         }
        },
        "yaxis": {
         "anchor": "x",
         "domain": [
          0,
          1
         ],
         "title": {
          "text": "sum of Price/Sales"
         }
        }
       }
      }
     },
     "metadata": {}
    },
    {
     "output_type": "display_data",
     "data": {
      "application/vnd.plotly.v1+json": {
       "config": {
        "plotlyServerURL": "https://plot.ly"
       },
       "data": [
        {
         "alignmentgroup": "True",
         "bingroup": "x",
         "histfunc": "sum",
         "hovertemplate": "Sector=Industrials<br>Name=%{x}<br>sum of Price/Book=%{y}<extra></extra>",
         "legendgroup": "Industrials",
         "marker": {
          "color": "#636efa"
         },
         "name": "Industrials",
         "offsetgroup": "Industrials",
         "orientation": "v",
         "showlegend": true,
         "type": "histogram",
         "x": [
          "3M Company",
          "A.O. Smith Corp",
          "Acuity Brands Inc",
          "Alaska Air Group Inc",
          "Allegion",
          "American Airlines Group",
          "AMETEK Inc",
          "Boeing Company",
          "C. H. Robinson Worldwide",
          "Caterpillar Inc.",
          "Cintas Corporation",
          "CSX Corp.",
          "Cummins Inc.",
          "Deere & Co.",
          "Delta Air Lines Inc.",
          "Dover Corp.",
          "Eaton Corporation",
          "Emerson Electric Company",
          "Equifax Inc.",
          "Expeditors International",
          "Fastenal Co",
          "FedEx Corporation",
          "Flowserve Corporation",
          "Fluor Corp.",
          "Fortive Corp",
          "Fortune Brands Home & Security",
          "General Dynamics",
          "General Electric",
          "Grainger (W.W.) Inc.",
          "Honeywell Int'l Inc.",
          "Huntington Ingalls Industries",
          "IHS Markit Ltd.",
          "Illinois Tool Works",
          "Ingersoll-Rand PLC",
          "J. B. Hunt Transport Services",
          "Jacobs Engineering Group",
          "Johnson Controls International",
          "Kansas City Southern",
          "L-3 Communications Holdings",
          "Lockheed Martin Corp.",
          "Masco Corp.",
          "Nielsen Holdings",
          "Norfolk Southern Corp.",
          "Northrop Grumman Corp.",
          "PACCAR Inc.",
          "Parker-Hannifin",
          "Pentair Ltd.",
          "Quanta Services Inc.",
          "Raytheon Co.",
          "Republic Services Inc",
          "Robert Half International",
          "Rockwell Automation Inc.",
          "Rockwell Collins",
          "Roper Technologies",
          "Southwest Airlines",
          "Stericycle Inc",
          "Textron Inc.",
          "United Continental Holdings",
          "United Parcel Service",
          "United Rentals, Inc.",
          "United Technologies",
          "Verisk Analytics",
          "Waste Management Inc.",
          "Xylem Inc."
         ],
         "xaxis": "x",
         "y": [
          11.34,
          6.35,
          3.55,
          2.21,
          20.48,
          6.03,
          4.54,
          182.86,
          9.31,
          5.75,
          6.53,
          4.27,
          3.89,
          5.31,
          2.67,
          3.59,
          2.17,
          5.01,
          4.59,
          5.55,
          7.39,
          3.9,
          3.15,
          2.4,
          7.17,
          3.76,
          5.45,
          1.7,
          8.1,
          5.71,
          6.04,
          2.24,
          10.99,
          3.34,
          8.55,
          2.01,
          1.69,
          2.39,
          3.12,
          45.55,
          11.93,
          3.02,
          3.09,
          7.96,
          3.07,
          4.39,
          2.48,
          1.43,
          5.28,
          2.83,
          5.98,
          10.94,
          3.46,
          4.23,
          3.84,
          2.15,
          2.57,
          2.09,
          64.7,
          4.53,
          3.4,
          9.34,
          6.73,
          5.31
         ],
         "yaxis": "y"
        },
        {
         "alignmentgroup": "True",
         "bingroup": "x",
         "histfunc": "sum",
         "hovertemplate": "Sector=Health Care<br>Name=%{x}<br>sum of Price/Book=%{y}<extra></extra>",
         "legendgroup": "Health Care",
         "marker": {
          "color": "#EF553B"
         },
         "name": "Health Care",
         "offsetgroup": "Health Care",
         "orientation": "v",
         "showlegend": true,
         "type": "histogram",
         "x": [
          "Abbott Laboratories",
          "AbbVie Inc.",
          "Aetna Inc",
          "Agilent Technologies Inc",
          "Alexion Pharmaceuticals",
          "Align Technology",
          "Allergan, Plc",
          "AmerisourceBergen Corp",
          "Amgen Inc",
          "Anthem Inc.",
          "Baxter International Inc.",
          "Becton Dickinson",
          "Biogen Inc.",
          "Boston Scientific",
          "Bristol-Myers Squibb",
          "Cardinal Health Inc.",
          "Celgene Corp.",
          "Centene Corporation",
          "Cerner",
          "CIGNA Corp.",
          "Danaher Corp.",
          "DaVita Inc.",
          "Dentsply Sirona",
          "Edwards Lifesciences",
          "Envision Healthcare",
          "Express Scripts",
          "Gilead Sciences",
          "Henry Schein",
          "Hologic",
          "Humana Inc.",
          "IDEXX Laboratories",
          "Illumina Inc",
          "Incyte",
          "Intuitive Surgical Inc.",
          "IQVIA Holdings Inc.",
          "Johnson & Johnson",
          "Laboratory Corp. of America Holding",
          "Lilly (Eli) & Co.",
          "McKesson Corp.",
          "Medtronic plc",
          "Merck & Co.",
          "Mettler Toledo",
          "Mylan N.V.",
          "Patterson Companies",
          "PerkinElmer",
          "Pfizer Inc.",
          "Quest Diagnostics",
          "Regeneron",
          "ResMed",
          "Stryker Corp.",
          "The Cooper Companies",
          "Thermo Fisher Scientific",
          "United Health Group Inc.",
          "Universal Health Services, Inc.",
          "Varian Medical Systems",
          "Vertex Pharmaceuticals Inc",
          "Waters Corporation",
          "Zimmer Biomet Holdings",
          "Zoetis"
         ],
         "xaxis": "x",
         "y": [
          3.19,
          26.14,
          3.79,
          4.56,
          2.82,
          16.44,
          0.83,
          9.73,
          3.91,
          2.28,
          3.77,
          3.98,
          5.51,
          4.78,
          6.75,
          3.03,
          7.49,
          2.58,
          4.62,
          3.39,
          2.65,
          2.79,
          1.8,
          8.48,
          0.64,
          2.65,
          4.12,
          3.74,
          4,
          3.33,
          196.21,
          10.89,
          10.25,
          9.48,
          2.77,
          4.74,
          2.71,
          5.73,
          2.68,
          2.14,
          4.02,
          31.69,
          1.63,
          2.34,
          3.25,
          3.4,
          2.82,
          5.89,
          6.61,
          5.54,
          3.57,
          3.38,
          4.71,
          2.21,
          7.32,
          21.91,
          6.15,
          2.39,
          18.09
         ],
         "yaxis": "y"
        },
        {
         "alignmentgroup": "True",
         "bingroup": "x",
         "histfunc": "sum",
         "hovertemplate": "Sector=Information Technology<br>Name=%{x}<br>sum of Price/Book=%{y}<extra></extra>",
         "legendgroup": "Information Technology",
         "marker": {
          "color": "#00cc96"
         },
         "name": "Information Technology",
         "offsetgroup": "Information Technology",
         "orientation": "v",
         "showlegend": true,
         "type": "histogram",
         "x": [
          "Accenture plc",
          "Activision Blizzard",
          "Adobe Systems Inc",
          "Advanced Micro Devices Inc",
          "Akamai Technologies Inc",
          "Alliance Data Systems",
          "Alphabet Inc Class A",
          "Alphabet Inc Class C",
          "Amphenol Corp",
          "Analog Devices, Inc.",
          "ANSYS",
          "Apple Inc.",
          "Applied Materials Inc",
          "Autodesk Inc",
          "Automatic Data Processing",
          "Broadcom",
          "CA, Inc.",
          "Cadence Design Systems",
          "Cisco Systems",
          "Citrix Systems",
          "Cognizant Technology Solutions",
          "Corning Inc.",
          "CSRA Inc.",
          "DXC Technology",
          "eBay Inc.",
          "Electronic Arts",
          "F5 Networks",
          "Facebook, Inc.",
          "Fidelity National Information Services",
          "Fiserv Inc",
          "FLIR Systems",
          "Gartner Inc",
          "Global Payments Inc.",
          "Harris Corporation",
          "Hewlett Packard Enterprise",
          "HP Inc.",
          "Intel Corp.",
          "International Business Machines",
          "Intuit Inc.",
          "Juniper Networks",
          "KLA-Tencor Corp.",
          "Lam Research",
          "Mastercard Inc.",
          "Microchip Technology",
          "Micron Technology",
          "Microsoft Corp.",
          "Motorola Solutions Inc.",
          "NetApp",
          "Netflix Inc.",
          "Nvidia Corporation",
          "Oracle Corp.",
          "Paychex Inc.",
          "PayPal",
          "Qorvo",
          "QUALCOMM Inc.",
          "Red Hat Inc.",
          "Salesforce.com",
          "Seagate Technology",
          "Skyworks Solutions",
          "Symantec Corp.",
          "Synopsys Inc.",
          "TE Connectivity Ltd.",
          "Texas Instruments",
          "Total System Services",
          "Verisign Inc.",
          "Visa Inc.",
          "Western Digital",
          "Western Union Co",
          "Xerox Corp.",
          "Xilinx Inc"
         ],
         "xaxis": "x",
         "y": [
          10.62,
          5.16,
          11.06,
          21.47,
          3.25,
          8.28,
          4.7,
          4.67,
          6.64,
          3.13,
          5.79,
          5.66,
          5.44,
          224.13,
          12.86,
          4.4,
          2.44,
          10.98,
          3.07,
          6.73,
          3.94,
          1.71,
          11.37,
          2.26,
          3.8,
          8.54,
          6.86,
          7.08,
          3.25,
          11.54,
          3.52,
          13.47,
          4.73,
          5.88,
          1.06,
          0.66,
          3.34,
          7.7,
          33.5,
          1.78,
          12.93,
          4.52,
          26.93,
          5.9,
          2.02,
          9.49,
          6.81,
          5.46,
          30.8,
          20.39,
          3.56,
          11.77,
          5.81,
          1.98,
          3.82,
          15.69,
          8.81,
          13.33,
          4.25,
          3.36,
          3.98,
          3.6,
          9.32,
          6.57,
          10.82,
          9.4,
          2,
          12.65,
          1.49,
          7.22
         ],
         "yaxis": "y"
        },
        {
         "alignmentgroup": "True",
         "bingroup": "x",
         "histfunc": "sum",
         "hovertemplate": "Sector=Consumer Discretionary<br>Name=%{x}<br>sum of Price/Book=%{y}<extra></extra>",
         "legendgroup": "Consumer Discretionary",
         "marker": {
          "color": "#ab63fa"
         },
         "name": "Consumer Discretionary",
         "offsetgroup": "Consumer Discretionary",
         "orientation": "v",
         "showlegend": true,
         "type": "histogram",
         "x": [
          "Advance Auto Parts",
          "Amazon.com Inc",
          "Aptiv Plc",
          "AutoZone Inc",
          "Best Buy Co. Inc.",
          "BorgWarner",
          "Carmax Inc",
          "Carnival Corp.",
          "CBS Corp.",
          "Charter Communications",
          "Chipotle Mexican Grill",
          "Comcast Corp.",
          "D. R. Horton",
          "Darden Restaurants",
          "Discovery Communications-A",
          "Discovery Communications-C",
          "Dish Network",
          "Dollar General",
          "Dollar Tree",
          "Expedia Inc.",
          "Ford Motor",
          "Gap Inc.",
          "Garmin Ltd.",
          "General Motors",
          "Genuine Parts",
          "Goodyear Tire & Rubber",
          "Hanesbrands Inc",
          "Harley-Davidson",
          "Hasbro Inc.",
          "Hilton Worldwide Holdings Inc",
          "Home Depot",
          "Interpublic Group",
          "Kohl's Corp.",
          "L Brands Inc.",
          "Leggett & Platt",
          "Lennar Corp.",
          "LKQ Corporation",
          "Lowe's Cos.",
          "Macy's Inc.",
          "Marriott Int'l.",
          "Mattel Inc.",
          "McDonald's Corp.",
          "MGM Resorts International",
          "Michael Kors Holdings",
          "Mohawk Industries",
          "Newell Brands",
          "News Corp. Class A",
          "News Corp. Class B",
          "Nike",
          "Nordstrom",
          "Norwegian Cruise Line",
          "O'Reilly Automotive",
          "Omnicom Group",
          "Polo Ralph Lauren Corp.",
          "Priceline.com Inc",
          "Pulte Homes Inc.",
          "PVH Corp.",
          "Ross Stores",
          "Royal Caribbean Cruises Ltd",
          "Scripps Networks Interactive Inc.",
          "Signet Jewelers",
          "Snap-On Inc.",
          "Stanley Black & Decker",
          "Starbucks Corp.",
          "Target Corp.",
          "The Walt Disney Company",
          "Tiffany & Co.",
          "Time Warner Inc.",
          "TJX Companies Inc.",
          "Tractor Supply Company",
          "TripAdvisor",
          "Twenty-First Century Fox Class A",
          "Twenty-First Century Fox Class B",
          "Ulta Salon Cosmetics & Fragrance Inc",
          "Under Armour Class A",
          "Under Armour Class C",
          "V.F. Corp.",
          "Viacom Inc.",
          "Whirlpool Corp.",
          "Wyndham Worldwide",
          "Wynn Resorts Ltd",
          "Yum! Brands Inc"
         ],
         "xaxis": "x",
         "y": [
          2.51,
          24.28,
          7.56,
          136.23,
          4.79,
          2.89,
          3.55,
          2,
          6.91,
          2.27,
          6.11,
          2.65,
          2.17,
          5.89,
          1.5,
          1.43,
          3.76,
          4.53,
          4.08,
          4.14,
          1.26,
          3.93,
          3.14,
          1.33,
          4.33,
          1.65,
          6.17,
          4.31,
          5.82,
          17.67,
          84.08,
          4.01,
          2.04,
          1403.38,
          4.89,
          1.76,
          3.02,
          14.1,
          1.69,
          11.02,
          3.87,
          146.07,
          3.09,
          5.4,
          2.88,
          1.01,
          0.85,
          0.86,
          8.91,
          9.1,
          2.35,
          34.12,
          6.66,
          2.44,
          6.92,
          1.99,
          2.14,
          10.28,
          2.56,
          4.22,
          1.38,
          3.21,
          3.34,
          13.36,
          3.45,
          3.82,
          3.97,
          2.73,
          10.35,
          6.01,
          3.49,
          4.11,
          4.04,
          8.04,
          2.72,
          2.5,
          7.89,
          2.08,
          2.57,
          18.91,
          51.69,
          212.08
         ],
         "yaxis": "y"
        },
        {
         "alignmentgroup": "True",
         "bingroup": "x",
         "histfunc": "sum",
         "hovertemplate": "Sector=Utilities<br>Name=%{x}<br>sum of Price/Book=%{y}<extra></extra>",
         "legendgroup": "Utilities",
         "marker": {
          "color": "#FFA15A"
         },
         "name": "Utilities",
         "offsetgroup": "Utilities",
         "orientation": "v",
         "showlegend": true,
         "type": "histogram",
         "x": [
          "AES Corp",
          "Alliant Energy Corp",
          "Ameren Corp",
          "American Electric Power",
          "American Water Works Company Inc",
          "CenterPoint Energy",
          "CMS Energy",
          "Consolidated Edison",
          "Dominion Energy",
          "DTE Energy Co.",
          "Duke Energy",
          "Edison Int'l",
          "Entergy Corp.",
          "Eversource Energy",
          "Exelon Corp.",
          "FirstEnergy Corp",
          "NextEra Energy",
          "NiSource Inc.",
          "NRG Energy",
          "PG&E Corp.",
          "Pinnacle West Capital",
          "PPL Corp.",
          "Public Serv. Enterprise Inc.",
          "SCANA Corp",
          "Sempra Energy",
          "Southern Co.",
          "Wec Energy Group Inc",
          "Xcel Energy Inc"
         ],
         "xaxis": "x",
         "y": [
          2.2,
          2.13,
          1.79,
          1.81,
          2.55,
          3.21,
          2.65,
          1.58,
          2.96,
          1.95,
          1.27,
          1.59,
          1.54,
          1.68,
          1.26,
          2.19,
          2.75,
          1.82,
          6.73,
          1.09,
          1.65,
          1.95,
          1.88,
          0.92,
          1.98,
          1.82,
          2.1,
          1.94
         ],
         "yaxis": "y"
        },
        {
         "alignmentgroup": "True",
         "bingroup": "x",
         "histfunc": "sum",
         "hovertemplate": "Sector=Financials<br>Name=%{x}<br>sum of Price/Book=%{y}<extra></extra>",
         "legendgroup": "Financials",
         "marker": {
          "color": "#19d3f3"
         },
         "name": "Financials",
         "offsetgroup": "Financials",
         "orientation": "v",
         "showlegend": true,
         "type": "histogram",
         "x": [
          "Affiliated Managers Group Inc",
          "AFLAC Inc",
          "Allstate Corp",
          "American Express Co",
          "American International Group, Inc.",
          "Ameriprise Financial",
          "Aon plc",
          "Arthur J. Gallagher & Co.",
          "Assurant Inc",
          "Bank of America Corp",
          "BB&T Corporation",
          "Berkshire Hathaway",
          "BlackRock",
          "Block H&R",
          "Brighthouse Financial Inc",
          "Capital One Financial",
          "CBOE Holdings",
          "Charles Schwab Corporation",
          "Chubb Limited",
          "Cincinnati Financial",
          "Citigroup Inc.",
          "Citizens Financial Group",
          "CME Group Inc.",
          "Comerica Inc.",
          "Discover Financial Services",
          "E*Trade",
          "Everest Re Group Ltd.",
          "Fifth Third Bancorp",
          "Franklin Resources",
          "Goldman Sachs Group",
          "Hartford Financial Svc.Gp.",
          "Huntington Bancshares",
          "Intercontinental Exchange",
          "Invesco Ltd.",
          "JPMorgan Chase & Co.",
          "KeyCorp",
          "Leucadia National Corp.",
          "Lincoln National",
          "Loews Corp.",
          "M&T Bank Corp.",
          "Marsh & McLennan",
          "MetLife Inc.",
          "Moody's Corp",
          "Morgan Stanley",
          "Nasdaq, Inc.",
          "Navient",
          "Northern Trust Corp.",
          "People's United Financial",
          "PNC Financial Services",
          "Principal Financial Group",
          "Progressive Corp.",
          "Prudential Financial",
          "Raymond James Financial Inc.",
          "Regions Financial Corp.",
          "S&P Global, Inc.",
          "State Street Corp.",
          "SunTrust Banks",
          "Synchrony Financial",
          "T. Rowe Price Group",
          "The Bank of New York Mellon Corp.",
          "The Travelers Companies Inc.",
          "Torchmark Corp.",
          "U.S. Bancorp",
          "Unum Group",
          "Wells Fargo",
          "Willis Towers Watson",
          "XL Capital",
          "Zions Bancorp"
         ],
         "xaxis": "x",
         "y": [
          2.89,
          1.53,
          1.67,
          3.75,
          0.75,
          3.73,
          6.78,
          2.92,
          1.12,
          1.24,
          1.55,
          1.58,
          2.95,
          205.41,
          0.51,
          0.94,
          5.15,
          4.51,
          1.35,
          1.6,
          0.9,
          1.08,
          2.51,
          1.96,
          2.52,
          2.15,
          1.16,
          1.46,
          1.83,
          1.25,
          1.15,
          1.72,
          2.62,
          1.62,
          1.6,
          1.55,
          0.84,
          1.04,
          0.85,
          1.79,
          5.85,
          0.85,
          73.84,
          1.33,
          2.25,
          1.02,
          2.44,
          1.17,
          1.53,
          1.53,
          3.25,
          0.93,
          2.34,
          1.32,
          50.56,
          1.95,
          1.38,
          1.97,
          4.61,
          1.49,
          1.63,
          1.88,
          2.09,
          1.19,
          1.58,
          2.1,
          0.97,
          1.42
         ],
         "yaxis": "y"
        },
        {
         "alignmentgroup": "True",
         "bingroup": "x",
         "histfunc": "sum",
         "hovertemplate": "Sector=Materials<br>Name=%{x}<br>sum of Price/Book=%{y}<extra></extra>",
         "legendgroup": "Materials",
         "marker": {
          "color": "#FF6692"
         },
         "name": "Materials",
         "offsetgroup": "Materials",
         "orientation": "v",
         "showlegend": true,
         "type": "histogram",
         "x": [
          "Air Products & Chemicals Inc",
          "Albemarle Corp",
          "Avery Dennison Corp",
          "Ball Corp",
          "CF Industries Holdings Inc",
          "DowDuPont",
          "Eastman Chemical",
          "Ecolab Inc.",
          "FMC Corporation",
          "Freeport-McMoRan Inc.",
          "International Paper",
          "Intl Flavors & Fragrances",
          "LyondellBasell",
          "Martin Marietta Materials",
          "Monsanto Co.",
          "Newmont Mining Corporation",
          "Nucor Corp.",
          "Packaging Corporation of America",
          "PPG Industries",
          "Praxair Inc.",
          "Sealed Air",
          "Sherwin-Williams",
          "The Mosaic Company",
          "Vulcan Materials",
          "WestRock Company"
         ],
         "xaxis": "x",
         "y": [
          3.35,
          2.98,
          8.83,
          3.62,
          2.81,
          1.54,
          2.78,
          5.28,
          5.26,
          3.66,
          4.99,
          6.34,
          5.86,
          3.03,
          7.96,
          1.81,
          2.34,
          5.54,
          4.83,
          6.88,
          10.55,
          13.42,
          0.94,
          3.54,
          1.58
         ],
         "yaxis": "y"
        },
        {
         "alignmentgroup": "True",
         "bingroup": "x",
         "histfunc": "sum",
         "hovertemplate": "Sector=Real Estate<br>Name=%{x}<br>sum of Price/Book=%{y}<extra></extra>",
         "legendgroup": "Real Estate",
         "marker": {
          "color": "#B6E880"
         },
         "name": "Real Estate",
         "offsetgroup": "Real Estate",
         "orientation": "v",
         "showlegend": true,
         "type": "histogram",
         "x": [
          "Alexandria Real Estate Equities Inc",
          "American Tower Corp A",
          "Apartment Investment & Management",
          "AvalonBay Communities, Inc.",
          "Boston Properties",
          "CBRE Group",
          "Crown Castle International Corp.",
          "Digital Realty Trust Inc",
          "Duke Realty Corp",
          "Equinix",
          "Equity Residential",
          "Essex Property Trust, Inc.",
          "Extra Space Storage",
          "Federal Realty Investment Trust",
          "General Growth Properties Inc.",
          "HCP Inc.",
          "Host Hotels & Resorts",
          "Iron Mountain Incorporated",
          "Kimco Realty",
          "Macerich",
          "Mid-America Apartments",
          "Prologis",
          "Public Storage",
          "Realty Income Corporation",
          "Regency Centers Corporation",
          "SBA Communications",
          "Simon Property Group Inc",
          "SL Green Realty",
          "UDR Inc",
          "Ventas Inc",
          "Vornado Realty Trust",
          "Welltower Inc.",
          "Weyerhaeuser Corp."
         ],
         "xaxis": "x",
         "y": [
          2.07,
          9.22,
          4.69,
          2.12,
          3.15,
          3.74,
          3.54,
          2.32,
          1.94,
          5.14,
          2.09,
          2.3,
          4.54,
          3.98,
          2.57,
          1.97,
          2.02,
          4.97,
          1.2,
          2.24,
          1.6,
          2.11,
          6.56,
          1.92,
          1.51,
          91.04,
          13.24,
          1.32,
          3.27,
          1.76,
          3.63,
          1.49,
          2.9
         ],
         "yaxis": "y"
        },
        {
         "alignmentgroup": "True",
         "bingroup": "x",
         "histfunc": "sum",
         "hovertemplate": "Sector=Consumer Staples<br>Name=%{x}<br>sum of Price/Book=%{y}<extra></extra>",
         "legendgroup": "Consumer Staples",
         "marker": {
          "color": "#FF97FF"
         },
         "name": "Consumer Staples",
         "offsetgroup": "Consumer Staples",
         "orientation": "v",
         "showlegend": true,
         "type": "histogram",
         "x": [
          "Altria Group Inc",
          "Archer-Daniels-Midland Co",
          "Brown-Forman Corp.",
          "Campbell Soup",
          "Church & Dwight",
          "Coca-Cola Company (The)",
          "Colgate-Palmolive",
          "Conagra Brands",
          "Constellation Brands",
          "Costco Wholesale Corp.",
          "Coty, Inc",
          "CVS Health",
          "Dr Pepper Snapple Group",
          "Estee Lauder Cos.",
          "General Mills",
          "Hormel Foods Corp.",
          "JM Smucker",
          "Kellogg Co.",
          "Kimberly-Clark",
          "Kraft Heinz Co",
          "Kroger Co.",
          "McCormick & Co.",
          "Molson Coors Brewing Company",
          "Mondelez International",
          "Monster Beverage",
          "Philip Morris International",
          "Procter & Gamble",
          "Sysco Corp.",
          "The Clorox Company",
          "The Hershey Company",
          "Tyson Foods",
          "Wal-Mart Stores",
          "Walgreens Boots Alliance"
         ],
         "xaxis": "x",
         "y": [
          10.32,
          1.29,
          12.36,
          7.91,
          6.28,
          8.65,
          236.42,
          3.86,
          5.14,
          7.24,
          1.37,
          2.13,
          9.99,
          10.82,
          7.26,
          3.49,
          1.88,
          11.5,
          151.66,
          1.54,
          4.02,
          5.2,
          1.34,
          2.52,
          9.56,
          1318.7,
          3.85,
          13.4,
          21.62,
          25.64,
          2.55,
          3.89,
          3.06
         ],
         "yaxis": "y"
        },
        {
         "alignmentgroup": "True",
         "bingroup": "x",
         "histfunc": "sum",
         "hovertemplate": "Sector=Energy<br>Name=%{x}<br>sum of Price/Book=%{y}<extra></extra>",
         "legendgroup": "Energy",
         "marker": {
          "color": "#FECB52"
         },
         "name": "Energy",
         "offsetgroup": "Energy",
         "orientation": "v",
         "showlegend": true,
         "type": "histogram",
         "x": [
          "Anadarko Petroleum Corp",
          "Andeavor",
          "Apache Corporation",
          "Baker Hughes, a GE Company",
          "Cabot Oil & Gas",
          "Chesapeake Energy",
          "Chevron Corp.",
          "Cimarex Energy",
          "Concho Resources",
          "ConocoPhillips",
          "Devon Energy Corp.",
          "EOG Resources",
          "EQT Corporation",
          "Exxon Mobil Corp.",
          "Halliburton Co.",
          "Helmerich & Payne",
          "Hess Corporation",
          "Kinder Morgan",
          "Marathon Petroleum",
          "National Oilwell Varco Inc.",
          "Newfield Exploration Co",
          "Noble Energy Inc",
          "ONEOK",
          "Phillips 66",
          "Pioneer Natural Resources",
          "Range Resources Corp.",
          "Schlumberger Ltd.",
          "TechnipFMC",
          "Valero Energy",
          "Williams Cos."
         ],
         "xaxis": "x",
         "y": [
          2.88,
          1.7,
          2.22,
          2.25,
          4.21,
          1.84,
          1.71,
          4.28,
          2.61,
          2.16,
          2.85,
          4.55,
          2.15,
          1.85,
          4.74,
          1.62,
          1.08,
          1.07,
          2.43,
          0.91,
          4.51,
          1.44,
          4.03,
          2.12,
          2.76,
          0.59,
          2.64,
          1.06,
          1.93,
          3.01
         ],
         "yaxis": "y"
        },
        {
         "alignmentgroup": "True",
         "bingroup": "x",
         "histfunc": "sum",
         "hovertemplate": "Sector=Telecommunication Services<br>Name=%{x}<br>sum of Price/Book=%{y}<extra></extra>",
         "legendgroup": "Telecommunication Services",
         "marker": {
          "color": "#636efa"
         },
         "name": "Telecommunication Services",
         "offsetgroup": "Telecommunication Services",
         "orientation": "v",
         "showlegend": true,
         "type": "histogram",
         "x": [
          "AT&T Inc",
          "CenturyLink Inc",
          "Verizon Communications"
         ],
         "xaxis": "x",
         "y": [
          1.8,
          1.39,
          7.96
         ],
         "yaxis": "y"
        }
       ],
       "layout": {
        "barmode": "relative",
        "legend": {
         "title": {
          "text": "Sector"
         },
         "tracegroupgap": 0
        },
        "margin": {
         "t": 60
        },
        "template": {
         "data": {
          "bar": [
           {
            "error_x": {
             "color": "#2a3f5f"
            },
            "error_y": {
             "color": "#2a3f5f"
            },
            "marker": {
             "line": {
              "color": "#E5ECF6",
              "width": 0.5
             }
            },
            "type": "bar"
           }
          ],
          "barpolar": [
           {
            "marker": {
             "line": {
              "color": "#E5ECF6",
              "width": 0.5
             }
            },
            "type": "barpolar"
           }
          ],
          "carpet": [
           {
            "aaxis": {
             "endlinecolor": "#2a3f5f",
             "gridcolor": "white",
             "linecolor": "white",
             "minorgridcolor": "white",
             "startlinecolor": "#2a3f5f"
            },
            "baxis": {
             "endlinecolor": "#2a3f5f",
             "gridcolor": "white",
             "linecolor": "white",
             "minorgridcolor": "white",
             "startlinecolor": "#2a3f5f"
            },
            "type": "carpet"
           }
          ],
          "choropleth": [
           {
            "colorbar": {
             "outlinewidth": 0,
             "ticks": ""
            },
            "type": "choropleth"
           }
          ],
          "contour": [
           {
            "colorbar": {
             "outlinewidth": 0,
             "ticks": ""
            },
            "colorscale": [
             [
              0,
              "#0d0887"
             ],
             [
              0.1111111111111111,
              "#46039f"
             ],
             [
              0.2222222222222222,
              "#7201a8"
             ],
             [
              0.3333333333333333,
              "#9c179e"
             ],
             [
              0.4444444444444444,
              "#bd3786"
             ],
             [
              0.5555555555555556,
              "#d8576b"
             ],
             [
              0.6666666666666666,
              "#ed7953"
             ],
             [
              0.7777777777777778,
              "#fb9f3a"
             ],
             [
              0.8888888888888888,
              "#fdca26"
             ],
             [
              1,
              "#f0f921"
             ]
            ],
            "type": "contour"
           }
          ],
          "contourcarpet": [
           {
            "colorbar": {
             "outlinewidth": 0,
             "ticks": ""
            },
            "type": "contourcarpet"
           }
          ],
          "heatmap": [
           {
            "colorbar": {
             "outlinewidth": 0,
             "ticks": ""
            },
            "colorscale": [
             [
              0,
              "#0d0887"
             ],
             [
              0.1111111111111111,
              "#46039f"
             ],
             [
              0.2222222222222222,
              "#7201a8"
             ],
             [
              0.3333333333333333,
              "#9c179e"
             ],
             [
              0.4444444444444444,
              "#bd3786"
             ],
             [
              0.5555555555555556,
              "#d8576b"
             ],
             [
              0.6666666666666666,
              "#ed7953"
             ],
             [
              0.7777777777777778,
              "#fb9f3a"
             ],
             [
              0.8888888888888888,
              "#fdca26"
             ],
             [
              1,
              "#f0f921"
             ]
            ],
            "type": "heatmap"
           }
          ],
          "heatmapgl": [
           {
            "colorbar": {
             "outlinewidth": 0,
             "ticks": ""
            },
            "colorscale": [
             [
              0,
              "#0d0887"
             ],
             [
              0.1111111111111111,
              "#46039f"
             ],
             [
              0.2222222222222222,
              "#7201a8"
             ],
             [
              0.3333333333333333,
              "#9c179e"
             ],
             [
              0.4444444444444444,
              "#bd3786"
             ],
             [
              0.5555555555555556,
              "#d8576b"
             ],
             [
              0.6666666666666666,
              "#ed7953"
             ],
             [
              0.7777777777777778,
              "#fb9f3a"
             ],
             [
              0.8888888888888888,
              "#fdca26"
             ],
             [
              1,
              "#f0f921"
             ]
            ],
            "type": "heatmapgl"
           }
          ],
          "histogram": [
           {
            "marker": {
             "colorbar": {
              "outlinewidth": 0,
              "ticks": ""
             }
            },
            "type": "histogram"
           }
          ],
          "histogram2d": [
           {
            "colorbar": {
             "outlinewidth": 0,
             "ticks": ""
            },
            "colorscale": [
             [
              0,
              "#0d0887"
             ],
             [
              0.1111111111111111,
              "#46039f"
             ],
             [
              0.2222222222222222,
              "#7201a8"
             ],
             [
              0.3333333333333333,
              "#9c179e"
             ],
             [
              0.4444444444444444,
              "#bd3786"
             ],
             [
              0.5555555555555556,
              "#d8576b"
             ],
             [
              0.6666666666666666,
              "#ed7953"
             ],
             [
              0.7777777777777778,
              "#fb9f3a"
             ],
             [
              0.8888888888888888,
              "#fdca26"
             ],
             [
              1,
              "#f0f921"
             ]
            ],
            "type": "histogram2d"
           }
          ],
          "histogram2dcontour": [
           {
            "colorbar": {
             "outlinewidth": 0,
             "ticks": ""
            },
            "colorscale": [
             [
              0,
              "#0d0887"
             ],
             [
              0.1111111111111111,
              "#46039f"
             ],
             [
              0.2222222222222222,
              "#7201a8"
             ],
             [
              0.3333333333333333,
              "#9c179e"
             ],
             [
              0.4444444444444444,
              "#bd3786"
             ],
             [
              0.5555555555555556,
              "#d8576b"
             ],
             [
              0.6666666666666666,
              "#ed7953"
             ],
             [
              0.7777777777777778,
              "#fb9f3a"
             ],
             [
              0.8888888888888888,
              "#fdca26"
             ],
             [
              1,
              "#f0f921"
             ]
            ],
            "type": "histogram2dcontour"
           }
          ],
          "mesh3d": [
           {
            "colorbar": {
             "outlinewidth": 0,
             "ticks": ""
            },
            "type": "mesh3d"
           }
          ],
          "parcoords": [
           {
            "line": {
             "colorbar": {
              "outlinewidth": 0,
              "ticks": ""
             }
            },
            "type": "parcoords"
           }
          ],
          "pie": [
           {
            "automargin": true,
            "type": "pie"
           }
          ],
          "scatter": [
           {
            "marker": {
             "colorbar": {
              "outlinewidth": 0,
              "ticks": ""
             }
            },
            "type": "scatter"
           }
          ],
          "scatter3d": [
           {
            "line": {
             "colorbar": {
              "outlinewidth": 0,
              "ticks": ""
             }
            },
            "marker": {
             "colorbar": {
              "outlinewidth": 0,
              "ticks": ""
             }
            },
            "type": "scatter3d"
           }
          ],
          "scattercarpet": [
           {
            "marker": {
             "colorbar": {
              "outlinewidth": 0,
              "ticks": ""
             }
            },
            "type": "scattercarpet"
           }
          ],
          "scattergeo": [
           {
            "marker": {
             "colorbar": {
              "outlinewidth": 0,
              "ticks": ""
             }
            },
            "type": "scattergeo"
           }
          ],
          "scattergl": [
           {
            "marker": {
             "colorbar": {
              "outlinewidth": 0,
              "ticks": ""
             }
            },
            "type": "scattergl"
           }
          ],
          "scattermapbox": [
           {
            "marker": {
             "colorbar": {
              "outlinewidth": 0,
              "ticks": ""
             }
            },
            "type": "scattermapbox"
           }
          ],
          "scatterpolar": [
           {
            "marker": {
             "colorbar": {
              "outlinewidth": 0,
              "ticks": ""
             }
            },
            "type": "scatterpolar"
           }
          ],
          "scatterpolargl": [
           {
            "marker": {
             "colorbar": {
              "outlinewidth": 0,
              "ticks": ""
             }
            },
            "type": "scatterpolargl"
           }
          ],
          "scatterternary": [
           {
            "marker": {
             "colorbar": {
              "outlinewidth": 0,
              "ticks": ""
             }
            },
            "type": "scatterternary"
           }
          ],
          "surface": [
           {
            "colorbar": {
             "outlinewidth": 0,
             "ticks": ""
            },
            "colorscale": [
             [
              0,
              "#0d0887"
             ],
             [
              0.1111111111111111,
              "#46039f"
             ],
             [
              0.2222222222222222,
              "#7201a8"
             ],
             [
              0.3333333333333333,
              "#9c179e"
             ],
             [
              0.4444444444444444,
              "#bd3786"
             ],
             [
              0.5555555555555556,
              "#d8576b"
             ],
             [
              0.6666666666666666,
              "#ed7953"
             ],
             [
              0.7777777777777778,
              "#fb9f3a"
             ],
             [
              0.8888888888888888,
              "#fdca26"
             ],
             [
              1,
              "#f0f921"
             ]
            ],
            "type": "surface"
           }
          ],
          "table": [
           {
            "cells": {
             "fill": {
              "color": "#EBF0F8"
             },
             "line": {
              "color": "white"
             }
            },
            "header": {
             "fill": {
              "color": "#C8D4E3"
             },
             "line": {
              "color": "white"
             }
            },
            "type": "table"
           }
          ]
         },
         "layout": {
          "annotationdefaults": {
           "arrowcolor": "#2a3f5f",
           "arrowhead": 0,
           "arrowwidth": 1
          },
          "autotypenumbers": "strict",
          "coloraxis": {
           "colorbar": {
            "outlinewidth": 0,
            "ticks": ""
           }
          },
          "colorscale": {
           "diverging": [
            [
             0,
             "#8e0152"
            ],
            [
             0.1,
             "#c51b7d"
            ],
            [
             0.2,
             "#de77ae"
            ],
            [
             0.3,
             "#f1b6da"
            ],
            [
             0.4,
             "#fde0ef"
            ],
            [
             0.5,
             "#f7f7f7"
            ],
            [
             0.6,
             "#e6f5d0"
            ],
            [
             0.7,
             "#b8e186"
            ],
            [
             0.8,
             "#7fbc41"
            ],
            [
             0.9,
             "#4d9221"
            ],
            [
             1,
             "#276419"
            ]
           ],
           "sequential": [
            [
             0,
             "#0d0887"
            ],
            [
             0.1111111111111111,
             "#46039f"
            ],
            [
             0.2222222222222222,
             "#7201a8"
            ],
            [
             0.3333333333333333,
             "#9c179e"
            ],
            [
             0.4444444444444444,
             "#bd3786"
            ],
            [
             0.5555555555555556,
             "#d8576b"
            ],
            [
             0.6666666666666666,
             "#ed7953"
            ],
            [
             0.7777777777777778,
             "#fb9f3a"
            ],
            [
             0.8888888888888888,
             "#fdca26"
            ],
            [
             1,
             "#f0f921"
            ]
           ],
           "sequentialminus": [
            [
             0,
             "#0d0887"
            ],
            [
             0.1111111111111111,
             "#46039f"
            ],
            [
             0.2222222222222222,
             "#7201a8"
            ],
            [
             0.3333333333333333,
             "#9c179e"
            ],
            [
             0.4444444444444444,
             "#bd3786"
            ],
            [
             0.5555555555555556,
             "#d8576b"
            ],
            [
             0.6666666666666666,
             "#ed7953"
            ],
            [
             0.7777777777777778,
             "#fb9f3a"
            ],
            [
             0.8888888888888888,
             "#fdca26"
            ],
            [
             1,
             "#f0f921"
            ]
           ]
          },
          "colorway": [
           "#636efa",
           "#EF553B",
           "#00cc96",
           "#ab63fa",
           "#FFA15A",
           "#19d3f3",
           "#FF6692",
           "#B6E880",
           "#FF97FF",
           "#FECB52"
          ],
          "font": {
           "color": "#2a3f5f"
          },
          "geo": {
           "bgcolor": "white",
           "lakecolor": "white",
           "landcolor": "#E5ECF6",
           "showlakes": true,
           "showland": true,
           "subunitcolor": "white"
          },
          "hoverlabel": {
           "align": "left"
          },
          "hovermode": "closest",
          "mapbox": {
           "style": "light"
          },
          "paper_bgcolor": "white",
          "plot_bgcolor": "#E5ECF6",
          "polar": {
           "angularaxis": {
            "gridcolor": "white",
            "linecolor": "white",
            "ticks": ""
           },
           "bgcolor": "#E5ECF6",
           "radialaxis": {
            "gridcolor": "white",
            "linecolor": "white",
            "ticks": ""
           }
          },
          "scene": {
           "xaxis": {
            "backgroundcolor": "#E5ECF6",
            "gridcolor": "white",
            "gridwidth": 2,
            "linecolor": "white",
            "showbackground": true,
            "ticks": "",
            "zerolinecolor": "white"
           },
           "yaxis": {
            "backgroundcolor": "#E5ECF6",
            "gridcolor": "white",
            "gridwidth": 2,
            "linecolor": "white",
            "showbackground": true,
            "ticks": "",
            "zerolinecolor": "white"
           },
           "zaxis": {
            "backgroundcolor": "#E5ECF6",
            "gridcolor": "white",
            "gridwidth": 2,
            "linecolor": "white",
            "showbackground": true,
            "ticks": "",
            "zerolinecolor": "white"
           }
          },
          "shapedefaults": {
           "line": {
            "color": "#2a3f5f"
           }
          },
          "ternary": {
           "aaxis": {
            "gridcolor": "white",
            "linecolor": "white",
            "ticks": ""
           },
           "baxis": {
            "gridcolor": "white",
            "linecolor": "white",
            "ticks": ""
           },
           "bgcolor": "#E5ECF6",
           "caxis": {
            "gridcolor": "white",
            "linecolor": "white",
            "ticks": ""
           }
          },
          "title": {
           "x": 0.05
          },
          "xaxis": {
           "automargin": true,
           "gridcolor": "white",
           "linecolor": "white",
           "ticks": "",
           "title": {
            "standoff": 15
           },
           "zerolinecolor": "white",
           "zerolinewidth": 2
          },
          "yaxis": {
           "automargin": true,
           "gridcolor": "white",
           "linecolor": "white",
           "ticks": "",
           "title": {
            "standoff": 15
           },
           "zerolinecolor": "white",
           "zerolinewidth": 2
          }
         }
        },
        "xaxis": {
         "anchor": "y",
         "domain": [
          0,
          1
         ],
         "title": {
          "text": "Name"
         }
        },
        "yaxis": {
         "anchor": "x",
         "domain": [
          0,
          1
         ],
         "title": {
          "text": "sum of Price/Book"
         }
        }
       }
      }
     },
     "metadata": {}
    }
   ],
   "source": [
    "for column in columns:\n",
    "    graphic = express.histogram(financials, x='Name', y=column, color='Sector')\n",
    "    graphic.show()"
   ]
  },
  {
   "cell_type": "code",
   "execution_count": 6,
   "metadata": {},
   "outputs": [],
   "source": [
    "# Com base no primeiro grafico podemos observar que existe um grande número de empresas com valor por volta de 80 à 150 milhões, e diminuem cada vez mais ao subir a escala, até algumas poucas que chegam acima de 1 bilhão\n",
    "\n",
    "# Com base no segundo gráfico pode-se observar que as empresas industriais apresentam um lucro bem estável de modo geral, mas com lucros não muito altos se comparados aos valores das ações\n",
    "\n",
    "# Podemos observar que o setor de técnologia da informação também está em alta mesmo com variações, no geral pode-se observar que no geral existe um lucro alto nas compras de ações na área. também é visivel que o setor de energia possúi a maior variação dentre eles, possuindo algumas empresas que geraram perdas muito altas aos seus acionistas. Ao observar mais profundamente pode-se ver que as empresas que geraram perdas na area de energia são aquelas ligadas a energias não renovaveis, como é imaginavel devido à tendencia de investimentos mudando para fontes de energias mais favoraveis ao meio ambiente.\n",
    "\n",
    "# Essa discrepancia fica ainda mais clara quando se olhando para o graifico que mostra os dividendos por ação que mostra que industrias de energia não renovaveis estão no negativo muito maior enquanto que a maior parte das industrias na base de dados estão se mantendo estavelmente no positivo.\n",
    "\n",
    "# Uma outra coisa importante de se observar é que a aquisição de mercado de empresas de tecnologia da informação estão tendo uma capitalização de mercado extremamente alta se comparado com as outras empresas na base de dados.\n",
    "\n",
    "# Outro destaque de capitalização de mercado vai para produtos de saude e cuidado que parecem ter uma em média uma estábilidade de capitalização alta, pouco váriavel em comparação. Completamente diferente de empresas de consumo que possuem uma variaçaõ alta entre elas mas ainda com uma média de capitalização alta.\n",
    "\n",
    "# Com o gráfico de EBITDA é possível tomar como conclusão que o mercado de técnologia é um mercado extremamente lucrativo nos dias de hoje, estando acima de todos os outros nesse aspécto.\n",
    "\n",
    "# A industria de consumo também se mostrou bem lucrativa na base de dados.\n",
    "\n",
    "# Enquanto que as restantes se mantiveram bem abaixo mas no geral ainda tendo lucros razoaveis.\n",
    "\n",
    "# Por fim é possível observar que a maioria das empresas possui um rázoavel valor comparado aos seus lucros com exceção de algumas super valorizadas, na area de consumo e moda."
   ]
  }
 ]
}