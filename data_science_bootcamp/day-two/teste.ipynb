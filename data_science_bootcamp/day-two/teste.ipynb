{
 "metadata": {
  "language_info": {
   "codemirror_mode": {
    "name": "ipython",
    "version": 3
   },
   "file_extension": ".py",
   "mimetype": "text/x-python",
   "name": "python",
   "nbconvert_exporter": "python",
   "pygments_lexer": "ipython3",
   "version": "3.7.10"
  },
  "orig_nbformat": 2,
  "kernelspec": {
   "name": "python3710jvsc74a57bd0cdb8d18d7c622ebdcda466f74c36a90a6ce13e260f5954602b3fe3758310f45e",
   "display_name": "Python 3.7.10 64-bit ('myenv': conda)"
  }
 },
 "nbformat": 4,
 "nbformat_minor": 2,
 "cells": [
  {
   "cell_type": "code",
   "execution_count": 2,
   "metadata": {},
   "outputs": [
    {
     "output_type": "stream",
     "name": "stdout",
     "text": [
      "Nao    73.434884%\nSim    26.565116%\nName: Churn, dtype: object\n<class 'pandas.core.frame.DataFrame'>\nInt64Index: 5974 entries, 0 to 5985\nData columns (total 21 columns):\n #   Column                  Non-Null Count  Dtype  \n---  ------                  --------------  -----  \n 0   Unnamed: 0              5974 non-null   int64  \n 1   Genero                  5974 non-null   object \n 2   Aposentado              5974 non-null   int64  \n 3   Casado                  5974 non-null   object \n 4   Dependentes             5974 non-null   object \n 5   MesesComoCliente        5974 non-null   int64  \n 6   ServicoTelefone         5974 non-null   object \n 7   MultiplasLinhas         5974 non-null   object \n 8   ServicoInternet         5974 non-null   object \n 9   ServicoSegurancaOnline  5974 non-null   object \n 10  ServicoBackupOnline     5974 non-null   object \n 11  ProtecaoEquipamento     5974 non-null   object \n 12  ServicoSuporteTecnico   5974 non-null   object \n 13  ServicoStreamingTV      5974 non-null   object \n 14  ServicoFilmes           5974 non-null   object \n 15  TipoContrato            5974 non-null   object \n 16  FaturaDigital           5974 non-null   object \n 17  FormaPagamento          5974 non-null   object \n 18  ValorMensal             5974 non-null   float64\n 19  TotalGasto              5974 non-null   float64\n 20  Churn                   5974 non-null   object \ndtypes: float64(2), int64(3), object(16)\nmemory usage: 1.0+ MB\nNone\n"
     ]
    }
   ],
   "source": [
    "import pandas as pd \n",
    "import plotly.express as ex\n",
    "\n",
    "table_clients = pd.read_csv('telecom_users.csv')\n",
    "table_clients = table_clients.drop('IDCliente', axis=1)\n",
    "table_clients['TotalGasto'] = pd.to_numeric(table_clients['TotalGasto'], errors='coerce')\n",
    "table_clients = table_clients.dropna(how='all', axis=1)\n",
    "table_clients = table_clients.dropna()\n",
    "print(table_clients['Churn'].value_counts(normalize=True).map('{:2%}'.format))\n",
    "# gaphic = ex.histogram(table_client, x='Churn', color='Churn')\n",
    "# graphic.show()\n",
    "\n",
    "print(table_clients.info())\n",
    "\n",
    "\n",
    "\n",
    "\n",
    "# display(table_clients)"
   ]
  },
  {
   "cell_type": "code",
   "execution_count": null,
   "metadata": {},
   "outputs": [],
   "source": []
  }
 ]
}